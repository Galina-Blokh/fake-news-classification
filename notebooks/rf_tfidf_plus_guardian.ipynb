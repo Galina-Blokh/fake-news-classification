{
 "cells": [
  {
   "cell_type": "markdown",
   "metadata": {},
   "source": [
    "# Random Forest Model using TF/IDF\n",
    "\n",
    "This model will integrate stories from the Guardian dataset with the original dataset and retrain the model.  The true stories will be split 50/50 between the original true stories and stories from the Guardian set.  The total number of true stories will be equal to the Fake ones to avoid class imbalance."
   ]
  },
  {
   "cell_type": "markdown",
   "metadata": {},
   "source": [
    "# Imports and Constants"
   ]
  },
  {
   "cell_type": "code",
   "execution_count": 1,
   "metadata": {
    "ExecuteTime": {
     "end_time": "2020-10-18T23:49:11.358236Z",
     "start_time": "2020-10-18T23:49:05.086705Z"
    }
   },
   "outputs": [],
   "source": [
    "import pandas as pd\n",
    "import numpy as np\n",
    "from sklearn.ensemble import RandomForestClassifier\n",
    "from sklearn.model_selection import train_test_split\n",
    "from sklearn.feature_extraction.text import CountVectorizer, TfidfTransformer\n",
    "from sklearn.pipeline import Pipeline\n",
    "from sklearn.preprocessing import LabelEncoder\n",
    "from sklearn.metrics import classification_report, plot_confusion_matrix\n",
    "import matplotlib.pyplot as plt\n",
    "%matplotlib inline\n",
    "import ast\n",
    "from sklearn.metrics import precision_recall_curve, auc\n",
    "from sklearn.metrics import accuracy_score, f1_score, recall_score\n",
    "from sklearn.preprocessing import LabelBinarizer\n",
    "from nltk import word_tokenize          \n",
    "from nltk.stem import WordNetLemmatizer\n",
    "from nltk.corpus import stopwords\n",
    "import model_helper_functions\n",
    "from sklearn.model_selection import GridSearchCV\n",
    "import pickle\n",
    "import os"
   ]
  },
  {
   "cell_type": "code",
   "execution_count": 2,
   "metadata": {
    "ExecuteTime": {
     "end_time": "2020-10-18T23:49:11.375132Z",
     "start_time": "2020-10-18T23:49:11.360770Z"
    }
   },
   "outputs": [],
   "source": [
    "DATA_PATH = '../data/'\n",
    "PRE_PROCESSED_DATA_FILE_NAME = 'news_dataset_pre_processed.csv'\n",
    "GUARDIAN_DATA_FILE_NAME = 'guardian_news_dataset_cleaned.csv'\n",
    "RANDOM_STATE = 42\n",
    "pd.options.display.max_seq_items = 20\n",
    "pd.options.display.max_rows = 50"
   ]
  },
  {
   "cell_type": "code",
   "execution_count": 34,
   "metadata": {
    "ExecuteTime": {
     "end_time": "2020-10-19T00:19:24.769741Z",
     "start_time": "2020-10-19T00:19:24.766275Z"
    }
   },
   "outputs": [],
   "source": [
    "SAVE_MODEL = False\n",
    "\n",
    "MODEL_PATH = '../models/'\n",
    "MODEL_FILE_NAME = 'rf_tfidf_plus_guardian_model.sav'"
   ]
  },
  {
   "cell_type": "markdown",
   "metadata": {},
   "source": [
    "# Load Data"
   ]
  },
  {
   "cell_type": "code",
   "execution_count": 4,
   "metadata": {
    "ExecuteTime": {
     "end_time": "2020-10-18T23:49:20.286195Z",
     "start_time": "2020-10-18T23:49:11.384526Z"
    }
   },
   "outputs": [],
   "source": [
    "df = pd.read_csv(DATA_PATH + PRE_PROCESSED_DATA_FILE_NAME, \n",
    "                 low_memory = False, \n",
    "                 usecols = ['title', 'text', 'label', 'clean_text_tokens', 'clean_title_tokens'])"
   ]
  },
  {
   "cell_type": "code",
   "execution_count": 5,
   "metadata": {
    "ExecuteTime": {
     "end_time": "2020-10-18T23:50:03.302322Z",
     "start_time": "2020-10-18T23:49:20.288269Z"
    }
   },
   "outputs": [],
   "source": [
    "df.clean_text_tokens = df.clean_text_tokens.map(ast.literal_eval)\n",
    "df.clean_title_tokens = df.clean_title_tokens.map(ast.literal_eval)"
   ]
  },
  {
   "cell_type": "code",
   "execution_count": 6,
   "metadata": {
    "ExecuteTime": {
     "end_time": "2020-10-18T23:50:03.376483Z",
     "start_time": "2020-10-18T23:50:03.304466Z"
    }
   },
   "outputs": [
    {
     "data": {
      "text/html": [
       "<div>\n",
       "<style scoped>\n",
       "    .dataframe tbody tr th:only-of-type {\n",
       "        vertical-align: middle;\n",
       "    }\n",
       "\n",
       "    .dataframe tbody tr th {\n",
       "        vertical-align: top;\n",
       "    }\n",
       "\n",
       "    .dataframe thead th {\n",
       "        text-align: right;\n",
       "    }\n",
       "</style>\n",
       "<table border=\"1\" class=\"dataframe\">\n",
       "  <thead>\n",
       "    <tr style=\"text-align: right;\">\n",
       "      <th></th>\n",
       "      <th>title</th>\n",
       "      <th>text</th>\n",
       "      <th>label</th>\n",
       "      <th>clean_text_tokens</th>\n",
       "      <th>clean_title_tokens</th>\n",
       "    </tr>\n",
       "  </thead>\n",
       "  <tbody>\n",
       "    <tr>\n",
       "      <th>0</th>\n",
       "      <td>Donald Trump Sends Out Embarrassing New Year’...</td>\n",
       "      <td>Donald Trump just couldn t wish all Americans ...</td>\n",
       "      <td>fake</td>\n",
       "      <td>[donald, trump, just, couldn, wish, all, ameri...</td>\n",
       "      <td>[donald, trump, sends, out, embarrassing, new,...</td>\n",
       "    </tr>\n",
       "    <tr>\n",
       "      <th>1</th>\n",
       "      <td>Drunk Bragging Trump Staffer Started Russian ...</td>\n",
       "      <td>House Intelligence Committee Chairman Devin Nu...</td>\n",
       "      <td>fake</td>\n",
       "      <td>[house, intelligence, committee, chairman, dev...</td>\n",
       "      <td>[drunk, bragging, trump, staffer, started, rus...</td>\n",
       "    </tr>\n",
       "    <tr>\n",
       "      <th>2</th>\n",
       "      <td>Sheriff David Clarke Becomes An Internet Joke...</td>\n",
       "      <td>On Friday, it was revealed that former Milwauk...</td>\n",
       "      <td>fake</td>\n",
       "      <td>[on, it, was, revealed, that, former, milwauke...</td>\n",
       "      <td>[sheriff, david, clarke, becomes, an, internet...</td>\n",
       "    </tr>\n",
       "    <tr>\n",
       "      <th>3</th>\n",
       "      <td>Trump Is So Obsessed He Even Has Obama’s Name...</td>\n",
       "      <td>On Christmas day, Donald Trump announced that ...</td>\n",
       "      <td>fake</td>\n",
       "      <td>[on, christmas, day, donald, trump, announced,...</td>\n",
       "      <td>[trump, is, so, obsessed, he, even, has, obama...</td>\n",
       "    </tr>\n",
       "    <tr>\n",
       "      <th>4</th>\n",
       "      <td>Pope Francis Just Called Out Donald Trump Dur...</td>\n",
       "      <td>Pope Francis used his annual Christmas Day mes...</td>\n",
       "      <td>fake</td>\n",
       "      <td>[pope, francis, used, his, annual, christmas, ...</td>\n",
       "      <td>[pope, francis, just, called, out, donald, tru...</td>\n",
       "    </tr>\n",
       "  </tbody>\n",
       "</table>\n",
       "</div>"
      ],
      "text/plain": [
       "                                               title  \\\n",
       "0   Donald Trump Sends Out Embarrassing New Year’...   \n",
       "1   Drunk Bragging Trump Staffer Started Russian ...   \n",
       "2   Sheriff David Clarke Becomes An Internet Joke...   \n",
       "3   Trump Is So Obsessed He Even Has Obama’s Name...   \n",
       "4   Pope Francis Just Called Out Donald Trump Dur...   \n",
       "\n",
       "                                                text label  \\\n",
       "0  Donald Trump just couldn t wish all Americans ...  fake   \n",
       "1  House Intelligence Committee Chairman Devin Nu...  fake   \n",
       "2  On Friday, it was revealed that former Milwauk...  fake   \n",
       "3  On Christmas day, Donald Trump announced that ...  fake   \n",
       "4  Pope Francis used his annual Christmas Day mes...  fake   \n",
       "\n",
       "                                   clean_text_tokens  \\\n",
       "0  [donald, trump, just, couldn, wish, all, ameri...   \n",
       "1  [house, intelligence, committee, chairman, dev...   \n",
       "2  [on, it, was, revealed, that, former, milwauke...   \n",
       "3  [on, christmas, day, donald, trump, announced,...   \n",
       "4  [pope, francis, used, his, annual, christmas, ...   \n",
       "\n",
       "                                  clean_title_tokens  \n",
       "0  [donald, trump, sends, out, embarrassing, new,...  \n",
       "1  [drunk, bragging, trump, staffer, started, rus...  \n",
       "2  [sheriff, david, clarke, becomes, an, internet...  \n",
       "3  [trump, is, so, obsessed, he, even, has, obama...  \n",
       "4  [pope, francis, just, called, out, donald, tru...  "
      ]
     },
     "execution_count": 6,
     "metadata": {},
     "output_type": "execute_result"
    }
   ],
   "source": [
    "df.head()"
   ]
  },
  {
   "cell_type": "code",
   "execution_count": 7,
   "metadata": {
    "ExecuteTime": {
     "end_time": "2020-10-18T23:50:05.597745Z",
     "start_time": "2020-10-18T23:50:03.378725Z"
    }
   },
   "outputs": [],
   "source": [
    "df_guard = pd.read_csv(DATA_PATH + GUARDIAN_DATA_FILE_NAME, \n",
    "                 low_memory = False)"
   ]
  },
  {
   "cell_type": "code",
   "execution_count": 8,
   "metadata": {
    "ExecuteTime": {
     "end_time": "2020-10-18T23:51:15.753585Z",
     "start_time": "2020-10-18T23:50:05.602139Z"
    }
   },
   "outputs": [],
   "source": [
    "df_guard.tt_tokens = df_guard.tt_tokens.map(ast.literal_eval)"
   ]
  },
  {
   "cell_type": "markdown",
   "metadata": {},
   "source": [
    "# Integrate Guardian Stories as true"
   ]
  },
  {
   "cell_type": "markdown",
   "metadata": {},
   "source": [
    "## split original data by label"
   ]
  },
  {
   "cell_type": "code",
   "execution_count": 9,
   "metadata": {
    "ExecuteTime": {
     "end_time": "2020-10-18T23:51:15.769678Z",
     "start_time": "2020-10-18T23:51:15.756916Z"
    }
   },
   "outputs": [],
   "source": [
    "df_fake = df[df.label == 'fake']"
   ]
  },
  {
   "cell_type": "code",
   "execution_count": 10,
   "metadata": {
    "ExecuteTime": {
     "end_time": "2020-10-18T23:51:15.811869Z",
     "start_time": "2020-10-18T23:51:15.771965Z"
    }
   },
   "outputs": [],
   "source": [
    "df_true_og = df[df.label == 'true']"
   ]
  },
  {
   "cell_type": "code",
   "execution_count": 11,
   "metadata": {
    "ExecuteTime": {
     "end_time": "2020-10-18T23:51:15.819957Z",
     "start_time": "2020-10-18T23:51:15.814203Z"
    }
   },
   "outputs": [
    {
     "data": {
      "text/plain": [
       "8723.5"
      ]
     },
     "execution_count": 11,
     "metadata": {},
     "output_type": "execute_result"
    }
   ],
   "source": [
    "len(df_fake)/2"
   ]
  },
  {
   "cell_type": "markdown",
   "metadata": {},
   "source": [
    "## Take Random Sample of original true data\n",
    "\n",
    "Equal to half of fake data so to keep the classes balanced"
   ]
  },
  {
   "cell_type": "code",
   "execution_count": 12,
   "metadata": {
    "ExecuteTime": {
     "end_time": "2020-10-18T23:51:15.831415Z",
     "start_time": "2020-10-18T23:51:15.822445Z"
    }
   },
   "outputs": [],
   "source": [
    "df_true_og_sample = df_true_og.sample(8724, random_state = RANDOM_STATE)"
   ]
  },
  {
   "cell_type": "markdown",
   "metadata": {},
   "source": [
    "## Take Random Sample of Guardian data"
   ]
  },
  {
   "cell_type": "code",
   "execution_count": 13,
   "metadata": {
    "ExecuteTime": {
     "end_time": "2020-10-18T23:51:15.841010Z",
     "start_time": "2020-10-18T23:51:15.833730Z"
    }
   },
   "outputs": [],
   "source": [
    "df_guard_sample = df_guard.sample(8723, random_state = RANDOM_STATE)"
   ]
  },
  {
   "cell_type": "markdown",
   "metadata": {},
   "source": [
    "### Assign the label true"
   ]
  },
  {
   "cell_type": "code",
   "execution_count": 14,
   "metadata": {
    "ExecuteTime": {
     "end_time": "2020-10-18T23:51:15.848639Z",
     "start_time": "2020-10-18T23:51:15.843332Z"
    }
   },
   "outputs": [],
   "source": [
    "df_guard_sample['label'] = 'true'"
   ]
  },
  {
   "cell_type": "markdown",
   "metadata": {},
   "source": [
    "## Combine datasets"
   ]
  },
  {
   "cell_type": "code",
   "execution_count": 15,
   "metadata": {
    "ExecuteTime": {
     "end_time": "2020-10-18T23:51:16.149200Z",
     "start_time": "2020-10-18T23:51:15.853706Z"
    }
   },
   "outputs": [],
   "source": [
    "df_true_og_sample['tt_tokens'] = df_true_og_sample['clean_title_tokens'] + df_true_og_sample['clean_text_tokens']"
   ]
  },
  {
   "cell_type": "code",
   "execution_count": 16,
   "metadata": {
    "ExecuteTime": {
     "end_time": "2020-10-18T23:51:17.259408Z",
     "start_time": "2020-10-18T23:51:16.152022Z"
    }
   },
   "outputs": [
    {
     "name": "stderr",
     "output_type": "stream",
     "text": [
      "/Users/freethrall/anaconda3/envs/learn-env/lib/python3.6/site-packages/ipykernel_launcher.py:1: SettingWithCopyWarning: \n",
      "A value is trying to be set on a copy of a slice from a DataFrame.\n",
      "Try using .loc[row_indexer,col_indexer] = value instead\n",
      "\n",
      "See the caveats in the documentation: https://pandas.pydata.org/pandas-docs/stable/user_guide/indexing.html#returning-a-view-versus-a-copy\n",
      "  \"\"\"Entry point for launching an IPython kernel.\n"
     ]
    }
   ],
   "source": [
    "df_fake['tt_tokens'] = df_fake['clean_title_tokens'] + df_fake['clean_text_tokens']"
   ]
  },
  {
   "cell_type": "code",
   "execution_count": 17,
   "metadata": {
    "ExecuteTime": {
     "end_time": "2020-10-18T23:51:17.322055Z",
     "start_time": "2020-10-18T23:51:17.262303Z"
    }
   },
   "outputs": [],
   "source": [
    "df_all = pd.concat([df_fake[['label', 'tt_tokens']], \n",
    "                         df_true_og_sample[['label', 'tt_tokens']], \n",
    "                        df_guard_sample[['label', 'tt_tokens']]], axis=0)"
   ]
  },
  {
   "cell_type": "markdown",
   "metadata": {},
   "source": [
    "# Split Data"
   ]
  },
  {
   "cell_type": "code",
   "execution_count": 18,
   "metadata": {
    "ExecuteTime": {
     "end_time": "2020-10-18T23:51:17.330521Z",
     "start_time": "2020-10-18T23:51:17.324265Z"
    }
   },
   "outputs": [],
   "source": [
    "y = df_all.label\n",
    "X = df_all.drop('label', axis=1)"
   ]
  },
  {
   "cell_type": "code",
   "execution_count": 19,
   "metadata": {
    "ExecuteTime": {
     "end_time": "2020-10-18T23:51:17.411753Z",
     "start_time": "2020-10-18T23:51:17.332765Z"
    }
   },
   "outputs": [],
   "source": [
    "X_train, X_test, y_train, y_test = train_test_split(X, \n",
    "                                                    y,\n",
    "                                                   test_size = 0.2,\n",
    "                                                   random_state = RANDOM_STATE,\n",
    "                                                   stratify = y)"
   ]
  },
  {
   "cell_type": "code",
   "execution_count": 20,
   "metadata": {
    "ExecuteTime": {
     "end_time": "2020-10-18T23:51:17.419524Z",
     "start_time": "2020-10-18T23:51:17.413961Z"
    }
   },
   "outputs": [
    {
     "data": {
      "text/plain": [
       "(27915, 1)"
      ]
     },
     "execution_count": 20,
     "metadata": {},
     "output_type": "execute_result"
    }
   ],
   "source": [
    "X_train.shape"
   ]
  },
  {
   "cell_type": "code",
   "execution_count": 21,
   "metadata": {
    "ExecuteTime": {
     "end_time": "2020-10-18T23:51:17.429430Z",
     "start_time": "2020-10-18T23:51:17.422046Z"
    }
   },
   "outputs": [
    {
     "data": {
      "text/plain": [
       "(6979, 1)"
      ]
     },
     "execution_count": 21,
     "metadata": {},
     "output_type": "execute_result"
    }
   ],
   "source": [
    "X_test.shape"
   ]
  },
  {
   "cell_type": "markdown",
   "metadata": {},
   "source": [
    "# Encode Labels"
   ]
  },
  {
   "cell_type": "code",
   "execution_count": 22,
   "metadata": {
    "ExecuteTime": {
     "end_time": "2020-10-18T23:51:17.435469Z",
     "start_time": "2020-10-18T23:51:17.432055Z"
    }
   },
   "outputs": [],
   "source": [
    "le = LabelEncoder()"
   ]
  },
  {
   "cell_type": "code",
   "execution_count": 23,
   "metadata": {
    "ExecuteTime": {
     "end_time": "2020-10-18T23:51:17.454708Z",
     "start_time": "2020-10-18T23:51:17.443735Z"
    }
   },
   "outputs": [],
   "source": [
    "y_train_enc = le.fit_transform(y_train)"
   ]
  },
  {
   "cell_type": "code",
   "execution_count": 24,
   "metadata": {
    "ExecuteTime": {
     "end_time": "2020-10-18T23:51:17.469111Z",
     "start_time": "2020-10-18T23:51:17.463689Z"
    }
   },
   "outputs": [],
   "source": [
    "y_test_enc = le.transform(y_test)"
   ]
  },
  {
   "cell_type": "markdown",
   "metadata": {},
   "source": [
    "# Train Models"
   ]
  },
  {
   "cell_type": "code",
   "execution_count": 25,
   "metadata": {
    "ExecuteTime": {
     "end_time": "2020-10-18T23:51:17.485062Z",
     "start_time": "2020-10-18T23:51:17.474166Z"
    }
   },
   "outputs": [],
   "source": [
    "def train_and_eval_model(X_train, X_test, y_train_enc, y_test_enc, classes_,\n",
    "                        preprocessor, tokenizer, max_df=1.0, ngram_range = (1, 1),\n",
    "                        min_samples_split=2,\n",
    "                        max_depth=None):\n",
    "    \"\"\"\n",
    "    Train and Evaluate and Bag of Words Representation with a Random Forest\n",
    "    classifier.\n",
    "    \"\"\"\n",
    "    \n",
    "    pipeline = Pipeline([\n",
    "    ('bow',CountVectorizer(min_df = 5, \n",
    "                           preprocessor = preprocessor, \n",
    "                           tokenizer = tokenizer, \n",
    "                           max_df = max_df, \n",
    "                           ngram_range = ngram_range)),\n",
    "    ('tfidf', TfidfTransformer()),\n",
    "    ('classifier', RandomForestClassifier(n_jobs = -1, \n",
    "                                          random_state = RANDOM_STATE, \n",
    "                                          min_samples_split = min_samples_split, \n",
    "                                          max_depth = max_depth)),\n",
    "    ])\n",
    "    \n",
    "    pipeline.fit(X_train,y_train_enc)\n",
    "    \n",
    "    model_helper_functions.confustion_matrix_and_classification_report(pipeline, \n",
    "                                                X_train, \n",
    "                                                y_train_enc, \n",
    "                                                classes_, \n",
    "                                               'Training')\n",
    "\n",
    "    model_helper_functions.confustion_matrix_and_classification_report(pipeline, \n",
    "                                                X_test, \n",
    "                                                y_test_enc, \n",
    "                                                classes_,\n",
    "                                                'Test')\n",
    "    \n",
    "    return pipeline"
   ]
  },
  {
   "cell_type": "markdown",
   "metadata": {},
   "source": [
    "## Title & Text only - lowercase, only stopwords, but a larger set of them."
   ]
  },
  {
   "cell_type": "code",
   "execution_count": 26,
   "metadata": {
    "ExecuteTime": {
     "end_time": "2020-10-18T23:51:17.509600Z",
     "start_time": "2020-10-18T23:51:17.488519Z"
    }
   },
   "outputs": [],
   "source": [
    "# using expanded stopwords list from https://gist.github.com/sebleier/554280\n",
    "\n",
    "gist_file = open(DATA_PATH + \"gist_stopwords.txt\", \"r\")\n",
    "try:\n",
    "    content = gist_file.read()\n",
    "    expanded_stopwords = content.split(\",\")\n",
    "finally:\n",
    "    gist_file.close()"
   ]
  },
  {
   "cell_type": "markdown",
   "metadata": {},
   "source": [
    "Remove 'via' from the list of stopwords b/c it is particular to this dataset."
   ]
  },
  {
   "cell_type": "code",
   "execution_count": 27,
   "metadata": {
    "ExecuteTime": {
     "end_time": "2020-10-18T23:51:17.515883Z",
     "start_time": "2020-10-18T23:51:17.512271Z"
    }
   },
   "outputs": [],
   "source": [
    "expanded_stopwords.remove('via')"
   ]
  },
  {
   "cell_type": "markdown",
   "metadata": {},
   "source": [
    "Remove UK specific terms that are affecting the model"
   ]
  },
  {
   "cell_type": "code",
   "execution_count": 28,
   "metadata": {
    "ExecuteTime": {
     "end_time": "2020-10-18T23:51:17.527363Z",
     "start_time": "2020-10-18T23:51:17.518697Z"
    }
   },
   "outputs": [],
   "source": [
    "expanded_stopwords.remove('eu')\n",
    "expanded_stopwords.remove('uk')"
   ]
  },
  {
   "cell_type": "code",
   "execution_count": 29,
   "metadata": {
    "ExecuteTime": {
     "end_time": "2020-10-18T23:51:17.535538Z",
     "start_time": "2020-10-18T23:51:17.529803Z"
    }
   },
   "outputs": [],
   "source": [
    "def lowercase_and_only_expanded_stopwords(doc):\n",
    "    \"\"\"Remove stopwords and lowercase tokens\"\"\"\n",
    "    stop_words = expanded_stopwords\n",
    "    return [token.lower() for token in doc if token.lower() in stop_words]"
   ]
  },
  {
   "cell_type": "code",
   "execution_count": 30,
   "metadata": {
    "ExecuteTime": {
     "end_time": "2020-10-19T00:11:41.176689Z",
     "start_time": "2020-10-18T23:51:17.540069Z"
    }
   },
   "outputs": [
    {
     "name": "stdout",
     "output_type": "stream",
     "text": [
      "Classification Report for Training Set\n",
      "              precision    recall  f1-score   support\n",
      "\n",
      "        fake       0.92      0.96      0.94     13957\n",
      "        true       0.96      0.92      0.94     13958\n",
      "\n",
      "    accuracy                           0.94     27915\n",
      "   macro avg       0.94      0.94      0.94     27915\n",
      "weighted avg       0.94      0.94      0.94     27915\n",
      "\n"
     ]
    },
    {
     "data": {
      "image/png": "[encoded data removed]",
      "text/plain": [
       "<Figure size 432x288 with 2 Axes>"
      ]
     },
     "metadata": {
      "needs_background": "light"
     },
     "output_type": "display_data"
    },
    {
     "data": {
      "image/png": "[encoded data removed]",
      "text/plain": [
       "<Figure size 432x288 with 2 Axes>"
      ]
     },
     "metadata": {
      "needs_background": "light"
     },
     "output_type": "display_data"
    },
    {
     "name": "stdout",
     "output_type": "stream",
     "text": [
      "Classification Report for Test Set\n",
      "              precision    recall  f1-score   support\n",
      "\n",
      "        fake       0.88      0.91      0.89      3490\n",
      "        true       0.90      0.88      0.89      3489\n",
      "\n",
      "    accuracy                           0.89      6979\n",
      "   macro avg       0.89      0.89      0.89      6979\n",
      "weighted avg       0.89      0.89      0.89      6979\n",
      "\n"
     ]
    },
    {
     "data": {
      "image/png": "[encoded data removed]",
      "text/plain": [
       "<Figure size 432x288 with 2 Axes>"
      ]
     },
     "metadata": {
      "needs_background": "light"
     },
     "output_type": "display_data"
    },
    {
     "data": {
      "image/png": "[encoded data removed]",
      "text/plain": [
       "<Figure size 432x288 with 2 Axes>"
      ]
     },
     "metadata": {
      "needs_background": "light"
     },
     "output_type": "display_data"
    }
   ],
   "source": [
    "pipe_expanded_sw_no_via = train_and_eval_model(X_train['tt_tokens'], \n",
    "                                                        X_test['tt_tokens'],\n",
    "                                                        y_train_enc, \n",
    "                                                        y_test_enc, \n",
    "                                                        le.classes_, \n",
    "                                                        lowercase_and_only_expanded_stopwords, \n",
    "                                                        model_helper_functions.passthrough,\n",
    "                                                 min_samples_split = 0.005)"
   ]
  },
  {
   "cell_type": "code",
   "execution_count": 31,
   "metadata": {
    "ExecuteTime": {
     "end_time": "2020-10-19T00:11:41.305754Z",
     "start_time": "2020-10-19T00:11:41.179207Z"
    },
    "scrolled": true
   },
   "outputs": [
    {
     "data": {
      "text/html": [
       "<div>\n",
       "<style scoped>\n",
       "    .dataframe tbody tr th:only-of-type {\n",
       "        vertical-align: middle;\n",
       "    }\n",
       "\n",
       "    .dataframe tbody tr th {\n",
       "        vertical-align: top;\n",
       "    }\n",
       "\n",
       "    .dataframe thead th {\n",
       "        text-align: right;\n",
       "    }\n",
       "</style>\n",
       "<table border=\"1\" class=\"dataframe\">\n",
       "  <thead>\n",
       "    <tr style=\"text-align: right;\">\n",
       "      <th></th>\n",
       "      <th>importance</th>\n",
       "    </tr>\n",
       "  </thead>\n",
       "  <tbody>\n",
       "    <tr>\n",
       "      <th>said</th>\n",
       "      <td>0.124759</td>\n",
       "    </tr>\n",
       "    <tr>\n",
       "      <th>the</th>\n",
       "      <td>0.040807</td>\n",
       "    </tr>\n",
       "    <tr>\n",
       "      <th>its</th>\n",
       "      <td>0.040782</td>\n",
       "    </tr>\n",
       "    <tr>\n",
       "      <th>just</th>\n",
       "      <td>0.040064</td>\n",
       "    </tr>\n",
       "    <tr>\n",
       "      <th>this</th>\n",
       "      <td>0.032734</td>\n",
       "    </tr>\n",
       "    <tr>\n",
       "      <th>on</th>\n",
       "      <td>0.030779</td>\n",
       "    </tr>\n",
       "    <tr>\n",
       "      <th>you</th>\n",
       "      <td>0.029564</td>\n",
       "    </tr>\n",
       "    <tr>\n",
       "      <th>like</th>\n",
       "      <td>0.024284</td>\n",
       "    </tr>\n",
       "    <tr>\n",
       "      <th>in</th>\n",
       "      <td>0.023287</td>\n",
       "    </tr>\n",
       "    <tr>\n",
       "      <th>would</th>\n",
       "      <td>0.019989</td>\n",
       "    </tr>\n",
       "    <tr>\n",
       "      <th>even</th>\n",
       "      <td>0.017526</td>\n",
       "    </tr>\n",
       "    <tr>\n",
       "      <th>here</th>\n",
       "      <td>0.014972</td>\n",
       "    </tr>\n",
       "    <tr>\n",
       "      <th>actually</th>\n",
       "      <td>0.014146</td>\n",
       "    </tr>\n",
       "    <tr>\n",
       "      <th>had</th>\n",
       "      <td>0.013308</td>\n",
       "    </tr>\n",
       "    <tr>\n",
       "      <th>could</th>\n",
       "      <td>0.012963</td>\n",
       "    </tr>\n",
       "    <tr>\n",
       "      <th>which</th>\n",
       "      <td>0.012526</td>\n",
       "    </tr>\n",
       "    <tr>\n",
       "      <th>doesn</th>\n",
       "      <td>0.012175</td>\n",
       "    </tr>\n",
       "    <tr>\n",
       "      <th>him</th>\n",
       "      <td>0.011891</td>\n",
       "    </tr>\n",
       "    <tr>\n",
       "      <th>didn</th>\n",
       "      <td>0.011878</td>\n",
       "    </tr>\n",
       "    <tr>\n",
       "      <th>know</th>\n",
       "      <td>0.009831</td>\n",
       "    </tr>\n",
       "    <tr>\n",
       "      <th>isn</th>\n",
       "      <td>0.009666</td>\n",
       "    </tr>\n",
       "    <tr>\n",
       "      <th>below</th>\n",
       "      <td>0.008534</td>\n",
       "    </tr>\n",
       "    <tr>\n",
       "      <th>why</th>\n",
       "      <td>0.008465</td>\n",
       "    </tr>\n",
       "    <tr>\n",
       "      <th>of</th>\n",
       "      <td>0.008243</td>\n",
       "    </tr>\n",
       "    <tr>\n",
       "      <th>last</th>\n",
       "      <td>0.008170</td>\n",
       "    </tr>\n",
       "    <tr>\n",
       "      <th>so</th>\n",
       "      <td>0.008146</td>\n",
       "    </tr>\n",
       "    <tr>\n",
       "      <th>how</th>\n",
       "      <td>0.008106</td>\n",
       "    </tr>\n",
       "    <tr>\n",
       "      <th>re</th>\n",
       "      <td>0.008083</td>\n",
       "    </tr>\n",
       "    <tr>\n",
       "      <th>is</th>\n",
       "      <td>0.008048</td>\n",
       "    </tr>\n",
       "    <tr>\n",
       "      <th>really</th>\n",
       "      <td>0.007412</td>\n",
       "    </tr>\n",
       "  </tbody>\n",
       "</table>\n",
       "</div>"
      ],
      "text/plain": [
       "          importance\n",
       "said        0.124759\n",
       "the         0.040807\n",
       "its         0.040782\n",
       "just        0.040064\n",
       "this        0.032734\n",
       "on          0.030779\n",
       "you         0.029564\n",
       "like        0.024284\n",
       "in          0.023287\n",
       "would       0.019989\n",
       "even        0.017526\n",
       "here        0.014972\n",
       "actually    0.014146\n",
       "had         0.013308\n",
       "could       0.012963\n",
       "which       0.012526\n",
       "doesn       0.012175\n",
       "him         0.011891\n",
       "didn        0.011878\n",
       "know        0.009831\n",
       "isn         0.009666\n",
       "below       0.008534\n",
       "why         0.008465\n",
       "of          0.008243\n",
       "last        0.008170\n",
       "so          0.008146\n",
       "how         0.008106\n",
       "re          0.008083\n",
       "is          0.008048\n",
       "really      0.007412"
      ]
     },
     "execution_count": 31,
     "metadata": {},
     "output_type": "execute_result"
    }
   ],
   "source": [
    "feat_imp_expanded_sw_no_via = pd.DataFrame(pipe_expanded_sw_no_via['classifier'].feature_importances_, \n",
    "                                       index = pipe_expanded_sw_no_via['bow'].get_feature_names(), \n",
    "                                       columns = ['importance']).sort_values('importance', \n",
    "                                                                             ascending=False)\n",
    "feat_imp_expanded_sw_no_via.head(30)"
   ]
  },
  {
   "cell_type": "markdown",
   "metadata": {},
   "source": [
    "# Save Model"
   ]
  },
  {
   "cell_type": "code",
   "execution_count": 32,
   "metadata": {
    "ExecuteTime": {
     "end_time": "2020-10-19T00:11:41.313170Z",
     "start_time": "2020-10-19T00:11:41.308310Z"
    }
   },
   "outputs": [
    {
     "name": "stdout",
     "output_type": "stream",
     "text": [
      "Model directory already exists\n"
     ]
    }
   ],
   "source": [
    "try: \n",
    "    os.mkdir(MODEL_PATH)\n",
    "except FileExistsError:\n",
    "    print('Model directory already exists')\n",
    "    pass"
   ]
  },
  {
   "cell_type": "code",
   "execution_count": 33,
   "metadata": {
    "ExecuteTime": {
     "end_time": "2020-10-19T00:11:41.429108Z",
     "start_time": "2020-10-19T00:11:41.315472Z"
    }
   },
   "outputs": [],
   "source": [
    "if SAVE_MODEL:\n",
    "    pickle.dump(pipe_expanded_sw_no_via, open(MODEL_PATH + MODEL_FILE_NAME, 'wb'))"
   ]
  },
  {
   "cell_type": "markdown",
   "metadata": {},
   "source": [
    "# Summary"
   ]
  },
  {
   "cell_type": "markdown",
   "metadata": {},
   "source": [
    "The accuracy and F1 scores for this model are somewhat worse than the model trained on the original dataset, 0.89 here vs. 0.94, but this model should generalize better because the news stories labeled true came from more than one news source."
   ]
  },
  {
   "cell_type": "code",
   "execution_count": null,
   "metadata": {},
   "outputs": [],
   "source": []
  }
 ],
 "metadata": {
  "kernelspec": {
   "display_name": "learn-env",
   "language": "python",
   "name": "learn-env"
  },
  "language_info": {
   "codemirror_mode": {
    "name": "ipython",
    "version": 3
   },
   "file_extension": ".py",
   "mimetype": "text/x-python",
   "name": "python",
   "nbconvert_exporter": "python",
   "pygments_lexer": "ipython3",
   "version": "3.6.9"
  },
  "toc": {
   "base_numbering": 1,
   "nav_menu": {},
   "number_sections": true,
   "sideBar": true,
   "skip_h1_title": false,
   "title_cell": "Table of Contents",
   "title_sidebar": "Contents",
   "toc_cell": false,
   "toc_position": {
    "height": "calc(100% - 180px)",
    "left": "10px",
    "top": "150px",
    "width": "188.391px"
   },
   "toc_section_display": true,
   "toc_window_display": true
  },
  "varInspector": {
   "cols": {
    "lenName": 16,
    "lenType": 16,
    "lenVar": 40
   },
   "kernels_config": {
    "python": {
     "delete_cmd_postfix": "",
     "delete_cmd_prefix": "del ",
     "library": "var_list.py",
     "varRefreshCmd": "print(var_dic_list())"
    },
    "r": {
     "delete_cmd_postfix": ") ",
     "delete_cmd_prefix": "rm(",
     "library": "var_list.r",
     "varRefreshCmd": "cat(var_dic_list()) "
    }
   },
   "types_to_exclude": [
    "module",
    "function",
    "builtin_function_or_method",
    "instance",
    "_Feature"
   ],
   "window_display": false
  }
 },
 "nbformat": 4,
 "nbformat_minor": 2
}
