{
 "cells": [
  {
   "cell_type": "markdown",
   "metadata": {},
   "source": [
    "# Fake News Classification - EDA"
   ]
  },
  {
   "cell_type": "markdown",
   "metadata": {},
   "source": [
    "# Imports and Constants"
   ]
  },
  {
   "cell_type": "code",
   "execution_count": 152,
   "metadata": {
    "ExecuteTime": {
     "end_time": "2020-09-30T18:35:34.362630Z",
     "start_time": "2020-09-30T18:35:34.356531Z"
    }
   },
   "outputs": [],
   "source": [
    "import os\n",
    "import zipfile\n",
    "import pandas as pd\n",
    "import numpy as np\n",
    "import matplotlib.pyplot as plt\n",
    "%matplotlib inline\n",
    "from re import search"
   ]
  },
  {
   "cell_type": "code",
   "execution_count": 2,
   "metadata": {
    "ExecuteTime": {
     "end_time": "2020-09-29T17:29:12.540687Z",
     "start_time": "2020-09-29T17:29:12.536624Z"
    }
   },
   "outputs": [],
   "source": [
    "DATA_PATH = '../data/'\n",
    "# if the path or names of the data hosted on Kaggle changes the following \n",
    "# three constants will need updated\n",
    "DATA_ARCHIVE = 'fake-and-real-news-dataset.zip'\n",
    "FAKE_DATA_FILE = 'Fake.csv'\n",
    "TRUE_DATA_FILE = 'True.csv'\n",
    "KAGGLE_DATA_LOCATION = 'clmentbisaillon/fake-and-real-news-dataset'"
   ]
  },
  {
   "cell_type": "markdown",
   "metadata": {},
   "source": [
    "# Download the Data"
   ]
  },
  {
   "cell_type": "code",
   "execution_count": 3,
   "metadata": {
    "ExecuteTime": {
     "end_time": "2020-09-29T17:29:12.549894Z",
     "start_time": "2020-09-29T17:29:12.544181Z"
    }
   },
   "outputs": [
    {
     "name": "stdout",
     "output_type": "stream",
     "text": [
      "Data directory already exists\n"
     ]
    }
   ],
   "source": [
    "try: \n",
    "    os.mkdir(DATA_PATH)\n",
    "except FileExistsError:\n",
    "    print('Data directory already exists')\n",
    "    pass"
   ]
  },
  {
   "cell_type": "markdown",
   "metadata": {},
   "source": [
    "Documentation on the Kaggle API is located at [https://www.kaggle.com/docs/api](https://www.kaggle.com/docs/api)"
   ]
  },
  {
   "cell_type": "code",
   "execution_count": 4,
   "metadata": {
    "ExecuteTime": {
     "end_time": "2020-09-29T17:29:12.565307Z",
     "start_time": "2020-09-29T17:29:12.552530Z"
    }
   },
   "outputs": [],
   "source": [
    "# assumes that kaggle has been installed and an api key is correctly installed\n",
    "if not os.path.exists(DATA_PATH + DATA_ARCHIVE):\n",
    "    !kaggle datasets download -d $KAGGLE_DATA_LOCATION -p $DATA_PATH"
   ]
  },
  {
   "cell_type": "code",
   "execution_count": 5,
   "metadata": {
    "ExecuteTime": {
     "end_time": "2020-09-29T17:29:12.571885Z",
     "start_time": "2020-09-29T17:29:12.567623Z"
    }
   },
   "outputs": [],
   "source": [
    "if not os.path.exists(DATA_PATH + FAKE_DATA_FILE):\n",
    "    with zipfile.ZipFile(DATA_PATH + DATA_ARCHIVE, 'r') as zip_ref:\n",
    "        zip_ref.extractall(path=DATA_PATH)"
   ]
  },
  {
   "cell_type": "code",
   "execution_count": 6,
   "metadata": {
    "ExecuteTime": {
     "end_time": "2020-09-29T17:29:12.591113Z",
     "start_time": "2020-09-29T17:29:12.574170Z"
    }
   },
   "outputs": [
    {
     "data": {
      "text/plain": [
       "['fake-and-real-news-dataset.zip', 'Fake.csv', 'True.csv']"
      ]
     },
     "execution_count": 6,
     "metadata": {},
     "output_type": "execute_result"
    }
   ],
   "source": [
    "os.listdir('../data')"
   ]
  },
  {
   "cell_type": "markdown",
   "metadata": {},
   "source": [
    "# Load the Data"
   ]
  },
  {
   "cell_type": "code",
   "execution_count": 7,
   "metadata": {
    "ExecuteTime": {
     "end_time": "2020-09-29T17:29:13.198998Z",
     "start_time": "2020-09-29T17:29:12.594455Z"
    }
   },
   "outputs": [],
   "source": [
    "fake_df = pd.read_csv(DATA_PATH + FAKE_DATA_FILE)"
   ]
  },
  {
   "cell_type": "code",
   "execution_count": 8,
   "metadata": {
    "ExecuteTime": {
     "end_time": "2020-09-29T17:29:13.222493Z",
     "start_time": "2020-09-29T17:29:13.203284Z"
    }
   },
   "outputs": [
    {
     "data": {
      "text/html": [
       "<div>\n",
       "<style scoped>\n",
       "    .dataframe tbody tr th:only-of-type {\n",
       "        vertical-align: middle;\n",
       "    }\n",
       "\n",
       "    .dataframe tbody tr th {\n",
       "        vertical-align: top;\n",
       "    }\n",
       "\n",
       "    .dataframe thead th {\n",
       "        text-align: right;\n",
       "    }\n",
       "</style>\n",
       "<table border=\"1\" class=\"dataframe\">\n",
       "  <thead>\n",
       "    <tr style=\"text-align: right;\">\n",
       "      <th></th>\n",
       "      <th>title</th>\n",
       "      <th>text</th>\n",
       "      <th>subject</th>\n",
       "      <th>date</th>\n",
       "    </tr>\n",
       "  </thead>\n",
       "  <tbody>\n",
       "    <tr>\n",
       "      <th>0</th>\n",
       "      <td>Donald Trump Sends Out Embarrassing New Year’...</td>\n",
       "      <td>Donald Trump just couldn t wish all Americans ...</td>\n",
       "      <td>News</td>\n",
       "      <td>December 31, 2017</td>\n",
       "    </tr>\n",
       "    <tr>\n",
       "      <th>1</th>\n",
       "      <td>Drunk Bragging Trump Staffer Started Russian ...</td>\n",
       "      <td>House Intelligence Committee Chairman Devin Nu...</td>\n",
       "      <td>News</td>\n",
       "      <td>December 31, 2017</td>\n",
       "    </tr>\n",
       "    <tr>\n",
       "      <th>2</th>\n",
       "      <td>Sheriff David Clarke Becomes An Internet Joke...</td>\n",
       "      <td>On Friday, it was revealed that former Milwauk...</td>\n",
       "      <td>News</td>\n",
       "      <td>December 30, 2017</td>\n",
       "    </tr>\n",
       "    <tr>\n",
       "      <th>3</th>\n",
       "      <td>Trump Is So Obsessed He Even Has Obama’s Name...</td>\n",
       "      <td>On Christmas day, Donald Trump announced that ...</td>\n",
       "      <td>News</td>\n",
       "      <td>December 29, 2017</td>\n",
       "    </tr>\n",
       "    <tr>\n",
       "      <th>4</th>\n",
       "      <td>Pope Francis Just Called Out Donald Trump Dur...</td>\n",
       "      <td>Pope Francis used his annual Christmas Day mes...</td>\n",
       "      <td>News</td>\n",
       "      <td>December 25, 2017</td>\n",
       "    </tr>\n",
       "  </tbody>\n",
       "</table>\n",
       "</div>"
      ],
      "text/plain": [
       "                                               title  \\\n",
       "0   Donald Trump Sends Out Embarrassing New Year’...   \n",
       "1   Drunk Bragging Trump Staffer Started Russian ...   \n",
       "2   Sheriff David Clarke Becomes An Internet Joke...   \n",
       "3   Trump Is So Obsessed He Even Has Obama’s Name...   \n",
       "4   Pope Francis Just Called Out Donald Trump Dur...   \n",
       "\n",
       "                                                text subject  \\\n",
       "0  Donald Trump just couldn t wish all Americans ...    News   \n",
       "1  House Intelligence Committee Chairman Devin Nu...    News   \n",
       "2  On Friday, it was revealed that former Milwauk...    News   \n",
       "3  On Christmas day, Donald Trump announced that ...    News   \n",
       "4  Pope Francis used his annual Christmas Day mes...    News   \n",
       "\n",
       "                date  \n",
       "0  December 31, 2017  \n",
       "1  December 31, 2017  \n",
       "2  December 30, 2017  \n",
       "3  December 29, 2017  \n",
       "4  December 25, 2017  "
      ]
     },
     "execution_count": 8,
     "metadata": {},
     "output_type": "execute_result"
    }
   ],
   "source": [
    "fake_df.head()"
   ]
  },
  {
   "cell_type": "code",
   "execution_count": 9,
   "metadata": {
    "ExecuteTime": {
     "end_time": "2020-09-29T17:29:13.831468Z",
     "start_time": "2020-09-29T17:29:13.225570Z"
    }
   },
   "outputs": [],
   "source": [
    "true_df = pd.read_csv(DATA_PATH + TRUE_DATA_FILE)"
   ]
  },
  {
   "cell_type": "code",
   "execution_count": 10,
   "metadata": {
    "ExecuteTime": {
     "end_time": "2020-09-29T17:29:13.846087Z",
     "start_time": "2020-09-29T17:29:13.833601Z"
    }
   },
   "outputs": [
    {
     "data": {
      "text/html": [
       "<div>\n",
       "<style scoped>\n",
       "    .dataframe tbody tr th:only-of-type {\n",
       "        vertical-align: middle;\n",
       "    }\n",
       "\n",
       "    .dataframe tbody tr th {\n",
       "        vertical-align: top;\n",
       "    }\n",
       "\n",
       "    .dataframe thead th {\n",
       "        text-align: right;\n",
       "    }\n",
       "</style>\n",
       "<table border=\"1\" class=\"dataframe\">\n",
       "  <thead>\n",
       "    <tr style=\"text-align: right;\">\n",
       "      <th></th>\n",
       "      <th>title</th>\n",
       "      <th>text</th>\n",
       "      <th>subject</th>\n",
       "      <th>date</th>\n",
       "    </tr>\n",
       "  </thead>\n",
       "  <tbody>\n",
       "    <tr>\n",
       "      <th>0</th>\n",
       "      <td>As U.S. budget fight looms, Republicans flip t...</td>\n",
       "      <td>WASHINGTON (Reuters) - The head of a conservat...</td>\n",
       "      <td>politicsNews</td>\n",
       "      <td>December 31, 2017</td>\n",
       "    </tr>\n",
       "    <tr>\n",
       "      <th>1</th>\n",
       "      <td>U.S. military to accept transgender recruits o...</td>\n",
       "      <td>WASHINGTON (Reuters) - Transgender people will...</td>\n",
       "      <td>politicsNews</td>\n",
       "      <td>December 29, 2017</td>\n",
       "    </tr>\n",
       "    <tr>\n",
       "      <th>2</th>\n",
       "      <td>Senior U.S. Republican senator: 'Let Mr. Muell...</td>\n",
       "      <td>WASHINGTON (Reuters) - The special counsel inv...</td>\n",
       "      <td>politicsNews</td>\n",
       "      <td>December 31, 2017</td>\n",
       "    </tr>\n",
       "    <tr>\n",
       "      <th>3</th>\n",
       "      <td>FBI Russia probe helped by Australian diplomat...</td>\n",
       "      <td>WASHINGTON (Reuters) - Trump campaign adviser ...</td>\n",
       "      <td>politicsNews</td>\n",
       "      <td>December 30, 2017</td>\n",
       "    </tr>\n",
       "    <tr>\n",
       "      <th>4</th>\n",
       "      <td>Trump wants Postal Service to charge 'much mor...</td>\n",
       "      <td>SEATTLE/WASHINGTON (Reuters) - President Donal...</td>\n",
       "      <td>politicsNews</td>\n",
       "      <td>December 29, 2017</td>\n",
       "    </tr>\n",
       "  </tbody>\n",
       "</table>\n",
       "</div>"
      ],
      "text/plain": [
       "                                               title  \\\n",
       "0  As U.S. budget fight looms, Republicans flip t...   \n",
       "1  U.S. military to accept transgender recruits o...   \n",
       "2  Senior U.S. Republican senator: 'Let Mr. Muell...   \n",
       "3  FBI Russia probe helped by Australian diplomat...   \n",
       "4  Trump wants Postal Service to charge 'much mor...   \n",
       "\n",
       "                                                text       subject  \\\n",
       "0  WASHINGTON (Reuters) - The head of a conservat...  politicsNews   \n",
       "1  WASHINGTON (Reuters) - Transgender people will...  politicsNews   \n",
       "2  WASHINGTON (Reuters) - The special counsel inv...  politicsNews   \n",
       "3  WASHINGTON (Reuters) - Trump campaign adviser ...  politicsNews   \n",
       "4  SEATTLE/WASHINGTON (Reuters) - President Donal...  politicsNews   \n",
       "\n",
       "                 date  \n",
       "0  December 31, 2017   \n",
       "1  December 29, 2017   \n",
       "2  December 31, 2017   \n",
       "3  December 30, 2017   \n",
       "4  December 29, 2017   "
      ]
     },
     "execution_count": 10,
     "metadata": {},
     "output_type": "execute_result"
    }
   ],
   "source": [
    "true_df.head()"
   ]
  },
  {
   "cell_type": "code",
   "execution_count": 11,
   "metadata": {
    "ExecuteTime": {
     "end_time": "2020-09-29T17:29:13.853685Z",
     "start_time": "2020-09-29T17:29:13.848667Z"
    }
   },
   "outputs": [],
   "source": [
    "true_df['label'] = 'true'"
   ]
  },
  {
   "cell_type": "code",
   "execution_count": 12,
   "metadata": {
    "ExecuteTime": {
     "end_time": "2020-09-29T17:29:13.874387Z",
     "start_time": "2020-09-29T17:29:13.855927Z"
    }
   },
   "outputs": [],
   "source": [
    "fake_df['label'] = 'fake'"
   ]
  },
  {
   "cell_type": "code",
   "execution_count": 13,
   "metadata": {
    "ExecuteTime": {
     "end_time": "2020-09-29T17:29:13.919877Z",
     "start_time": "2020-09-29T17:29:13.876648Z"
    }
   },
   "outputs": [],
   "source": [
    "df = pd.concat([fake_df, true_df], ignore_index=True)"
   ]
  },
  {
   "cell_type": "code",
   "execution_count": 14,
   "metadata": {
    "ExecuteTime": {
     "end_time": "2020-09-29T17:29:13.936009Z",
     "start_time": "2020-09-29T17:29:13.921950Z"
    }
   },
   "outputs": [
    {
     "data": {
      "text/html": [
       "<div>\n",
       "<style scoped>\n",
       "    .dataframe tbody tr th:only-of-type {\n",
       "        vertical-align: middle;\n",
       "    }\n",
       "\n",
       "    .dataframe tbody tr th {\n",
       "        vertical-align: top;\n",
       "    }\n",
       "\n",
       "    .dataframe thead th {\n",
       "        text-align: right;\n",
       "    }\n",
       "</style>\n",
       "<table border=\"1\" class=\"dataframe\">\n",
       "  <thead>\n",
       "    <tr style=\"text-align: right;\">\n",
       "      <th></th>\n",
       "      <th>title</th>\n",
       "      <th>text</th>\n",
       "      <th>subject</th>\n",
       "      <th>date</th>\n",
       "      <th>label</th>\n",
       "    </tr>\n",
       "  </thead>\n",
       "  <tbody>\n",
       "    <tr>\n",
       "      <th>0</th>\n",
       "      <td>Donald Trump Sends Out Embarrassing New Year’...</td>\n",
       "      <td>Donald Trump just couldn t wish all Americans ...</td>\n",
       "      <td>News</td>\n",
       "      <td>December 31, 2017</td>\n",
       "      <td>fake</td>\n",
       "    </tr>\n",
       "    <tr>\n",
       "      <th>1</th>\n",
       "      <td>Drunk Bragging Trump Staffer Started Russian ...</td>\n",
       "      <td>House Intelligence Committee Chairman Devin Nu...</td>\n",
       "      <td>News</td>\n",
       "      <td>December 31, 2017</td>\n",
       "      <td>fake</td>\n",
       "    </tr>\n",
       "    <tr>\n",
       "      <th>2</th>\n",
       "      <td>Sheriff David Clarke Becomes An Internet Joke...</td>\n",
       "      <td>On Friday, it was revealed that former Milwauk...</td>\n",
       "      <td>News</td>\n",
       "      <td>December 30, 2017</td>\n",
       "      <td>fake</td>\n",
       "    </tr>\n",
       "    <tr>\n",
       "      <th>3</th>\n",
       "      <td>Trump Is So Obsessed He Even Has Obama’s Name...</td>\n",
       "      <td>On Christmas day, Donald Trump announced that ...</td>\n",
       "      <td>News</td>\n",
       "      <td>December 29, 2017</td>\n",
       "      <td>fake</td>\n",
       "    </tr>\n",
       "    <tr>\n",
       "      <th>4</th>\n",
       "      <td>Pope Francis Just Called Out Donald Trump Dur...</td>\n",
       "      <td>Pope Francis used his annual Christmas Day mes...</td>\n",
       "      <td>News</td>\n",
       "      <td>December 25, 2017</td>\n",
       "      <td>fake</td>\n",
       "    </tr>\n",
       "  </tbody>\n",
       "</table>\n",
       "</div>"
      ],
      "text/plain": [
       "                                               title  \\\n",
       "0   Donald Trump Sends Out Embarrassing New Year’...   \n",
       "1   Drunk Bragging Trump Staffer Started Russian ...   \n",
       "2   Sheriff David Clarke Becomes An Internet Joke...   \n",
       "3   Trump Is So Obsessed He Even Has Obama’s Name...   \n",
       "4   Pope Francis Just Called Out Donald Trump Dur...   \n",
       "\n",
       "                                                text subject  \\\n",
       "0  Donald Trump just couldn t wish all Americans ...    News   \n",
       "1  House Intelligence Committee Chairman Devin Nu...    News   \n",
       "2  On Friday, it was revealed that former Milwauk...    News   \n",
       "3  On Christmas day, Donald Trump announced that ...    News   \n",
       "4  Pope Francis used his annual Christmas Day mes...    News   \n",
       "\n",
       "                date label  \n",
       "0  December 31, 2017  fake  \n",
       "1  December 31, 2017  fake  \n",
       "2  December 30, 2017  fake  \n",
       "3  December 29, 2017  fake  \n",
       "4  December 25, 2017  fake  "
      ]
     },
     "execution_count": 14,
     "metadata": {},
     "output_type": "execute_result"
    }
   ],
   "source": [
    "df.head()"
   ]
  },
  {
   "cell_type": "markdown",
   "metadata": {},
   "source": [
    "# Clean the Data"
   ]
  },
  {
   "cell_type": "markdown",
   "metadata": {},
   "source": [
    "## Check for missing data"
   ]
  },
  {
   "cell_type": "code",
   "execution_count": 15,
   "metadata": {
    "ExecuteTime": {
     "end_time": "2020-09-29T17:29:13.963486Z",
     "start_time": "2020-09-29T17:29:13.938044Z"
    }
   },
   "outputs": [
    {
     "name": "stdout",
     "output_type": "stream",
     "text": [
      "<class 'pandas.core.frame.DataFrame'>\n",
      "RangeIndex: 44898 entries, 0 to 44897\n",
      "Data columns (total 5 columns):\n",
      " #   Column   Non-Null Count  Dtype \n",
      "---  ------   --------------  ----- \n",
      " 0   title    44898 non-null  object\n",
      " 1   text     44898 non-null  object\n",
      " 2   subject  44898 non-null  object\n",
      " 3   date     44898 non-null  object\n",
      " 4   label    44898 non-null  object\n",
      "dtypes: object(5)\n",
      "memory usage: 1.7+ MB\n"
     ]
    }
   ],
   "source": [
    "df.info()"
   ]
  },
  {
   "cell_type": "markdown",
   "metadata": {},
   "source": [
    "There are no null values, next I will check for any placeholder values."
   ]
  },
  {
   "cell_type": "markdown",
   "metadata": {},
   "source": [
    "## Check for placeholder values and duplicates"
   ]
  },
  {
   "cell_type": "markdown",
   "metadata": {},
   "source": [
    "### Title column"
   ]
  },
  {
   "cell_type": "code",
   "execution_count": 16,
   "metadata": {
    "ExecuteTime": {
     "end_time": "2020-09-29T17:29:14.004306Z",
     "start_time": "2020-09-29T17:29:13.965849Z"
    }
   },
   "outputs": [],
   "source": [
    "title_value_counts = df.title.value_counts()"
   ]
  },
  {
   "cell_type": "code",
   "execution_count": 17,
   "metadata": {
    "ExecuteTime": {
     "end_time": "2020-09-29T17:29:14.023806Z",
     "start_time": "2020-09-29T17:29:14.007106Z"
    }
   },
   "outputs": [
    {
     "data": {
      "text/plain": [
       "Factbox: Trump fills top jobs for his administration                                                                                         14\n",
       "Factbox: Contenders for senior jobs in Trump's administration                                                                                 8\n",
       "Highlights: The Trump presidency on April 13 at 9:30 P.M. EDT/0130 GMT on Friday                                                              8\n",
       "MEDIA IGNORES Time That Bill Clinton FIRED His FBI Director On Day Before Vince Foster Was Found Dead                                         6\n",
       "Factbox: International reaction to arrest of Reuters reporters in Myanmar                                                                     6\n",
       "                                                                                                                                             ..\n",
       "TRUMP WAS RIGHT About CNN Being “Very Fake News”: Federal Judge Rules Against CNN In “FAKE NEWS” Case…May Have Acted With “Actual Malice”     2\n",
       "WHOA! CLINTON GRIFTERS BAGGED $100 Million From “Blood Minerals” Firm                                                                         2\n",
       "BOOM! DirecTV REFUNDS NFL Sunday Ticket Subscriptions After Being Bombarded With Angry Calls From Customers Over National Anthem Protests     2\n",
       "OBAMA’S OPEN BORDERS Crisis Just Got Real…WHO Warns Of “EXPLOSIVE SPREAD” Of Dangerous Virus [VIDEO]                                          2\n",
       "PRESIDENT Promotes Made in America: Omaha Steaks Owner “Wanted to Kiss Me” for Reopening Trade with China [Video]                             2\n",
       "Name: title, Length: 5629, dtype: int64"
      ]
     },
     "execution_count": 17,
     "metadata": {},
     "output_type": "execute_result"
    }
   ],
   "source": [
    "title_value_counts[title_value_counts > 1]"
   ]
  },
  {
   "cell_type": "markdown",
   "metadata": {},
   "source": [
    "There are a lot of titles that are used more than once.  This will need to be reviewed.\n",
    "First I will look at the most commonly reused title."
   ]
  },
  {
   "cell_type": "code",
   "execution_count": 18,
   "metadata": {
    "ExecuteTime": {
     "end_time": "2020-09-29T17:29:14.050963Z",
     "start_time": "2020-09-29T17:29:14.025932Z"
    }
   },
   "outputs": [
    {
     "data": {
      "text/html": [
       "<div>\n",
       "<style scoped>\n",
       "    .dataframe tbody tr th:only-of-type {\n",
       "        vertical-align: middle;\n",
       "    }\n",
       "\n",
       "    .dataframe tbody tr th {\n",
       "        vertical-align: top;\n",
       "    }\n",
       "\n",
       "    .dataframe thead th {\n",
       "        text-align: right;\n",
       "    }\n",
       "</style>\n",
       "<table border=\"1\" class=\"dataframe\">\n",
       "  <thead>\n",
       "    <tr style=\"text-align: right;\">\n",
       "      <th></th>\n",
       "      <th>title</th>\n",
       "      <th>text</th>\n",
       "      <th>subject</th>\n",
       "      <th>date</th>\n",
       "      <th>label</th>\n",
       "    </tr>\n",
       "  </thead>\n",
       "  <tbody>\n",
       "    <tr>\n",
       "      <th>29701</th>\n",
       "      <td>Factbox: Trump fills top jobs for his administ...</td>\n",
       "      <td>(Reuters) - U.S. President-elect Donald Trump ...</td>\n",
       "      <td>politicsNews</td>\n",
       "      <td>January 19, 2017</td>\n",
       "      <td>true</td>\n",
       "    </tr>\n",
       "    <tr>\n",
       "      <th>29875</th>\n",
       "      <td>Factbox: Trump fills top jobs for his administ...</td>\n",
       "      <td>(Reuters) - U.S. President-elect Donald Trump ...</td>\n",
       "      <td>politicsNews</td>\n",
       "      <td>January 11, 2017</td>\n",
       "      <td>true</td>\n",
       "    </tr>\n",
       "    <tr>\n",
       "      <th>30096</th>\n",
       "      <td>Factbox: Trump fills top jobs for his administ...</td>\n",
       "      <td>(Reuters) - U.S. President-elect Donald Trump ...</td>\n",
       "      <td>politicsNews</td>\n",
       "      <td>December 21, 2016</td>\n",
       "      <td>true</td>\n",
       "    </tr>\n",
       "    <tr>\n",
       "      <th>30118</th>\n",
       "      <td>Factbox: Trump fills top jobs for his administ...</td>\n",
       "      <td>(Reuters) - President-elect Donald Trump will ...</td>\n",
       "      <td>politicsNews</td>\n",
       "      <td>December 19, 2016</td>\n",
       "      <td>true</td>\n",
       "    </tr>\n",
       "    <tr>\n",
       "      <th>30136</th>\n",
       "      <td>Factbox: Trump fills top jobs for his administ...</td>\n",
       "      <td>(Reuters) - President-elect Donald Trump will ...</td>\n",
       "      <td>politicsNews</td>\n",
       "      <td>December 17, 2016</td>\n",
       "      <td>true</td>\n",
       "    </tr>\n",
       "    <tr>\n",
       "      <th>30167</th>\n",
       "      <td>Factbox: Trump fills top jobs for his administ...</td>\n",
       "      <td>(Reuters) - U.S. President-elect Donald Trump ...</td>\n",
       "      <td>politicsNews</td>\n",
       "      <td>December 15, 2016</td>\n",
       "      <td>true</td>\n",
       "    </tr>\n",
       "    <tr>\n",
       "      <th>30186</th>\n",
       "      <td>Factbox: Trump fills top jobs for his administ...</td>\n",
       "      <td>(Reuters) - U.S. President-elect Donald Trump ...</td>\n",
       "      <td>politicsNews</td>\n",
       "      <td>December 13, 2016</td>\n",
       "      <td>true</td>\n",
       "    </tr>\n",
       "    <tr>\n",
       "      <th>30220</th>\n",
       "      <td>Factbox: Trump fills top jobs for his administ...</td>\n",
       "      <td>(Reuters) - U.S. President-elect Donald Trump ...</td>\n",
       "      <td>politicsNews</td>\n",
       "      <td>December 13, 2016</td>\n",
       "      <td>true</td>\n",
       "    </tr>\n",
       "    <tr>\n",
       "      <th>30236</th>\n",
       "      <td>Factbox: Trump fills top jobs for his administ...</td>\n",
       "      <td>(Reuters) - U.S. President-elect Donald Trump ...</td>\n",
       "      <td>politicsNews</td>\n",
       "      <td>December 12, 2016</td>\n",
       "      <td>true</td>\n",
       "    </tr>\n",
       "    <tr>\n",
       "      <th>30289</th>\n",
       "      <td>Factbox: Trump fills top jobs for his administ...</td>\n",
       "      <td>(Reuters) - U.S. President-elect Donald Trump ...</td>\n",
       "      <td>politicsNews</td>\n",
       "      <td>December 8, 2016</td>\n",
       "      <td>true</td>\n",
       "    </tr>\n",
       "    <tr>\n",
       "      <th>30330</th>\n",
       "      <td>Factbox: Trump fills top jobs for his administ...</td>\n",
       "      <td>(Reuters) - U.S. President-elect Donald Trump ...</td>\n",
       "      <td>politicsNews</td>\n",
       "      <td>December 7, 2016</td>\n",
       "      <td>true</td>\n",
       "    </tr>\n",
       "    <tr>\n",
       "      <th>30380</th>\n",
       "      <td>Factbox: Trump fills top jobs for his administ...</td>\n",
       "      <td>(Reuters) - U.S. President-elect Donald Trump ...</td>\n",
       "      <td>politicsNews</td>\n",
       "      <td>December 5, 2016</td>\n",
       "      <td>true</td>\n",
       "    </tr>\n",
       "    <tr>\n",
       "      <th>30480</th>\n",
       "      <td>Factbox: Trump fills top jobs for his administ...</td>\n",
       "      <td>(Reuters) - President-elect Donald Trump has c...</td>\n",
       "      <td>politicsNews</td>\n",
       "      <td>November 30, 2016</td>\n",
       "      <td>true</td>\n",
       "    </tr>\n",
       "    <tr>\n",
       "      <th>30489</th>\n",
       "      <td>Factbox: Trump fills top jobs for his administ...</td>\n",
       "      <td>(Reuters) - U.S. President-elect Donald Trump ...</td>\n",
       "      <td>politicsNews</td>\n",
       "      <td>November 29, 2016</td>\n",
       "      <td>true</td>\n",
       "    </tr>\n",
       "  </tbody>\n",
       "</table>\n",
       "</div>"
      ],
      "text/plain": [
       "                                                   title  \\\n",
       "29701  Factbox: Trump fills top jobs for his administ...   \n",
       "29875  Factbox: Trump fills top jobs for his administ...   \n",
       "30096  Factbox: Trump fills top jobs for his administ...   \n",
       "30118  Factbox: Trump fills top jobs for his administ...   \n",
       "30136  Factbox: Trump fills top jobs for his administ...   \n",
       "30167  Factbox: Trump fills top jobs for his administ...   \n",
       "30186  Factbox: Trump fills top jobs for his administ...   \n",
       "30220  Factbox: Trump fills top jobs for his administ...   \n",
       "30236  Factbox: Trump fills top jobs for his administ...   \n",
       "30289  Factbox: Trump fills top jobs for his administ...   \n",
       "30330  Factbox: Trump fills top jobs for his administ...   \n",
       "30380  Factbox: Trump fills top jobs for his administ...   \n",
       "30480  Factbox: Trump fills top jobs for his administ...   \n",
       "30489  Factbox: Trump fills top jobs for his administ...   \n",
       "\n",
       "                                                    text       subject  \\\n",
       "29701  (Reuters) - U.S. President-elect Donald Trump ...  politicsNews   \n",
       "29875  (Reuters) - U.S. President-elect Donald Trump ...  politicsNews   \n",
       "30096  (Reuters) - U.S. President-elect Donald Trump ...  politicsNews   \n",
       "30118  (Reuters) - President-elect Donald Trump will ...  politicsNews   \n",
       "30136  (Reuters) - President-elect Donald Trump will ...  politicsNews   \n",
       "30167  (Reuters) - U.S. President-elect Donald Trump ...  politicsNews   \n",
       "30186  (Reuters) - U.S. President-elect Donald Trump ...  politicsNews   \n",
       "30220  (Reuters) - U.S. President-elect Donald Trump ...  politicsNews   \n",
       "30236  (Reuters) - U.S. President-elect Donald Trump ...  politicsNews   \n",
       "30289  (Reuters) - U.S. President-elect Donald Trump ...  politicsNews   \n",
       "30330  (Reuters) - U.S. President-elect Donald Trump ...  politicsNews   \n",
       "30380  (Reuters) - U.S. President-elect Donald Trump ...  politicsNews   \n",
       "30480  (Reuters) - President-elect Donald Trump has c...  politicsNews   \n",
       "30489  (Reuters) - U.S. President-elect Donald Trump ...  politicsNews   \n",
       "\n",
       "                     date label  \n",
       "29701   January 19, 2017   true  \n",
       "29875   January 11, 2017   true  \n",
       "30096  December 21, 2016   true  \n",
       "30118  December 19, 2016   true  \n",
       "30136  December 17, 2016   true  \n",
       "30167  December 15, 2016   true  \n",
       "30186  December 13, 2016   true  \n",
       "30220  December 13, 2016   true  \n",
       "30236  December 12, 2016   true  \n",
       "30289   December 8, 2016   true  \n",
       "30330   December 7, 2016   true  \n",
       "30380   December 5, 2016   true  \n",
       "30480  November 30, 2016   true  \n",
       "30489  November 29, 2016   true  "
      ]
     },
     "execution_count": 18,
     "metadata": {},
     "output_type": "execute_result"
    }
   ],
   "source": [
    "df[df.title == 'Factbox: Trump fills top jobs for his administration']"
   ]
  },
  {
   "cell_type": "code",
   "execution_count": 19,
   "metadata": {
    "ExecuteTime": {
     "end_time": "2020-09-29T17:29:14.059666Z",
     "start_time": "2020-09-29T17:29:14.053117Z"
    },
    "scrolled": true
   },
   "outputs": [
    {
     "data": {
      "text/plain": [
       "'(Reuters) - U.S. President-elect Donald Trump will name former Georgia Governor Sonny Perdue as his nominee for secretary of agriculture on Thursday, a senior transition official said on Wednesday. Here is a list of Republican Trump’s selections for top jobs in his administration.  NOTE: Senate confirmation is required for all the posts except national security adviser and White House posts. Tillerson, 64, has spent his entire career at Exxon Mobil Corp, where he rose to chairman and chief executive officer in 2006. A civil engineer by training, the Texan joined the world’s largest publicly traded energy company in 1975 and led several of its operations in the United States as well as in Yemen, Thailand and Russia. As Exxon’s chief executive, he maintained close ties with Moscow and opposed U.S. sanctions against Russia for its incursion into Crimea. Mnuchin, 54, is a successful private equity investor, hedge fund manager and Hollywood financier who spent 17 years at Goldman Sachs Group Inc before leaving the investment bank in 2002. He assembled an investor group to buy a failed California mortgage lender in 2009, rebranded it as OneWest Bank and built it into Southern California’s largest bank. Housing advocacy groups criticized OneWest for its foreclosure practices, accusing it of being too quick to foreclose on struggling homeowners. Mattis is a retired Marine general known for his tough talk, distrust of Iran and battlefield experience in Iraq and Afghanistan. A former leader of Central Command, which oversees U.S. military operations in the Middle East and South Asia, Mattis, 66, is known by many U.S. forces by his nickname, “Mad Dog.” He was rebuked in 2005 for saying: “It’s fun to shoot some people.” Sessions, 70, was the first U.S. senator to endorse Trump’s presidential bid and has been a close ally since. Son of a country store owner, the lawmaker from Alabama and former federal prosecutor has long taken a tough stance on illegal immigration, opposing any path to citizenship for undocumented immigrants. Coats, 73, served as U.S. senator from Indiana from 1989 to 1999 and again from 2011 to 2017, and was U.S. ambassador to Germany from 2001 to 2005. He previously served as U.S. representative from Indiana’s 4th Congressional District. Zinke, 55, a first-term Republican U.S. representative from Montana and a member of the House subcommittee on natural resources, has voted for legislation that would weaken environmental safeguards on public lands. He has taken stances favoring the coal industry, which suffered during the Obama administration. The League of Conservation Voters, which ranks lawmakers on their environmental record, gave Zinke an extremely low lifetime score of 3 percent. Ross, 79, heads the private equity firm WL Ross & Co. Forbes has pegged his net worth at about $2.9 billion. A staunch supporter of Trump, Ross helped shape the Trump campaign’s views on trade policy. He blames massive U.S. factory job losses on the North American Free Trade Agreement (NAFTA) with Canada and Mexico, which went into force in 1994, and the 2001 entry of China into the World Trade Organization.      Lighthizer, 69, served as deputy U.S. trade representative during the Reagan administration in the 1980s and has since spent nearly three decades as a lawyer representing U.S. companies in anti-dumping and anti-subsidy cases, currently with the law firm Skadden, Arps, Slate, Meagher and Flom. A harsh critic of China’s trade practices, Lighthizer in 2010 told Congress that U.S. policymakers should take a more aggressive approach in dealing with the Asian country. Puzder, chief executive officer of CKE Restaurants Inc [APOLOT.UL], which runs the Carl’s Jr. and Hardee’s fast-food chains, has been a vociferous critic of government regulation of the workplace and the National Labor Relations Board. Puzder, 66, has argued that higher minimum wages would hurt workers by forcing restaurants to close and praises the benefits of automation, so his appointment is likely to antagonize organized labor.  U.S. Representative Price, 62, is an orthopedic surgeon who heads the House Budget Committee. A representative from Georgia since 2005, Price has criticized Obamacare and has championed a plan of tax credits, expanded health savings accounts and lawsuit reforms to replace it. He is against abortion. Former Georgia Governor Perdue, 70, served on Trump’s agricultural advisory committee during the campaign. Perdue, a Republican, was elected to two terms as governor, serving from 2003 to 2011. Before that, he served in the state Senate representing a rural swath of the state about 100 miles (160 km) south of Atlanta. After finishing his second term as governor, Perdue founded Perdue Partners, a global trading firm that consults and provides services for companies looking to export products. Shulkin, 57, currently is under secretary for health at the Department of Veterans Affairs, putting him in charge of the country’s largest healthcare system. Shulkin, a physician, was chosen by Democratic President Barack Obama for the under secretary post in 2015. He has spearheaded an effort to cut waiting times for care at VA medical centers. Trump promised during the campaign to improve medical care for veterans. Shulkin would be the first VA secretary who had not served in the military. Carson, 65, is a retired neurosurgeon who dropped out of the Republican presidential nominating race in March and threw his support to Trump. A popular writer and speaker in conservative circles, Carson had been reluctant to take a position in the incoming administration because of his lack of experience in the federal government. He is the first African-American picked for a Cabinet spot by Trump. Chao, 63, was labor secretary under President George W. Bush for eight years and the first Asian-American woman to hold a Cabinet position. She is a director at Ingersoll Rand Plc, News Corp and Vulcan Materials Co. She is married to U.S. Senate Majority Leader Mitch McConnell, a Republican from Kentucky. Perry, 66, is an addition to the list of oil drilling advocates skeptical about climate change who have been picked for senior positions in Trump’s Cabinet. The selections have worried environmentalists but cheered an oil and gas industry eager for expansion. Perry, who ran unsuccessfully for the 2012 Republican presidential nomination and also briefly ran for president in 2016, would be responsible for U.S. energy policy and oversee the nation’s nuclear weapons program.  DeVos, 59, is a billionaire Republican donor, a former chair of the Michigan Republican Party and an advocate for the privatization of education. As chair of the American Federation for Children, she has pushed at the state level for vouchers that families can use to send their children to private schools and for expansion of charter schools. The final leadership role of Kelly’s 45-year military career was head of the U.S. Southern Command, responsible for U.S. military activities and relationships in Latin America and the Caribbean. The 66-year-old retired Marine general differed with Obama on key issues and has warned of vulnerabilities along the United States’ southern border with Mexico. Priebus recently was re-elected to serve as Republican National Committee chairman but will give up that job to join Trump in the White House, where the low-key Washington operative could help forge ties with Congress to advance Trump’s agenda. Priebus, 44, was a steadfast supporter of Trump during the presidential campaign even as the party fractured amid the choice. ENVIRONMENTAL PROTECTION AGENCY ADMINISTRATOR: SCOTT PRUITT An ardent opponent of Obama’s measures to stem climate change, Oklahoma Attorney General Pruitt, 48, has enraged environmental activists. But he fits in with the president-elect’s promise to cut the agency back and eliminate regulation that he says is stifling oil and gas drilling. Pruitt became the top state prosecutor for Oklahoma, which has extensive oil reserves, in 2011 and has challenged the EPA multiple times since. U.S. Representative Mick Mulvaney, 49, a South Carolina Republican, is a fiscal conservative. He was an outspoken critic of former House of Representatives Speaker John Boehner, who resigned in 2015 amid opposition from fellow Republicans who were members of the House Freedom Caucus. Mulvaney was first elected to Congress in 2010. Haley, 44, has been the Republican governor of South Carolina since 2011 and has little experience in foreign policy or the federal government. The daughter of Indian immigrants, she led a successful push last year to remove the Confederate battle flag from the grounds of the South Carolina state capitol after the killing of nine black churchgoers in Charleston by a white gunman. McMahon, 68, is a co-founder and former chief executive of the professional wrestling franchise WWE, which is based in Stamford, Connecticut. She ran unsuccessfully as a Republican for a U.S. Senate seat in Connecticut in 2010 and 2012 and was an early supporter of Trump’s presidential campaign. U.S. Representative Pompeo, 53, is a third-term congressman from Kansas who serves on the House of Representatives Intelligence Committee, which oversees the CIA, National Security Agency and cyber security. A retired Army officer and Harvard Law School graduate, Pompeo supports the U.S. government’s sweeping collection of Americans’ communications data and wants to scrap the nuclear deal with Iran. Walter “Jay” Clayton is a New York-based attorney who advises clients on major Wall Street deals, specializing in public and private mergers and acquisitions and capital-raising efforts. His past clients have included Alibaba Group Holding Company, Oaktree Capital Group and big banks.    Retired Lieutenant General Flynn, 58, was an early Trump supporter and serves as vice chairman on his transition team. He began his Army career in 1981 and was deployed in Afghanistan and Iraq. Flynn became head of the Defense Intelligence Agency in 2012 under Obama but retired a year earlier than expected, according to media reports, and became a fierce critic of Obama’s foreign policy. Tom Bossert, 41, who worked as deputy homeland security adviser to former President George W. Bush, will serve as the assistant to the president for homeland security and counterterrorism. He currently runs a risk management consulting firm and has a cyber risk fellowship with the Atlantic Council think tank in Washington. Cohn, 56, president and chief operating officer of Goldman Sachs, had widely been considered heir apparent to Lloyd Blankfein, CEO of the Wall Street firm. Trump hammered Goldman and Blankfein during the presidential campaign, releasing a television ad that called Blankfein part of a “global power structure” that had robbed America’s working class. Navarro, 67, has suggested a stepped-up engagement with Taiwan, including assistance with a submarine development program. A professor at the University of California, Irvine, who advised Trump during the campaign, Navarro argued that Washington should stop referring to the “one China” policy, but stopped short of suggesting it should recognize Taipei: “There is no need to unnecessarily poke the Panda.” Viola, 60, is a graduate of the U.S. Military Academy at West Point and a U.S. Army veteran who served in the famed 101st Airborne Division. He founded high-frequency trading firm Virtu Financial Inc and served as chairman of the New York Mercantile Exchange, where he began his financial services career. After the Sept. 11, 2001, al Qaeda attacks on New York and Washington, Viola helped found the Combating Terrorism Center at West Point. He is an owner of the Florida Panthers ice hockey team. CHIEF WHITE HOUSE STRATEGIST, SENIOR COUNSELOR: STEVE BANNON The former head of the conservative website Breitbart News came aboard as Trump’s campaign chairman in August. A rabble-rousing conservative media figure, he helped shift Breitbart into a forum for the alt-right, a loose confederation of those who reject mainstream politics and includes neo-Nazis, white supremacists and anti-Semites. His hiring signals Trump’s dedication to operating outside the norms of Washington. As White House chief of staff, Bannon, 63, will serve as Trump’s gatekeeper and agenda-setter. '"
      ]
     },
     "execution_count": 19,
     "metadata": {},
     "output_type": "execute_result"
    }
   ],
   "source": [
    "df.iloc[29701].text"
   ]
  },
  {
   "cell_type": "code",
   "execution_count": 20,
   "metadata": {
    "ExecuteTime": {
     "end_time": "2020-09-29T17:29:14.068031Z",
     "start_time": "2020-09-29T17:29:14.061884Z"
    }
   },
   "outputs": [
    {
     "data": {
      "text/plain": [
       "'(Reuters) - U.S. President-elect Donald Trump on Wednesday announced he has chosen David Shulkin, who currently heads the Department of Veterans Affairs healthcare system, to head the agency. Here is a list of Republican Trump’s selections for top jobs in his administration.  NOTE: Senate confirmation is required for all the posts except national security adviser and White House posts. Tillerson, 64, has spent his entire career at Exxon Mobil Corp, where he rose to chairman and chief executive officer in 2006. A civil engineer by training, the Texan joined the world’s largest publicly traded energy company in 1975 and led several of its operations in the United States as well as in Yemen, Thailand and Russia. As Exxon’s chief executive, he maintained close ties with Moscow and opposed U.S. sanctions against Russia for its incursion into Crimea. Mnuchin, 54, is a successful private equity investor, hedge fund manager and Hollywood financier who spent 17 years at Goldman Sachs Group Inc before leaving the investment bank in 2002. He assembled an investor group to buy a failed California mortgage lender in 2009, rebranded it as OneWest Bank and built it into Southern California’s largest bank. Housing advocacy groups criticized OneWest for its foreclosure practices, accusing it of being too quick to foreclose on struggling homeowners. Mattis is a retired Marine general known for his tough talk, distrust of Iran and battlefield experience in Iraq and Afghanistan. A former leader of Central Command, which oversees U.S. military operations in the Middle East and South Asia, Mattis, 66, is known by many U.S. forces by his nickname, “Mad Dog.” He was rebuked in 2005 for saying: “It’s fun to shoot some people.” Sessions, 70, was the first U.S. senator to endorse Trump’s presidential bid and has been a close ally since. Son of a country store owner, the lawmaker from Alabama and former federal prosecutor has long taken a tough stance on illegal immigration, opposing any path to citizenship for undocumented immigrants. Coats, 73, served as U.S. senator from Indiana from 1989 to 1999 and again from 2011 to 2017, and was U.S. ambassador to Germany from 2001 to 2005. He previously served as U.S. representative from Indiana’s 4th Congressional District. Zinke, 55, a first-term Republican U.S. representative from Montana and a member of the House subcommittee on natural resources, has voted for legislation that would weaken environmental safeguards on public lands. He has taken stances favoring the coal industry, which suffered during the Obama administration. The League of Conservation Voters, which ranks lawmakers on their environmental record, gave Zinke an extremely low lifetime score of 3 percent. Ross, 79, heads the private equity firm WL Ross & Co. Forbes has pegged his net worth at about $2.9 billion. A staunch supporter of Trump, Ross helped shape the Trump campaign’s views on trade policy. He blames massive U.S. factory job losses on the North American Free Trade Agreement (NAFTA) with Canada and Mexico, which went into force in 1994, and the 2001 entry of China into the World Trade Organization.      Lighthizer, 69, served as deputy U.S. trade representative during the Reagan administration in the 1980s and has since spent nearly three decades as a lawyer representing U.S. companies in anti-dumping and anti-subsidy cases, currently with the law firm Skadden, Arps, Slate, Meagher and Flom. A harsh critic of China’s trade practices, Lighthizer in 2010 told Congress that U.S. policymakers should take a more aggressive approach in dealing with the Asian country. Puzder, chief executive officer of CKE Restaurants Inc [APOLOT.UL], which runs the Carl’s Jr. and Hardee’s fast-food chains, has been a vociferous critic of government regulation of the workplace and the National Labor Relations Board. Puzder, 66, has argued that higher minimum wages would hurt workers by forcing restaurants to close and praises the benefits of automation, so his appointment is likely to antagonize organized labor.  U.S. Representative Price, 62, is an orthopedic surgeon who heads the House Budget Committee. A representative from Georgia since 2005, Price has criticized Obamacare and has championed a plan of tax credits, expanded health savings accounts and lawsuit reforms to replace it. He is against abortion. Shulkin, 57, currently is under secretary for health at the Department of Veterans Affairs, putting him in charge of the country’s largest healthcare system. Shulkin, a physician, was chosen by Democratic President Barack Obama for the under secretary post in 2015. He has spearheaded an effort to cut waiting times for care at VA medical centers. Trump promised during the campaign to improve medical care for veterans. Shulkin would be the first VA secretary who had not served in the military. Carson, 65, is a retired neurosurgeon who dropped out of the Republican presidential nominating race in March and threw his support to Trump. A popular writer and speaker in conservative circles, Carson had been reluctant to take a position in the incoming administration because of his lack of experience in the federal government. He is the first African-American picked for a Cabinet spot by Trump. Chao, 63, was labor secretary under President George W. Bush for eight years and the first Asian-American woman to hold a Cabinet position. She is a director at Ingersoll Rand Plc, News Corp and Vulcan Materials Co. She is married to U.S. Senate Majority Leader Mitch McConnell, a Republican from Kentucky. Perry, 66, is an addition to the list of oil drilling advocates skeptical about climate change who have been picked for senior positions in Trump’s Cabinet. The selections have worried environmentalists but cheered an oil and gas industry eager for expansion. Perry, who ran unsuccessfully for the 2012 Republican presidential nomination and also briefly ran for president in 2016, would be responsible for U.S. energy policy and oversee the nation’s nuclear weapons program.  DeVos, 59, is a billionaire Republican donor, a former chair of the Michigan Republican Party and an advocate for the privatization of education. As chair of the American Federation for Children, she has pushed at the state level for vouchers that families can use to send their children to private schools and for expansion of charter schools. The final leadership role of Kelly’s 45-year military career was head of the U.S. Southern Command, responsible for U.S. military activities and relationships in Latin America and the Caribbean. The 66-year-old retired Marine general differed with Obama on key issues and has warned of vulnerabilities along the United States’ southern border with Mexico. Priebus recently was re-elected to serve as Republican National Committee chairman but will give up that job to join Trump in the White House, where the low-key Washington operative could help forge ties with Congress to advance Trump’s agenda. Priebus, 44, was a steadfast supporter of Trump during the presidential campaign even as the party fractured amid the choice. ENVIRONMENTAL PROTECTION AGENCY ADMINISTRATOR: SCOTT PRUITT An ardent opponent of Obama’s measures to stem climate change, Oklahoma Attorney General Pruitt, 48, has enraged environmental activists. But he fits in with the president-elect’s promise to cut the agency back and eliminate regulation that he says is stifling oil and gas drilling. Pruitt became the top state prosecutor for Oklahoma, which has extensive oil reserves, in 2011 and has challenged the EPA multiple times since. U.S. Representative Mick Mulvaney, 49, a South Carolina Republican, is a fiscal conservative. He was an outspoken critic of former House of Representatives Speaker John Boehner, who resigned in 2015 amid opposition from fellow Republicans who were members of the House Freedom Caucus. Mulvaney was first elected to Congress in 2010. Haley, 44, has been the Republican governor of South Carolina since 2011 and has little experience in foreign policy or the federal government. The daughter of Indian immigrants, she led a successful push last year to remove the Confederate battle flag from the grounds of the South Carolina state capitol after the killing of nine black churchgoers in Charleston by a white gunman. McMahon, 68, is a co-founder and former chief executive of the professional wrestling franchise WWE, which is based in Stamford, Connecticut. She ran unsuccessfully as a Republican for a U.S. Senate seat in Connecticut in 2010 and 2012 and was an early supporter of Trump’s presidential campaign. U.S. Representative Pompeo, 53, is a third-term congressman from Kansas who serves on the House of Representatives Intelligence Committee, which oversees the CIA, National Security Agency and cyber security. A retired Army officer and Harvard Law School graduate, Pompeo supports the U.S. government’s sweeping collection of Americans’ communications data and wants to scrap the nuclear deal with Iran. Walter “Jay” Clayton is a New York-based attorney who advises clients on major Wall Street deals, specializing in public and private mergers and acquisitions and capital-raising efforts. His past clients have included Alibaba Group Holding Company, Oaktree Capital Group and big banks.    Retired Lieutenant General Flynn, 58, was an early Trump supporter and serves as vice chairman on his transition team. He began his Army career in 1981 and was deployed in Afghanistan and Iraq. Flynn became head of the Defense Intelligence Agency in 2012 under Obama but retired a year earlier than expected, according to media reports, and became a fierce critic of Obama’s foreign policy. Tom Bossert, 41, who worked as deputy homeland security adviser to former President George W. Bush, will serve as the assistant to the president for homeland security and counterterrorism. He currently runs a risk management consulting firm and has a cyber risk fellowship with the Atlantic Council think tank in Washington. Cohn, 56, president and chief operating officer of Goldman Sachs, had widely been considered heir apparent to Lloyd Blankfein, CEO of the Wall Street firm. Trump hammered Goldman and Blankfein during the presidential campaign, releasing a television ad that called Blankfein part of a “global power structure” that had robbed America’s working class. Navarro, 67, has suggested a stepped-up engagement with Taiwan, including assistance with a submarine development program. A professor at the University of California, Irvine, who advised Trump during the campaign, Navarro argued that Washington should stop referring to the “one China” policy, but stopped short of suggesting it should recognize Taipei: “There is no need to unnecessarily poke the Panda.” Viola, 60, is a graduate of the U.S. Military Academy at West Point and a U.S. Army veteran who served in the famed 101st Airborne Division. He founded high-frequency trading firm Virtu Financial Inc and served as chairman of the New York Mercantile Exchange, where he began his financial services career. After the Sept. 11, 2001, al Qaeda attacks on New York and Washington, Viola helped found the Combating Terrorism Center at West Point. He is an owner of the Florida Panthers ice hockey team. CHIEF WHITE HOUSE STRATEGIST, SENIOR COUNSELOR: STEVE BANNON The former head of the conservative website Breitbart News came aboard as Trump’s campaign chairman in August. A rabble-rousing conservative media figure, he helped shift Breitbart into a forum for the alt-right, a loose confederation of those who reject mainstream politics and includes neo-Nazis, white supremacists and anti-Semites. His hiring signals Trump’s dedication to operating outside the norms of Washington. As White House chief of staff, Bannon, 63, will serve as Trump’s gatekeeper and agenda-setter. '"
      ]
     },
     "execution_count": 20,
     "metadata": {},
     "output_type": "execute_result"
    }
   ],
   "source": [
    "df.iloc[29875].text"
   ]
  },
  {
   "cell_type": "markdown",
   "metadata": {},
   "source": [
    "This title seems to be a story title that Reuters reused, while changing the underlying story."
   ]
  },
  {
   "cell_type": "markdown",
   "metadata": {},
   "source": [
    "Next I'll make a dataframe with all the data with duplicate titles"
   ]
  },
  {
   "cell_type": "code",
   "execution_count": 21,
   "metadata": {
    "ExecuteTime": {
     "end_time": "2020-09-29T17:29:14.077114Z",
     "start_time": "2020-09-29T17:29:14.070200Z"
    }
   },
   "outputs": [],
   "source": [
    "duplicate_title_list = set(title_value_counts[title_value_counts > 1].keys())"
   ]
  },
  {
   "cell_type": "code",
   "execution_count": 22,
   "metadata": {
    "ExecuteTime": {
     "end_time": "2020-09-29T17:29:14.096199Z",
     "start_time": "2020-09-29T17:29:14.079381Z"
    }
   },
   "outputs": [],
   "source": [
    "df_dup_titles = df[df.title.isin(duplicate_title_list)]"
   ]
  },
  {
   "cell_type": "code",
   "execution_count": 23,
   "metadata": {
    "ExecuteTime": {
     "end_time": "2020-09-29T17:29:14.124414Z",
     "start_time": "2020-09-29T17:29:14.103648Z"
    }
   },
   "outputs": [
    {
     "data": {
      "text/html": [
       "<div>\n",
       "<style scoped>\n",
       "    .dataframe tbody tr th:only-of-type {\n",
       "        vertical-align: middle;\n",
       "    }\n",
       "\n",
       "    .dataframe tbody tr th {\n",
       "        vertical-align: top;\n",
       "    }\n",
       "\n",
       "    .dataframe thead th {\n",
       "        text-align: right;\n",
       "    }\n",
       "</style>\n",
       "<table border=\"1\" class=\"dataframe\">\n",
       "  <thead>\n",
       "    <tr style=\"text-align: right;\">\n",
       "      <th></th>\n",
       "      <th>title</th>\n",
       "      <th>text</th>\n",
       "      <th>subject</th>\n",
       "      <th>date</th>\n",
       "      <th>label</th>\n",
       "    </tr>\n",
       "  </thead>\n",
       "  <tbody>\n",
       "    <tr>\n",
       "      <th>1488</th>\n",
       "      <td>McConnell Says He’ll Obstruct ANY Effort To H...</td>\n",
       "      <td>Siding with Trump s Attorney General Jeff Sess...</td>\n",
       "      <td>News</td>\n",
       "      <td>May 12, 2017</td>\n",
       "      <td>fake</td>\n",
       "    </tr>\n",
       "    <tr>\n",
       "      <th>1535</th>\n",
       "      <td>McConnell Says He’ll Obstruct ANY Effort To H...</td>\n",
       "      <td>Siding with Trump s Attorney General Jeff Sess...</td>\n",
       "      <td>News</td>\n",
       "      <td>May 10, 2017</td>\n",
       "      <td>fake</td>\n",
       "    </tr>\n",
       "    <tr>\n",
       "      <th>9087</th>\n",
       "      <td>BARBRA STREISAND Gives Up On Dream Of Impeachi...</td>\n",
       "      <td>Barbra Streisand was an Obama sycophant and on...</td>\n",
       "      <td>politics</td>\n",
       "      <td>Dec 31, 2017</td>\n",
       "      <td>fake</td>\n",
       "    </tr>\n",
       "    <tr>\n",
       "      <th>9088</th>\n",
       "      <td>WATCH: SENATOR LINDSEY GRAHAM DROPS BOMBSHELL…...</td>\n",
       "      <td>Everyone suspected the sketchy Steele Dossier ...</td>\n",
       "      <td>politics</td>\n",
       "      <td>Dec 31, 2017</td>\n",
       "      <td>fake</td>\n",
       "    </tr>\n",
       "    <tr>\n",
       "      <th>9089</th>\n",
       "      <td>“CONSERVATIVE GAY GUY” BLASTS Pence’s Aspen Ne...</td>\n",
       "      <td>It s been said that good fences make good neig...</td>\n",
       "      <td>politics</td>\n",
       "      <td>Dec 30, 2017</td>\n",
       "      <td>fake</td>\n",
       "    </tr>\n",
       "    <tr>\n",
       "      <th>...</th>\n",
       "      <td>...</td>\n",
       "      <td>...</td>\n",
       "      <td>...</td>\n",
       "      <td>...</td>\n",
       "      <td>...</td>\n",
       "    </tr>\n",
       "    <tr>\n",
       "      <th>44884</th>\n",
       "      <td>U.S. puts more pressure on Pakistan to help wi...</td>\n",
       "      <td>WASHINGTON (Reuters) - The United States sugge...</td>\n",
       "      <td>worldnews</td>\n",
       "      <td>August 21, 2017</td>\n",
       "      <td>true</td>\n",
       "    </tr>\n",
       "    <tr>\n",
       "      <th>44886</th>\n",
       "      <td>Trump talks tough on Pakistan's 'terrorist' ha...</td>\n",
       "      <td>ISLAMABAD (Reuters) - Outlining a new strategy...</td>\n",
       "      <td>worldnews</td>\n",
       "      <td>August 22, 2017</td>\n",
       "      <td>true</td>\n",
       "    </tr>\n",
       "    <tr>\n",
       "      <th>44887</th>\n",
       "      <td>U.S., North Korea clash at U.N. forum over nuc...</td>\n",
       "      <td>GENEVA (Reuters) - North Korea and the United ...</td>\n",
       "      <td>worldnews</td>\n",
       "      <td>August 22, 2017</td>\n",
       "      <td>true</td>\n",
       "    </tr>\n",
       "    <tr>\n",
       "      <th>44889</th>\n",
       "      <td>U.S., North Korea clash at U.N. forum over nuc...</td>\n",
       "      <td>GENEVA (Reuters) - North Korea and the United ...</td>\n",
       "      <td>worldnews</td>\n",
       "      <td>August 22, 2017</td>\n",
       "      <td>true</td>\n",
       "    </tr>\n",
       "    <tr>\n",
       "      <th>44893</th>\n",
       "      <td>'Fully committed' NATO backs new U.S. approach...</td>\n",
       "      <td>BRUSSELS (Reuters) - NATO allies on Tuesday we...</td>\n",
       "      <td>worldnews</td>\n",
       "      <td>August 22, 2017</td>\n",
       "      <td>true</td>\n",
       "    </tr>\n",
       "  </tbody>\n",
       "</table>\n",
       "<p>11798 rows × 5 columns</p>\n",
       "</div>"
      ],
      "text/plain": [
       "                                                   title  \\\n",
       "1488    McConnell Says He’ll Obstruct ANY Effort To H...   \n",
       "1535    McConnell Says He’ll Obstruct ANY Effort To H...   \n",
       "9087   BARBRA STREISAND Gives Up On Dream Of Impeachi...   \n",
       "9088   WATCH: SENATOR LINDSEY GRAHAM DROPS BOMBSHELL…...   \n",
       "9089   “CONSERVATIVE GAY GUY” BLASTS Pence’s Aspen Ne...   \n",
       "...                                                  ...   \n",
       "44884  U.S. puts more pressure on Pakistan to help wi...   \n",
       "44886  Trump talks tough on Pakistan's 'terrorist' ha...   \n",
       "44887  U.S., North Korea clash at U.N. forum over nuc...   \n",
       "44889  U.S., North Korea clash at U.N. forum over nuc...   \n",
       "44893  'Fully committed' NATO backs new U.S. approach...   \n",
       "\n",
       "                                                    text    subject  \\\n",
       "1488   Siding with Trump s Attorney General Jeff Sess...       News   \n",
       "1535   Siding with Trump s Attorney General Jeff Sess...       News   \n",
       "9087   Barbra Streisand was an Obama sycophant and on...   politics   \n",
       "9088   Everyone suspected the sketchy Steele Dossier ...   politics   \n",
       "9089   It s been said that good fences make good neig...   politics   \n",
       "...                                                  ...        ...   \n",
       "44884  WASHINGTON (Reuters) - The United States sugge...  worldnews   \n",
       "44886  ISLAMABAD (Reuters) - Outlining a new strategy...  worldnews   \n",
       "44887  GENEVA (Reuters) - North Korea and the United ...  worldnews   \n",
       "44889  GENEVA (Reuters) - North Korea and the United ...  worldnews   \n",
       "44893  BRUSSELS (Reuters) - NATO allies on Tuesday we...  worldnews   \n",
       "\n",
       "                   date label  \n",
       "1488       May 12, 2017  fake  \n",
       "1535       May 10, 2017  fake  \n",
       "9087       Dec 31, 2017  fake  \n",
       "9088       Dec 31, 2017  fake  \n",
       "9089       Dec 30, 2017  fake  \n",
       "...                 ...   ...  \n",
       "44884  August 21, 2017   true  \n",
       "44886  August 22, 2017   true  \n",
       "44887  August 22, 2017   true  \n",
       "44889  August 22, 2017   true  \n",
       "44893  August 22, 2017   true  \n",
       "\n",
       "[11798 rows x 5 columns]"
      ]
     },
     "execution_count": 23,
     "metadata": {},
     "output_type": "execute_result"
    }
   ],
   "source": [
    "df_dup_titles"
   ]
  },
  {
   "cell_type": "markdown",
   "metadata": {},
   "source": [
    "Looking at the above subset of data, I can see that some rows may be complete duplicates (44887 and 44889) and others may be duplicates except for the date (1488 and 1535)."
   ]
  },
  {
   "cell_type": "markdown",
   "metadata": {},
   "source": [
    "Are there any duplicate rows?"
   ]
  },
  {
   "cell_type": "code",
   "execution_count": 24,
   "metadata": {
    "ExecuteTime": {
     "end_time": "2020-09-29T17:29:14.232408Z",
     "start_time": "2020-09-29T17:29:14.128709Z"
    }
   },
   "outputs": [
    {
     "data": {
      "text/html": [
       "<div>\n",
       "<style scoped>\n",
       "    .dataframe tbody tr th:only-of-type {\n",
       "        vertical-align: middle;\n",
       "    }\n",
       "\n",
       "    .dataframe tbody tr th {\n",
       "        vertical-align: top;\n",
       "    }\n",
       "\n",
       "    .dataframe thead th {\n",
       "        text-align: right;\n",
       "    }\n",
       "</style>\n",
       "<table border=\"1\" class=\"dataframe\">\n",
       "  <thead>\n",
       "    <tr style=\"text-align: right;\">\n",
       "      <th></th>\n",
       "      <th>title</th>\n",
       "      <th>text</th>\n",
       "      <th>subject</th>\n",
       "      <th>date</th>\n",
       "      <th>label</th>\n",
       "    </tr>\n",
       "  </thead>\n",
       "  <tbody>\n",
       "    <tr>\n",
       "      <th>9942</th>\n",
       "      <td>HILLARY TWEETS MESSAGE In Defense Of DACA…OOPS...</td>\n",
       "      <td>No time to waste   we've got to fight with eve...</td>\n",
       "      <td>politics</td>\n",
       "      <td>Sep 9, 2017</td>\n",
       "      <td>fake</td>\n",
       "    </tr>\n",
       "    <tr>\n",
       "      <th>11446</th>\n",
       "      <td>FORMER DEMOCRAT WARNS Young Americans: “Rioter...</td>\n",
       "      <td>Who is silencing political speech, physically...</td>\n",
       "      <td>politics</td>\n",
       "      <td>Mar 10, 2017</td>\n",
       "      <td>fake</td>\n",
       "    </tr>\n",
       "    <tr>\n",
       "      <th>14925</th>\n",
       "      <td>[VIDEO] #BlackLivesMatter Terrorists Storm Dar...</td>\n",
       "      <td>They were probably just looking for a  safe sp...</td>\n",
       "      <td>politics</td>\n",
       "      <td>Nov 16, 2015</td>\n",
       "      <td>fake</td>\n",
       "    </tr>\n",
       "    <tr>\n",
       "      <th>23926</th>\n",
       "      <td>Senate tax bill stalls on deficit-focused 'tri...</td>\n",
       "      <td>WASHINGTON (Reuters) - The U.S. Senate on Thur...</td>\n",
       "      <td>politicsNews</td>\n",
       "      <td>November 30, 2017</td>\n",
       "      <td>true</td>\n",
       "    </tr>\n",
       "    <tr>\n",
       "      <th>24259</th>\n",
       "      <td>Trump warns 'rogue regime' North Korea of grav...</td>\n",
       "      <td>BEIJING (Reuters) - U.S. President Donald Trum...</td>\n",
       "      <td>politicsNews</td>\n",
       "      <td>November 8, 2017</td>\n",
       "      <td>true</td>\n",
       "    </tr>\n",
       "    <tr>\n",
       "      <th>...</th>\n",
       "      <td>...</td>\n",
       "      <td>...</td>\n",
       "      <td>...</td>\n",
       "      <td>...</td>\n",
       "      <td>...</td>\n",
       "    </tr>\n",
       "    <tr>\n",
       "      <th>44709</th>\n",
       "      <td>France unveils labor reforms in first step to ...</td>\n",
       "      <td>PARIS (Reuters) - French President Emmanuel Ma...</td>\n",
       "      <td>worldnews</td>\n",
       "      <td>August 31, 2017</td>\n",
       "      <td>true</td>\n",
       "    </tr>\n",
       "    <tr>\n",
       "      <th>44744</th>\n",
       "      <td>Guatemala top court sides with U.N. graft unit...</td>\n",
       "      <td>GUATEMALA CITY (Reuters) - Guatemala s top cou...</td>\n",
       "      <td>worldnews</td>\n",
       "      <td>August 29, 2017</td>\n",
       "      <td>true</td>\n",
       "    </tr>\n",
       "    <tr>\n",
       "      <th>44771</th>\n",
       "      <td>Europeans, Africans agree renewed push to tack...</td>\n",
       "      <td>PARIS (Reuters) - Europe s  big four  continen...</td>\n",
       "      <td>worldnews</td>\n",
       "      <td>August 28, 2017</td>\n",
       "      <td>true</td>\n",
       "    </tr>\n",
       "    <tr>\n",
       "      <th>44834</th>\n",
       "      <td>Thailand's ousted PM Yingluck has fled abroad:...</td>\n",
       "      <td>BANGKOK (Reuters) - Ousted Thai prime minister...</td>\n",
       "      <td>worldnews</td>\n",
       "      <td>August 25, 2017</td>\n",
       "      <td>true</td>\n",
       "    </tr>\n",
       "    <tr>\n",
       "      <th>44889</th>\n",
       "      <td>U.S., North Korea clash at U.N. forum over nuc...</td>\n",
       "      <td>GENEVA (Reuters) - North Korea and the United ...</td>\n",
       "      <td>worldnews</td>\n",
       "      <td>August 22, 2017</td>\n",
       "      <td>true</td>\n",
       "    </tr>\n",
       "  </tbody>\n",
       "</table>\n",
       "<p>209 rows × 5 columns</p>\n",
       "</div>"
      ],
      "text/plain": [
       "                                                   title  \\\n",
       "9942   HILLARY TWEETS MESSAGE In Defense Of DACA…OOPS...   \n",
       "11446  FORMER DEMOCRAT WARNS Young Americans: “Rioter...   \n",
       "14925  [VIDEO] #BlackLivesMatter Terrorists Storm Dar...   \n",
       "23926  Senate tax bill stalls on deficit-focused 'tri...   \n",
       "24259  Trump warns 'rogue regime' North Korea of grav...   \n",
       "...                                                  ...   \n",
       "44709  France unveils labor reforms in first step to ...   \n",
       "44744  Guatemala top court sides with U.N. graft unit...   \n",
       "44771  Europeans, Africans agree renewed push to tack...   \n",
       "44834  Thailand's ousted PM Yingluck has fled abroad:...   \n",
       "44889  U.S., North Korea clash at U.N. forum over nuc...   \n",
       "\n",
       "                                                    text       subject  \\\n",
       "9942   No time to waste   we've got to fight with eve...      politics   \n",
       "11446   Who is silencing political speech, physically...      politics   \n",
       "14925  They were probably just looking for a  safe sp...      politics   \n",
       "23926  WASHINGTON (Reuters) - The U.S. Senate on Thur...  politicsNews   \n",
       "24259  BEIJING (Reuters) - U.S. President Donald Trum...  politicsNews   \n",
       "...                                                  ...           ...   \n",
       "44709  PARIS (Reuters) - French President Emmanuel Ma...     worldnews   \n",
       "44744  GUATEMALA CITY (Reuters) - Guatemala s top cou...     worldnews   \n",
       "44771  PARIS (Reuters) - Europe s  big four  continen...     worldnews   \n",
       "44834  BANGKOK (Reuters) - Ousted Thai prime minister...     worldnews   \n",
       "44889  GENEVA (Reuters) - North Korea and the United ...     worldnews   \n",
       "\n",
       "                     date label  \n",
       "9942          Sep 9, 2017  fake  \n",
       "11446        Mar 10, 2017  fake  \n",
       "14925        Nov 16, 2015  fake  \n",
       "23926  November 30, 2017   true  \n",
       "24259   November 8, 2017   true  \n",
       "...                   ...   ...  \n",
       "44709    August 31, 2017   true  \n",
       "44744    August 29, 2017   true  \n",
       "44771    August 28, 2017   true  \n",
       "44834    August 25, 2017   true  \n",
       "44889    August 22, 2017   true  \n",
       "\n",
       "[209 rows x 5 columns]"
      ]
     },
     "execution_count": 24,
     "metadata": {},
     "output_type": "execute_result"
    }
   ],
   "source": [
    "df_dup_titles[df_dup_titles.duplicated()]"
   ]
  },
  {
   "cell_type": "markdown",
   "metadata": {},
   "source": [
    "There are 209 duplicate rows that will need to be deleted.\n",
    "\n",
    "I want to also check for other duplicate situations."
   ]
  },
  {
   "cell_type": "markdown",
   "metadata": {},
   "source": [
    "Check for rows with duplicate text"
   ]
  },
  {
   "cell_type": "code",
   "execution_count": 25,
   "metadata": {
    "ExecuteTime": {
     "end_time": "2020-09-29T17:29:14.324306Z",
     "start_time": "2020-09-29T17:29:14.234578Z"
    }
   },
   "outputs": [
    {
     "data": {
      "text/html": [
       "<div>\n",
       "<style scoped>\n",
       "    .dataframe tbody tr th:only-of-type {\n",
       "        vertical-align: middle;\n",
       "    }\n",
       "\n",
       "    .dataframe tbody tr th {\n",
       "        vertical-align: top;\n",
       "    }\n",
       "\n",
       "    .dataframe thead th {\n",
       "        text-align: right;\n",
       "    }\n",
       "</style>\n",
       "<table border=\"1\" class=\"dataframe\">\n",
       "  <thead>\n",
       "    <tr style=\"text-align: right;\">\n",
       "      <th></th>\n",
       "      <th>title</th>\n",
       "      <th>text</th>\n",
       "      <th>subject</th>\n",
       "      <th>date</th>\n",
       "      <th>label</th>\n",
       "    </tr>\n",
       "  </thead>\n",
       "  <tbody>\n",
       "    <tr>\n",
       "      <th>9114</th>\n",
       "      <td>WHY THIS BLUE-COLLAR DEMOCRAT STRONGHOLD Count...</td>\n",
       "      <td>AP News  The regulars amble in before dawn and...</td>\n",
       "      <td>politics</td>\n",
       "      <td>Dec 27, 2017</td>\n",
       "      <td>fake</td>\n",
       "    </tr>\n",
       "    <tr>\n",
       "      <th>9738</th>\n",
       "      <td>LEFTIST STORE OWNER Makes Video Asking Libs To...</td>\n",
       "      <td>Things didn t go as well as Nicholle had hoped...</td>\n",
       "      <td>politics</td>\n",
       "      <td>Oct 6, 2017</td>\n",
       "      <td>fake</td>\n",
       "    </tr>\n",
       "    <tr>\n",
       "      <th>9942</th>\n",
       "      <td>HILLARY TWEETS MESSAGE In Defense Of DACA…OOPS...</td>\n",
       "      <td>No time to waste   we've got to fight with eve...</td>\n",
       "      <td>politics</td>\n",
       "      <td>Sep 9, 2017</td>\n",
       "      <td>fake</td>\n",
       "    </tr>\n",
       "    <tr>\n",
       "      <th>11041</th>\n",
       "      <td>Joe Scarborough BERATES Mika Brzezinski Over “...</td>\n",
       "      <td></td>\n",
       "      <td>politics</td>\n",
       "      <td>Apr 26, 2017</td>\n",
       "      <td>fake</td>\n",
       "    </tr>\n",
       "    <tr>\n",
       "      <th>11190</th>\n",
       "      <td>WATCH TUCKER CARLSON Scorch Sanctuary City May...</td>\n",
       "      <td></td>\n",
       "      <td>politics</td>\n",
       "      <td>Apr 6, 2017</td>\n",
       "      <td>fake</td>\n",
       "    </tr>\n",
       "    <tr>\n",
       "      <th>...</th>\n",
       "      <td>...</td>\n",
       "      <td>...</td>\n",
       "      <td>...</td>\n",
       "      <td>...</td>\n",
       "      <td>...</td>\n",
       "    </tr>\n",
       "    <tr>\n",
       "      <th>44709</th>\n",
       "      <td>France unveils labor reforms in first step to ...</td>\n",
       "      <td>PARIS (Reuters) - French President Emmanuel Ma...</td>\n",
       "      <td>worldnews</td>\n",
       "      <td>August 31, 2017</td>\n",
       "      <td>true</td>\n",
       "    </tr>\n",
       "    <tr>\n",
       "      <th>44744</th>\n",
       "      <td>Guatemala top court sides with U.N. graft unit...</td>\n",
       "      <td>GUATEMALA CITY (Reuters) - Guatemala s top cou...</td>\n",
       "      <td>worldnews</td>\n",
       "      <td>August 29, 2017</td>\n",
       "      <td>true</td>\n",
       "    </tr>\n",
       "    <tr>\n",
       "      <th>44771</th>\n",
       "      <td>Europeans, Africans agree renewed push to tack...</td>\n",
       "      <td>PARIS (Reuters) - Europe s  big four  continen...</td>\n",
       "      <td>worldnews</td>\n",
       "      <td>August 28, 2017</td>\n",
       "      <td>true</td>\n",
       "    </tr>\n",
       "    <tr>\n",
       "      <th>44834</th>\n",
       "      <td>Thailand's ousted PM Yingluck has fled abroad:...</td>\n",
       "      <td>BANGKOK (Reuters) - Ousted Thai prime minister...</td>\n",
       "      <td>worldnews</td>\n",
       "      <td>August 25, 2017</td>\n",
       "      <td>true</td>\n",
       "    </tr>\n",
       "    <tr>\n",
       "      <th>44889</th>\n",
       "      <td>U.S., North Korea clash at U.N. forum over nuc...</td>\n",
       "      <td>GENEVA (Reuters) - North Korea and the United ...</td>\n",
       "      <td>worldnews</td>\n",
       "      <td>August 22, 2017</td>\n",
       "      <td>true</td>\n",
       "    </tr>\n",
       "  </tbody>\n",
       "</table>\n",
       "<p>5964 rows × 5 columns</p>\n",
       "</div>"
      ],
      "text/plain": [
       "                                                   title  \\\n",
       "9114   WHY THIS BLUE-COLLAR DEMOCRAT STRONGHOLD Count...   \n",
       "9738   LEFTIST STORE OWNER Makes Video Asking Libs To...   \n",
       "9942   HILLARY TWEETS MESSAGE In Defense Of DACA…OOPS...   \n",
       "11041  Joe Scarborough BERATES Mika Brzezinski Over “...   \n",
       "11190  WATCH TUCKER CARLSON Scorch Sanctuary City May...   \n",
       "...                                                  ...   \n",
       "44709  France unveils labor reforms in first step to ...   \n",
       "44744  Guatemala top court sides with U.N. graft unit...   \n",
       "44771  Europeans, Africans agree renewed push to tack...   \n",
       "44834  Thailand's ousted PM Yingluck has fled abroad:...   \n",
       "44889  U.S., North Korea clash at U.N. forum over nuc...   \n",
       "\n",
       "                                                    text    subject  \\\n",
       "9114   AP News  The regulars amble in before dawn and...   politics   \n",
       "9738   Things didn t go as well as Nicholle had hoped...   politics   \n",
       "9942   No time to waste   we've got to fight with eve...   politics   \n",
       "11041                                                      politics   \n",
       "11190                                                      politics   \n",
       "...                                                  ...        ...   \n",
       "44709  PARIS (Reuters) - French President Emmanuel Ma...  worldnews   \n",
       "44744  GUATEMALA CITY (Reuters) - Guatemala s top cou...  worldnews   \n",
       "44771  PARIS (Reuters) - Europe s  big four  continen...  worldnews   \n",
       "44834  BANGKOK (Reuters) - Ousted Thai prime minister...  worldnews   \n",
       "44889  GENEVA (Reuters) - North Korea and the United ...  worldnews   \n",
       "\n",
       "                   date label  \n",
       "9114       Dec 27, 2017  fake  \n",
       "9738        Oct 6, 2017  fake  \n",
       "9942        Sep 9, 2017  fake  \n",
       "11041      Apr 26, 2017  fake  \n",
       "11190       Apr 6, 2017  fake  \n",
       "...                 ...   ...  \n",
       "44709  August 31, 2017   true  \n",
       "44744  August 29, 2017   true  \n",
       "44771  August 28, 2017   true  \n",
       "44834  August 25, 2017   true  \n",
       "44889  August 22, 2017   true  \n",
       "\n",
       "[5964 rows x 5 columns]"
      ]
     },
     "execution_count": 25,
     "metadata": {},
     "output_type": "execute_result"
    }
   ],
   "source": [
    "df_dup_titles[df_dup_titles.duplicated(['text'])]"
   ]
  },
  {
   "cell_type": "markdown",
   "metadata": {},
   "source": [
    "There are 5964 rows that have duplicate text.\n",
    "\n",
    "I see some rows do not have any text, and that will have to be investigated later. "
   ]
  },
  {
   "cell_type": "markdown",
   "metadata": {},
   "source": [
    "Check for rows that have duplicate title and text"
   ]
  },
  {
   "cell_type": "code",
   "execution_count": 26,
   "metadata": {
    "ExecuteTime": {
     "end_time": "2020-09-29T17:29:14.421918Z",
     "start_time": "2020-09-29T17:29:14.326518Z"
    }
   },
   "outputs": [
    {
     "data": {
      "text/html": [
       "<div>\n",
       "<style scoped>\n",
       "    .dataframe tbody tr th:only-of-type {\n",
       "        vertical-align: middle;\n",
       "    }\n",
       "\n",
       "    .dataframe tbody tr th {\n",
       "        vertical-align: top;\n",
       "    }\n",
       "\n",
       "    .dataframe thead th {\n",
       "        text-align: right;\n",
       "    }\n",
       "</style>\n",
       "<table border=\"1\" class=\"dataframe\">\n",
       "  <thead>\n",
       "    <tr style=\"text-align: right;\">\n",
       "      <th></th>\n",
       "      <th>title</th>\n",
       "      <th>text</th>\n",
       "      <th>subject</th>\n",
       "      <th>date</th>\n",
       "      <th>label</th>\n",
       "    </tr>\n",
       "  </thead>\n",
       "  <tbody>\n",
       "    <tr>\n",
       "      <th>9942</th>\n",
       "      <td>HILLARY TWEETS MESSAGE In Defense Of DACA…OOPS...</td>\n",
       "      <td>No time to waste   we've got to fight with eve...</td>\n",
       "      <td>politics</td>\n",
       "      <td>Sep 9, 2017</td>\n",
       "      <td>fake</td>\n",
       "    </tr>\n",
       "    <tr>\n",
       "      <th>11446</th>\n",
       "      <td>FORMER DEMOCRAT WARNS Young Americans: “Rioter...</td>\n",
       "      <td>Who is silencing political speech, physically...</td>\n",
       "      <td>politics</td>\n",
       "      <td>Mar 10, 2017</td>\n",
       "      <td>fake</td>\n",
       "    </tr>\n",
       "    <tr>\n",
       "      <th>14925</th>\n",
       "      <td>[VIDEO] #BlackLivesMatter Terrorists Storm Dar...</td>\n",
       "      <td>They were probably just looking for a  safe sp...</td>\n",
       "      <td>politics</td>\n",
       "      <td>Nov 16, 2015</td>\n",
       "      <td>fake</td>\n",
       "    </tr>\n",
       "    <tr>\n",
       "      <th>15892</th>\n",
       "      <td>HOUSE INTEL Slaps Subpoenas on McCain Institut...</td>\n",
       "      <td>Please see our previous report below on the Mc...</td>\n",
       "      <td>Government News</td>\n",
       "      <td>Dec 27, 2017</td>\n",
       "      <td>fake</td>\n",
       "    </tr>\n",
       "    <tr>\n",
       "      <th>15893</th>\n",
       "      <td>PRICELESS! WATCH MSNBC HOST’S Shocked Response...</td>\n",
       "      <td>THIS IS PRICELESS! The video below shows just ...</td>\n",
       "      <td>Government News</td>\n",
       "      <td>Dec 26, 2017</td>\n",
       "      <td>fake</td>\n",
       "    </tr>\n",
       "    <tr>\n",
       "      <th>...</th>\n",
       "      <td>...</td>\n",
       "      <td>...</td>\n",
       "      <td>...</td>\n",
       "      <td>...</td>\n",
       "      <td>...</td>\n",
       "    </tr>\n",
       "    <tr>\n",
       "      <th>44709</th>\n",
       "      <td>France unveils labor reforms in first step to ...</td>\n",
       "      <td>PARIS (Reuters) - French President Emmanuel Ma...</td>\n",
       "      <td>worldnews</td>\n",
       "      <td>August 31, 2017</td>\n",
       "      <td>true</td>\n",
       "    </tr>\n",
       "    <tr>\n",
       "      <th>44744</th>\n",
       "      <td>Guatemala top court sides with U.N. graft unit...</td>\n",
       "      <td>GUATEMALA CITY (Reuters) - Guatemala s top cou...</td>\n",
       "      <td>worldnews</td>\n",
       "      <td>August 29, 2017</td>\n",
       "      <td>true</td>\n",
       "    </tr>\n",
       "    <tr>\n",
       "      <th>44771</th>\n",
       "      <td>Europeans, Africans agree renewed push to tack...</td>\n",
       "      <td>PARIS (Reuters) - Europe s  big four  continen...</td>\n",
       "      <td>worldnews</td>\n",
       "      <td>August 28, 2017</td>\n",
       "      <td>true</td>\n",
       "    </tr>\n",
       "    <tr>\n",
       "      <th>44834</th>\n",
       "      <td>Thailand's ousted PM Yingluck has fled abroad:...</td>\n",
       "      <td>BANGKOK (Reuters) - Ousted Thai prime minister...</td>\n",
       "      <td>worldnews</td>\n",
       "      <td>August 25, 2017</td>\n",
       "      <td>true</td>\n",
       "    </tr>\n",
       "    <tr>\n",
       "      <th>44889</th>\n",
       "      <td>U.S., North Korea clash at U.N. forum over nuc...</td>\n",
       "      <td>GENEVA (Reuters) - North Korea and the United ...</td>\n",
       "      <td>worldnews</td>\n",
       "      <td>August 22, 2017</td>\n",
       "      <td>true</td>\n",
       "    </tr>\n",
       "  </tbody>\n",
       "</table>\n",
       "<p>5793 rows × 5 columns</p>\n",
       "</div>"
      ],
      "text/plain": [
       "                                                   title  \\\n",
       "9942   HILLARY TWEETS MESSAGE In Defense Of DACA…OOPS...   \n",
       "11446  FORMER DEMOCRAT WARNS Young Americans: “Rioter...   \n",
       "14925  [VIDEO] #BlackLivesMatter Terrorists Storm Dar...   \n",
       "15892  HOUSE INTEL Slaps Subpoenas on McCain Institut...   \n",
       "15893  PRICELESS! WATCH MSNBC HOST’S Shocked Response...   \n",
       "...                                                  ...   \n",
       "44709  France unveils labor reforms in first step to ...   \n",
       "44744  Guatemala top court sides with U.N. graft unit...   \n",
       "44771  Europeans, Africans agree renewed push to tack...   \n",
       "44834  Thailand's ousted PM Yingluck has fled abroad:...   \n",
       "44889  U.S., North Korea clash at U.N. forum over nuc...   \n",
       "\n",
       "                                                    text          subject  \\\n",
       "9942   No time to waste   we've got to fight with eve...         politics   \n",
       "11446   Who is silencing political speech, physically...         politics   \n",
       "14925  They were probably just looking for a  safe sp...         politics   \n",
       "15892  Please see our previous report below on the Mc...  Government News   \n",
       "15893  THIS IS PRICELESS! The video below shows just ...  Government News   \n",
       "...                                                  ...              ...   \n",
       "44709  PARIS (Reuters) - French President Emmanuel Ma...        worldnews   \n",
       "44744  GUATEMALA CITY (Reuters) - Guatemala s top cou...        worldnews   \n",
       "44771  PARIS (Reuters) - Europe s  big four  continen...        worldnews   \n",
       "44834  BANGKOK (Reuters) - Ousted Thai prime minister...        worldnews   \n",
       "44889  GENEVA (Reuters) - North Korea and the United ...        worldnews   \n",
       "\n",
       "                   date label  \n",
       "9942        Sep 9, 2017  fake  \n",
       "11446      Mar 10, 2017  fake  \n",
       "14925      Nov 16, 2015  fake  \n",
       "15892      Dec 27, 2017  fake  \n",
       "15893      Dec 26, 2017  fake  \n",
       "...                 ...   ...  \n",
       "44709  August 31, 2017   true  \n",
       "44744  August 29, 2017   true  \n",
       "44771  August 28, 2017   true  \n",
       "44834  August 25, 2017   true  \n",
       "44889  August 22, 2017   true  \n",
       "\n",
       "[5793 rows x 5 columns]"
      ]
     },
     "execution_count": 26,
     "metadata": {},
     "output_type": "execute_result"
    }
   ],
   "source": [
    "df_dup_titles[df_dup_titles.duplicated(['title', 'text'])]"
   ]
  },
  {
   "cell_type": "markdown",
   "metadata": {},
   "source": [
    "Only 5793 rows with duplicate title and text."
   ]
  },
  {
   "cell_type": "markdown",
   "metadata": {},
   "source": [
    "Of the 171 rows that have duplicate text but not title, how many have empty text values"
   ]
  },
  {
   "cell_type": "code",
   "execution_count": 27,
   "metadata": {
    "ExecuteTime": {
     "end_time": "2020-09-29T17:29:14.445023Z",
     "start_time": "2020-09-29T17:29:14.424113Z"
    }
   },
   "outputs": [
    {
     "data": {
      "text/html": [
       "<div>\n",
       "<style scoped>\n",
       "    .dataframe tbody tr th:only-of-type {\n",
       "        vertical-align: middle;\n",
       "    }\n",
       "\n",
       "    .dataframe tbody tr th {\n",
       "        vertical-align: top;\n",
       "    }\n",
       "\n",
       "    .dataframe thead th {\n",
       "        text-align: right;\n",
       "    }\n",
       "</style>\n",
       "<table border=\"1\" class=\"dataframe\">\n",
       "  <thead>\n",
       "    <tr style=\"text-align: right;\">\n",
       "      <th></th>\n",
       "      <th>title</th>\n",
       "      <th>text</th>\n",
       "      <th>subject</th>\n",
       "      <th>date</th>\n",
       "      <th>label</th>\n",
       "    </tr>\n",
       "  </thead>\n",
       "  <tbody>\n",
       "    <tr>\n",
       "      <th>10923</th>\n",
       "      <td>TAKE OUR POLL: Who Do You Think President Trum...</td>\n",
       "      <td></td>\n",
       "      <td>politics</td>\n",
       "      <td>May 10, 2017</td>\n",
       "      <td>fake</td>\n",
       "    </tr>\n",
       "    <tr>\n",
       "      <th>11041</th>\n",
       "      <td>Joe Scarborough BERATES Mika Brzezinski Over “...</td>\n",
       "      <td></td>\n",
       "      <td>politics</td>\n",
       "      <td>Apr 26, 2017</td>\n",
       "      <td>fake</td>\n",
       "    </tr>\n",
       "    <tr>\n",
       "      <th>11190</th>\n",
       "      <td>WATCH TUCKER CARLSON Scorch Sanctuary City May...</td>\n",
       "      <td></td>\n",
       "      <td>politics</td>\n",
       "      <td>Apr 6, 2017</td>\n",
       "      <td>fake</td>\n",
       "    </tr>\n",
       "    <tr>\n",
       "      <th>11236</th>\n",
       "      <td>SHOCKER: Public School Turns Computer Lab Into...</td>\n",
       "      <td></td>\n",
       "      <td>politics</td>\n",
       "      <td>Apr 1, 2017</td>\n",
       "      <td>fake</td>\n",
       "    </tr>\n",
       "    <tr>\n",
       "      <th>11247</th>\n",
       "      <td>MICHAEL FLYNN’S LAWYER Releases Statement Scor...</td>\n",
       "      <td></td>\n",
       "      <td>politics</td>\n",
       "      <td>Mar 30, 2017</td>\n",
       "      <td>fake</td>\n",
       "    </tr>\n",
       "    <tr>\n",
       "      <th>...</th>\n",
       "      <td>...</td>\n",
       "      <td>...</td>\n",
       "      <td>...</td>\n",
       "      <td>...</td>\n",
       "      <td>...</td>\n",
       "    </tr>\n",
       "    <tr>\n",
       "      <th>21816</th>\n",
       "      <td>BALTIMORE BURNS: MARYLAND GOVERNOR BRINGS IN N...</td>\n",
       "      <td></td>\n",
       "      <td>left-news</td>\n",
       "      <td>Apr 27, 2015</td>\n",
       "      <td>fake</td>\n",
       "    </tr>\n",
       "    <tr>\n",
       "      <th>21826</th>\n",
       "      <td>FULL VIDEO: THE BLOCKBUSTER INVESTIGATION INTO...</td>\n",
       "      <td></td>\n",
       "      <td>left-news</td>\n",
       "      <td>Apr 25, 2015</td>\n",
       "      <td>fake</td>\n",
       "    </tr>\n",
       "    <tr>\n",
       "      <th>21827</th>\n",
       "      <td>(VIDEO) HILLARY CLINTON: RELIGIOUS BELIEFS MUS...</td>\n",
       "      <td></td>\n",
       "      <td>left-news</td>\n",
       "      <td>Apr 25, 2015</td>\n",
       "      <td>fake</td>\n",
       "    </tr>\n",
       "    <tr>\n",
       "      <th>21857</th>\n",
       "      <td>(VIDEO)ICE PROTECTING OBAMA: WON’T RELEASE NAM...</td>\n",
       "      <td></td>\n",
       "      <td>left-news</td>\n",
       "      <td>Apr 14, 2015</td>\n",
       "      <td>fake</td>\n",
       "    </tr>\n",
       "    <tr>\n",
       "      <th>21873</th>\n",
       "      <td>(VIDEO) HYSTERICAL SNL TAKE ON HILLARY’S ANNOU...</td>\n",
       "      <td></td>\n",
       "      <td>left-news</td>\n",
       "      <td>Apr 12, 2015</td>\n",
       "      <td>fake</td>\n",
       "    </tr>\n",
       "  </tbody>\n",
       "</table>\n",
       "<p>349 rows × 5 columns</p>\n",
       "</div>"
      ],
      "text/plain": [
       "                                                   title text    subject  \\\n",
       "10923  TAKE OUR POLL: Who Do You Think President Trum...        politics   \n",
       "11041  Joe Scarborough BERATES Mika Brzezinski Over “...        politics   \n",
       "11190  WATCH TUCKER CARLSON Scorch Sanctuary City May...        politics   \n",
       "11236  SHOCKER: Public School Turns Computer Lab Into...        politics   \n",
       "11247  MICHAEL FLYNN’S LAWYER Releases Statement Scor...        politics   \n",
       "...                                                  ...  ...        ...   \n",
       "21816  BALTIMORE BURNS: MARYLAND GOVERNOR BRINGS IN N...       left-news   \n",
       "21826  FULL VIDEO: THE BLOCKBUSTER INVESTIGATION INTO...       left-news   \n",
       "21827  (VIDEO) HILLARY CLINTON: RELIGIOUS BELIEFS MUS...       left-news   \n",
       "21857  (VIDEO)ICE PROTECTING OBAMA: WON’T RELEASE NAM...       left-news   \n",
       "21873  (VIDEO) HYSTERICAL SNL TAKE ON HILLARY’S ANNOU...       left-news   \n",
       "\n",
       "               date label  \n",
       "10923  May 10, 2017  fake  \n",
       "11041  Apr 26, 2017  fake  \n",
       "11190   Apr 6, 2017  fake  \n",
       "11236   Apr 1, 2017  fake  \n",
       "11247  Mar 30, 2017  fake  \n",
       "...             ...   ...  \n",
       "21816  Apr 27, 2015  fake  \n",
       "21826  Apr 25, 2015  fake  \n",
       "21827  Apr 25, 2015  fake  \n",
       "21857  Apr 14, 2015  fake  \n",
       "21873  Apr 12, 2015  fake  \n",
       "\n",
       "[349 rows x 5 columns]"
      ]
     },
     "execution_count": 27,
     "metadata": {},
     "output_type": "execute_result"
    }
   ],
   "source": [
    "df_dup_titles[df_dup_titles.text == ' ']"
   ]
  },
  {
   "cell_type": "markdown",
   "metadata": {},
   "source": [
    "There are more rows with a text value of ' ' than 171, so this issue will need to be dealt with separately."
   ]
  },
  {
   "cell_type": "markdown",
   "metadata": {},
   "source": [
    "*Summary for title column* There are close to 11,800 rows that have titles used multiple times.  The use of a duplicate title seems to be a common practice and some articles seem to be revisions.  A duplicate title will be considered ok, but the duplicate rows and rows with duplicate text for the story will need removed.  Rows without text will also need to be removed."
   ]
  },
  {
   "cell_type": "markdown",
   "metadata": {},
   "source": [
    "### text column"
   ]
  },
  {
   "cell_type": "markdown",
   "metadata": {},
   "source": [
    "Check for a text value with one space"
   ]
  },
  {
   "cell_type": "code",
   "execution_count": 28,
   "metadata": {
    "ExecuteTime": {
     "end_time": "2020-09-29T17:29:14.474270Z",
     "start_time": "2020-09-29T17:29:14.447136Z"
    }
   },
   "outputs": [
    {
     "data": {
      "text/html": [
       "<div>\n",
       "<style scoped>\n",
       "    .dataframe tbody tr th:only-of-type {\n",
       "        vertical-align: middle;\n",
       "    }\n",
       "\n",
       "    .dataframe tbody tr th {\n",
       "        vertical-align: top;\n",
       "    }\n",
       "\n",
       "    .dataframe thead th {\n",
       "        text-align: right;\n",
       "    }\n",
       "</style>\n",
       "<table border=\"1\" class=\"dataframe\">\n",
       "  <thead>\n",
       "    <tr style=\"text-align: right;\">\n",
       "      <th></th>\n",
       "      <th>title</th>\n",
       "      <th>text</th>\n",
       "      <th>subject</th>\n",
       "      <th>date</th>\n",
       "      <th>label</th>\n",
       "    </tr>\n",
       "  </thead>\n",
       "  <tbody>\n",
       "    <tr>\n",
       "      <th>10923</th>\n",
       "      <td>TAKE OUR POLL: Who Do You Think President Trum...</td>\n",
       "      <td></td>\n",
       "      <td>politics</td>\n",
       "      <td>May 10, 2017</td>\n",
       "      <td>fake</td>\n",
       "    </tr>\n",
       "    <tr>\n",
       "      <th>11041</th>\n",
       "      <td>Joe Scarborough BERATES Mika Brzezinski Over “...</td>\n",
       "      <td></td>\n",
       "      <td>politics</td>\n",
       "      <td>Apr 26, 2017</td>\n",
       "      <td>fake</td>\n",
       "    </tr>\n",
       "    <tr>\n",
       "      <th>11190</th>\n",
       "      <td>WATCH TUCKER CARLSON Scorch Sanctuary City May...</td>\n",
       "      <td></td>\n",
       "      <td>politics</td>\n",
       "      <td>Apr 6, 2017</td>\n",
       "      <td>fake</td>\n",
       "    </tr>\n",
       "    <tr>\n",
       "      <th>11225</th>\n",
       "      <td>MAYOR OF SANCTUARY CITY: Trump Trying To Make ...</td>\n",
       "      <td></td>\n",
       "      <td>politics</td>\n",
       "      <td>Apr 2, 2017</td>\n",
       "      <td>fake</td>\n",
       "    </tr>\n",
       "    <tr>\n",
       "      <th>11236</th>\n",
       "      <td>SHOCKER: Public School Turns Computer Lab Into...</td>\n",
       "      <td></td>\n",
       "      <td>politics</td>\n",
       "      <td>Apr 1, 2017</td>\n",
       "      <td>fake</td>\n",
       "    </tr>\n",
       "    <tr>\n",
       "      <th>...</th>\n",
       "      <td>...</td>\n",
       "      <td>...</td>\n",
       "      <td>...</td>\n",
       "      <td>...</td>\n",
       "      <td>...</td>\n",
       "    </tr>\n",
       "    <tr>\n",
       "      <th>21826</th>\n",
       "      <td>FULL VIDEO: THE BLOCKBUSTER INVESTIGATION INTO...</td>\n",
       "      <td></td>\n",
       "      <td>left-news</td>\n",
       "      <td>Apr 25, 2015</td>\n",
       "      <td>fake</td>\n",
       "    </tr>\n",
       "    <tr>\n",
       "      <th>21827</th>\n",
       "      <td>(VIDEO) HILLARY CLINTON: RELIGIOUS BELIEFS MUS...</td>\n",
       "      <td></td>\n",
       "      <td>left-news</td>\n",
       "      <td>Apr 25, 2015</td>\n",
       "      <td>fake</td>\n",
       "    </tr>\n",
       "    <tr>\n",
       "      <th>21857</th>\n",
       "      <td>(VIDEO)ICE PROTECTING OBAMA: WON’T RELEASE NAM...</td>\n",
       "      <td></td>\n",
       "      <td>left-news</td>\n",
       "      <td>Apr 14, 2015</td>\n",
       "      <td>fake</td>\n",
       "    </tr>\n",
       "    <tr>\n",
       "      <th>21873</th>\n",
       "      <td>(VIDEO) HYSTERICAL SNL TAKE ON HILLARY’S ANNOU...</td>\n",
       "      <td></td>\n",
       "      <td>left-news</td>\n",
       "      <td>Apr 12, 2015</td>\n",
       "      <td>fake</td>\n",
       "    </tr>\n",
       "    <tr>\n",
       "      <th>32451</th>\n",
       "      <td>Graphic: Supreme Court roundup</td>\n",
       "      <td></td>\n",
       "      <td>politicsNews</td>\n",
       "      <td>June 16, 2016</td>\n",
       "      <td>true</td>\n",
       "    </tr>\n",
       "  </tbody>\n",
       "</table>\n",
       "<p>627 rows × 5 columns</p>\n",
       "</div>"
      ],
      "text/plain": [
       "                                                   title text       subject  \\\n",
       "10923  TAKE OUR POLL: Who Do You Think President Trum...           politics   \n",
       "11041  Joe Scarborough BERATES Mika Brzezinski Over “...           politics   \n",
       "11190  WATCH TUCKER CARLSON Scorch Sanctuary City May...           politics   \n",
       "11225  MAYOR OF SANCTUARY CITY: Trump Trying To Make ...           politics   \n",
       "11236  SHOCKER: Public School Turns Computer Lab Into...           politics   \n",
       "...                                                  ...  ...           ...   \n",
       "21826  FULL VIDEO: THE BLOCKBUSTER INVESTIGATION INTO...          left-news   \n",
       "21827  (VIDEO) HILLARY CLINTON: RELIGIOUS BELIEFS MUS...          left-news   \n",
       "21857  (VIDEO)ICE PROTECTING OBAMA: WON’T RELEASE NAM...          left-news   \n",
       "21873  (VIDEO) HYSTERICAL SNL TAKE ON HILLARY’S ANNOU...          left-news   \n",
       "32451                     Graphic: Supreme Court roundup       politicsNews   \n",
       "\n",
       "                 date label  \n",
       "10923    May 10, 2017  fake  \n",
       "11041    Apr 26, 2017  fake  \n",
       "11190     Apr 6, 2017  fake  \n",
       "11225     Apr 2, 2017  fake  \n",
       "11236     Apr 1, 2017  fake  \n",
       "...               ...   ...  \n",
       "21826    Apr 25, 2015  fake  \n",
       "21827    Apr 25, 2015  fake  \n",
       "21857    Apr 14, 2015  fake  \n",
       "21873    Apr 12, 2015  fake  \n",
       "32451  June 16, 2016   true  \n",
       "\n",
       "[627 rows x 5 columns]"
      ]
     },
     "execution_count": 28,
     "metadata": {},
     "output_type": "execute_result"
    }
   ],
   "source": [
    "df[df.text == ' ']"
   ]
  },
  {
   "cell_type": "markdown",
   "metadata": {},
   "source": [
    "There could be an arbritray amount of whitespace so I will replace all text values that are only whitespace with Nan"
   ]
  },
  {
   "cell_type": "code",
   "execution_count": 29,
   "metadata": {
    "ExecuteTime": {
     "end_time": "2020-09-29T17:29:16.334540Z",
     "start_time": "2020-09-29T17:29:14.476435Z"
    }
   },
   "outputs": [],
   "source": [
    "df = df.replace(r'^\\s*$', np.nan, regex=True)"
   ]
  },
  {
   "cell_type": "code",
   "execution_count": 30,
   "metadata": {
    "ExecuteTime": {
     "end_time": "2020-09-29T17:29:16.381658Z",
     "start_time": "2020-09-29T17:29:16.336626Z"
    }
   },
   "outputs": [
    {
     "data": {
      "text/plain": [
       "title        0\n",
       "text       631\n",
       "subject      0\n",
       "date         0\n",
       "label        0\n",
       "dtype: int64"
      ]
     },
     "execution_count": 30,
     "metadata": {},
     "output_type": "execute_result"
    }
   ],
   "source": [
    "df.isna().sum()"
   ]
  },
  {
   "cell_type": "markdown",
   "metadata": {},
   "source": [
    "*Summary for the text column* 631 rows with no text is small compared to the size of the dataset, so they should be dropped."
   ]
  },
  {
   "cell_type": "markdown",
   "metadata": {},
   "source": [
    "### Remove Duplicate Data"
   ]
  },
  {
   "cell_type": "code",
   "execution_count": 41,
   "metadata": {
    "ExecuteTime": {
     "end_time": "2020-09-29T17:44:10.093605Z",
     "start_time": "2020-09-29T17:44:10.088621Z"
    }
   },
   "outputs": [
    {
     "data": {
      "text/plain": [
       "44898"
      ]
     },
     "execution_count": 41,
     "metadata": {},
     "output_type": "execute_result"
    }
   ],
   "source": [
    "len(df)"
   ]
  },
  {
   "cell_type": "markdown",
   "metadata": {},
   "source": [
    "Drop Duplicate Rows (keeping the first instance)"
   ]
  },
  {
   "cell_type": "code",
   "execution_count": 31,
   "metadata": {
    "ExecuteTime": {
     "end_time": "2020-09-29T17:29:16.527437Z",
     "start_time": "2020-09-29T17:29:16.383769Z"
    }
   },
   "outputs": [],
   "source": [
    "df_clean = df.drop_duplicates(ignore_index=True)"
   ]
  },
  {
   "cell_type": "code",
   "execution_count": 32,
   "metadata": {
    "ExecuteTime": {
     "end_time": "2020-09-29T17:29:16.534547Z",
     "start_time": "2020-09-29T17:29:16.529541Z"
    }
   },
   "outputs": [
    {
     "data": {
      "text/plain": [
       "44689"
      ]
     },
     "execution_count": 32,
     "metadata": {},
     "output_type": "execute_result"
    }
   ],
   "source": [
    "len(df_clean)"
   ]
  },
  {
   "cell_type": "markdown",
   "metadata": {},
   "source": [
    "Drop Rows with No Text (just a title)"
   ]
  },
  {
   "cell_type": "code",
   "execution_count": 33,
   "metadata": {
    "ExecuteTime": {
     "end_time": "2020-09-29T17:29:16.564450Z",
     "start_time": "2020-09-29T17:29:16.536519Z"
    }
   },
   "outputs": [],
   "source": [
    "df_clean = df_clean.dropna()"
   ]
  },
  {
   "cell_type": "code",
   "execution_count": 34,
   "metadata": {
    "ExecuteTime": {
     "end_time": "2020-09-29T17:29:16.572217Z",
     "start_time": "2020-09-29T17:29:16.566705Z"
    }
   },
   "outputs": [
    {
     "data": {
      "text/plain": [
       "44058"
      ]
     },
     "execution_count": 34,
     "metadata": {},
     "output_type": "execute_result"
    }
   ],
   "source": [
    "len(df_clean)"
   ]
  },
  {
   "cell_type": "markdown",
   "metadata": {},
   "source": [
    "Drop Rows with same title and text (keeping the first instance)"
   ]
  },
  {
   "cell_type": "code",
   "execution_count": 35,
   "metadata": {
    "ExecuteTime": {
     "end_time": "2020-09-29T17:29:16.966953Z",
     "start_time": "2020-09-29T17:29:16.574278Z"
    }
   },
   "outputs": [],
   "source": [
    "df_clean = df_clean.drop_duplicates(['title', 'text'], ignore_index=True)"
   ]
  },
  {
   "cell_type": "code",
   "execution_count": 36,
   "metadata": {
    "ExecuteTime": {
     "end_time": "2020-09-29T17:29:16.974150Z",
     "start_time": "2020-09-29T17:29:16.969041Z"
    }
   },
   "outputs": [
    {
     "data": {
      "text/plain": [
       "38658"
      ]
     },
     "execution_count": 36,
     "metadata": {},
     "output_type": "execute_result"
    }
   ],
   "source": [
    "len(df_clean)"
   ]
  },
  {
   "cell_type": "markdown",
   "metadata": {},
   "source": [
    "Drop Rows with the same text (keeping the first instance)"
   ]
  },
  {
   "cell_type": "code",
   "execution_count": 37,
   "metadata": {
    "ExecuteTime": {
     "end_time": "2020-09-29T17:29:17.254244Z",
     "start_time": "2020-09-29T17:29:16.976100Z"
    }
   },
   "outputs": [],
   "source": [
    "df_clean = df_clean.drop_duplicates(['text'], ignore_index=True)"
   ]
  },
  {
   "cell_type": "code",
   "execution_count": 38,
   "metadata": {
    "ExecuteTime": {
     "end_time": "2020-09-29T17:29:17.279888Z",
     "start_time": "2020-09-29T17:29:17.256287Z"
    }
   },
   "outputs": [
    {
     "name": "stdout",
     "output_type": "stream",
     "text": [
      "<class 'pandas.core.frame.DataFrame'>\n",
      "RangeIndex: 38644 entries, 0 to 38643\n",
      "Data columns (total 5 columns):\n",
      " #   Column   Non-Null Count  Dtype \n",
      "---  ------   --------------  ----- \n",
      " 0   title    38644 non-null  object\n",
      " 1   text     38644 non-null  object\n",
      " 2   subject  38644 non-null  object\n",
      " 3   date     38644 non-null  object\n",
      " 4   label    38644 non-null  object\n",
      "dtypes: object(5)\n",
      "memory usage: 1.5+ MB\n"
     ]
    }
   ],
   "source": [
    "df_clean.info()"
   ]
  },
  {
   "cell_type": "markdown",
   "metadata": {},
   "source": [
    "How many rows were dropped?"
   ]
  },
  {
   "cell_type": "code",
   "execution_count": 39,
   "metadata": {
    "ExecuteTime": {
     "end_time": "2020-09-29T17:29:17.287110Z",
     "start_time": "2020-09-29T17:29:17.282131Z"
    }
   },
   "outputs": [
    {
     "data": {
      "text/plain": [
       "6254"
      ]
     },
     "execution_count": 39,
     "metadata": {},
     "output_type": "execute_result"
    }
   ],
   "source": [
    "len(df) - len(df_clean)"
   ]
  },
  {
   "cell_type": "markdown",
   "metadata": {},
   "source": [
    "## Check Date Range"
   ]
  },
  {
   "cell_type": "markdown",
   "metadata": {},
   "source": [
    "### Check date field for a valid format"
   ]
  },
  {
   "cell_type": "code",
   "execution_count": 40,
   "metadata": {
    "ExecuteTime": {
     "end_time": "2020-09-29T17:29:17.597078Z",
     "start_time": "2020-09-29T17:29:17.289507Z"
    }
   },
   "outputs": [
    {
     "name": "stdout",
     "output_type": "stream",
     "text": [
      "Not all date values are dates.\n"
     ]
    }
   ],
   "source": [
    "try:\n",
    "    df_clean['date'] = pd.to_datetime(df_clean['date'])\n",
    "except ValueError:\n",
    "    print('Not all date values are dates.')"
   ]
  },
  {
   "cell_type": "markdown",
   "metadata": {},
   "source": [
    "### Filter instances with invalid dates"
   ]
  },
  {
   "cell_type": "markdown",
   "metadata": {},
   "source": [
    "I will need to filter out the date values that are not dates."
   ]
  },
  {
   "cell_type": "code",
   "execution_count": 43,
   "metadata": {
    "ExecuteTime": {
     "end_time": "2020-09-29T17:50:33.630471Z",
     "start_time": "2020-09-29T17:50:33.626354Z"
    }
   },
   "outputs": [],
   "source": [
    "def not_a_date(string):\n",
    "    \"\"\"\n",
    "    Check if the input string can be converted to a date.\n",
    "    \n",
    "    Return:\n",
    "    True if it is not a date\n",
    "    False if it is a date\n",
    "    \"\"\"\n",
    "    try:\n",
    "        date = pd.to_datetime(string)\n",
    "        return False\n",
    "    except ValueError:\n",
    "        return True"
   ]
  },
  {
   "cell_type": "code",
   "execution_count": 44,
   "metadata": {
    "ExecuteTime": {
     "end_time": "2020-09-29T17:51:15.761652Z",
     "start_time": "2020-09-29T17:50:59.151910Z"
    }
   },
   "outputs": [],
   "source": [
    "df_bad_dates = df_clean[df_clean['date'].apply(not_a_date)]"
   ]
  },
  {
   "cell_type": "code",
   "execution_count": 45,
   "metadata": {
    "ExecuteTime": {
     "end_time": "2020-09-29T17:51:21.722416Z",
     "start_time": "2020-09-29T17:51:21.708728Z"
    }
   },
   "outputs": [
    {
     "data": {
      "text/html": [
       "<div>\n",
       "<style scoped>\n",
       "    .dataframe tbody tr th:only-of-type {\n",
       "        vertical-align: middle;\n",
       "    }\n",
       "\n",
       "    .dataframe tbody tr th {\n",
       "        vertical-align: top;\n",
       "    }\n",
       "\n",
       "    .dataframe thead th {\n",
       "        text-align: right;\n",
       "    }\n",
       "</style>\n",
       "<table border=\"1\" class=\"dataframe\">\n",
       "  <thead>\n",
       "    <tr style=\"text-align: right;\">\n",
       "      <th></th>\n",
       "      <th>title</th>\n",
       "      <th>text</th>\n",
       "      <th>subject</th>\n",
       "      <th>date</th>\n",
       "      <th>label</th>\n",
       "    </tr>\n",
       "  </thead>\n",
       "  <tbody>\n",
       "    <tr>\n",
       "      <th>9357</th>\n",
       "      <td>https://100percentfedup.com/served-roy-moore-v...</td>\n",
       "      <td>https://100percentfedup.com/served-roy-moore-v...</td>\n",
       "      <td>politics</td>\n",
       "      <td>https://100percentfedup.com/served-roy-moore-v...</td>\n",
       "      <td>fake</td>\n",
       "    </tr>\n",
       "    <tr>\n",
       "      <th>15119</th>\n",
       "      <td>https://100percentfedup.com/video-hillary-aske...</td>\n",
       "      <td>https://100percentfedup.com/video-hillary-aske...</td>\n",
       "      <td>politics</td>\n",
       "      <td>https://100percentfedup.com/video-hillary-aske...</td>\n",
       "      <td>fake</td>\n",
       "    </tr>\n",
       "    <tr>\n",
       "      <th>15120</th>\n",
       "      <td>https://100percentfedup.com/12-yr-old-black-co...</td>\n",
       "      <td>https://100percentfedup.com/12-yr-old-black-co...</td>\n",
       "      <td>politics</td>\n",
       "      <td>https://100percentfedup.com/12-yr-old-black-co...</td>\n",
       "      <td>fake</td>\n",
       "    </tr>\n",
       "    <tr>\n",
       "      <th>15422</th>\n",
       "      <td>https://fedup.wpengine.com/wp-content/uploads/...</td>\n",
       "      <td>https://fedup.wpengine.com/wp-content/uploads/...</td>\n",
       "      <td>politics</td>\n",
       "      <td>https://fedup.wpengine.com/wp-content/uploads/...</td>\n",
       "      <td>fake</td>\n",
       "    </tr>\n",
       "    <tr>\n",
       "      <th>15423</th>\n",
       "      <td>https://fedup.wpengine.com/wp-content/uploads/...</td>\n",
       "      <td>https://fedup.wpengine.com/wp-content/uploads/...</td>\n",
       "      <td>politics</td>\n",
       "      <td>https://fedup.wpengine.com/wp-content/uploads/...</td>\n",
       "      <td>fake</td>\n",
       "    </tr>\n",
       "    <tr>\n",
       "      <th>16126</th>\n",
       "      <td>Homepage</td>\n",
       "      <td>[vc_row][vc_column width= 1/1 ][td_block_trend...</td>\n",
       "      <td>left-news</td>\n",
       "      <td>MSNBC HOST Rudely Assumes Steel Worker Would N...</td>\n",
       "      <td>fake</td>\n",
       "    </tr>\n",
       "  </tbody>\n",
       "</table>\n",
       "</div>"
      ],
      "text/plain": [
       "                                                   title  \\\n",
       "9357   https://100percentfedup.com/served-roy-moore-v...   \n",
       "15119  https://100percentfedup.com/video-hillary-aske...   \n",
       "15120  https://100percentfedup.com/12-yr-old-black-co...   \n",
       "15422  https://fedup.wpengine.com/wp-content/uploads/...   \n",
       "15423  https://fedup.wpengine.com/wp-content/uploads/...   \n",
       "16126                                           Homepage   \n",
       "\n",
       "                                                    text    subject  \\\n",
       "9357   https://100percentfedup.com/served-roy-moore-v...   politics   \n",
       "15119  https://100percentfedup.com/video-hillary-aske...   politics   \n",
       "15120  https://100percentfedup.com/12-yr-old-black-co...   politics   \n",
       "15422  https://fedup.wpengine.com/wp-content/uploads/...   politics   \n",
       "15423  https://fedup.wpengine.com/wp-content/uploads/...   politics   \n",
       "16126  [vc_row][vc_column width= 1/1 ][td_block_trend...  left-news   \n",
       "\n",
       "                                                    date label  \n",
       "9357   https://100percentfedup.com/served-roy-moore-v...  fake  \n",
       "15119  https://100percentfedup.com/video-hillary-aske...  fake  \n",
       "15120  https://100percentfedup.com/12-yr-old-black-co...  fake  \n",
       "15422  https://fedup.wpengine.com/wp-content/uploads/...  fake  \n",
       "15423  https://fedup.wpengine.com/wp-content/uploads/...  fake  \n",
       "16126  MSNBC HOST Rudely Assumes Steel Worker Would N...  fake  "
      ]
     },
     "execution_count": 45,
     "metadata": {},
     "output_type": "execute_result"
    }
   ],
   "source": [
    "df_bad_dates"
   ]
  },
  {
   "cell_type": "markdown",
   "metadata": {},
   "source": [
    "The instances with text in the date field are all invalid data and will be dropped"
   ]
  },
  {
   "cell_type": "markdown",
   "metadata": {},
   "source": [
    "### Drop Instances with invalid dates"
   ]
  },
  {
   "cell_type": "code",
   "execution_count": null,
   "metadata": {
    "ExecuteTime": {
     "end_time": "2020-09-29T17:55:12.482974Z",
     "start_time": "2020-09-29T17:55:12.471926Z"
    }
   },
   "outputs": [],
   "source": [
    "df_clean = df_clean.drop(df_bad_dates.index)"
   ]
  },
  {
   "cell_type": "markdown",
   "metadata": {},
   "source": [
    "### Convert dates to datetime type"
   ]
  },
  {
   "cell_type": "code",
   "execution_count": 48,
   "metadata": {
    "ExecuteTime": {
     "end_time": "2020-09-29T17:55:28.796991Z",
     "start_time": "2020-09-29T17:55:28.321746Z"
    }
   },
   "outputs": [],
   "source": [
    "try:\n",
    "    df_clean['date'] = pd.to_datetime(df_clean['date'])\n",
    "except ValueError:\n",
    "    print('Not all date values are dates.')"
   ]
  },
  {
   "cell_type": "markdown",
   "metadata": {},
   "source": [
    "### Check Date Range"
   ]
  },
  {
   "cell_type": "code",
   "execution_count": 49,
   "metadata": {
    "ExecuteTime": {
     "end_time": "2020-09-29T17:58:21.095339Z",
     "start_time": "2020-09-29T17:58:21.032103Z"
    }
   },
   "outputs": [
    {
     "data": {
      "text/plain": [
       "count                   38638\n",
       "unique                   1010\n",
       "top       2017-12-06 00:00:00\n",
       "freq                      177\n",
       "first     2015-03-31 00:00:00\n",
       "last      2018-02-19 00:00:00\n",
       "Name: date, dtype: object"
      ]
     },
     "execution_count": 49,
     "metadata": {},
     "output_type": "execute_result"
    }
   ],
   "source": [
    "df_clean.date.describe()"
   ]
  },
  {
   "cell_type": "markdown",
   "metadata": {},
   "source": [
    "The description of the data, indicated that it was between 2016 and 2017.  I will need to check the data that is outside it."
   ]
  },
  {
   "cell_type": "code",
   "execution_count": 52,
   "metadata": {
    "ExecuteTime": {
     "end_time": "2020-09-29T18:01:37.672386Z",
     "start_time": "2020-09-29T18:01:37.649836Z"
    }
   },
   "outputs": [
    {
     "data": {
      "text/html": [
       "<div>\n",
       "<style scoped>\n",
       "    .dataframe tbody tr th:only-of-type {\n",
       "        vertical-align: middle;\n",
       "    }\n",
       "\n",
       "    .dataframe tbody tr th {\n",
       "        vertical-align: top;\n",
       "    }\n",
       "\n",
       "    .dataframe thead th {\n",
       "        text-align: right;\n",
       "    }\n",
       "</style>\n",
       "<table border=\"1\" class=\"dataframe\">\n",
       "  <thead>\n",
       "    <tr style=\"text-align: right;\">\n",
       "      <th></th>\n",
       "      <th>title</th>\n",
       "      <th>text</th>\n",
       "      <th>subject</th>\n",
       "      <th>date</th>\n",
       "      <th>label</th>\n",
       "    </tr>\n",
       "  </thead>\n",
       "  <tbody>\n",
       "    <tr>\n",
       "      <th>14343</th>\n",
       "      <td>EVERY U.S. CITIZEN TAKEN HOSTAGE IN IRAN To Be...</td>\n",
       "      <td>Just another slap in the face to US citizens. ...</td>\n",
       "      <td>politics</td>\n",
       "      <td>2015-12-31</td>\n",
       "      <td>fake</td>\n",
       "    </tr>\n",
       "    <tr>\n",
       "      <th>14344</th>\n",
       "      <td>WATCH FUNNIEST MAN In American Politics Ridicu...</td>\n",
       "      <td>You don t want to miss this!Here s a little in...</td>\n",
       "      <td>politics</td>\n",
       "      <td>2015-12-31</td>\n",
       "      <td>fake</td>\n",
       "    </tr>\n",
       "    <tr>\n",
       "      <th>14345</th>\n",
       "      <td>FBI POSTS $5,000 REWARD For Person Who Committ...</td>\n",
       "      <td>Americans were warned by Attorney General, Lor...</td>\n",
       "      <td>politics</td>\n",
       "      <td>2015-12-31</td>\n",
       "      <td>fake</td>\n",
       "    </tr>\n",
       "    <tr>\n",
       "      <th>14346</th>\n",
       "      <td>SWISS ARMY CHIEF WARNS CITIZENS About Explosiv...</td>\n",
       "      <td>Wouldn t it be great if we had someone in gove...</td>\n",
       "      <td>politics</td>\n",
       "      <td>2015-12-31</td>\n",
       "      <td>fake</td>\n",
       "    </tr>\n",
       "    <tr>\n",
       "      <th>14347</th>\n",
       "      <td>WOW! Sarah Palin’s Stunning AZ Vacation Home G...</td>\n",
       "      <td>It would be great if  her former running mate,...</td>\n",
       "      <td>politics</td>\n",
       "      <td>2015-12-30</td>\n",
       "      <td>fake</td>\n",
       "    </tr>\n",
       "    <tr>\n",
       "      <th>...</th>\n",
       "      <td>...</td>\n",
       "      <td>...</td>\n",
       "      <td>...</td>\n",
       "      <td>...</td>\n",
       "      <td>...</td>\n",
       "    </tr>\n",
       "    <tr>\n",
       "      <th>16665</th>\n",
       "      <td>BREAKING: [Video] COLORADO BAKER WHO REFUSED T...</td>\n",
       "      <td>About 2,000 of the emails I got were of suppo...</td>\n",
       "      <td>left-news</td>\n",
       "      <td>2015-04-07</td>\n",
       "      <td>fake</td>\n",
       "    </tr>\n",
       "    <tr>\n",
       "      <th>16666</th>\n",
       "      <td>(VIDEO) PATRIOTS DEMAND REMOVAL OF COMMUNIST FLAG</td>\n",
       "      <td>Patriots removed the the Chinese flag between ...</td>\n",
       "      <td>left-news</td>\n",
       "      <td>2015-04-06</td>\n",
       "      <td>fake</td>\n",
       "    </tr>\n",
       "    <tr>\n",
       "      <th>16667</th>\n",
       "      <td>BUSTED: [VIDEO] MAN ATTEMPTS TO TAPE “GOTCHA” ...</td>\n",
       "      <td>The Michael Brown and Eric Garner cases have o...</td>\n",
       "      <td>left-news</td>\n",
       "      <td>2015-04-05</td>\n",
       "      <td>fake</td>\n",
       "    </tr>\n",
       "    <tr>\n",
       "      <th>16668</th>\n",
       "      <td>[VIDEO] 16 YR OLD ARRESTED For Violent Gang Be...</td>\n",
       "      <td>This is a sad commentary on a generation who h...</td>\n",
       "      <td>left-news</td>\n",
       "      <td>2015-04-04</td>\n",
       "      <td>fake</td>\n",
       "    </tr>\n",
       "    <tr>\n",
       "      <th>16669</th>\n",
       "      <td>“Non-violence hasn’t worked”…Reverend Sam Most...</td>\n",
       "      <td>Yeah that whole  taking up arms  thing seems t...</td>\n",
       "      <td>left-news</td>\n",
       "      <td>2015-04-01</td>\n",
       "      <td>fake</td>\n",
       "    </tr>\n",
       "  </tbody>\n",
       "</table>\n",
       "<p>1597 rows × 5 columns</p>\n",
       "</div>"
      ],
      "text/plain": [
       "                                                   title  \\\n",
       "14343  EVERY U.S. CITIZEN TAKEN HOSTAGE IN IRAN To Be...   \n",
       "14344  WATCH FUNNIEST MAN In American Politics Ridicu...   \n",
       "14345  FBI POSTS $5,000 REWARD For Person Who Committ...   \n",
       "14346  SWISS ARMY CHIEF WARNS CITIZENS About Explosiv...   \n",
       "14347  WOW! Sarah Palin’s Stunning AZ Vacation Home G...   \n",
       "...                                                  ...   \n",
       "16665  BREAKING: [Video] COLORADO BAKER WHO REFUSED T...   \n",
       "16666  (VIDEO) PATRIOTS DEMAND REMOVAL OF COMMUNIST FLAG   \n",
       "16667  BUSTED: [VIDEO] MAN ATTEMPTS TO TAPE “GOTCHA” ...   \n",
       "16668  [VIDEO] 16 YR OLD ARRESTED For Violent Gang Be...   \n",
       "16669  “Non-violence hasn’t worked”…Reverend Sam Most...   \n",
       "\n",
       "                                                    text    subject  \\\n",
       "14343  Just another slap in the face to US citizens. ...   politics   \n",
       "14344  You don t want to miss this!Here s a little in...   politics   \n",
       "14345  Americans were warned by Attorney General, Lor...   politics   \n",
       "14346  Wouldn t it be great if we had someone in gove...   politics   \n",
       "14347  It would be great if  her former running mate,...   politics   \n",
       "...                                                  ...        ...   \n",
       "16665   About 2,000 of the emails I got were of suppo...  left-news   \n",
       "16666  Patriots removed the the Chinese flag between ...  left-news   \n",
       "16667  The Michael Brown and Eric Garner cases have o...  left-news   \n",
       "16668  This is a sad commentary on a generation who h...  left-news   \n",
       "16669  Yeah that whole  taking up arms  thing seems t...  left-news   \n",
       "\n",
       "            date label  \n",
       "14343 2015-12-31  fake  \n",
       "14344 2015-12-31  fake  \n",
       "14345 2015-12-31  fake  \n",
       "14346 2015-12-31  fake  \n",
       "14347 2015-12-30  fake  \n",
       "...          ...   ...  \n",
       "16665 2015-04-07  fake  \n",
       "16666 2015-04-06  fake  \n",
       "16667 2015-04-05  fake  \n",
       "16668 2015-04-04  fake  \n",
       "16669 2015-04-01  fake  \n",
       "\n",
       "[1597 rows x 5 columns]"
      ]
     },
     "execution_count": 52,
     "metadata": {},
     "output_type": "execute_result"
    }
   ],
   "source": [
    "df_early = df_clean[df_clean.date < pd.to_datetime('2016-01-01')]\n",
    "df_early"
   ]
  },
  {
   "cell_type": "code",
   "execution_count": 53,
   "metadata": {
    "ExecuteTime": {
     "end_time": "2020-09-29T18:02:12.914410Z",
     "start_time": "2020-09-29T18:02:12.906539Z"
    }
   },
   "outputs": [
    {
     "data": {
      "text/plain": [
       "fake    1597\n",
       "Name: label, dtype: int64"
      ]
     },
     "execution_count": 53,
     "metadata": {},
     "output_type": "execute_result"
    }
   ],
   "source": [
    "df_early.label.value_counts()"
   ]
  },
  {
   "cell_type": "code",
   "execution_count": 54,
   "metadata": {
    "ExecuteTime": {
     "end_time": "2020-09-29T18:02:57.855774Z",
     "start_time": "2020-09-29T18:02:57.850491Z"
    }
   },
   "outputs": [],
   "source": [
    "df_late = df_clean[df_clean.date > pd.to_datetime('2017-12-31')]"
   ]
  },
  {
   "cell_type": "code",
   "execution_count": 55,
   "metadata": {
    "ExecuteTime": {
     "end_time": "2020-09-29T18:03:00.855813Z",
     "start_time": "2020-09-29T18:03:00.831750Z"
    },
    "scrolled": true
   },
   "outputs": [
    {
     "data": {
      "text/html": [
       "<div>\n",
       "<style scoped>\n",
       "    .dataframe tbody tr th:only-of-type {\n",
       "        vertical-align: middle;\n",
       "    }\n",
       "\n",
       "    .dataframe tbody tr th {\n",
       "        vertical-align: top;\n",
       "    }\n",
       "\n",
       "    .dataframe thead th {\n",
       "        text-align: right;\n",
       "    }\n",
       "</style>\n",
       "<table border=\"1\" class=\"dataframe\">\n",
       "  <thead>\n",
       "    <tr style=\"text-align: right;\">\n",
       "      <th></th>\n",
       "      <th>title</th>\n",
       "      <th>text</th>\n",
       "      <th>subject</th>\n",
       "      <th>date</th>\n",
       "      <th>label</th>\n",
       "    </tr>\n",
       "  </thead>\n",
       "  <tbody>\n",
       "    <tr>\n",
       "      <th>9050</th>\n",
       "      <td>Democrat Senator Warns Mueller Not To Release ...</td>\n",
       "      <td>According to The Hill, Democrat Senator Bob Ca...</td>\n",
       "      <td>politics</td>\n",
       "      <td>2018-02-19</td>\n",
       "      <td>fake</td>\n",
       "    </tr>\n",
       "    <tr>\n",
       "      <th>9051</th>\n",
       "      <td>MSNBC ANCHOR Flabbergasted at What Texas Teach...</td>\n",
       "      <td>If we protect every other government building ...</td>\n",
       "      <td>politics</td>\n",
       "      <td>2018-02-19</td>\n",
       "      <td>fake</td>\n",
       "    </tr>\n",
       "    <tr>\n",
       "      <th>9052</th>\n",
       "      <td>WATCH: SNOWFLAKES ASKED Communist Party Platfo...</td>\n",
       "      <td>Ami Horowitz is fantastic! Check out this man ...</td>\n",
       "      <td>politics</td>\n",
       "      <td>2018-02-19</td>\n",
       "      <td>fake</td>\n",
       "    </tr>\n",
       "    <tr>\n",
       "      <th>9053</th>\n",
       "      <td>JUST IN: BADASS GENERAL JOHN KELLY Shoved Chin...</td>\n",
       "      <td>Just one more reminder of why President Trump ...</td>\n",
       "      <td>politics</td>\n",
       "      <td>2018-02-18</td>\n",
       "      <td>fake</td>\n",
       "    </tr>\n",
       "    <tr>\n",
       "      <th>9054</th>\n",
       "      <td>DOJ’s JEFF SESSIONS Opens Investigation Into W...</td>\n",
       "      <td>Thank goodnesss Jeff Sessions is moving on fin...</td>\n",
       "      <td>politics</td>\n",
       "      <td>2018-02-18</td>\n",
       "      <td>fake</td>\n",
       "    </tr>\n",
       "    <tr>\n",
       "      <th>9055</th>\n",
       "      <td>WATCH: ’’Carpetbagger” Mitt Romney Takes Swipe...</td>\n",
       "      <td>The GOP presidential candidate who couldn t se...</td>\n",
       "      <td>politics</td>\n",
       "      <td>2018-02-18</td>\n",
       "      <td>fake</td>\n",
       "    </tr>\n",
       "    <tr>\n",
       "      <th>9056</th>\n",
       "      <td>GOTCHA! A Stammering John Podesta Stunned by a...</td>\n",
       "      <td>John Podesta is Hillary Clinton s former campa...</td>\n",
       "      <td>politics</td>\n",
       "      <td>2018-02-18</td>\n",
       "      <td>fake</td>\n",
       "    </tr>\n",
       "    <tr>\n",
       "      <th>9057</th>\n",
       "      <td>HIGH SCHOOL TEACHER Makes “Shooting At Trump” ...</td>\n",
       "      <td>EAG News  A Wyoming high school is under fire ...</td>\n",
       "      <td>politics</td>\n",
       "      <td>2018-02-18</td>\n",
       "      <td>fake</td>\n",
       "    </tr>\n",
       "    <tr>\n",
       "      <th>9058</th>\n",
       "      <td>IT BEGINS…RINO MEGA-DONOR Threatens Jeb Bush: ...</td>\n",
       "      <td>A longtime Republican Party donor based in Flo...</td>\n",
       "      <td>politics</td>\n",
       "      <td>2018-02-18</td>\n",
       "      <td>fake</td>\n",
       "    </tr>\n",
       "    <tr>\n",
       "      <th>9059</th>\n",
       "      <td>BUSTED! Maxine Waters’ Ties to Black Nationali...</td>\n",
       "      <td>We reported that Maxine Waters and members of ...</td>\n",
       "      <td>politics</td>\n",
       "      <td>2018-02-18</td>\n",
       "      <td>fake</td>\n",
       "    </tr>\n",
       "    <tr>\n",
       "      <th>9060</th>\n",
       "      <td>LOCAL REPORTER IN DEEP BLUE STATE Stuns Libera...</td>\n",
       "      <td>We took a very hard look at these numbers, an...</td>\n",
       "      <td>politics</td>\n",
       "      <td>2018-02-17</td>\n",
       "      <td>fake</td>\n",
       "    </tr>\n",
       "    <tr>\n",
       "      <th>9061</th>\n",
       "      <td>FACEBOOK RELEASES Ads Paid For By Russians…And...</td>\n",
       "      <td>There s been a lot of talk about the ads Russi...</td>\n",
       "      <td>politics</td>\n",
       "      <td>2018-02-17</td>\n",
       "      <td>fake</td>\n",
       "    </tr>\n",
       "    <tr>\n",
       "      <th>9062</th>\n",
       "      <td>FACEBOOK’S VP Of Ads BLASTS MEDIA: Majority Of...</td>\n",
       "      <td>Facebook s VP of Advertising took to Twitter t...</td>\n",
       "      <td>politics</td>\n",
       "      <td>2018-02-17</td>\n",
       "      <td>fake</td>\n",
       "    </tr>\n",
       "    <tr>\n",
       "      <th>9063</th>\n",
       "      <td>MEGHAN MCCAIN Cut-Off After Saying the Florida...</td>\n",
       "      <td>It clear that common sense isn t what these he...</td>\n",
       "      <td>politics</td>\n",
       "      <td>2018-02-17</td>\n",
       "      <td>fake</td>\n",
       "    </tr>\n",
       "    <tr>\n",
       "      <th>9064</th>\n",
       "      <td>BROTHER OF HERO COACH Breaks Down Over Tribute...</td>\n",
       "      <td>The hero football coach who threw himself betw...</td>\n",
       "      <td>politics</td>\n",
       "      <td>2018-02-17</td>\n",
       "      <td>fake</td>\n",
       "    </tr>\n",
       "    <tr>\n",
       "      <th>9065</th>\n",
       "      <td>“THE TRUMP CURSE IS REAL”…Social Media Respond...</td>\n",
       "      <td>Two months before the Winter Olympics in Seoul...</td>\n",
       "      <td>politics</td>\n",
       "      <td>2018-02-17</td>\n",
       "      <td>fake</td>\n",
       "    </tr>\n",
       "    <tr>\n",
       "      <th>9066</th>\n",
       "      <td>How The Left, The Anti Defamation League and M...</td>\n",
       "      <td>Immediately after the police identified the su...</td>\n",
       "      <td>politics</td>\n",
       "      <td>2018-02-17</td>\n",
       "      <td>fake</td>\n",
       "    </tr>\n",
       "    <tr>\n",
       "      <th>9067</th>\n",
       "      <td>LOOK WHO Approved Visas For Russian Operatives...</td>\n",
       "      <td>According to Fox News  A federal grand jury on...</td>\n",
       "      <td>politics</td>\n",
       "      <td>2018-02-16</td>\n",
       "      <td>fake</td>\n",
       "    </tr>\n",
       "    <tr>\n",
       "      <th>9068</th>\n",
       "      <td>JUST IN: PRESIDENT TRUMP AND FIRST LADY Make S...</td>\n",
       "      <td>President Trump visits Florida hospital, prai...</td>\n",
       "      <td>politics</td>\n",
       "      <td>2018-02-16</td>\n",
       "      <td>fake</td>\n",
       "    </tr>\n",
       "    <tr>\n",
       "      <th>9069</th>\n",
       "      <td>BREAKING: FL GOV RICK SCOTT Calls for FBI Dire...</td>\n",
       "      <td>While the left points the finger at guns, guns...</td>\n",
       "      <td>politics</td>\n",
       "      <td>2018-02-16</td>\n",
       "      <td>fake</td>\n",
       "    </tr>\n",
       "    <tr>\n",
       "      <th>9070</th>\n",
       "      <td>HEY, BERNIE SANDERS: 18 SCHOOL SHOOTINGS Have ...</td>\n",
       "      <td>The left has locked onto a stat that 18 school...</td>\n",
       "      <td>politics</td>\n",
       "      <td>2018-02-16</td>\n",
       "      <td>fake</td>\n",
       "    </tr>\n",
       "    <tr>\n",
       "      <th>9071</th>\n",
       "      <td>TUCKER CARLSON Rips The Left On Gun Control Hy...</td>\n",
       "      <td>Tucker Carlson weighed in on the hysteria over...</td>\n",
       "      <td>politics</td>\n",
       "      <td>2018-02-16</td>\n",
       "      <td>fake</td>\n",
       "    </tr>\n",
       "    <tr>\n",
       "      <th>9072</th>\n",
       "      <td>WATCH: Mitt Romney Announces Run for Senate…Ba...</td>\n",
       "      <td>Just what we need another Trump-bashing RINO. ...</td>\n",
       "      <td>politics</td>\n",
       "      <td>2018-02-16</td>\n",
       "      <td>fake</td>\n",
       "    </tr>\n",
       "    <tr>\n",
       "      <th>9073</th>\n",
       "      <td>WATCH SHERIFF’S Honest Response After a School...</td>\n",
       "      <td>When it gets down to it, what this sheriff sai...</td>\n",
       "      <td>politics</td>\n",
       "      <td>2018-02-16</td>\n",
       "      <td>fake</td>\n",
       "    </tr>\n",
       "    <tr>\n",
       "      <th>9074</th>\n",
       "      <td>Flashback Video: Susan Rice Says Trump’s Claim...</td>\n",
       "      <td>Susan Rice and Obama were as thick as thieves ...</td>\n",
       "      <td>politics</td>\n",
       "      <td>2018-02-16</td>\n",
       "      <td>fake</td>\n",
       "    </tr>\n",
       "    <tr>\n",
       "      <th>9075</th>\n",
       "      <td>POLITICS FIRST: LEFTIST PARENTS Of Former Comb...</td>\n",
       "      <td>The heartbreaking story of two parents who put...</td>\n",
       "      <td>politics</td>\n",
       "      <td>2018-02-15</td>\n",
       "      <td>fake</td>\n",
       "    </tr>\n",
       "    <tr>\n",
       "      <th>9076</th>\n",
       "      <td>TWO HIGH SCHOOL JROTC Members Tell INCREDIBLE ...</td>\n",
       "      <td>ABC News  When two Marjory Stoneman Douglas Hi...</td>\n",
       "      <td>politics</td>\n",
       "      <td>2018-02-15</td>\n",
       "      <td>fake</td>\n",
       "    </tr>\n",
       "    <tr>\n",
       "      <th>9077</th>\n",
       "      <td>MEDIA PROMOTES Fake News That Shooter Connecte...</td>\n",
       "      <td>The mainstream media is guilty of fake news wh...</td>\n",
       "      <td>politics</td>\n",
       "      <td>2018-02-15</td>\n",
       "      <td>fake</td>\n",
       "    </tr>\n",
       "    <tr>\n",
       "      <th>9078</th>\n",
       "      <td>WHAT’S WRONG WITH PELOSI? Nancy Stutters, Stam...</td>\n",
       "      <td>What s wrong with Pelosi? Nancy Pelosi is supp...</td>\n",
       "      <td>politics</td>\n",
       "      <td>2018-02-15</td>\n",
       "      <td>fake</td>\n",
       "    </tr>\n",
       "    <tr>\n",
       "      <th>9079</th>\n",
       "      <td>“PROUD TRANSGENDER” Democrat Candidate For Con...</td>\n",
       "      <td>WQOW -A Lacrosse, WI transgender person, who r...</td>\n",
       "      <td>politics</td>\n",
       "      <td>2018-02-15</td>\n",
       "      <td>fake</td>\n",
       "    </tr>\n",
       "    <tr>\n",
       "      <th>9080</th>\n",
       "      <td>JUST IN: Senate Rejects Immigration Bill…Trump...</td>\n",
       "      <td>How could the Senate be so lame in their effor...</td>\n",
       "      <td>politics</td>\n",
       "      <td>2018-02-15</td>\n",
       "      <td>fake</td>\n",
       "    </tr>\n",
       "    <tr>\n",
       "      <th>9081</th>\n",
       "      <td>SC STATE REP Who is a Former Cop Proposes Smar...</td>\n",
       "      <td>WHO BETTER THAN A FORMER POLICE OFFICER TO UND...</td>\n",
       "      <td>politics</td>\n",
       "      <td>2018-02-15</td>\n",
       "      <td>fake</td>\n",
       "    </tr>\n",
       "    <tr>\n",
       "      <th>9082</th>\n",
       "      <td>HUH? RAPPER JAY-Z Compares Trayvon Martin to M...</td>\n",
       "      <td>Rapper Jay-Z attended the Peace Walk &amp; Peace T...</td>\n",
       "      <td>politics</td>\n",
       "      <td>2018-02-15</td>\n",
       "      <td>fake</td>\n",
       "    </tr>\n",
       "    <tr>\n",
       "      <th>9083</th>\n",
       "      <td>The DIRTY TRUTH About DACA Recipients…Where Th...</td>\n",
       "      <td>Yesterday, a second U.S. judge on Tuesday bloc...</td>\n",
       "      <td>politics</td>\n",
       "      <td>2018-02-15</td>\n",
       "      <td>fake</td>\n",
       "    </tr>\n",
       "    <tr>\n",
       "      <th>9084</th>\n",
       "      <td>JUST IN: CROOKED DOJ OFFICIAL Didn’t Reveal Th...</td>\n",
       "      <td>We ve been covering the curious case of DOJ of...</td>\n",
       "      <td>politics</td>\n",
       "      <td>2018-02-14</td>\n",
       "      <td>fake</td>\n",
       "    </tr>\n",
       "  </tbody>\n",
       "</table>\n",
       "</div>"
      ],
      "text/plain": [
       "                                                  title  \\\n",
       "9050  Democrat Senator Warns Mueller Not To Release ...   \n",
       "9051  MSNBC ANCHOR Flabbergasted at What Texas Teach...   \n",
       "9052  WATCH: SNOWFLAKES ASKED Communist Party Platfo...   \n",
       "9053  JUST IN: BADASS GENERAL JOHN KELLY Shoved Chin...   \n",
       "9054  DOJ’s JEFF SESSIONS Opens Investigation Into W...   \n",
       "9055  WATCH: ’’Carpetbagger” Mitt Romney Takes Swipe...   \n",
       "9056  GOTCHA! A Stammering John Podesta Stunned by a...   \n",
       "9057  HIGH SCHOOL TEACHER Makes “Shooting At Trump” ...   \n",
       "9058  IT BEGINS…RINO MEGA-DONOR Threatens Jeb Bush: ...   \n",
       "9059  BUSTED! Maxine Waters’ Ties to Black Nationali...   \n",
       "9060  LOCAL REPORTER IN DEEP BLUE STATE Stuns Libera...   \n",
       "9061  FACEBOOK RELEASES Ads Paid For By Russians…And...   \n",
       "9062  FACEBOOK’S VP Of Ads BLASTS MEDIA: Majority Of...   \n",
       "9063  MEGHAN MCCAIN Cut-Off After Saying the Florida...   \n",
       "9064  BROTHER OF HERO COACH Breaks Down Over Tribute...   \n",
       "9065  “THE TRUMP CURSE IS REAL”…Social Media Respond...   \n",
       "9066  How The Left, The Anti Defamation League and M...   \n",
       "9067  LOOK WHO Approved Visas For Russian Operatives...   \n",
       "9068  JUST IN: PRESIDENT TRUMP AND FIRST LADY Make S...   \n",
       "9069  BREAKING: FL GOV RICK SCOTT Calls for FBI Dire...   \n",
       "9070  HEY, BERNIE SANDERS: 18 SCHOOL SHOOTINGS Have ...   \n",
       "9071  TUCKER CARLSON Rips The Left On Gun Control Hy...   \n",
       "9072  WATCH: Mitt Romney Announces Run for Senate…Ba...   \n",
       "9073  WATCH SHERIFF’S Honest Response After a School...   \n",
       "9074  Flashback Video: Susan Rice Says Trump’s Claim...   \n",
       "9075  POLITICS FIRST: LEFTIST PARENTS Of Former Comb...   \n",
       "9076  TWO HIGH SCHOOL JROTC Members Tell INCREDIBLE ...   \n",
       "9077  MEDIA PROMOTES Fake News That Shooter Connecte...   \n",
       "9078  WHAT’S WRONG WITH PELOSI? Nancy Stutters, Stam...   \n",
       "9079  “PROUD TRANSGENDER” Democrat Candidate For Con...   \n",
       "9080  JUST IN: Senate Rejects Immigration Bill…Trump...   \n",
       "9081  SC STATE REP Who is a Former Cop Proposes Smar...   \n",
       "9082  HUH? RAPPER JAY-Z Compares Trayvon Martin to M...   \n",
       "9083  The DIRTY TRUTH About DACA Recipients…Where Th...   \n",
       "9084  JUST IN: CROOKED DOJ OFFICIAL Didn’t Reveal Th...   \n",
       "\n",
       "                                                   text   subject       date  \\\n",
       "9050  According to The Hill, Democrat Senator Bob Ca...  politics 2018-02-19   \n",
       "9051  If we protect every other government building ...  politics 2018-02-19   \n",
       "9052  Ami Horowitz is fantastic! Check out this man ...  politics 2018-02-19   \n",
       "9053  Just one more reminder of why President Trump ...  politics 2018-02-18   \n",
       "9054  Thank goodnesss Jeff Sessions is moving on fin...  politics 2018-02-18   \n",
       "9055  The GOP presidential candidate who couldn t se...  politics 2018-02-18   \n",
       "9056  John Podesta is Hillary Clinton s former campa...  politics 2018-02-18   \n",
       "9057  EAG News  A Wyoming high school is under fire ...  politics 2018-02-18   \n",
       "9058  A longtime Republican Party donor based in Flo...  politics 2018-02-18   \n",
       "9059  We reported that Maxine Waters and members of ...  politics 2018-02-18   \n",
       "9060   We took a very hard look at these numbers, an...  politics 2018-02-17   \n",
       "9061  There s been a lot of talk about the ads Russi...  politics 2018-02-17   \n",
       "9062  Facebook s VP of Advertising took to Twitter t...  politics 2018-02-17   \n",
       "9063  It clear that common sense isn t what these he...  politics 2018-02-17   \n",
       "9064  The hero football coach who threw himself betw...  politics 2018-02-17   \n",
       "9065  Two months before the Winter Olympics in Seoul...  politics 2018-02-17   \n",
       "9066  Immediately after the police identified the su...  politics 2018-02-17   \n",
       "9067  According to Fox News  A federal grand jury on...  politics 2018-02-16   \n",
       "9068   President Trump visits Florida hospital, prai...  politics 2018-02-16   \n",
       "9069  While the left points the finger at guns, guns...  politics 2018-02-16   \n",
       "9070  The left has locked onto a stat that 18 school...  politics 2018-02-16   \n",
       "9071  Tucker Carlson weighed in on the hysteria over...  politics 2018-02-16   \n",
       "9072  Just what we need another Trump-bashing RINO. ...  politics 2018-02-16   \n",
       "9073  When it gets down to it, what this sheriff sai...  politics 2018-02-16   \n",
       "9074  Susan Rice and Obama were as thick as thieves ...  politics 2018-02-16   \n",
       "9075  The heartbreaking story of two parents who put...  politics 2018-02-15   \n",
       "9076  ABC News  When two Marjory Stoneman Douglas Hi...  politics 2018-02-15   \n",
       "9077  The mainstream media is guilty of fake news wh...  politics 2018-02-15   \n",
       "9078  What s wrong with Pelosi? Nancy Pelosi is supp...  politics 2018-02-15   \n",
       "9079  WQOW -A Lacrosse, WI transgender person, who r...  politics 2018-02-15   \n",
       "9080  How could the Senate be so lame in their effor...  politics 2018-02-15   \n",
       "9081  WHO BETTER THAN A FORMER POLICE OFFICER TO UND...  politics 2018-02-15   \n",
       "9082  Rapper Jay-Z attended the Peace Walk & Peace T...  politics 2018-02-15   \n",
       "9083  Yesterday, a second U.S. judge on Tuesday bloc...  politics 2018-02-15   \n",
       "9084  We ve been covering the curious case of DOJ of...  politics 2018-02-14   \n",
       "\n",
       "     label  \n",
       "9050  fake  \n",
       "9051  fake  \n",
       "9052  fake  \n",
       "9053  fake  \n",
       "9054  fake  \n",
       "9055  fake  \n",
       "9056  fake  \n",
       "9057  fake  \n",
       "9058  fake  \n",
       "9059  fake  \n",
       "9060  fake  \n",
       "9061  fake  \n",
       "9062  fake  \n",
       "9063  fake  \n",
       "9064  fake  \n",
       "9065  fake  \n",
       "9066  fake  \n",
       "9067  fake  \n",
       "9068  fake  \n",
       "9069  fake  \n",
       "9070  fake  \n",
       "9071  fake  \n",
       "9072  fake  \n",
       "9073  fake  \n",
       "9074  fake  \n",
       "9075  fake  \n",
       "9076  fake  \n",
       "9077  fake  \n",
       "9078  fake  \n",
       "9079  fake  \n",
       "9080  fake  \n",
       "9081  fake  \n",
       "9082  fake  \n",
       "9083  fake  \n",
       "9084  fake  "
      ]
     },
     "execution_count": 55,
     "metadata": {},
     "output_type": "execute_result"
    }
   ],
   "source": [
    "df_late"
   ]
  },
  {
   "cell_type": "code",
   "execution_count": 56,
   "metadata": {
    "ExecuteTime": {
     "end_time": "2020-09-29T18:04:31.080511Z",
     "start_time": "2020-09-29T18:04:31.069021Z"
    }
   },
   "outputs": [
    {
     "data": {
      "text/plain": [
       "true    21191\n",
       "fake    17447\n",
       "Name: label, dtype: int64"
      ]
     },
     "execution_count": 56,
     "metadata": {},
     "output_type": "execute_result"
    }
   ],
   "source": [
    "df_clean.label.value_counts()"
   ]
  },
  {
   "cell_type": "markdown",
   "metadata": {},
   "source": [
    "### Summary"
   ]
  },
  {
   "cell_type": "markdown",
   "metadata": {},
   "source": [
    "All the instances outside the 2016 to 2017 range are labeled Fake.  Given that they look similar to the data in that range, and that the number of instances labeled fake has already been reduced because of duplicate data, I will not remove them."
   ]
  },
  {
   "cell_type": "markdown",
   "metadata": {},
   "source": [
    "# Explore the dataset"
   ]
  },
  {
   "cell_type": "markdown",
   "metadata": {},
   "source": [
    "## Helper Functions"
   ]
  },
  {
   "cell_type": "code",
   "execution_count": 148,
   "metadata": {
    "ExecuteTime": {
     "end_time": "2020-09-30T18:08:19.738758Z",
     "start_time": "2020-09-30T18:08:19.731151Z"
    }
   },
   "outputs": [],
   "source": [
    "def show_hist_for_col(df, column, title):\n",
    "    \"\"\"\n",
    "    Display a histogram for a column in a dataframe, splitting the data by label.\n",
    "    \"\"\"\n",
    "    plt.figure(figsize=(16,8))\n",
    "    df[df.label == 'true'][column].hist(label='True')\n",
    "    df[df.label == 'fake'][column].hist(alpha=0.4, label='Fake')\n",
    "    plt.title(title)\n",
    "    plt.legend()\n",
    "    plt.show()"
   ]
  },
  {
   "cell_type": "markdown",
   "metadata": {},
   "source": [
    "## Distribution of Labels"
   ]
  },
  {
   "cell_type": "code",
   "execution_count": 71,
   "metadata": {
    "ExecuteTime": {
     "end_time": "2020-09-29T18:34:15.156187Z",
     "start_time": "2020-09-29T18:34:14.882779Z"
    }
   },
   "outputs": [
    {
     "data": {
      "image/png": "[encoded data removed]",
      "text/plain": [
       "<Figure size 1152x576 with 1 Axes>"
      ]
     },
     "metadata": {
      "needs_background": "light"
     },
     "output_type": "display_data"
    }
   ],
   "source": [
    "plt.figure(figsize=(16,8))\n",
    "df_clean.label.hist()\n",
    "plt.title('Fake or True News')\n",
    "plt.show()"
   ]
  },
  {
   "cell_type": "markdown",
   "metadata": {},
   "source": [
    "After cleaning the data it has become more imbalanced, but it is not significant so hopefully it will not have a major impact on models."
   ]
  },
  {
   "cell_type": "markdown",
   "metadata": {},
   "source": [
    "## Distribution of News Over Time"
   ]
  },
  {
   "cell_type": "code",
   "execution_count": 133,
   "metadata": {
    "ExecuteTime": {
     "end_time": "2020-09-30T16:55:55.888705Z",
     "start_time": "2020-09-30T16:55:55.461878Z"
    }
   },
   "outputs": [
    {
     "data": {
      "image/png": "[encoded data removed]",
      "text/plain": [
       "<Figure size 1152x576 with 1 Axes>"
      ]
     },
     "metadata": {
      "needs_background": "light"
     },
     "output_type": "display_data"
    }
   ],
   "source": [
    "show_hist_for_col(df_clean, 'date', 'Date Range for News')"
   ]
  },
  {
   "cell_type": "markdown",
   "metadata": {},
   "source": [
    "There is a more even distribution of News across the time frame for Fake vs. True.  Given that the \"news\" in the dataset does not evenly cover the same events make give the classification models some trouble, or overfit to the dataset."
   ]
  },
  {
   "cell_type": "markdown",
   "metadata": {},
   "source": [
    "## Length of Titles"
   ]
  },
  {
   "cell_type": "code",
   "execution_count": 72,
   "metadata": {
    "ExecuteTime": {
     "end_time": "2020-09-29T18:37:19.936450Z",
     "start_time": "2020-09-29T18:37:19.912505Z"
    }
   },
   "outputs": [],
   "source": [
    "df_clean['title_len'] = df_clean.title.apply(len)"
   ]
  },
  {
   "cell_type": "code",
   "execution_count": 134,
   "metadata": {
    "ExecuteTime": {
     "end_time": "2020-09-30T16:56:44.363197Z",
     "start_time": "2020-09-30T16:56:43.993787Z"
    },
    "scrolled": false
   },
   "outputs": [
    {
     "data": {
      "image/png": "[encoded data removed]",
      "text/plain": [
       "<Figure size 1152x576 with 1 Axes>"
      ]
     },
     "metadata": {
      "needs_background": "light"
     },
     "output_type": "display_data"
    }
   ],
   "source": [
    "show_hist_for_col(df_clean, 'title_len', 'Number of Characters in Title')"
   ]
  },
  {
   "cell_type": "code",
   "execution_count": 83,
   "metadata": {
    "ExecuteTime": {
     "end_time": "2020-09-29T18:41:07.126394Z",
     "start_time": "2020-09-29T18:41:07.108010Z"
    }
   },
   "outputs": [
    {
     "data": {
      "text/plain": [
       "count    21191.000000\n",
       "mean        64.660233\n",
       "std          9.159722\n",
       "min         26.000000\n",
       "25%         59.000000\n",
       "50%         64.000000\n",
       "75%         70.000000\n",
       "max        133.000000\n",
       "Name: title_len, dtype: float64"
      ]
     },
     "execution_count": 83,
     "metadata": {},
     "output_type": "execute_result"
    }
   ],
   "source": [
    "df_clean[df_clean.label == 'true'].title_len.describe()"
   ]
  },
  {
   "cell_type": "code",
   "execution_count": 84,
   "metadata": {
    "ExecuteTime": {
     "end_time": "2020-09-29T18:41:09.510794Z",
     "start_time": "2020-09-29T18:41:09.493336Z"
    }
   },
   "outputs": [
    {
     "data": {
      "text/plain": [
       "count    17447.000000\n",
       "mean        91.217000\n",
       "std         24.505484\n",
       "min         15.000000\n",
       "25%         77.000000\n",
       "50%         88.000000\n",
       "75%        100.000000\n",
       "max        286.000000\n",
       "Name: title_len, dtype: float64"
      ]
     },
     "execution_count": 84,
     "metadata": {},
     "output_type": "execute_result"
    }
   ],
   "source": [
    "df_clean[df_clean.label == 'fake'].title_len.describe()"
   ]
  },
  {
   "cell_type": "markdown",
   "metadata": {},
   "source": [
    "Fake news stories have a wider range in the length of title than True, and those Fake news titles have a higher median & mean than True ones."
   ]
  },
  {
   "cell_type": "markdown",
   "metadata": {},
   "source": [
    "The first quartile for Fake news is longer in length than the 3rd quartile for true news.  Just labeling the news according to length of title would give better than random classification results."
   ]
  },
  {
   "cell_type": "markdown",
   "metadata": {},
   "source": [
    "## Length of Text"
   ]
  },
  {
   "cell_type": "code",
   "execution_count": 85,
   "metadata": {
    "ExecuteTime": {
     "end_time": "2020-09-29T18:49:05.214216Z",
     "start_time": "2020-09-29T18:49:05.186341Z"
    }
   },
   "outputs": [],
   "source": [
    "df_clean['text_len'] = df_clean.text.apply(len)"
   ]
  },
  {
   "cell_type": "code",
   "execution_count": 135,
   "metadata": {
    "ExecuteTime": {
     "end_time": "2020-09-30T16:57:29.318063Z",
     "start_time": "2020-09-30T16:57:28.927009Z"
    }
   },
   "outputs": [
    {
     "data": {
      "image/png": "[encoded data removed]",
      "text/plain": [
       "<Figure size 1152x576 with 1 Axes>"
      ]
     },
     "metadata": {
      "needs_background": "light"
     },
     "output_type": "display_data"
    }
   ],
   "source": [
    "show_hist_for_col(df_clean, 'text_len', 'Length of Text for News')"
   ]
  },
  {
   "cell_type": "markdown",
   "metadata": {},
   "source": [
    "There are some really long news stories (over 10K characters). Let's see what they are about."
   ]
  },
  {
   "cell_type": "code",
   "execution_count": 88,
   "metadata": {
    "ExecuteTime": {
     "end_time": "2020-09-29T18:52:42.379889Z",
     "start_time": "2020-09-29T18:52:42.374830Z"
    }
   },
   "outputs": [],
   "source": [
    "df_long = df_clean[df_clean.text_len > 10000]"
   ]
  },
  {
   "cell_type": "code",
   "execution_count": 89,
   "metadata": {
    "ExecuteTime": {
     "end_time": "2020-09-29T18:52:46.076782Z",
     "start_time": "2020-09-29T18:52:46.052432Z"
    }
   },
   "outputs": [
    {
     "data": {
      "text/html": [
       "<div>\n",
       "<style scoped>\n",
       "    .dataframe tbody tr th:only-of-type {\n",
       "        vertical-align: middle;\n",
       "    }\n",
       "\n",
       "    .dataframe tbody tr th {\n",
       "        vertical-align: top;\n",
       "    }\n",
       "\n",
       "    .dataframe thead th {\n",
       "        text-align: right;\n",
       "    }\n",
       "</style>\n",
       "<table border=\"1\" class=\"dataframe\">\n",
       "  <thead>\n",
       "    <tr style=\"text-align: right;\">\n",
       "      <th></th>\n",
       "      <th>title</th>\n",
       "      <th>text</th>\n",
       "      <th>subject</th>\n",
       "      <th>date</th>\n",
       "      <th>label</th>\n",
       "      <th>title_len</th>\n",
       "      <th>text_len</th>\n",
       "    </tr>\n",
       "  </thead>\n",
       "  <tbody>\n",
       "    <tr>\n",
       "      <th>2639</th>\n",
       "      <td>Trump’s List Of ‘Unreported Terror Attacks’ A...</td>\n",
       "      <td>In another of Donald Trump s whine rests, the ...</td>\n",
       "      <td>News</td>\n",
       "      <td>2017-02-07</td>\n",
       "      <td>fake</td>\n",
       "      <td>90</td>\n",
       "      <td>13095</td>\n",
       "    </tr>\n",
       "    <tr>\n",
       "      <th>4147</th>\n",
       "      <td>Here’s The Master List Of Reasons Why Trump W...</td>\n",
       "      <td>We know Trump is a sexual predator. We know he...</td>\n",
       "      <td>News</td>\n",
       "      <td>2016-10-18</td>\n",
       "      <td>fake</td>\n",
       "      <td>90</td>\n",
       "      <td>15211</td>\n",
       "    </tr>\n",
       "    <tr>\n",
       "      <th>4475</th>\n",
       "      <td>Here You Go: Every Bat Sh*t Crazy Thing That ...</td>\n",
       "      <td>Donald Trump spent Monday night making a total...</td>\n",
       "      <td>News</td>\n",
       "      <td>2016-09-27</td>\n",
       "      <td>fake</td>\n",
       "      <td>91</td>\n",
       "      <td>20264</td>\n",
       "    </tr>\n",
       "    <tr>\n",
       "      <th>7715</th>\n",
       "      <td>Fed Up Republicans Threaten Third Party Optio...</td>\n",
       "      <td>I ve been saying for a long time now that the ...</td>\n",
       "      <td>News</td>\n",
       "      <td>2016-03-03</td>\n",
       "      <td>fake</td>\n",
       "      <td>71</td>\n",
       "      <td>26734</td>\n",
       "    </tr>\n",
       "    <tr>\n",
       "      <th>8111</th>\n",
       "      <td>The Top Ten Reasons We NEED A Liberal Supreme...</td>\n",
       "      <td>One way or another, the passing of Supreme Cou...</td>\n",
       "      <td>News</td>\n",
       "      <td>2016-02-14</td>\n",
       "      <td>fake</td>\n",
       "      <td>52</td>\n",
       "      <td>10120</td>\n",
       "    </tr>\n",
       "    <tr>\n",
       "      <th>...</th>\n",
       "      <td>...</td>\n",
       "      <td>...</td>\n",
       "      <td>...</td>\n",
       "      <td>...</td>\n",
       "      <td>...</td>\n",
       "      <td>...</td>\n",
       "      <td>...</td>\n",
       "    </tr>\n",
       "    <tr>\n",
       "      <th>28649</th>\n",
       "      <td>President Obama's final State of the Union add...</td>\n",
       "      <td>(Reuters) - President Barack Obama knocked Rep...</td>\n",
       "      <td>politicsNews</td>\n",
       "      <td>2016-01-13</td>\n",
       "      <td>true</td>\n",
       "      <td>50</td>\n",
       "      <td>15363</td>\n",
       "    </tr>\n",
       "    <tr>\n",
       "      <th>30759</th>\n",
       "      <td>The thinking behind Kim Jong Un's 'madness'</td>\n",
       "      <td>SEOUL (Reuters) - On an icy December day in 20...</td>\n",
       "      <td>worldnews</td>\n",
       "      <td>2017-11-30</td>\n",
       "      <td>true</td>\n",
       "      <td>43</td>\n",
       "      <td>11405</td>\n",
       "    </tr>\n",
       "    <tr>\n",
       "      <th>31043</th>\n",
       "      <td>Special Report: 'Treacherous shenanigans' - Th...</td>\n",
       "      <td>HARARE (Reuters) - Inside State House in Harar...</td>\n",
       "      <td>worldnews</td>\n",
       "      <td>2017-11-26</td>\n",
       "      <td>true</td>\n",
       "      <td>81</td>\n",
       "      <td>14775</td>\n",
       "    </tr>\n",
       "    <tr>\n",
       "      <th>32027</th>\n",
       "      <td>Special Report: How a defrocked judge became t...</td>\n",
       "      <td>CARACAS (Reuters) - Last March, Chief Justice ...</td>\n",
       "      <td>worldnews</td>\n",
       "      <td>2017-11-15</td>\n",
       "      <td>true</td>\n",
       "      <td>92</td>\n",
       "      <td>17999</td>\n",
       "    </tr>\n",
       "    <tr>\n",
       "      <th>32979</th>\n",
       "      <td>Fake meat, free markets ease North Koreans' hu...</td>\n",
       "      <td>SEOUL (Reuters) - Take the dregs left from mak...</td>\n",
       "      <td>worldnews</td>\n",
       "      <td>2017-11-03</td>\n",
       "      <td>true</td>\n",
       "      <td>50</td>\n",
       "      <td>10496</td>\n",
       "    </tr>\n",
       "  </tbody>\n",
       "</table>\n",
       "<p>204 rows × 7 columns</p>\n",
       "</div>"
      ],
      "text/plain": [
       "                                                   title  \\\n",
       "2639    Trump’s List Of ‘Unreported Terror Attacks’ A...   \n",
       "4147    Here’s The Master List Of Reasons Why Trump W...   \n",
       "4475    Here You Go: Every Bat Sh*t Crazy Thing That ...   \n",
       "7715    Fed Up Republicans Threaten Third Party Optio...   \n",
       "8111    The Top Ten Reasons We NEED A Liberal Supreme...   \n",
       "...                                                  ...   \n",
       "28649  President Obama's final State of the Union add...   \n",
       "30759        The thinking behind Kim Jong Un's 'madness'   \n",
       "31043  Special Report: 'Treacherous shenanigans' - Th...   \n",
       "32027  Special Report: How a defrocked judge became t...   \n",
       "32979  Fake meat, free markets ease North Koreans' hu...   \n",
       "\n",
       "                                                    text       subject  \\\n",
       "2639   In another of Donald Trump s whine rests, the ...          News   \n",
       "4147   We know Trump is a sexual predator. We know he...          News   \n",
       "4475   Donald Trump spent Monday night making a total...          News   \n",
       "7715   I ve been saying for a long time now that the ...          News   \n",
       "8111   One way or another, the passing of Supreme Cou...          News   \n",
       "...                                                  ...           ...   \n",
       "28649  (Reuters) - President Barack Obama knocked Rep...  politicsNews   \n",
       "30759  SEOUL (Reuters) - On an icy December day in 20...     worldnews   \n",
       "31043  HARARE (Reuters) - Inside State House in Harar...     worldnews   \n",
       "32027  CARACAS (Reuters) - Last March, Chief Justice ...     worldnews   \n",
       "32979  SEOUL (Reuters) - Take the dregs left from mak...     worldnews   \n",
       "\n",
       "            date label  title_len  text_len  \n",
       "2639  2017-02-07  fake         90     13095  \n",
       "4147  2016-10-18  fake         90     15211  \n",
       "4475  2016-09-27  fake         91     20264  \n",
       "7715  2016-03-03  fake         71     26734  \n",
       "8111  2016-02-14  fake         52     10120  \n",
       "...          ...   ...        ...       ...  \n",
       "28649 2016-01-13  true         50     15363  \n",
       "30759 2017-11-30  true         43     11405  \n",
       "31043 2017-11-26  true         81     14775  \n",
       "32027 2017-11-15  true         92     17999  \n",
       "32979 2017-11-03  true         50     10496  \n",
       "\n",
       "[204 rows x 7 columns]"
      ]
     },
     "execution_count": 89,
     "metadata": {},
     "output_type": "execute_result"
    }
   ],
   "source": [
    "df_long"
   ]
  },
  {
   "cell_type": "markdown",
   "metadata": {},
   "source": [
    "What is the longest news story?"
   ]
  },
  {
   "cell_type": "code",
   "execution_count": 90,
   "metadata": {
    "ExecuteTime": {
     "end_time": "2020-09-29T18:55:14.558318Z",
     "start_time": "2020-09-29T18:55:14.542698Z"
    }
   },
   "outputs": [
    {
     "data": {
      "text/html": [
       "<div>\n",
       "<style scoped>\n",
       "    .dataframe tbody tr th:only-of-type {\n",
       "        vertical-align: middle;\n",
       "    }\n",
       "\n",
       "    .dataframe tbody tr th {\n",
       "        vertical-align: top;\n",
       "    }\n",
       "\n",
       "    .dataframe thead th {\n",
       "        text-align: right;\n",
       "    }\n",
       "</style>\n",
       "<table border=\"1\" class=\"dataframe\">\n",
       "  <thead>\n",
       "    <tr style=\"text-align: right;\">\n",
       "      <th></th>\n",
       "      <th>title</th>\n",
       "      <th>text</th>\n",
       "      <th>subject</th>\n",
       "      <th>date</th>\n",
       "      <th>label</th>\n",
       "      <th>title_len</th>\n",
       "      <th>text_len</th>\n",
       "    </tr>\n",
       "  </thead>\n",
       "  <tbody>\n",
       "    <tr>\n",
       "      <th>17053</th>\n",
       "      <td>MEDIA TRIPWIRE? Ping Pong Pizza Conspiracy Pro...</td>\n",
       "      <td>Funny how secrets travel. I d start to believ...</td>\n",
       "      <td>US_News</td>\n",
       "      <td>2016-12-28</td>\n",
       "      <td>fake</td>\n",
       "      <td>98</td>\n",
       "      <td>51794</td>\n",
       "    </tr>\n",
       "  </tbody>\n",
       "</table>\n",
       "</div>"
      ],
      "text/plain": [
       "                                                   title  \\\n",
       "17053  MEDIA TRIPWIRE? Ping Pong Pizza Conspiracy Pro...   \n",
       "\n",
       "                                                    text  subject       date  \\\n",
       "17053   Funny how secrets travel. I d start to believ...  US_News 2016-12-28   \n",
       "\n",
       "      label  title_len  text_len  \n",
       "17053  fake         98     51794  "
      ]
     },
     "execution_count": 90,
     "metadata": {},
     "output_type": "execute_result"
    }
   ],
   "source": [
    "df_long[df_long.text_len == df_long.text_len.max()]"
   ]
  },
  {
   "cell_type": "code",
   "execution_count": 102,
   "metadata": {
    "ExecuteTime": {
     "end_time": "2020-09-29T18:58:57.839899Z",
     "start_time": "2020-09-29T18:58:57.834503Z"
    }
   },
   "outputs": [],
   "source": [
    "longest_text = df_long[df_long.text_len == df_long.text_len.max()]['text'].iloc[0]"
   ]
  },
  {
   "cell_type": "code",
   "execution_count": 103,
   "metadata": {
    "ExecuteTime": {
     "end_time": "2020-09-29T18:58:59.915096Z",
     "start_time": "2020-09-29T18:58:59.907546Z"
    }
   },
   "outputs": [
    {
     "data": {
      "text/plain": [
       "' Funny how secrets travel. I d start to believe, if I were to bleed.    Lyrics written by David Bowie from the album OutsideShawn Helton 21st Century Wire In the days before the US presidential election in November 2016, Wikileaks revealed a new string of emails connected to Hillary Clinton s 2016 campaign chairman, John Podesta. Online interpretations of the leaked Podesta email exchanges subsequently led to a digital firestorm on social media, producing an intense conspiratorial  open source investigation  still in search of its smoking gun. However, the phenomenon now known by its hashtag #Pizzagate has since set a number of tertiary events into motion. Is there a real story hidden amongst the debris of this online explosion?Is it possible that  open source investigators  were being led into a virtual cul-de-sac and thus missing the real story?More importantly, could people be playing into the hands of the very establishment they seek to depose?Let s investigate   SHOCK & AWE    Over the past month, the DC-based restaurant Comet Ping Pong, along with Besta Pizza (to a lesser degree Austin s East Side Pies) has been the subject of a peculiar internet-based conspiracy. (Photo Illustration Shawn Helton of 21WIRE)CONTEXT: Podesta Emails, False Hacks & ConspiracyWhile many of the leaked Podesta emails (including the really important one admitting that US partners Qatar and Saudi Arabia are giving funding and  logistical support  of ISIS) caused a major stir in the run-up to the 2016 Election, few Wikileaks releases have attracted more attention then the Podesta emails associated with the internet-based conspiracy dubbed  Pizzagate. In fact, since the release of the so-called  pizzagate  emails, a bundle of leaks and media reports associated with the Clintons political pay-for-play allegations, as well as the shocking admission regarding voter fraud from disgraced Democratic National committee consultant Robert Creamer prior to the 2016 presidential election, have all but disappeared from the mainstream narrative. Very convenient, if you are part of the Democratic Party establishment.Remember that all of this was taking place right after the mainstream media along with the White House, set the stage for a massive PR push implicating Russia as a disrupting force for evil in the US presidential election   allegedly through Kremlin-sponsored hacking of US democratic institutions and through  sophisticated Russian propaganda. In August, the western media s claims against Russia hit overdrive, when the  New York Times s Moscow bureau was the target of an attempted cyber attack this month. But so far, there is no evidence that the hackers, believed to be Russian, were successful. Flash forward to September here and here, as well as early October in the lead up to President Obama s Russian Hack decree, the Clinton-friendly outlet, the NY Times, had all but solidified the Russian cyber-hack claims   but once again, without any definitive evidence or proof.Throw in another American  October surprise  in the form distributed denial of service (DDoS) attacks, renewed calls for the Stop Online Piracy Act (SOPA) internet, led to so-called cyber experts blaming the largest  hack on America  because of the inability to pass SOPA   in effect, reigniting the previously stalled SOPA in Washington DC, along with all of its draconian copyright law positions   all perfectly timed as mainstream reports regarding  fake news suddenly became all the rage across all forms of media.The media clips on YouTube below illustrate the kind of duplicitous double speak regarding the  election rigging  that has become a hallmark of the Obama administration and establishment Washington Following 2016 s US presidential election cycle, a Russian election-hack-theory gained even more media traction, orbiting the political realm like a low-hanging fruit (propelled by President Obama and now the CIA, both conflicting with the FBI s assessment in October), dovetailing with the first grumblings that  fake news  had somehow decided the US presidential election in favor of one candidate, Donald Trump. These are serious accusations that have still failed to yield any solid forensic results from the intelligence community.Is this mere political gamesmanship, or is there more at work?Could this all be covering up and diverting the public away from some other explosive events?  LOLITA EXPRESS    In 2008, Jeffery Epstein was convicted of soliciting an underage girl for prostitution (Image Source: miamibeachadvocate.com)As internet researches battle with mainstream media over allegations in #Pizzagate, another potentially much bigger story became buried under the digital avalanche. If this is indeed the case, then who benefits?The  Lolita Express  ScandalSeemingly even more unsettling and disturbing in 2016, was the vastly underreported  Lolita Express  scandal swirling around the Clinton Campaign.In 2010, Jeffery Epstein, a billionaire hedge fund mogul who is also a member of the Trilateral Commission and the Council on Foreign Relations (as well as playing a role in the formation of the Clinton Global Initiative), effectively walked free even though a 53-page indictment could have landed him in prison for 20 years according to reports. Epstein s  Gatsbyesque  persona once described by New York magazine, has long since given way to a new profile as a convicted sex-offender  a superstar who was now condemned by a litany of legal troubles due to reports of ghastly serial abuse during the past decade.However, during this year s election cycle, coverage concerning new details associated with Epstein s private island, Little St. James, and allegations of sex slave entertainment enterprise there, was virtually buried by the US corporate media.The drop in wall-to-wall coverage from the tongue-tied mainstream media was most likely due to Epstein s close affiliation to former President Bill Clinton, who according flight manifests and other supporting evidence, took  at least 26 trips aboard the  Lolita Express    even apparently ditching his Secret Service detail for at least five of the flights, according to records obtained by FoxNews.com. It doesn t stop there either. Other high-profile names linked to the Epstein case included former Democratic governor Bill Richardson, Kurt Cobain widow Courtney Love, prominent celebrity lawyer, Israeli advocate and Harvard Law professor Alan Dershowitz, British royal Prince Andrew, former Israeli prime minister Ehud Barak, and even president-elect Donald Trump.  THE BLACK BOOK     Epstein flight records and  a little black book  paint a very intriguing picture. (Image Source: Gawker)Interestingly, the Epstein case was covered heavily by Gawker   a news outlets which is now facing bankruptcy following a defamation case won by Hulk Hogan (Terrence Gene Bollea) over the controversial publication of the wrestling icon s sex tape. Hogan s legal victory  took Gawker out  but could the real reason have been its Epstein coverage? Here s some of what Gawker said about the Epstein case: Donald Trump, Courtney Love, former Israeli Prime Minister Ehud Barak, and uber-lawyer Alan Dershowitz may have been identified by a butler as potential  material witnesses  to pedophile billionaire Jeffrey Epstein s crimes against young girls, according to a copy of Epstein s little black book obtained by Gawker.An annotated copy of the address book, which also contains entries for Alec Baldwin, Ralph Fiennes, Griffin Dunne, New York Post gossip Richard Johnson, Ted Kennedy, David Koch, filmmaker Andrew Jarecki, and all manner of other people you might expect a billionaire to know, turned up in court proceedings after Epstein s former house manager Alfredo Rodriguez tried to sell it in 2009. About 50 of the entries, including those of many of Epstein s suspected victims and accomplices as well as Trump, Love, Barak, Dershowitz, and others, were circled by Rodriguez. (The existence of the book has been previously reported by the Daily Mail. Gawker is publishing it in full here for the first time; we have redacted addresses, telephone numbers, email addresses, and the last names of individuals who may have been underage victims.)According to an FBI affidavit, Rodriguez described the address book and the information contained within it as the  Holy Grail  or  Golden Nugget  to unraveling Epstein s sprawling child-sex network. Epstein reportedly also had additional ties to Trump, with both men having on and off again been implicated in a separate Jane Doe  sexual assault lawsuit that was recently dropped in the US court system, apparently for a third time since 1994.The Washington Times discusses how other high-level clients allegedly used Epstein s services   including a member of the British royal family. The following passage is from a report filed in January of 2015: And even post-prison, Mr. Epstein kept up some of these high-profile relationships   leading to his most recent emergence in the news, which involves allegations that he provided Prince Andrew with sexual services from a then-17-year-old American girl, Virginia Roberts.Ms. Roberts, now 30, has filed a federal lawsuit in Florida against Mr. Epstein, alleging he forced her to serve as a  sex slave  and paid her $15,000 to perform sexual services for the prince, the New York Post reported. Here s Sean Stone from RT s Watching the Hawks interviewing Conchita Sarnoff, the Executive Director from The Alliance to Rescue Victims of Trafficking to discuss Epstein s heinous past Another strange turn in the Clinton Email scandal came late in the election, only days before voters went to the polls. Suddenly, it was revealed by media outlets that due to the investigation into the sexting scandal involving disgraced former U.S. Representative Anthony Weiner, (husband of chief Clinton aide Huma Abedine) FBI director James Comey would announce that the agency would be reopening the Clinton email probe.Interestingly, according to a recent interview with Breitbart News, Hillary Clinton herself was alleged to have taken 6 trips to Epstein s Little Saint James island, according to private security kingpin and Blackwater founder Erik Prince. Prior to the election and right after the FBI reopened its investigation into the Clintons (before promptly being shut down for a second time), the controversial mercenary made the extraordinary claim.It s important for readers to note how explosive this revelation truly was, and yet, not one word from either the mainstream media, or  alternative media,  outside of Breitbart and few other blogs, on this potentially devastating allegation. Prince asserted that the NYPD found  way more stuff  within the 650,000 recently scrutinized emails. The news reportedly sent shock waves into the upper echelon of the Democratic Party and the Clinton campaign   as the NYPD was said to have been ready to hand out indictments  into additional criminal activity, possibly involving money laundering and underage sex, among other illicit activity.Prince s commentary on the Democratic Party s apparent corruption was released around the same time as a batch of Podesta Emails that sent internet sleuths down a pizzagate rabbit hole. Prince s claim then seem to be grafted onto the pizzagate theory by some YouTube commentators, only without any actual concrete evidence.In early 2016, the embattled Blackwater (renamed Academi, and then Xe) founder Prince, was the subject of an inquiry that alleged he was involved in a major money laundering scheme with the Bank of China in Libya. In 2014, Prince supposedly setup  Frontier Services Group in 2014 with the help of major Chinese investment firm Citic Group. When you factor in how Prince himself became the subject of a major scandal and is now on the offensive, it s hard to know whether his claims are true or just a political ploy aimed at deflecting his own controversy. However, his claims do offer a dark view into a political party that has been in a downward spiral for several years.Wheat from the ChaffWith all of that in mind, for any true investigation to take place, the facts still need to be separated from what might only be innuendo and overt speculation.Other apparent conspiracies were also brought into the fold during the ascendency of #pizzagate, as social media users seemed to make some startling connections, although without a complete story. The lack of coherence of pizzagate allegations opened the door for some of the usual suspects to come in to steer the conversation away from some potentially damaging connections back to the Clintons. Establishment gatekeeper publication The Daily Beast reported the following in the passage below: Written by user  PleadingtheYiff,  the post attempts to link the Clinton campaign to Laura Silsby, an Idaho missionary who served a six-month prison sentence in Haiti after the organization she founded, New Life Children s Refuge, attempted to transport 33 Haitian children to the Dominican Republic after the 2010 Haiti earthquake.The user s primary proof of links between the Clintons and Silsby:  Huma Abedin was constantly forwarding Hillary articles on this woman s organization.  The post provides no email sent from Clinton to Abedin regarding the incident.The theory then includes a major error. One of the first things Hillary did when she took over the scene in Haiti was to get Laura off the hook,  PleadingtheYiff writes, then links to a website called  AboveTopSecret.com. Silsby wasn t freed and instead remained incarcerated in Haiti, where she faced trial and was found guilty. The nine other missionaries jailed alongside her were freed. Is it possible that the Laura Silsby case was buried under endless collateral damage from pizzagate?With even more damning American conspiracies in 2016, such as the DNC fraud, violent protests funded by George Soros, or the Pentagon paying PR firm Bell Pottinger $540 million to produce fake terror videos, in addition to the Lolita Express revelations concerning the Clintons in particular, you have to wonder whether the pizzagate theory was an unintended coincidence or if it was yet another socially engineered agenda that masked other media stories.What s most obvious, however, is how the pizzagate story and spin-off controversies appear to have obfuscated other real criminality contained within the Podesta email leaks, while providing a media smoke screen for the conspiracies mentioned directly above.In the article below we ll take another look at the pizzagate phenomena (along with Comet Ping Pong s gunman story, in addition to one of Washington DC s most notorious scandals) and how the events surrounding the online conspiracy, could be used to shape new censorship protocols in the wake of US media s witch-hunt for  fake news  sites   LEAKED    John Podesta former chairman for Hillary Clinton s 2016 presidential campaign, pictured with Clinton chief aid Huma Abedin on the Clinton campaign jet. Spirit Cooking & #Pizzagate: A Media-Driven Psy-Op?Within the contents of the controversial Podesta dispatch by Wikileaks in early November, there appeared to be a distressing email chain between Tony Podesta, a top Democratic lobbyist of the Podesta Group (brother of John Podesta, Hillary Clinton s campaign chairman) and a New York City-based Serbian performance artist named Marina Abramovic.The 2015 email exchange between Tony Podesta and Marina Abramovic (image, left) drew a sharp outcry from users on social media platforms like Twitter and Reddit, after the email conversation revealed a dinner party involving a performance art-based ritual calling for the use of real human blood and bodily fluids, referred to as  spirit cooking.   While Abramovic s occult-influenced art could be seen as sick and deeply disturbing to many, and even degenerate depravity to some   it s important to emphasize there was nothing criminal about her email with Tony Podesta or her dark creations captured on video from as early as two decades ago.The origins of Abramovic s spirit cooking appeared to some researchers to be linked directly to Aleister Crowley s, Thelma religion. This prompted some alternative media outlets to link to Everpedia as their primary source to explain the  truth  behind spirit cooking. The internet-based conspiracy ultimately led to increased speculation, turbo-charging even more spurious connections.Another major magnet for pizzagate researchers was Abramovic s book published in 1997, the self-proclaimed  grandmother  of performance art released a book entitled  Spirit Cooking with essential aphrodisiac recipes,   a rare book that contained a sequence of etchings and perverted recipes.As theories about spirit cooking exploded on social media, a series of Podesta emails were leaked containing what had been thought to be coded language concealing an elite underground child sex ring, according some quasi-investigative online sites and mega forums, citing 4chan and Reddit posts.In addition, it appears that a series of emails released by Wikileaks, here and here, are partially what led to one man, James Alefantis, owner of Comet Ping Pong, to become the central pizzagate antagonist. The fact that Alefantis is listed as one of DC s top 50 most influential people   only fuelled speculation that the internet case was  a slam dunk. Social media inquisitors shared pictures from the Instagram account of Alefantis (now blocked to the public) and other friends and contacts linked with him, in an attempt to conclude a vast conspiracy. While many of these images appeared disturbing in the context of the two conspiracies mentioned above, the images themselves did not prove any actual crime had taken place.As the conspiracy deepened, symbols from the Washington DC restaurant/venue Comet Ping Pong (derived from its menu and logo, as well as other pizza restaurants), in addition to apparent coded Podesta emails, sparked an outcry on social media as the symbols used appeared to mimic those according to a Wikileaks release supposedly from the FBI. The apparent leaked release from the FBI disclosed certain markers in sex trafficking and abuse cases. While there might be similarities in the graphics observed at Comet Ping Pong and nearby Besta Pizza, the evidence is still purely circumstantial and certainly nothing conclusively linking the DC-based pizzerias to any abuse ring. Internet trawlers also claimed to have unearthed photos of the digging of a secret basement-dungeon underneath Comet Ping Pong   a claim which later turned out to be false.Note that this one planted detail in the pizzagate story   the evocative image a  secret basement  reserved for child torture and abuse   sent this story into orbit. This is one example of how one or two simple details injected into a storyline can inflame the narrative and motivate forum users beyond what any real forensic investigation could, by creating a virtual crusade.In fact, it was revealed that  Comet uses a low-slung refrigerator at Buck s Fishing & Camping, Mr. Alefantis s other restaurant two doors down on the same block, to store produce, cheese and proofing dough.   (See left photo by Cecilia Kang)It s worth noting that 4chan was also behind one of the most speculative claims surrounding MH370, a story that allegedly involved the patent holders of the tech company Freescale Semiconductor which turned out to be false. Conversely, 4chan has provided some valuable crowd-sourced information, like in the wake of the 2013 Boston Bombing when 4chan users posted a number of photos indicating the presence of other operatives involved in the event   a point totally blacked-out by US authorities and media.Interestingly, the 4chan website is said to be  struggling to survive  financially in part because of increased users driven by viral and clickbait-like material like pizzagate.Through hyper-speculative and often misleading information spread by social media users, the pizzagate narrative took shape Media TripwireAs the US media brushed off the perceived content of the Podesta emails mentioned above, a ground swell of speculation, hyperbole and unsubstantiated claims filled the vacuum online, as enthusiasm continued unabated.It s also important to recognize that one of the main propellers of the initial Pizzagate story was a popular disinformation website called Your News Wire, who regularly feed the public with completely fake news stories online which get propagated through social media. This website has successfully managed to fool many online readers because it will regularly mix real news articles in with its many invented stories. A viral fake story like this would have netted  Your News Wire  tens of thousands of dollars in ad click revenue.BuzzFeed reports: On Oct. 30, a white supremacy Twitter account that presents itself as belonging to a Jewish lawyer in New York tweeted that the NYPD was looking into evidence that emails from Anthony Weiner s laptop contained evidence of Clinton involvement in an  international child enslavement ring. The next day, Oct. 31, Sean Adl-Tabatabai, who used to work with British conspiracy theorist David Icke, took note of the message board post and the tweet. He wrote a post for his site, YourNewsWire.com. His story took another step by claiming an  FBI insider  had confirmed the claims. Where did this this new FBI source come from? Adl-Tabatabai cited a thread on a 4chan message board from back in July. That thread started when an anonymous user invited questions after describing themself as  a person with intimate knowledge of the inner workings of the Clinton case.  (Adl-Tabatabai did not respond to questions sent to him by BuzzFeed News.) By this point, the story became a viral ball of fire, and there was no stopping it.You have to wonder if the spirit cooking/pizzagate emails, might have been used as a tripwire by the establishment to initiate increased internet censorship, a story that has gathered a big boost from highly speculative ideas pasted together by various social media personalities on YouTube and then codified by large popular  alt-media  outlets like Infowars.com here and here, who levied unconfirmed allegations at Comet Ping Pong restaurant and other private businesses in an affluent area of Washington DC.Few conspiracies in recent years have generated as much public outrage, scrutiny and intense speculation. However, we should question the timing of this conspiracy as it relates to the cyber censorship on the table following the  fake news  crisis.The BBC stated the following after a Podesta email thread leaked in November, mentioned the Alefantis connection: In early November, as Wikileaks steadily released piles of emails from Clinton s campaign chairman John Podesta, one contact caught the attention of prankster sites and people on the paranoid fringes.James Alefantis is the owner of Comet Ping Pong, a pizza restaurant in Washington. He s also a big Democratic Party supporter and raised money for both Barack Obama and Hillary Clinton. He was once in a relationship with David Brock, an influential liberal operative.Alefantis   who s never met Clinton   appeared in the Podesta emails in connection with the fundraisers. Other claims attached to the pizzagate theory included a link to a tweet from the deceased investigative reporter, Andrew Breitbart. The pizzagate theory seemed to gather steam from this screenshot of an alleged Breitbart tweet below   but is there more to the story?Upon reviewing the origins of the Breitbart tweet now intertwined with the pizzagate theory, there appears to be some contention about what Breitbart might have been referencing. Here s the political blog Hot Air on the matter: It s a classic Andrew Tweet. His abbreviations, his invention of words ( cover-upperer ) tells me that this was probably Andrew s work. I never really knew him to allow anyone to Tweet on his behalf but I suppose it s possible at some point he did so without my knowledge. So, for our discussion let s stipulate that it was Andrew who sent this out. What is he talking about? Anyone who knew Andrew well and worked closely in his sphere and knew what he would talk and Tweet about with regard to  underage sex slave(s)  and John Podesta, knows exactly what he is referring to: ACORN If you don t remember James O Keefe, Hanna Giles and the ACORN story that broke on Andrew s Big Government website in 2009, here s a quick description via Wikipedia, which has a lot of bogus takes on the story, but this brief description is correct: In July and August 2009, Giles and O Keefe visited ACORN offices in Baltimore, Washington, D.C., Brooklyn, San Bernardino, San Diego, Philadelphia, Los Angeles, and Miami. Giles dressed as a prostitute, while O Keefe wore white khakis with a blue dress shirt and/or tie and claimed to be her boyfriend. Giles and O Keefe recorded the encounters using hidden cameras and pretended to be seeking advice on how to run an illegal business that included the use of underage girls in the sex trade. The article goes on to state that the ACORN saga, which had been instrumental in Breitbart s rise in media, had been in some aspect involved an underage abuse story due to the undercover work of James O keefe and Hannah Giles.  STRANGE DAYS    Comet Ping Pong resides in a quiet affluent DC neighborhood. (Image Source: chicago sun-times)The Comet Ping Pong GunmanIn early December, 28 year-old actor Edgar Maddison Welch was arrested by authorities after reportedly discharging a rifle inside Alefantis s Comet Ping Pong restaurant. Welch had been apparently  self-investigating  Comet Ping Pong, the pizzeria at the epicenter of a shocking conspiracy asserting that the establishment is somehow allegedly involved in an expansive child trafficking abuse ring.Welch s background may have raised a few eyebrows of those who have chronicled the profiles of various gunman in recent years (such as his acting/film production past documented on IMDB), he was also recently involved in a major traffic accident in October, badly injuring a young teenager, potentially impacting his state of mind, as well as being exposed in a potential criminal case.While 21WIRE has outlined the possibility of informants being used in shooting events in the past   usually those individuals have had a lengthy criminal past with multiple links to government, military and sometimes the entertainment industry   Welch doesn t entirely fit this typical mold of a convict turned informant or agent provocateur.Perhaps there s another answer The online site Heavy.com released the following information regarding Welch s father and his work preventing child abductions: Harry Welch Jr. is a former police officer, firearms instructor and expert witness on firearms, according to his IMDB profile. He also writes that his family has hosted foster children and has worked to prevent child abuse.He was,  elected President of the North Carolina Crime Stoppers Association (two terms). Served as Executive Director for Protect-A-Child, a national, non-profit organization to prevent abuse and abduction of children. Appointed by Governor Jim Martin to the Governor s Commission on Child Victimization. Was Welch under psychological duress following his recent car accident, feeding into other aspects of his life, such as his father s work to prevent child abuse, then motivated into action by an online conspiracy?Although it s difficult to accurately gauge Welch s true motivation, some YouTube personalities absolutely contend that his involvement was scripted    to smear the a new burgeoning  pizzagate research community  online. Additionally, some researchers cite Welch s relief visit to Haiti in 2010, as absolute  proof of a hoax  because alleged Clinton Foundation ties to human trafficking in Haiti   claims that have to this date, have yet to be completely proven.This part of the pizzagate conspiracy gained steam when Monica Petersen, an activist for sex-worker rights, who over the summer was working for  Claude d Estree, the executive director of the Human Trafficking Center at the University of Denver,  apparently died of a suicide in mid November while in Haiti. However, at the time the circumstances of her death were not entirely clear, which led to intense speculation not grounded in fact. If there was evidence of foul play, certainly this could be investigated as part of a possible cover-up, especially during such a hotly contested US election involving the Clintons   but until that issue is resolved, any talk of  proof  of a wider conspiracy is still just that, talk.The Petersen tragedy was then grafted onto the pizzagate story The Washington Post reported the following, according to executive director d Estree:  Petersen had gone to Haiti a number of times, but she was not there to research human trafficking and was not investigating the Clinton Foundation. He said she had been a  brilliant  research fellow, working the past two years to produce a still unpublished article that critiqued a controversial book on the business of sex trafficking by Siddharth Kara. Unfortunately, Petersen s story got packaged with allegations of a Clinton trafficking conspiracy that was then interwoven within the pizzagate theory and on the same day Welch walked into Comet Ping Pong, the widely-known site Infowars.com  posted a YouTube video titled  Haiti PIZZAGATE: Death of Child Trafficking Investigator,  without actually confirming the full details surrounding Petersen s death. Everpedia, one of the first websites to explain the details of spirit cooking, appeared to also fan the flames of an alleged conspiracy surrounding Petersen s death.An ABC News release below disclosed the full details regarding Welch s apparent criminal activity at Comet Ping Pong: At around 3 p.m., he arrived at the restaurant, where witnesses say they saw Welch holding an assault rifle across his chest, according to the complaint. As he moved toward the back of the restaurant, employees and customers fled the building.As everyone was fleeing, Welch encountered an employee returning from the back freezer, according to court documents. The employee said Welch pointed the AR-15 rifle in his direction, the documents state, but Welch denied raising the firearm at the employee.After the customers and employees left the restaurant, police created a perimeter around it, and at about 3:24 p.m. Welch exited the building with his hands in the air, complying with officers. The story continued, with the following description: At one point he said he encountered a locked door and attempted to open it with a butter knife, the complaint says. When that didn t work, he fired shots at the lock with his AR-15, documents say. Here s a screen shot of Welch s incident report MSM Fake News Witch-HuntFor the mainstream media, pizzagate was the gift that just kept on giving.Following Welch s encounter inside Comet Ping Pong, the conspiracy known as  pizzagate  has fallen into the manipulative hands of the corporate mainstream media, now castigating  speculative alternative media outlets,  which in-turn gave legs to the already convoluted  fake news witch-hunt being waged by mainstream media   specifically aimed at independent outlets and blogs that regularly produce insightful critical analysis.Additionally, since the spirit cooking and pizzagate theories were merging, there has been no solid evidence linking the restaurant to anything criminal, yet the theories continue to persist online, implicating private citizens in what is at this point a  victimless  crime. This has made alternative media an easy target for mainstream media and politicians calling for more  control  over social media content to help stop waht mainstream pundits were now describing as pizzagate s own campaign online abuse and  internet bullying  against Comet Ping Pong s owner and staff.From a legal stand point, the pizzagate conspiracy could also potentially lead to a court case against the root cause of certain defamatory allegations and apparent death threats   as Alefantis and other shop owners are private citizens and not public figures. This is something to consider when presenting any possible theory directly implicating an individual in a major felony. Unless there exists a real forensic smoking gun, or a whistleblower willing to come forward then there is no  case    only speculation which could be construed as libel and defamation without any supporting evidence.While the internet has zeroed-in on pizzeria-based conspiracies over the past two months, it s important to remember that Washington has had a long dark history linked to illicit prostitution and sex trafficking   including at least two such expansive cases that reached all the way to the White House   DISGRACED    Former US Congressman Barney Frank. Frank did not seek re-lection in 2012 after he was found to have engineered a $12 million TARP bailout for OneUnited Bank. (Image Source: businessinsider.com)Washington s Silence: Congressman Frank s  Call Boys In 2011, Democratic Congressman Barney Frank, decided not to seek re-election. While much of the mainstream media waxed poetic about his 30-year career, there was virtually no mention of his involvement in one of the most notable DC scandals over the past three decades.In 1989, it was discovered that Frank s then boyfriend Stephen Gobie (who the US representative once solicited for an $80 dollar sexual encounter) had been running a prostitution ring out of Congressman Frank s Capitol Hill apartment   according to Gobie, Barney Frank was fully aware of the operation.Here s a passage from a Business Insider article from 2011 that describes one of DC s darkest scandals that is barely mentioned by media outlets to this day: Reuters didn t mention it. The New York Times didn t bring it up. The Guardian didn t note it either. The Washington Post got to it in the 17th paragraph.In 1989 it was discovered that Barney Frank s boyfriend, Stephen Gobie, whom Frank had once hired as a male prostitute, was running a male-brothel out of the Congressman s home. Frank claimed he did not know about the prostitution ring in his home, but he did use the power of his office to  fix  33 tickets for Gobie. And he knowingly wrote a misleading letter to Gobie s probation officer in Virginia. Frank received a  reprimand  for fixing the tickets. Gobie maintained that Frank knew about the prostitution ring operation in his home. Even writers who were absolutely untroubled by the openly homosexual lawmaker in 1989 thought that Frank should have resigned. Or they at least acknowledged that there was an abuse of his office. Additionally, the Washington Post reported that Gobie  maintained a relationship with Gabriel A. Massaro, the principal of Chevy Chase Elementary School, and used an office at the school in late 1987 to make telephone calls and have one client meet a prostitute. While Massaro was placed on administrative leave, the conspiracy deepened as the Washington Post followed up the breaking story providing the following details: With Congress in recess, it s too soon to tell if the Massachusetts Democrat will weather his admission that he paid Gobie for sex, hired him as a personal aide and wrote letters on congressional stationary to the convicted felon s probation officer. Shockingly, the scandal continued to persist as the investigation led to other political inquiries. Frank s scandal appeared to overlap and dovetail with another disturbing ring that reached all the way to the White House during the Reagan-Bush era.The Franklin Cover-upThe Barney Frank scandal indeed followed another appalling and chilling scandal dubbed the  Franklin Cover-up.  The shocking case involving Omaha, Nebraska s Franklin Credit Union employee named Lawrence King, who looted his employer to the tune of $38 million dollars. Here s a Washington Post article from 1990 on the matter: Lawrence E. King Jr., everyone now agrees, had a remarkable knack for stretching a dollar. On a salary of $16,200 a year, the credit union manager drove a $70,000 white Mercedes   and still could afford to spend $10,000 a month on limousines. His credit card charges topped $1 million, he owned a four-story house on 26 acres overlooking the Missouri River, and his floral bill alone came to $146,000 during a fragrant, 13-month period in 1987-88. While King s embezzlement was troublesome, it paled into comparison to a wider charge of trafficking and abuse levied at the credit union manager. The Post continued, outlining the awful truth about the abuse tied to King, in a group called the Franklin Five: In June 1988, a social worker at a mental hospital in Omaha reported allegations of possible child abuse to the Nebraska Foster Care Review Board, an agency that monitors the placement of several thousand children in the state.The board subsequently asked Omaha police and the state attorney general to investigate possible  child exploitation,  a  child prostitution ring  and  inappropriate activities by Larry King. More evidence in the same report revealed the following: 21 hours of videotaped testimony from three new witnesses, all in their early twenties, who said that, as minors, they had been victims of physical and sexual abuse. The book entitled The Franklin Cover-up, by former Nebraska state Senator and lawyer, John De Camp, chronicled a case that implicated politicians, judges, those in the military, police, as well as members of the intelligence community in the subsequent abduction of numerous children over the course of many years.Lawrence King was eventually convicted on charges of theft from the Franklin Credit Union and ordered to pay damages to Paul Bonacci for the apparent abuse he suffered during his abduction. Bonacci later told investigators he had participated in the abduction of Johnny Gosch, but according to (Polk County Attorney John Sarcone ) The Des Moines Resgister,  Bonacci has said he took part in Johnny Gosch s abduction, but Sarcone said investigators concluded any involvement by Bonacci was not credible. Here s a short summary of the disturbing case below: On February 5, 1999, in U.S. District Court in Lincoln, Nebraska, an extraordinary hearing occurred in Paul A. Bonacci v. Lawrence E. King, a civil action in which the plaintiff charged that he had been ritualistically abused by the defendant, as part of a nationwide pedophile ring linked to powerful political figures in Washington and to elements of the U.S. military and intelligence establishment. Three weeks later, on February 27, Judge Warren K. Urbom ordered King, who is currently in Federal prison, to pay $1 million in damages to Bonacci, in what Bonacci s attorney John DeCamp said was a clear signal that  the evidence presented was credible. The Frank and Franklin conspiracies outlined above sent shock waves through the establishment in Washington, and while it is possible we are seeing another trafficking cover-up happening again today, one should consider that thus far, there have been no victims found to have been abused regarding Comet Ping Pong or any other business wrapped up within the online pizzagate theory.A Franklin Cover-up documentary called  Conspiracy of Silence  was made and allegedly pulled from circulation following the fallout from a case that also implicated the Catholic founded non-profit orphanage, Boys Town.In a related scandal exposed in 2002, The Boston Globe s Spotlight Team  first revealed that the leader of the Catholic Church in Boston, Cardinal Bernard Law, allowed one of his priests to continue working even though Law knew that Fr. John Geoghan had spent his career sexually assaulting children. The story became so huge, that it led to more than 250 priests being publicly named in abuse allegations, covering some 100 cities in the US and another 100 globally. In 2015, Hollywood released the film Spotlight, which chronicled the tales of abuse.Similarly in the UK, over the past few years, an investigation into the Jimmy Savile abuse scandal  was compounded by BBC s own cover-up of the serious claims. The Savile scandal and cover-up featured many whistleblowers and victims coming forward, and also showed a high degree of cover-up at the police department level as well.While observing the connective aspects of various scandals, DC s political scene has also revealed some telling business and establishment links which raise even more interesting questions   MEDIA MACHINE    Democratic political operative David Brock. (Image Source: twitter)There are some interesting aspects of pizzagate which have been almost untouched by internet sleuths.Below we ll take a look at George Soros-funded Media Matters and its director David Brock and examine his past connections and tangential links to both Barney Frank and James Alefantis Media Matters  & Political PlotsIn 1997, political operative David Brock was once a right-wing media hit-man so to speak, writing conservative op-ed s taking on college campus  marxists  and was an investigative reporter for the weekly news magazine Insight on the News (published by The Washington Times). Some time later, Brock became a Democratic political operative and Soros righthand man at Media Matters.Some reports also claim that Brock (seen on the left with Barney Frank) joined on with Sidney Blumenthal and the Clintons simply over money   but others suggest a different tale   one that took place during the course of Brock completing a somewhat strange book entitled  The Seduction of Hillary Clinton,  which deflected controversies aimed at the Clintons and took a softball approach to Hillary s political evolution.Over the years, many critics have questioned Brock s hidden Washington past and his unlikely political evolution Blackmail? Brock, Grey & AlefantisIn 2012, FOX NEWS revealed the following, as Media Matters chief David Brock paid a former domestic partner $850,000 after being threatened with damaging information involving the organization s donors and the IRS   a deal that Brock later characterized as a blackmail payment, according to legal documents obtained by FoxNews.com. Brock s bitter separation from William Grey led to accusations of blackmail and harassment: In an acrimonious lawsuit settled at the end of last year, Brock accused William Grey of making repeated threats to expose him to the  scorn or ridicule of his employees, donors and the press in demanding money and property.  Brock claimed in legal papers that he sold a Rehoboth Beach, Del., home he once shared with Grey in order to meet Grey s demands, which he called  blackmail  in the lawsuit. Brock s legal trouble with Grey appeared to be the result of a severed relationship after 10 years, with Brock ending the relationship, he began dating Washington, D.C., restaurant impresario James Alefantis,  according to reports.Considering how Brock and Grey s end played out according to court records revealed by the media, one might consider that this latest DC drama unfolding in the form of pizzagate, could also be the result of bad-jacketing (as suggested by the blog auticulture) after a bitter love triangle involving the trio   in the lead up to one of the most contentious US presidential elections in history.According to Ward Churchill s,  Agents of Repression: The FBI s Secret Wars Against the Black Panther Party and the American Indian Movement: Snitch-jacketing or bad-jacketing refers to the practice creating suspicion   through the spread of rumors, manufacture of evidence etc Bad-jacketing had been a technique employed by the FBI under their program COINTELPRO.Domestically in America, the FBI created the counter-intelligence program known as COINTELPRO, to influence, disrupt and coerce political factions from the inside out, infiltrating countless political groups and movements. According to reports these included the following,  The Black Panther Party, The Communist Party of America, the Ku Klux Klan, the Socialist Workers Party, the New Left, the Students for a Democratic Society, the American Indian Movement, the Chicano Movement, the Puerto Rican Liberation Movement, Communist groups, anti-war organizations, Hollywood stars sympathetic to these groups, and civil rights leaders. Between 1956 and 1971 the FBI s controversial program influenced and radicalized hundreds of left-wing and right-wing groups to control and neutralize political dissidents across America. No part of politics was immune to COINTELPRO.Is it possible that a DC love triangle that once involved Brock, Grey & Alefantis, led to a PR-driven form (as a part of Brock s Correct the Record or something else) of bad-jacketing which then cascaded through the Democratic Party elite, ultimately taking its triangle shape   through the use of pizzagate and others? MEDIA CONTROL    (Photo illustration redesigned by 21WIRE s Shawn Helton)Censorship & the  Fake News  Witch-HuntIn early November, just prior to the US presidential election, CNN published an article stating the following: A recent BuzzFeed study of  hyperpartisan Facebook pages  found that these pages  are consistently feeding their millions of followers false or misleading information. Three weeks later in a republished article written by Robert Parry from Consortium News, it was disclosed that major media companies had been heavily involved in pushing the fake news meme, citing many election-based posts made online as the culprit: In its lead editorial on Sunday, The New York Times decried what it deemed  The Digital Virus Called Fake News  and called for Internet censorship to counter this alleged problem, taking particular aim at Facebook founder Mark Zuckerberg for letting  liars and con artists hijack his platform. Below is a passage from a recent report filed at 21WIRE discussing the fake news witch-hunt, which has now led to new calls for internet censorship: Over the past month, The Washington Post published an irresponsible propaganda piece that blamed the 2016 US election results on  fake news  dispensed via sophisticated Russian propaganda. These accusations of course were completely unfounded, deliberately feeding into a paranoid trial by media format that is no doubt echoed by US government sock puppet accounts that act as a digital firing squad by redirecting public perception.While the US mainstream media contends that  fake news  somehow altered the 2016 presidential election cycle, it s important to remember that the US government has some pedigree here, having been behind the creation of bogus social media accounts and personalities for years now.Back in 2011, The UK s Guardian reported that the US government via CENTCOM, was looking to gain a foothold over information shared on the internet through fake online personal accounts: The discovery that the US military is developing false online personalities   known to users of social media as  sock puppets    could also encourage other governments, private companies and non-government organisations to do the same.The Centcom contract stipulates that each fake online persona must have a convincing background, history and supporting details, and that up to 50 US-based controllers should be able to operate false identities from their workstations  without fear of being discovered by sophisticated adversaries . This is just one example. Who really knows how widespread this practice is.You can expect a litany of allegations to continue from the mainstream, along with their faux war on fake news sites which has been used deliberately to discredit and frame genuine investigative analysis in alternative media, its intended target. Western media s anti-Russian hyperbole has morphed and broadened somewhat, thanks to Facebook, Google and Twitter and the alphabet establishment news agencies, Washington has a new go-to scapegoat joining the tired old Russian  hack  meme   independent media. SEE ALSO: Washington Post Sloppy  Journalism  Blames Russia for  Fake News  Crisis and Trump s Win, While Pushing Neo-McCarthyismIt appears as though there has been a coordinated effort to combine the latest run of conspiracies in America, whether it s the fake news meme, the  Russian election-hack  meme or pizzagate    they all seem to be have been used to undermine key aspects of internet freedom.Below is an interview with James Alefantis featured on Megyn Kelly s Kelly File discussing the highly speculative pizzagate theory. During Kelly s interview, the focus centered around unsubstantiated claims levied at the business owner and his place of business Here s a very detailed analysis provided by researcher David Icke discussing the multi-layered theories wrapped up in the pizzagate conspiracy and its relation to censorship and so-called  fake news In ConclusionThe overtly conspiracy-tinged pizzagate theory, emerged like a hydra out of sub-Reddit and 4chan threads and Twitter posts, while catapulting only the most sensational aspects into the mainstream matrix. The story conjures many Hollywood and government tales of cover-up, murder, abuse and deception throughout history.The perceived presence of a politically charged Satanic sex-cult intertwined within a paedophilic abuse ring, seemed to have only enhanced the narrative for many internet-sleuths, who in some cases, held steadfast to a biased guilt-by-association meme   even in the absence of any known victims, and without any forensic evidence or any eye-witness testimony of a crime.This is not to suggest that VIP child sex rings and ritual abuse cases do not exist in America. One such murder spree, known as the  Son of Sam  case, was reopened in part due to evidence of Satanic cult activity and multiple offenders. Although the findings were suspended, the case was never officially closed.While people should certainly have the ability to express their opinion about pizzagate without shame or ridicule, using biased, misleading or fraudulent information (in some cases dispensing defamatory or threatening remarks) in a rapid-fire echo chamber, could ultimately undermine any legitimate investigation if there truly was a crime committed here, or elsewhere. If that is the ultimate legacy of pizzagate, then it is a devastating self-inflicted wound for the alternative media.While it s true that sites like Reddit and Twitter could cite the 1996 Communications Decency Act, as a protection for hosting defamatory information posts by users, there could be real consequences for those deliberately posting defamatory content with no real evidence to substantiate such allegations.Another risk with a whirlwind like this, is that it would be very easy for an agent provocateur to post a slick YouTube video or craft an article   with the intention of whipping-up a storm that could be used to damage independent media as a whole. It s very possible that this has already happened at some point over the life of the internet, and it s certain that the powers that be will use this tactic again in the future.Above all however, it s important to separate the fallout from the pizzagate story and other fake news allegations, as those in mainstream media such as The New York Times, The Washington Post and the self-anointed  fact checker Snopes.com, seem to have propped up this pizzeria conspiracy as a battle cry to introduce the idea of new internet censorship protocols.It s anybody s guess what will be the final outcome of the #Pizzagate phenomenon, but for the moment, it seems to have collapsed under the weight of its own mountain of digital ash. Maybe that was the idea. READ MORE MSM LIES AT: 21st Century Wire MSM FilesSUPPORT 21WIRE  SUBSCRIBE NOW & BECOME A MEMBER @21WIRE.TV'"
      ]
     },
     "execution_count": 103,
     "metadata": {},
     "output_type": "execute_result"
    }
   ],
   "source": [
    "longest_text"
   ]
  },
  {
   "cell_type": "markdown",
   "metadata": {},
   "source": [
    "It looks like an actual news story, not invalid data.  I think it will be safe to assume they are all ok to keep in the dataset."
   ]
  },
  {
   "cell_type": "code",
   "execution_count": 104,
   "metadata": {
    "ExecuteTime": {
     "end_time": "2020-09-29T19:00:47.835151Z",
     "start_time": "2020-09-29T19:00:47.817174Z"
    }
   },
   "outputs": [
    {
     "data": {
      "text/plain": [
       "count    21191.000000\n",
       "mean      2378.527158\n",
       "std       1683.781664\n",
       "min        152.000000\n",
       "25%        906.500000\n",
       "50%       2216.000000\n",
       "75%       3226.500000\n",
       "max      29781.000000\n",
       "Name: text_len, dtype: float64"
      ]
     },
     "execution_count": 104,
     "metadata": {},
     "output_type": "execute_result"
    }
   ],
   "source": [
    "df_clean[df_clean.label == 'true'].text_len.describe()"
   ]
  },
  {
   "cell_type": "code",
   "execution_count": 105,
   "metadata": {
    "ExecuteTime": {
     "end_time": "2020-09-29T19:00:57.270300Z",
     "start_time": "2020-09-29T19:00:57.253236Z"
    }
   },
   "outputs": [
    {
     "data": {
      "text/plain": [
       "count    17447.000000\n",
       "mean      2550.912936\n",
       "std       2201.223680\n",
       "min          5.000000\n",
       "25%       1650.000000\n",
       "50%       2235.000000\n",
       "75%       3006.000000\n",
       "max      51794.000000\n",
       "Name: text_len, dtype: float64"
      ]
     },
     "execution_count": 105,
     "metadata": {},
     "output_type": "execute_result"
    }
   ],
   "source": [
    "df_clean[df_clean.label == 'fake'].text_len.describe()"
   ]
  },
  {
   "cell_type": "markdown",
   "metadata": {},
   "source": [
    "What's the news story that is only 5 characters?"
   ]
  },
  {
   "cell_type": "code",
   "execution_count": 107,
   "metadata": {
    "ExecuteTime": {
     "end_time": "2020-09-29T19:04:16.362475Z",
     "start_time": "2020-09-29T19:04:16.346742Z"
    }
   },
   "outputs": [
    {
     "data": {
      "text/html": [
       "<div>\n",
       "<style scoped>\n",
       "    .dataframe tbody tr th:only-of-type {\n",
       "        vertical-align: middle;\n",
       "    }\n",
       "\n",
       "    .dataframe tbody tr th {\n",
       "        vertical-align: top;\n",
       "    }\n",
       "\n",
       "    .dataframe thead th {\n",
       "        text-align: right;\n",
       "    }\n",
       "</style>\n",
       "<table border=\"1\" class=\"dataframe\">\n",
       "  <thead>\n",
       "    <tr style=\"text-align: right;\">\n",
       "      <th></th>\n",
       "      <th>title</th>\n",
       "      <th>text</th>\n",
       "      <th>subject</th>\n",
       "      <th>date</th>\n",
       "      <th>label</th>\n",
       "      <th>title_len</th>\n",
       "      <th>text_len</th>\n",
       "    </tr>\n",
       "  </thead>\n",
       "  <tbody>\n",
       "    <tr>\n",
       "      <th>12095</th>\n",
       "      <td>DEAR DEMOCRATS AND LIBERALS…Stop Complaining A...</td>\n",
       "      <td>Ouch!</td>\n",
       "      <td>politics</td>\n",
       "      <td>2016-11-21</td>\n",
       "      <td>fake</td>\n",
       "      <td>96</td>\n",
       "      <td>5</td>\n",
       "    </tr>\n",
       "  </tbody>\n",
       "</table>\n",
       "</div>"
      ],
      "text/plain": [
       "                                                   title   text   subject  \\\n",
       "12095  DEAR DEMOCRATS AND LIBERALS…Stop Complaining A...  Ouch!  politics   \n",
       "\n",
       "            date label  title_len  text_len  \n",
       "12095 2016-11-21  fake         96         5  "
      ]
     },
     "execution_count": 107,
     "metadata": {},
     "output_type": "execute_result"
    }
   ],
   "source": [
    "df_clean[df_clean.text_len == df_clean.text_len.min()]"
   ]
  },
  {
   "cell_type": "markdown",
   "metadata": {},
   "source": [
    "It's just one word, but I think it should be kept."
   ]
  },
  {
   "cell_type": "markdown",
   "metadata": {},
   "source": [
    "The bulk of the Fake and True news stories are about the same length, when looking at the 2nd and 3rd quartile values, but the fake news stories have a higher max and and significantly higher 1st quartile value."
   ]
  },
  {
   "cell_type": "markdown",
   "metadata": {},
   "source": [
    "## Capital Letters in Title"
   ]
  },
  {
   "cell_type": "code",
   "execution_count": 108,
   "metadata": {
    "ExecuteTime": {
     "end_time": "2020-09-29T19:12:18.636923Z",
     "start_time": "2020-09-29T19:12:18.193440Z"
    }
   },
   "outputs": [],
   "source": [
    "df_clean['caps_in_title'] = df_clean['title'].apply(lambda title: sum(1 for char in title if char.isupper()))"
   ]
  },
  {
   "cell_type": "code",
   "execution_count": 109,
   "metadata": {
    "ExecuteTime": {
     "end_time": "2020-09-29T19:12:30.872100Z",
     "start_time": "2020-09-29T19:12:30.845585Z"
    }
   },
   "outputs": [
    {
     "data": {
      "text/html": [
       "<div>\n",
       "<style scoped>\n",
       "    .dataframe tbody tr th:only-of-type {\n",
       "        vertical-align: middle;\n",
       "    }\n",
       "\n",
       "    .dataframe tbody tr th {\n",
       "        vertical-align: top;\n",
       "    }\n",
       "\n",
       "    .dataframe thead th {\n",
       "        text-align: right;\n",
       "    }\n",
       "</style>\n",
       "<table border=\"1\" class=\"dataframe\">\n",
       "  <thead>\n",
       "    <tr style=\"text-align: right;\">\n",
       "      <th></th>\n",
       "      <th>title</th>\n",
       "      <th>text</th>\n",
       "      <th>subject</th>\n",
       "      <th>date</th>\n",
       "      <th>label</th>\n",
       "      <th>title_len</th>\n",
       "      <th>text_len</th>\n",
       "      <th>caps_in_title</th>\n",
       "    </tr>\n",
       "  </thead>\n",
       "  <tbody>\n",
       "    <tr>\n",
       "      <th>0</th>\n",
       "      <td>Donald Trump Sends Out Embarrassing New Year’...</td>\n",
       "      <td>Donald Trump just couldn t wish all Americans ...</td>\n",
       "      <td>News</td>\n",
       "      <td>2017-12-31</td>\n",
       "      <td>fake</td>\n",
       "      <td>79</td>\n",
       "      <td>2893</td>\n",
       "      <td>11</td>\n",
       "    </tr>\n",
       "    <tr>\n",
       "      <th>1</th>\n",
       "      <td>Drunk Bragging Trump Staffer Started Russian ...</td>\n",
       "      <td>House Intelligence Committee Chairman Devin Nu...</td>\n",
       "      <td>News</td>\n",
       "      <td>2017-12-31</td>\n",
       "      <td>fake</td>\n",
       "      <td>69</td>\n",
       "      <td>1898</td>\n",
       "      <td>8</td>\n",
       "    </tr>\n",
       "    <tr>\n",
       "      <th>2</th>\n",
       "      <td>Sheriff David Clarke Becomes An Internet Joke...</td>\n",
       "      <td>On Friday, it was revealed that former Milwauk...</td>\n",
       "      <td>News</td>\n",
       "      <td>2017-12-30</td>\n",
       "      <td>fake</td>\n",
       "      <td>90</td>\n",
       "      <td>3597</td>\n",
       "      <td>15</td>\n",
       "    </tr>\n",
       "    <tr>\n",
       "      <th>3</th>\n",
       "      <td>Trump Is So Obsessed He Even Has Obama’s Name...</td>\n",
       "      <td>On Christmas day, Donald Trump announced that ...</td>\n",
       "      <td>News</td>\n",
       "      <td>2017-12-29</td>\n",
       "      <td>fake</td>\n",
       "      <td>78</td>\n",
       "      <td>2774</td>\n",
       "      <td>19</td>\n",
       "    </tr>\n",
       "    <tr>\n",
       "      <th>4</th>\n",
       "      <td>Pope Francis Just Called Out Donald Trump Dur...</td>\n",
       "      <td>Pope Francis used his annual Christmas Day mes...</td>\n",
       "      <td>News</td>\n",
       "      <td>2017-12-25</td>\n",
       "      <td>fake</td>\n",
       "      <td>70</td>\n",
       "      <td>2346</td>\n",
       "      <td>11</td>\n",
       "    </tr>\n",
       "    <tr>\n",
       "      <th>...</th>\n",
       "      <td>...</td>\n",
       "      <td>...</td>\n",
       "      <td>...</td>\n",
       "      <td>...</td>\n",
       "      <td>...</td>\n",
       "      <td>...</td>\n",
       "      <td>...</td>\n",
       "      <td>...</td>\n",
       "    </tr>\n",
       "    <tr>\n",
       "      <th>38639</th>\n",
       "      <td>'Fully committed' NATO backs new U.S. approach...</td>\n",
       "      <td>BRUSSELS (Reuters) - NATO allies on Tuesday we...</td>\n",
       "      <td>worldnews</td>\n",
       "      <td>2017-08-22</td>\n",
       "      <td>true</td>\n",
       "      <td>61</td>\n",
       "      <td>2821</td>\n",
       "      <td>8</td>\n",
       "    </tr>\n",
       "    <tr>\n",
       "      <th>38640</th>\n",
       "      <td>LexisNexis withdrew two products from Chinese ...</td>\n",
       "      <td>LONDON (Reuters) - LexisNexis, a provider of l...</td>\n",
       "      <td>worldnews</td>\n",
       "      <td>2017-08-22</td>\n",
       "      <td>true</td>\n",
       "      <td>52</td>\n",
       "      <td>800</td>\n",
       "      <td>3</td>\n",
       "    </tr>\n",
       "    <tr>\n",
       "      <th>38641</th>\n",
       "      <td>Minsk cultural hub becomes haven from authorities</td>\n",
       "      <td>MINSK (Reuters) - In the shadow of disused Sov...</td>\n",
       "      <td>worldnews</td>\n",
       "      <td>2017-08-22</td>\n",
       "      <td>true</td>\n",
       "      <td>49</td>\n",
       "      <td>1950</td>\n",
       "      <td>1</td>\n",
       "    </tr>\n",
       "    <tr>\n",
       "      <th>38642</th>\n",
       "      <td>Vatican upbeat on possibility of Pope Francis ...</td>\n",
       "      <td>MOSCOW (Reuters) - Vatican Secretary of State ...</td>\n",
       "      <td>worldnews</td>\n",
       "      <td>2017-08-22</td>\n",
       "      <td>true</td>\n",
       "      <td>61</td>\n",
       "      <td>1199</td>\n",
       "      <td>4</td>\n",
       "    </tr>\n",
       "    <tr>\n",
       "      <th>38643</th>\n",
       "      <td>Indonesia to buy $1.14 billion worth of Russia...</td>\n",
       "      <td>JAKARTA (Reuters) - Indonesia will buy 11 Sukh...</td>\n",
       "      <td>worldnews</td>\n",
       "      <td>2017-08-22</td>\n",
       "      <td>true</td>\n",
       "      <td>52</td>\n",
       "      <td>1338</td>\n",
       "      <td>2</td>\n",
       "    </tr>\n",
       "  </tbody>\n",
       "</table>\n",
       "<p>38638 rows × 8 columns</p>\n",
       "</div>"
      ],
      "text/plain": [
       "                                                   title  \\\n",
       "0       Donald Trump Sends Out Embarrassing New Year’...   \n",
       "1       Drunk Bragging Trump Staffer Started Russian ...   \n",
       "2       Sheriff David Clarke Becomes An Internet Joke...   \n",
       "3       Trump Is So Obsessed He Even Has Obama’s Name...   \n",
       "4       Pope Francis Just Called Out Donald Trump Dur...   \n",
       "...                                                  ...   \n",
       "38639  'Fully committed' NATO backs new U.S. approach...   \n",
       "38640  LexisNexis withdrew two products from Chinese ...   \n",
       "38641  Minsk cultural hub becomes haven from authorities   \n",
       "38642  Vatican upbeat on possibility of Pope Francis ...   \n",
       "38643  Indonesia to buy $1.14 billion worth of Russia...   \n",
       "\n",
       "                                                    text    subject  \\\n",
       "0      Donald Trump just couldn t wish all Americans ...       News   \n",
       "1      House Intelligence Committee Chairman Devin Nu...       News   \n",
       "2      On Friday, it was revealed that former Milwauk...       News   \n",
       "3      On Christmas day, Donald Trump announced that ...       News   \n",
       "4      Pope Francis used his annual Christmas Day mes...       News   \n",
       "...                                                  ...        ...   \n",
       "38639  BRUSSELS (Reuters) - NATO allies on Tuesday we...  worldnews   \n",
       "38640  LONDON (Reuters) - LexisNexis, a provider of l...  worldnews   \n",
       "38641  MINSK (Reuters) - In the shadow of disused Sov...  worldnews   \n",
       "38642  MOSCOW (Reuters) - Vatican Secretary of State ...  worldnews   \n",
       "38643  JAKARTA (Reuters) - Indonesia will buy 11 Sukh...  worldnews   \n",
       "\n",
       "            date label  title_len  text_len  caps_in_title  \n",
       "0     2017-12-31  fake         79      2893             11  \n",
       "1     2017-12-31  fake         69      1898              8  \n",
       "2     2017-12-30  fake         90      3597             15  \n",
       "3     2017-12-29  fake         78      2774             19  \n",
       "4     2017-12-25  fake         70      2346             11  \n",
       "...          ...   ...        ...       ...            ...  \n",
       "38639 2017-08-22  true         61      2821              8  \n",
       "38640 2017-08-22  true         52       800              3  \n",
       "38641 2017-08-22  true         49      1950              1  \n",
       "38642 2017-08-22  true         61      1199              4  \n",
       "38643 2017-08-22  true         52      1338              2  \n",
       "\n",
       "[38638 rows x 8 columns]"
      ]
     },
     "execution_count": 109,
     "metadata": {},
     "output_type": "execute_result"
    }
   ],
   "source": [
    "df_clean"
   ]
  },
  {
   "cell_type": "code",
   "execution_count": 136,
   "metadata": {
    "ExecuteTime": {
     "end_time": "2020-09-30T16:58:16.951483Z",
     "start_time": "2020-09-30T16:58:16.572804Z"
    }
   },
   "outputs": [
    {
     "data": {
      "image/png": "[encoded data removed]",
      "text/plain": [
       "<Figure size 1152x576 with 1 Axes>"
      ]
     },
     "metadata": {
      "needs_background": "light"
     },
     "output_type": "display_data"
    }
   ],
   "source": [
    "show_hist_for_col(df_clean, 'caps_in_title', 'Number of Capitals in Title')"
   ]
  },
  {
   "cell_type": "code",
   "execution_count": 113,
   "metadata": {
    "ExecuteTime": {
     "end_time": "2020-09-29T19:15:10.600631Z",
     "start_time": "2020-09-29T19:15:10.582653Z"
    }
   },
   "outputs": [
    {
     "data": {
      "text/plain": [
       "count    21191.000000\n",
       "mean         3.546128\n",
       "std          1.783526\n",
       "min          1.000000\n",
       "25%          2.000000\n",
       "50%          3.000000\n",
       "75%          5.000000\n",
       "max         21.000000\n",
       "Name: caps_in_title, dtype: float64"
      ]
     },
     "execution_count": 113,
     "metadata": {},
     "output_type": "execute_result"
    }
   ],
   "source": [
    "df_clean[df_clean.label == 'true'].caps_in_title.describe()"
   ]
  },
  {
   "cell_type": "code",
   "execution_count": 114,
   "metadata": {
    "ExecuteTime": {
     "end_time": "2020-09-29T19:15:22.693057Z",
     "start_time": "2020-09-29T19:15:22.675736Z"
    }
   },
   "outputs": [
    {
     "data": {
      "text/plain": [
       "count    17447.000000\n",
       "mean        25.689689\n",
       "std         13.982261\n",
       "min          2.000000\n",
       "25%         16.000000\n",
       "50%         22.000000\n",
       "75%         32.000000\n",
       "max        137.000000\n",
       "Name: caps_in_title, dtype: float64"
      ]
     },
     "execution_count": 114,
     "metadata": {},
     "output_type": "execute_result"
    }
   ],
   "source": [
    "df_clean[df_clean.label == 'fake'].caps_in_title.describe()"
   ]
  },
  {
   "cell_type": "markdown",
   "metadata": {},
   "source": [
    "There are considerably more capitals in Fake news compared to True. The Fake news instances tended to have longer titles so maybe that is part of it.  I'll normalize the counts and check again."
   ]
  },
  {
   "cell_type": "code",
   "execution_count": 115,
   "metadata": {
    "ExecuteTime": {
     "end_time": "2020-09-29T19:18:17.408435Z",
     "start_time": "2020-09-29T19:18:17.257821Z"
    }
   },
   "outputs": [],
   "source": [
    "df_clean['norm_caps_in_title'] = df_clean['caps_in_title'] / df_clean['title_len']"
   ]
  },
  {
   "cell_type": "code",
   "execution_count": 137,
   "metadata": {
    "ExecuteTime": {
     "end_time": "2020-09-30T16:58:41.339668Z",
     "start_time": "2020-09-30T16:58:40.949456Z"
    }
   },
   "outputs": [
    {
     "data": {
      "image/png": "[encoded data removed]",
      "text/plain": [
       "<Figure size 1152x576 with 1 Axes>"
      ]
     },
     "metadata": {
      "needs_background": "light"
     },
     "output_type": "display_data"
    }
   ],
   "source": [
    "show_hist_for_col(df_clean, 'norm_caps_in_title', 'Percentage of Capitals in Title')"
   ]
  },
  {
   "cell_type": "markdown",
   "metadata": {},
   "source": [
    "There is even less overlap when considering the percentage of capitals in the news title for Fake news compared to True.  Just looking at this metric would give considerably better for classification than random, and is a good candidate for a baseline model."
   ]
  },
  {
   "cell_type": "markdown",
   "metadata": {},
   "source": [
    "## Capitals in Text"
   ]
  },
  {
   "cell_type": "code",
   "execution_count": 124,
   "metadata": {
    "ExecuteTime": {
     "end_time": "2020-09-29T19:36:11.634100Z",
     "start_time": "2020-09-29T19:36:00.395258Z"
    }
   },
   "outputs": [],
   "source": [
    "df_clean['caps_in_text'] = df_clean['text'].apply(lambda text: sum(1 for char in text if char.isupper()))"
   ]
  },
  {
   "cell_type": "code",
   "execution_count": 125,
   "metadata": {
    "ExecuteTime": {
     "end_time": "2020-09-29T19:36:49.543802Z",
     "start_time": "2020-09-29T19:36:49.538084Z"
    }
   },
   "outputs": [],
   "source": [
    "df_clean['norm_caps_in_text'] = df_clean['caps_in_text'] / df_clean['text_len']"
   ]
  },
  {
   "cell_type": "code",
   "execution_count": 138,
   "metadata": {
    "ExecuteTime": {
     "end_time": "2020-09-30T16:59:04.522432Z",
     "start_time": "2020-09-30T16:59:04.136286Z"
    }
   },
   "outputs": [
    {
     "data": {
      "image/png": "[encoded data removed]",
      "text/plain": [
       "<Figure size 1152x576 with 1 Axes>"
      ]
     },
     "metadata": {
      "needs_background": "light"
     },
     "output_type": "display_data"
    }
   ],
   "source": [
    "show_hist_for_col(df_clean, 'norm_caps_in_text', 'Percentage of Capitals in Text')"
   ]
  },
  {
   "cell_type": "code",
   "execution_count": 127,
   "metadata": {
    "ExecuteTime": {
     "end_time": "2020-09-29T19:38:18.478226Z",
     "start_time": "2020-09-29T19:38:18.458820Z"
    }
   },
   "outputs": [
    {
     "data": {
      "text/plain": [
       "count    21191.000000\n",
       "mean         0.041764\n",
       "std          0.015244\n",
       "min          0.010239\n",
       "25%          0.031744\n",
       "50%          0.038193\n",
       "75%          0.047673\n",
       "max          0.220690\n",
       "Name: norm_caps_in_text, dtype: float64"
      ]
     },
     "execution_count": 127,
     "metadata": {},
     "output_type": "execute_result"
    }
   ],
   "source": [
    "df_clean[df_clean.label == 'true'].norm_caps_in_text.describe()"
   ]
  },
  {
   "cell_type": "code",
   "execution_count": 128,
   "metadata": {
    "ExecuteTime": {
     "end_time": "2020-09-29T19:38:27.319402Z",
     "start_time": "2020-09-29T19:38:27.300744Z"
    }
   },
   "outputs": [
    {
     "data": {
      "text/plain": [
       "count    17447.000000\n",
       "mean         0.045016\n",
       "std          0.044842\n",
       "min          0.007538\n",
       "25%          0.029395\n",
       "50%          0.036131\n",
       "75%          0.047068\n",
       "max          0.882353\n",
       "Name: norm_caps_in_text, dtype: float64"
      ]
     },
     "execution_count": 128,
     "metadata": {},
     "output_type": "execute_result"
    }
   ],
   "source": [
    "df_clean[df_clean.label == 'fake'].norm_caps_in_text.describe()"
   ]
  },
  {
   "cell_type": "markdown",
   "metadata": {},
   "source": [
    "As opposed to the title, there in a great deal of overlap for the percentage of capitals in the text of Fake vs. True news."
   ]
  },
  {
   "cell_type": "markdown",
   "metadata": {},
   "source": [
    "## News Organizations Mentioned in Text"
   ]
  },
  {
   "cell_type": "markdown",
   "metadata": {},
   "source": [
    "### Reuters"
   ]
  },
  {
   "cell_type": "markdown",
   "metadata": {},
   "source": [
    "All the *True* news stories are from Reuters, how many of those stories as well as the ones labeled *Fake* contain the string *Reuters*?"
   ]
  },
  {
   "cell_type": "code",
   "execution_count": 142,
   "metadata": {
    "ExecuteTime": {
     "end_time": "2020-09-30T17:35:17.793711Z",
     "start_time": "2020-09-30T17:35:17.789102Z"
    }
   },
   "outputs": [],
   "source": [
    "def check_string_for(substring, fullstring):\n",
    "    \"\"\"Check if the substring is in the fullstring\"\"\"\n",
    "    if search(substring, fullstring):\n",
    "        return True\n",
    "    else:\n",
    "        return False"
   ]
  },
  {
   "cell_type": "code",
   "execution_count": 143,
   "metadata": {
    "ExecuteTime": {
     "end_time": "2020-09-30T17:35:28.839930Z",
     "start_time": "2020-09-30T17:35:28.720487Z"
    }
   },
   "outputs": [],
   "source": [
    "df_reuters = df_clean[df_clean.text.apply(lambda news_text: check_string_for('Reuters', news_text))]"
   ]
  },
  {
   "cell_type": "code",
   "execution_count": 147,
   "metadata": {
    "ExecuteTime": {
     "end_time": "2020-09-30T17:40:17.654746Z",
     "start_time": "2020-09-30T17:40:17.644155Z"
    }
   },
   "outputs": [
    {
     "data": {
      "text/plain": [
       "true    21154\n",
       "fake      215\n",
       "Name: label, dtype: int64"
      ]
     },
     "execution_count": 147,
     "metadata": {},
     "output_type": "execute_result"
    }
   ],
   "source": [
    "df_reuters.label.value_counts()"
   ]
  },
  {
   "cell_type": "code",
   "execution_count": 146,
   "metadata": {
    "ExecuteTime": {
     "end_time": "2020-09-30T17:36:51.133084Z",
     "start_time": "2020-09-30T17:36:51.126928Z"
    }
   },
   "outputs": [
    {
     "data": {
      "text/plain": [
       "'Republicans should be downright afraid to try killing Obamacare ever again.As we all know, Donald Trump has been urging Republicans in Congress to pass legislation that would strip healthcare from over 20 million Americans.Not only do Trump and his Republican allies want to kill Obamacare, they want to end Medicaid as we know it. Indeed, Medicaid would become a death panel where the state would decide what kind of healthcare people get.As Trump s effort to kill Obamacare gets more desperate, the landmark healthcare program gets more popular, enough so, that a few Republicans have broken ranks to oppose repeal.In fact, Medicaid expansion is so popular that Maine voters overruled Governor Paul LePage s veto on Tuesday via the ballot.According to Reuters,Tuesday s ballot asked Maine voters to approve or reject a plan to provide healthcare coverageunder Medicaid for adults under the age of 65 with incomes at or below 138 percent of the federal poverty level, which in 2017 is about $16,000 for a single person and about $22,000 for a family of two.And 60 percent of Maine voters approved, clearly rejecting LePage s and Trump s efforts to kill Medicaid and Obamacare.70,000 Mainers will now be eligible for Medicaid coverage and will get the healthcare they need and deserve.This is huge because Maine is often considered politically independent to conservative leaning, meaning that Republicans would be better off abandoning their war on healthcare.If they don t, voters across the country will go to the ballot box and replace them with lawmakers who actually give a damn about them and their health.And Trump could be on the path to being a one-term president, assuming he isn t impeached or arrested before 2020.And he ll have no one to blame but himself. Because people don t like it when politicians try to kill them.Featured Image: White House Photo by Pete Souza'"
      ]
     },
     "execution_count": 146,
     "metadata": {},
     "output_type": "execute_result"
    }
   ],
   "source": [
    "df_reuters.iloc[0]['text']"
   ]
  },
  {
   "cell_type": "code",
   "execution_count": 151,
   "metadata": {
    "ExecuteTime": {
     "end_time": "2020-09-30T18:10:31.727946Z",
     "start_time": "2020-09-30T18:10:31.360025Z"
    }
   },
   "outputs": [
    {
     "data": {
      "image/png": "[encoded data removed]",
      "text/plain": [
       "<Figure size 1152x576 with 1 Axes>"
      ]
     },
     "metadata": {
      "needs_background": "light"
     },
     "output_type": "display_data"
    }
   ],
   "source": [
    "show_hist_for_col(df_reuters, 'label', \"News Stories mentioning Reuters\")"
   ]
  },
  {
   "cell_type": "markdown",
   "metadata": {},
   "source": [
    "I only checked for *Reuters* with a capital R.  Most but not all of the *True* stories include that string, plus 215 of the *Fake* stories reference it.\n",
    "\n",
    "Since the *True* stories I've inspected all contain the text *(Reuters)* and the dataset creators say they collected all the *True* data from Reuters, I'd like to see what the text for the *True* stories is like when they don't contain that text."
   ]
  },
  {
   "cell_type": "code",
   "execution_count": 155,
   "metadata": {
    "ExecuteTime": {
     "end_time": "2020-09-30T18:42:04.589179Z",
     "start_time": "2020-09-30T18:42:04.530050Z"
    }
   },
   "outputs": [],
   "source": [
    "df_clean_true = df_clean[df_clean.label == 'true']\n",
    "df_true_not_reuters_paren = df_clean_true[df_clean_true.text.apply(lambda news_text: not check_string_for('(Reuters)', news_text))]"
   ]
  },
  {
   "cell_type": "code",
   "execution_count": 156,
   "metadata": {
    "ExecuteTime": {
     "end_time": "2020-09-30T18:42:13.049658Z",
     "start_time": "2020-09-30T18:42:13.013371Z"
    },
    "scrolled": true
   },
   "outputs": [
    {
     "data": {
      "text/html": [
       "<div>\n",
       "<style scoped>\n",
       "    .dataframe tbody tr th:only-of-type {\n",
       "        vertical-align: middle;\n",
       "    }\n",
       "\n",
       "    .dataframe tbody tr th {\n",
       "        vertical-align: top;\n",
       "    }\n",
       "\n",
       "    .dataframe thead th {\n",
       "        text-align: right;\n",
       "    }\n",
       "</style>\n",
       "<table border=\"1\" class=\"dataframe\">\n",
       "  <thead>\n",
       "    <tr style=\"text-align: right;\">\n",
       "      <th></th>\n",
       "      <th>title</th>\n",
       "      <th>text</th>\n",
       "      <th>subject</th>\n",
       "      <th>date</th>\n",
       "      <th>label</th>\n",
       "      <th>title_len</th>\n",
       "      <th>text_len</th>\n",
       "      <th>caps_in_title</th>\n",
       "      <th>norm_caps_in_title</th>\n",
       "      <th>caps_in_text</th>\n",
       "      <th>norm_caps_in_text</th>\n",
       "    </tr>\n",
       "  </thead>\n",
       "  <tbody>\n",
       "    <tr>\n",
       "      <th>17556</th>\n",
       "      <td>Democratic U.S. senator seeks audit of EPA chi...</td>\n",
       "      <td>WASHINGTON () - The top Democrat on the Senate...</td>\n",
       "      <td>politicsNews</td>\n",
       "      <td>2017-12-18</td>\n",
       "      <td>true</td>\n",
       "      <td>66</td>\n",
       "      <td>2029</td>\n",
       "      <td>7</td>\n",
       "      <td>0.106061</td>\n",
       "      <td>113</td>\n",
       "      <td>0.055692</td>\n",
       "    </tr>\n",
       "    <tr>\n",
       "      <th>17878</th>\n",
       "      <td>Factbox: Republicans to watch in U.S. Senate t...</td>\n",
       "      <td>WASHINGTON - Some key U.S. senators still had ...</td>\n",
       "      <td>politicsNews</td>\n",
       "      <td>2017-11-30</td>\n",
       "      <td>true</td>\n",
       "      <td>59</td>\n",
       "      <td>3993</td>\n",
       "      <td>5</td>\n",
       "      <td>0.084746</td>\n",
       "      <td>91</td>\n",
       "      <td>0.022790</td>\n",
       "    </tr>\n",
       "    <tr>\n",
       "      <th>18587</th>\n",
       "      <td>GAO opens door for Congress to review leverage...</td>\n",
       "      <td>NEW YORK (IFR) - The investigative arm of Cong...</td>\n",
       "      <td>politicsNews</td>\n",
       "      <td>2017-10-19</td>\n",
       "      <td>true</td>\n",
       "      <td>55</td>\n",
       "      <td>1798</td>\n",
       "      <td>4</td>\n",
       "      <td>0.072727</td>\n",
       "      <td>63</td>\n",
       "      <td>0.035039</td>\n",
       "    </tr>\n",
       "    <tr>\n",
       "      <th>20925</th>\n",
       "      <td>White House unveils list of ex-lobbyists grant...</td>\n",
       "      <td>The White House on Wednesday disclosed a group...</td>\n",
       "      <td>politicsNews</td>\n",
       "      <td>2017-06-01</td>\n",
       "      <td>true</td>\n",
       "      <td>63</td>\n",
       "      <td>3369</td>\n",
       "      <td>2</td>\n",
       "      <td>0.031746</td>\n",
       "      <td>111</td>\n",
       "      <td>0.032947</td>\n",
       "    </tr>\n",
       "    <tr>\n",
       "      <th>21784</th>\n",
       "      <td>Factbox: Trump Supreme Court appointee to affe...</td>\n",
       "      <td>Neil Gorsuch, President Donald Trump’s appoint...</td>\n",
       "      <td>politicsNews</td>\n",
       "      <td>2017-04-07</td>\n",
       "      <td>true</td>\n",
       "      <td>62</td>\n",
       "      <td>2706</td>\n",
       "      <td>4</td>\n",
       "      <td>0.064516</td>\n",
       "      <td>86</td>\n",
       "      <td>0.031781</td>\n",
       "    </tr>\n",
       "    <tr>\n",
       "      <th>22778</th>\n",
       "      <td>Trump's defense chief visits UAE in first Midd...</td>\n",
       "      <td>ABU DHABI - U.S. President Donald Trump’s defe...</td>\n",
       "      <td>politicsNews</td>\n",
       "      <td>2017-02-18</td>\n",
       "      <td>true</td>\n",
       "      <td>58</td>\n",
       "      <td>1363</td>\n",
       "      <td>6</td>\n",
       "      <td>0.103448</td>\n",
       "      <td>87</td>\n",
       "      <td>0.063830</td>\n",
       "    </tr>\n",
       "    <tr>\n",
       "      <th>23197</th>\n",
       "      <td>Trump Supreme Court nominee Gorsuch seen in th...</td>\n",
       "      <td>Federal appeals court judge Neil Gorsuch, the ...</td>\n",
       "      <td>politicsNews</td>\n",
       "      <td>2017-02-01</td>\n",
       "      <td>true</td>\n",
       "      <td>62</td>\n",
       "      <td>5869</td>\n",
       "      <td>5</td>\n",
       "      <td>0.080645</td>\n",
       "      <td>204</td>\n",
       "      <td>0.034759</td>\n",
       "    </tr>\n",
       "    <tr>\n",
       "      <th>23234</th>\n",
       "      <td>Kushner divests equity in major NYC property</td>\n",
       "      <td>NEW YORK (IFR) - Jared Kushner has divested hi...</td>\n",
       "      <td>politicsNews</td>\n",
       "      <td>2017-01-31</td>\n",
       "      <td>true</td>\n",
       "      <td>44</td>\n",
       "      <td>1999</td>\n",
       "      <td>4</td>\n",
       "      <td>0.090909</td>\n",
       "      <td>84</td>\n",
       "      <td>0.042021</td>\n",
       "    </tr>\n",
       "    <tr>\n",
       "      <th>24236</th>\n",
       "      <td>Commentary: Trump can't fight Islamic State wi...</td>\n",
       "      <td>Over the course of the U.S. presidential campa...</td>\n",
       "      <td>politicsNews</td>\n",
       "      <td>2016-12-07</td>\n",
       "      <td>true</td>\n",
       "      <td>75</td>\n",
       "      <td>6880</td>\n",
       "      <td>5</td>\n",
       "      <td>0.066667</td>\n",
       "      <td>294</td>\n",
       "      <td>0.042733</td>\n",
       "    </tr>\n",
       "    <tr>\n",
       "      <th>24774</th>\n",
       "      <td>Tough reality check for Trump's pledge of bett...</td>\n",
       "      <td>CHARLOTTE, North Carolina - Donald Trump’s pro...</td>\n",
       "      <td>politicsNews</td>\n",
       "      <td>2016-11-10</td>\n",
       "      <td>true</td>\n",
       "      <td>70</td>\n",
       "      <td>4741</td>\n",
       "      <td>2</td>\n",
       "      <td>0.028571</td>\n",
       "      <td>99</td>\n",
       "      <td>0.020882</td>\n",
       "    </tr>\n",
       "    <tr>\n",
       "      <th>25328</th>\n",
       "      <td>Commentary: Manic or evasive - these veep guys...</td>\n",
       "      <td>After going through a week reminiscent of Napo...</td>\n",
       "      <td>politicsNews</td>\n",
       "      <td>2016-10-05</td>\n",
       "      <td>true</td>\n",
       "      <td>75</td>\n",
       "      <td>4970</td>\n",
       "      <td>2</td>\n",
       "      <td>0.026667</td>\n",
       "      <td>132</td>\n",
       "      <td>0.026559</td>\n",
       "    </tr>\n",
       "    <tr>\n",
       "      <th>25601</th>\n",
       "      <td>Factbox: Why the Zika virus is causing alarm</td>\n",
       "      <td>Global health officials are racing to better u...</td>\n",
       "      <td>politicsNews</td>\n",
       "      <td>2016-09-12</td>\n",
       "      <td>true</td>\n",
       "      <td>44</td>\n",
       "      <td>5471</td>\n",
       "      <td>3</td>\n",
       "      <td>0.068182</td>\n",
       "      <td>226</td>\n",
       "      <td>0.041309</td>\n",
       "    </tr>\n",
       "    <tr>\n",
       "      <th>25653</th>\n",
       "      <td>Obama drinks coconut water to cool down in Laos</td>\n",
       "      <td>U.S. President Barack Obama visited a street m...</td>\n",
       "      <td>politicsNews</td>\n",
       "      <td>2016-09-07</td>\n",
       "      <td>true</td>\n",
       "      <td>47</td>\n",
       "      <td>738</td>\n",
       "      <td>2</td>\n",
       "      <td>0.042553</td>\n",
       "      <td>28</td>\n",
       "      <td>0.037940</td>\n",
       "    </tr>\n",
       "    <tr>\n",
       "      <th>25886</th>\n",
       "      <td>Factbox: Why the Zika virus is causing alarm</td>\n",
       "      <td>Global health officials are racing to better u...</td>\n",
       "      <td>politicsNews</td>\n",
       "      <td>2016-08-11</td>\n",
       "      <td>true</td>\n",
       "      <td>44</td>\n",
       "      <td>6899</td>\n",
       "      <td>3</td>\n",
       "      <td>0.068182</td>\n",
       "      <td>272</td>\n",
       "      <td>0.039426</td>\n",
       "    </tr>\n",
       "    <tr>\n",
       "      <th>25984</th>\n",
       "      <td>Clinton secures Mark Cuban's endorsement in Pi...</td>\n",
       "      <td>PITTSBURGH, Pa. - Democratic presidential cand...</td>\n",
       "      <td>politicsNews</td>\n",
       "      <td>2016-07-30</td>\n",
       "      <td>true</td>\n",
       "      <td>54</td>\n",
       "      <td>3185</td>\n",
       "      <td>4</td>\n",
       "      <td>0.074074</td>\n",
       "      <td>129</td>\n",
       "      <td>0.040502</td>\n",
       "    </tr>\n",
       "    <tr>\n",
       "      <th>26174</th>\n",
       "      <td>Clinton says Trump is most divisive candidate ...</td>\n",
       "      <td>In a speech weighted with America’s complicate...</td>\n",
       "      <td>politicsNews</td>\n",
       "      <td>2016-07-13</td>\n",
       "      <td>true</td>\n",
       "      <td>64</td>\n",
       "      <td>3105</td>\n",
       "      <td>2</td>\n",
       "      <td>0.031250</td>\n",
       "      <td>85</td>\n",
       "      <td>0.027375</td>\n",
       "    </tr>\n",
       "    <tr>\n",
       "      <th>26291</th>\n",
       "      <td>Californians seek pot of gold in marijuana leg...</td>\n",
       "      <td>SACRAMENTO, Calif. - There is no guarantee Cal...</td>\n",
       "      <td>politicsNews</td>\n",
       "      <td>2016-07-03</td>\n",
       "      <td>true</td>\n",
       "      <td>55</td>\n",
       "      <td>4448</td>\n",
       "      <td>1</td>\n",
       "      <td>0.018182</td>\n",
       "      <td>122</td>\n",
       "      <td>0.027428</td>\n",
       "    </tr>\n",
       "    <tr>\n",
       "      <th>26411</th>\n",
       "      <td>Factbox: Why the Zika virus is causing alarm</td>\n",
       "      <td>Global health officials are racing to better u...</td>\n",
       "      <td>politicsNews</td>\n",
       "      <td>2016-06-23</td>\n",
       "      <td>true</td>\n",
       "      <td>44</td>\n",
       "      <td>6155</td>\n",
       "      <td>3</td>\n",
       "      <td>0.068182</td>\n",
       "      <td>245</td>\n",
       "      <td>0.039805</td>\n",
       "    </tr>\n",
       "    <tr>\n",
       "      <th>26708</th>\n",
       "      <td>Commentary: How long before North Korea can nu...</td>\n",
       "      <td>It’s the near future, and North Korea’s regime...</td>\n",
       "      <td>politicsNews</td>\n",
       "      <td>2016-05-31</td>\n",
       "      <td>true</td>\n",
       "      <td>61</td>\n",
       "      <td>6237</td>\n",
       "      <td>6</td>\n",
       "      <td>0.098361</td>\n",
       "      <td>177</td>\n",
       "      <td>0.028379</td>\n",
       "    </tr>\n",
       "    <tr>\n",
       "      <th>26752</th>\n",
       "      <td>Rubio warms to Trump, but won't be his vice pr...</td>\n",
       "      <td>WASHINGTON - Former U.S. Republican presidenti...</td>\n",
       "      <td>politicsNews</td>\n",
       "      <td>2016-05-29</td>\n",
       "      <td>true</td>\n",
       "      <td>53</td>\n",
       "      <td>2297</td>\n",
       "      <td>2</td>\n",
       "      <td>0.037736</td>\n",
       "      <td>92</td>\n",
       "      <td>0.040052</td>\n",
       "    </tr>\n",
       "    <tr>\n",
       "      <th>26852</th>\n",
       "      <td>UK on Trump invite to 10 Downing Street: Not j...</td>\n",
       "      <td>LONDON/WASHINGTON - Republican presidential ca...</td>\n",
       "      <td>politicsNews</td>\n",
       "      <td>2016-05-20</td>\n",
       "      <td>true</td>\n",
       "      <td>53</td>\n",
       "      <td>2268</td>\n",
       "      <td>6</td>\n",
       "      <td>0.113208</td>\n",
       "      <td>107</td>\n",
       "      <td>0.047178</td>\n",
       "    </tr>\n",
       "    <tr>\n",
       "      <th>26936</th>\n",
       "      <td>Trump aide dismisses audio tape as Democrats r...</td>\n",
       "      <td>WASHINGTON, 2016 - A top aide to Donald Trump ...</td>\n",
       "      <td>politicsNews</td>\n",
       "      <td>2016-05-15</td>\n",
       "      <td>true</td>\n",
       "      <td>66</td>\n",
       "      <td>4076</td>\n",
       "      <td>2</td>\n",
       "      <td>0.030303</td>\n",
       "      <td>130</td>\n",
       "      <td>0.031894</td>\n",
       "    </tr>\n",
       "    <tr>\n",
       "      <th>27019</th>\n",
       "      <td>Commentary: Party leaders often disliked their...</td>\n",
       "      <td>GOP leaders have unleashed a stunning level of...</td>\n",
       "      <td>politicsNews</td>\n",
       "      <td>2016-05-10</td>\n",
       "      <td>true</td>\n",
       "      <td>91</td>\n",
       "      <td>7270</td>\n",
       "      <td>3</td>\n",
       "      <td>0.032967</td>\n",
       "      <td>284</td>\n",
       "      <td>0.039065</td>\n",
       "    </tr>\n",
       "    <tr>\n",
       "      <th>27138</th>\n",
       "      <td>Jenner uses women's restroom at Trump property</td>\n",
       "      <td>Caitlyn Jenner posted a video on Wednesday (Ap...</td>\n",
       "      <td>politicsNews</td>\n",
       "      <td>2016-04-28</td>\n",
       "      <td>true</td>\n",
       "      <td>46</td>\n",
       "      <td>722</td>\n",
       "      <td>2</td>\n",
       "      <td>0.043478</td>\n",
       "      <td>26</td>\n",
       "      <td>0.036011</td>\n",
       "    </tr>\n",
       "    <tr>\n",
       "      <th>27227</th>\n",
       "      <td>Markets ignore Trump presidential bid at their...</td>\n",
       "      <td>LONDON (IFR) - The prospect of Donald Trump be...</td>\n",
       "      <td>politicsNews</td>\n",
       "      <td>2016-04-22</td>\n",
       "      <td>true</td>\n",
       "      <td>52</td>\n",
       "      <td>3145</td>\n",
       "      <td>2</td>\n",
       "      <td>0.038462</td>\n",
       "      <td>121</td>\n",
       "      <td>0.038474</td>\n",
       "    </tr>\n",
       "    <tr>\n",
       "      <th>27236</th>\n",
       "      <td>Sanders raises more cash but Clinton makes cam...</td>\n",
       "      <td>WASHINGTON/NEW YORK - Democratic presidential ...</td>\n",
       "      <td>politicsNews</td>\n",
       "      <td>2016-04-21</td>\n",
       "      <td>true</td>\n",
       "      <td>70</td>\n",
       "      <td>3110</td>\n",
       "      <td>2</td>\n",
       "      <td>0.028571</td>\n",
       "      <td>77</td>\n",
       "      <td>0.024759</td>\n",
       "    </tr>\n",
       "    <tr>\n",
       "      <th>27548</th>\n",
       "      <td>Clinton warns of possible Trump Supreme Court ...</td>\n",
       "      <td>WASHINGTON - Democratic presidential front-run...</td>\n",
       "      <td>politicsNews</td>\n",
       "      <td>2016-03-28</td>\n",
       "      <td>true</td>\n",
       "      <td>57</td>\n",
       "      <td>4859</td>\n",
       "      <td>4</td>\n",
       "      <td>0.070175</td>\n",
       "      <td>179</td>\n",
       "      <td>0.036839</td>\n",
       "    </tr>\n",
       "    <tr>\n",
       "      <th>27566</th>\n",
       "      <td>Republicans Cruz, Trump spar over tabloid char...</td>\n",
       "      <td>WASHINGTON - Republican Ted Cruz on Friday den...</td>\n",
       "      <td>politicsNews</td>\n",
       "      <td>2016-03-25</td>\n",
       "      <td>true</td>\n",
       "      <td>59</td>\n",
       "      <td>3049</td>\n",
       "      <td>3</td>\n",
       "      <td>0.050847</td>\n",
       "      <td>126</td>\n",
       "      <td>0.041325</td>\n",
       "    </tr>\n",
       "    <tr>\n",
       "      <th>27879</th>\n",
       "      <td>Factbox: The race to the U.S. presidential nom...</td>\n",
       "      <td>The Democratic and Republican nominees for the...</td>\n",
       "      <td>politicsNews</td>\n",
       "      <td>2016-03-07</td>\n",
       "      <td>true</td>\n",
       "      <td>83</td>\n",
       "      <td>5005</td>\n",
       "      <td>5</td>\n",
       "      <td>0.060241</td>\n",
       "      <td>133</td>\n",
       "      <td>0.026573</td>\n",
       "    </tr>\n",
       "    <tr>\n",
       "      <th>28595</th>\n",
       "      <td>Obama unveils wage insurance plan to spur job ...</td>\n",
       "      <td>WASHINGTON - U.S. President Barack Obama on Sa...</td>\n",
       "      <td>politicsNews</td>\n",
       "      <td>2016-01-16</td>\n",
       "      <td>true</td>\n",
       "      <td>53</td>\n",
       "      <td>1822</td>\n",
       "      <td>1</td>\n",
       "      <td>0.018868</td>\n",
       "      <td>38</td>\n",
       "      <td>0.020856</td>\n",
       "    </tr>\n",
       "    <tr>\n",
       "      <th>28645</th>\n",
       "      <td>Obama knocks Trump, voices optimism</td>\n",
       "      <td>WASHINGTON - President Barack Obama took aim o...</td>\n",
       "      <td>politicsNews</td>\n",
       "      <td>2016-01-13</td>\n",
       "      <td>true</td>\n",
       "      <td>36</td>\n",
       "      <td>5642</td>\n",
       "      <td>2</td>\n",
       "      <td>0.055556</td>\n",
       "      <td>185</td>\n",
       "      <td>0.032790</td>\n",
       "    </tr>\n",
       "    <tr>\n",
       "      <th>28861</th>\n",
       "      <td>Macedonia's parliament adopts 2018 budget, opp...</td>\n",
       "      <td>SKOPJE - Macedonia s parliament has adopted a ...</td>\n",
       "      <td>worldnews</td>\n",
       "      <td>2017-12-23</td>\n",
       "      <td>true</td>\n",
       "      <td>67</td>\n",
       "      <td>1830</td>\n",
       "      <td>1</td>\n",
       "      <td>0.014925</td>\n",
       "      <td>53</td>\n",
       "      <td>0.028962</td>\n",
       "    </tr>\n",
       "    <tr>\n",
       "      <th>30760</th>\n",
       "      <td>The Adoration Of Kim Jong Un</td>\n",
       "      <td>PYONGYANG - North Koreans stage a demonstratio...</td>\n",
       "      <td>worldnews</td>\n",
       "      <td>2017-11-30</td>\n",
       "      <td>true</td>\n",
       "      <td>28</td>\n",
       "      <td>2184</td>\n",
       "      <td>6</td>\n",
       "      <td>0.214286</td>\n",
       "      <td>87</td>\n",
       "      <td>0.039835</td>\n",
       "    </tr>\n",
       "    <tr>\n",
       "      <th>32278</th>\n",
       "      <td>Spanish PM, in Catalonia, calls for big turnou...</td>\n",
       "      <td>BARCELONA - Prime Minister Mariano Rajoy urged...</td>\n",
       "      <td>worldnews</td>\n",
       "      <td>2017-11-12</td>\n",
       "      <td>true</td>\n",
       "      <td>68</td>\n",
       "      <td>1876</td>\n",
       "      <td>5</td>\n",
       "      <td>0.073529</td>\n",
       "      <td>74</td>\n",
       "      <td>0.039446</td>\n",
       "    </tr>\n",
       "    <tr>\n",
       "      <th>32930</th>\n",
       "      <td>China to expand corruption supervision pilot s...</td>\n",
       "      <td>BEIJING - China will expand a pilot project fo...</td>\n",
       "      <td>worldnews</td>\n",
       "      <td>2017-11-05</td>\n",
       "      <td>true</td>\n",
       "      <td>70</td>\n",
       "      <td>1522</td>\n",
       "      <td>2</td>\n",
       "      <td>0.028571</td>\n",
       "      <td>38</td>\n",
       "      <td>0.024967</td>\n",
       "    </tr>\n",
       "    <tr>\n",
       "      <th>35118</th>\n",
       "      <td>Factbox: What do laws say about Catalan self-d...</td>\n",
       "      <td>MADRID - Catalan regional leader Carles Puigde...</td>\n",
       "      <td>worldnews</td>\n",
       "      <td>2017-10-10</td>\n",
       "      <td>true</td>\n",
       "      <td>59</td>\n",
       "      <td>3830</td>\n",
       "      <td>3</td>\n",
       "      <td>0.050847</td>\n",
       "      <td>200</td>\n",
       "      <td>0.052219</td>\n",
       "    </tr>\n",
       "    <tr>\n",
       "      <th>35772</th>\n",
       "      <td>Run or wait? Tokyo's Koike faces dilemma ahead...</td>\n",
       "      <td>TOKYO - Tokyo Governor Yuriko Koike has made n...</td>\n",
       "      <td>worldnews</td>\n",
       "      <td>2017-10-02</td>\n",
       "      <td>true</td>\n",
       "      <td>62</td>\n",
       "      <td>4975</td>\n",
       "      <td>4</td>\n",
       "      <td>0.064516</td>\n",
       "      <td>151</td>\n",
       "      <td>0.030352</td>\n",
       "    </tr>\n",
       "  </tbody>\n",
       "</table>\n",
       "</div>"
      ],
      "text/plain": [
       "                                                   title  \\\n",
       "17556  Democratic U.S. senator seeks audit of EPA chi...   \n",
       "17878  Factbox: Republicans to watch in U.S. Senate t...   \n",
       "18587  GAO opens door for Congress to review leverage...   \n",
       "20925  White House unveils list of ex-lobbyists grant...   \n",
       "21784  Factbox: Trump Supreme Court appointee to affe...   \n",
       "22778  Trump's defense chief visits UAE in first Midd...   \n",
       "23197  Trump Supreme Court nominee Gorsuch seen in th...   \n",
       "23234       Kushner divests equity in major NYC property   \n",
       "24236  Commentary: Trump can't fight Islamic State wi...   \n",
       "24774  Tough reality check for Trump's pledge of bett...   \n",
       "25328  Commentary: Manic or evasive - these veep guys...   \n",
       "25601       Factbox: Why the Zika virus is causing alarm   \n",
       "25653    Obama drinks coconut water to cool down in Laos   \n",
       "25886       Factbox: Why the Zika virus is causing alarm   \n",
       "25984  Clinton secures Mark Cuban's endorsement in Pi...   \n",
       "26174  Clinton says Trump is most divisive candidate ...   \n",
       "26291  Californians seek pot of gold in marijuana leg...   \n",
       "26411       Factbox: Why the Zika virus is causing alarm   \n",
       "26708  Commentary: How long before North Korea can nu...   \n",
       "26752  Rubio warms to Trump, but won't be his vice pr...   \n",
       "26852  UK on Trump invite to 10 Downing Street: Not j...   \n",
       "26936  Trump aide dismisses audio tape as Democrats r...   \n",
       "27019  Commentary: Party leaders often disliked their...   \n",
       "27138     Jenner uses women's restroom at Trump property   \n",
       "27227  Markets ignore Trump presidential bid at their...   \n",
       "27236  Sanders raises more cash but Clinton makes cam...   \n",
       "27548  Clinton warns of possible Trump Supreme Court ...   \n",
       "27566  Republicans Cruz, Trump spar over tabloid char...   \n",
       "27879  Factbox: The race to the U.S. presidential nom...   \n",
       "28595  Obama unveils wage insurance plan to spur job ...   \n",
       "28645               Obama knocks Trump, voices optimism    \n",
       "28861  Macedonia's parliament adopts 2018 budget, opp...   \n",
       "30760                       The Adoration Of Kim Jong Un   \n",
       "32278  Spanish PM, in Catalonia, calls for big turnou...   \n",
       "32930  China to expand corruption supervision pilot s...   \n",
       "35118  Factbox: What do laws say about Catalan self-d...   \n",
       "35772  Run or wait? Tokyo's Koike faces dilemma ahead...   \n",
       "\n",
       "                                                    text       subject  \\\n",
       "17556  WASHINGTON () - The top Democrat on the Senate...  politicsNews   \n",
       "17878  WASHINGTON - Some key U.S. senators still had ...  politicsNews   \n",
       "18587  NEW YORK (IFR) - The investigative arm of Cong...  politicsNews   \n",
       "20925  The White House on Wednesday disclosed a group...  politicsNews   \n",
       "21784  Neil Gorsuch, President Donald Trump’s appoint...  politicsNews   \n",
       "22778  ABU DHABI - U.S. President Donald Trump’s defe...  politicsNews   \n",
       "23197  Federal appeals court judge Neil Gorsuch, the ...  politicsNews   \n",
       "23234  NEW YORK (IFR) - Jared Kushner has divested hi...  politicsNews   \n",
       "24236  Over the course of the U.S. presidential campa...  politicsNews   \n",
       "24774  CHARLOTTE, North Carolina - Donald Trump’s pro...  politicsNews   \n",
       "25328  After going through a week reminiscent of Napo...  politicsNews   \n",
       "25601  Global health officials are racing to better u...  politicsNews   \n",
       "25653  U.S. President Barack Obama visited a street m...  politicsNews   \n",
       "25886  Global health officials are racing to better u...  politicsNews   \n",
       "25984  PITTSBURGH, Pa. - Democratic presidential cand...  politicsNews   \n",
       "26174  In a speech weighted with America’s complicate...  politicsNews   \n",
       "26291  SACRAMENTO, Calif. - There is no guarantee Cal...  politicsNews   \n",
       "26411  Global health officials are racing to better u...  politicsNews   \n",
       "26708  It’s the near future, and North Korea’s regime...  politicsNews   \n",
       "26752  WASHINGTON - Former U.S. Republican presidenti...  politicsNews   \n",
       "26852  LONDON/WASHINGTON - Republican presidential ca...  politicsNews   \n",
       "26936  WASHINGTON, 2016 - A top aide to Donald Trump ...  politicsNews   \n",
       "27019  GOP leaders have unleashed a stunning level of...  politicsNews   \n",
       "27138  Caitlyn Jenner posted a video on Wednesday (Ap...  politicsNews   \n",
       "27227  LONDON (IFR) - The prospect of Donald Trump be...  politicsNews   \n",
       "27236  WASHINGTON/NEW YORK - Democratic presidential ...  politicsNews   \n",
       "27548  WASHINGTON - Democratic presidential front-run...  politicsNews   \n",
       "27566  WASHINGTON - Republican Ted Cruz on Friday den...  politicsNews   \n",
       "27879  The Democratic and Republican nominees for the...  politicsNews   \n",
       "28595  WASHINGTON - U.S. President Barack Obama on Sa...  politicsNews   \n",
       "28645  WASHINGTON - President Barack Obama took aim o...  politicsNews   \n",
       "28861  SKOPJE - Macedonia s parliament has adopted a ...     worldnews   \n",
       "30760  PYONGYANG - North Koreans stage a demonstratio...     worldnews   \n",
       "32278  BARCELONA - Prime Minister Mariano Rajoy urged...     worldnews   \n",
       "32930  BEIJING - China will expand a pilot project fo...     worldnews   \n",
       "35118  MADRID - Catalan regional leader Carles Puigde...     worldnews   \n",
       "35772  TOKYO - Tokyo Governor Yuriko Koike has made n...     worldnews   \n",
       "\n",
       "            date label  title_len  text_len  caps_in_title  \\\n",
       "17556 2017-12-18  true         66      2029              7   \n",
       "17878 2017-11-30  true         59      3993              5   \n",
       "18587 2017-10-19  true         55      1798              4   \n",
       "20925 2017-06-01  true         63      3369              2   \n",
       "21784 2017-04-07  true         62      2706              4   \n",
       "22778 2017-02-18  true         58      1363              6   \n",
       "23197 2017-02-01  true         62      5869              5   \n",
       "23234 2017-01-31  true         44      1999              4   \n",
       "24236 2016-12-07  true         75      6880              5   \n",
       "24774 2016-11-10  true         70      4741              2   \n",
       "25328 2016-10-05  true         75      4970              2   \n",
       "25601 2016-09-12  true         44      5471              3   \n",
       "25653 2016-09-07  true         47       738              2   \n",
       "25886 2016-08-11  true         44      6899              3   \n",
       "25984 2016-07-30  true         54      3185              4   \n",
       "26174 2016-07-13  true         64      3105              2   \n",
       "26291 2016-07-03  true         55      4448              1   \n",
       "26411 2016-06-23  true         44      6155              3   \n",
       "26708 2016-05-31  true         61      6237              6   \n",
       "26752 2016-05-29  true         53      2297              2   \n",
       "26852 2016-05-20  true         53      2268              6   \n",
       "26936 2016-05-15  true         66      4076              2   \n",
       "27019 2016-05-10  true         91      7270              3   \n",
       "27138 2016-04-28  true         46       722              2   \n",
       "27227 2016-04-22  true         52      3145              2   \n",
       "27236 2016-04-21  true         70      3110              2   \n",
       "27548 2016-03-28  true         57      4859              4   \n",
       "27566 2016-03-25  true         59      3049              3   \n",
       "27879 2016-03-07  true         83      5005              5   \n",
       "28595 2016-01-16  true         53      1822              1   \n",
       "28645 2016-01-13  true         36      5642              2   \n",
       "28861 2017-12-23  true         67      1830              1   \n",
       "30760 2017-11-30  true         28      2184              6   \n",
       "32278 2017-11-12  true         68      1876              5   \n",
       "32930 2017-11-05  true         70      1522              2   \n",
       "35118 2017-10-10  true         59      3830              3   \n",
       "35772 2017-10-02  true         62      4975              4   \n",
       "\n",
       "       norm_caps_in_title  caps_in_text  norm_caps_in_text  \n",
       "17556            0.106061           113           0.055692  \n",
       "17878            0.084746            91           0.022790  \n",
       "18587            0.072727            63           0.035039  \n",
       "20925            0.031746           111           0.032947  \n",
       "21784            0.064516            86           0.031781  \n",
       "22778            0.103448            87           0.063830  \n",
       "23197            0.080645           204           0.034759  \n",
       "23234            0.090909            84           0.042021  \n",
       "24236            0.066667           294           0.042733  \n",
       "24774            0.028571            99           0.020882  \n",
       "25328            0.026667           132           0.026559  \n",
       "25601            0.068182           226           0.041309  \n",
       "25653            0.042553            28           0.037940  \n",
       "25886            0.068182           272           0.039426  \n",
       "25984            0.074074           129           0.040502  \n",
       "26174            0.031250            85           0.027375  \n",
       "26291            0.018182           122           0.027428  \n",
       "26411            0.068182           245           0.039805  \n",
       "26708            0.098361           177           0.028379  \n",
       "26752            0.037736            92           0.040052  \n",
       "26852            0.113208           107           0.047178  \n",
       "26936            0.030303           130           0.031894  \n",
       "27019            0.032967           284           0.039065  \n",
       "27138            0.043478            26           0.036011  \n",
       "27227            0.038462           121           0.038474  \n",
       "27236            0.028571            77           0.024759  \n",
       "27548            0.070175           179           0.036839  \n",
       "27566            0.050847           126           0.041325  \n",
       "27879            0.060241           133           0.026573  \n",
       "28595            0.018868            38           0.020856  \n",
       "28645            0.055556           185           0.032790  \n",
       "28861            0.014925            53           0.028962  \n",
       "30760            0.214286            87           0.039835  \n",
       "32278            0.073529            74           0.039446  \n",
       "32930            0.028571            38           0.024967  \n",
       "35118            0.050847           200           0.052219  \n",
       "35772            0.064516           151           0.030352  "
      ]
     },
     "execution_count": 156,
     "metadata": {},
     "output_type": "execute_result"
    }
   ],
   "source": [
    "df_true_not_reuters_paren"
   ]
  },
  {
   "cell_type": "markdown",
   "metadata": {},
   "source": [
    "Interestingly there are a couple stories with the *True* label that are from **IFR** even though the dataset creators said all the *True* stories are from **Reuters**.  The stories without a news source look to follow the standard format of a **Reuters** news story."
   ]
  },
  {
   "cell_type": "code",
   "execution_count": null,
   "metadata": {},
   "outputs": [],
   "source": []
  }
 ],
 "metadata": {
  "kernelspec": {
   "display_name": "learn-env",
   "language": "python",
   "name": "learn-env"
  },
  "language_info": {
   "codemirror_mode": {
    "name": "ipython",
    "version": 3
   },
   "file_extension": ".py",
   "mimetype": "text/x-python",
   "name": "python",
   "nbconvert_exporter": "python",
   "pygments_lexer": "ipython3",
   "version": "3.6.9"
  },
  "toc": {
   "base_numbering": 1,
   "nav_menu": {},
   "number_sections": true,
   "sideBar": true,
   "skip_h1_title": false,
   "title_cell": "Table of Contents",
   "title_sidebar": "Contents",
   "toc_cell": false,
   "toc_position": {
    "height": "calc(100% - 180px)",
    "left": "10px",
    "top": "150px",
    "width": "290px"
   },
   "toc_section_display": true,
   "toc_window_display": true
  },
  "varInspector": {
   "cols": {
    "lenName": 16,
    "lenType": 16,
    "lenVar": 40
   },
   "kernels_config": {
    "python": {
     "delete_cmd_postfix": "",
     "delete_cmd_prefix": "del ",
     "library": "var_list.py",
     "varRefreshCmd": "print(var_dic_list())"
    },
    "r": {
     "delete_cmd_postfix": ") ",
     "delete_cmd_prefix": "rm(",
     "library": "var_list.r",
     "varRefreshCmd": "cat(var_dic_list()) "
    }
   },
   "types_to_exclude": [
    "module",
    "function",
    "builtin_function_or_method",
    "instance",
    "_Feature"
   ],
   "window_display": false
  }
 },
 "nbformat": 4,
 "nbformat_minor": 2
}
