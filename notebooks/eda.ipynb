{
 "cells": [
  {
   "cell_type": "markdown",
   "metadata": {},
   "source": [
    "# Fake News Classification - EDA"
   ]
  },
  {
   "cell_type": "code",
   "execution_count": 1,
   "metadata": {
    "ExecuteTime": {
     "end_time": "2020-09-29T17:29:12.534311Z",
     "start_time": "2020-09-29T17:29:11.964863Z"
    }
   },
   "outputs": [],
   "source": [
    "import os\n",
    "import zipfile\n",
    "import pandas as pd\n",
    "import numpy as np"
   ]
  },
  {
   "cell_type": "code",
   "execution_count": 2,
   "metadata": {
    "ExecuteTime": {
     "end_time": "2020-09-29T17:29:12.540687Z",
     "start_time": "2020-09-29T17:29:12.536624Z"
    }
   },
   "outputs": [],
   "source": [
    "DATA_PATH = '../data/'\n",
    "# if the path or names of the data hosted on Kaggle changes the following \n",
    "# three constants will need updated\n",
    "DATA_ARCHIVE = 'fake-and-real-news-dataset.zip'\n",
    "FAKE_DATA_FILE = 'Fake.csv'\n",
    "TRUE_DATA_FILE = 'True.csv'\n",
    "KAGGLE_DATA_LOCATION = 'clmentbisaillon/fake-and-real-news-dataset'"
   ]
  },
  {
   "cell_type": "markdown",
   "metadata": {},
   "source": [
    "# Download the Data"
   ]
  },
  {
   "cell_type": "code",
   "execution_count": 3,
   "metadata": {
    "ExecuteTime": {
     "end_time": "2020-09-29T17:29:12.549894Z",
     "start_time": "2020-09-29T17:29:12.544181Z"
    }
   },
   "outputs": [
    {
     "name": "stdout",
     "output_type": "stream",
     "text": [
      "Data directory already exists\n"
     ]
    }
   ],
   "source": [
    "try: \n",
    "    os.mkdir(DATA_PATH)\n",
    "except FileExistsError:\n",
    "    print('Data directory already exists')\n",
    "    pass"
   ]
  },
  {
   "cell_type": "markdown",
   "metadata": {},
   "source": [
    "Documentation on the Kaggle API is located at [https://www.kaggle.com/docs/api](https://www.kaggle.com/docs/api)"
   ]
  },
  {
   "cell_type": "code",
   "execution_count": 4,
   "metadata": {
    "ExecuteTime": {
     "end_time": "2020-09-29T17:29:12.565307Z",
     "start_time": "2020-09-29T17:29:12.552530Z"
    }
   },
   "outputs": [],
   "source": [
    "# assumes that kaggle has been installed and an api key is correctly installed\n",
    "if not os.path.exists(DATA_PATH + DATA_ARCHIVE):\n",
    "    !kaggle datasets download -d $KAGGLE_DATA_LOCATION -p $DATA_PATH"
   ]
  },
  {
   "cell_type": "code",
   "execution_count": 5,
   "metadata": {
    "ExecuteTime": {
     "end_time": "2020-09-29T17:29:12.571885Z",
     "start_time": "2020-09-29T17:29:12.567623Z"
    }
   },
   "outputs": [],
   "source": [
    "if not os.path.exists(DATA_PATH + FAKE_DATA_FILE):\n",
    "    with zipfile.ZipFile(DATA_PATH + DATA_ARCHIVE, 'r') as zip_ref:\n",
    "        zip_ref.extractall(path=DATA_PATH)"
   ]
  },
  {
   "cell_type": "code",
   "execution_count": 6,
   "metadata": {
    "ExecuteTime": {
     "end_time": "2020-09-29T17:29:12.591113Z",
     "start_time": "2020-09-29T17:29:12.574170Z"
    }
   },
   "outputs": [
    {
     "data": {
      "text/plain": [
       "['fake-and-real-news-dataset.zip', 'Fake.csv', 'True.csv']"
      ]
     },
     "execution_count": 6,
     "metadata": {},
     "output_type": "execute_result"
    }
   ],
   "source": [
    "os.listdir('../data')"
   ]
  },
  {
   "cell_type": "markdown",
   "metadata": {},
   "source": [
    "# Load the Data"
   ]
  },
  {
   "cell_type": "code",
   "execution_count": 7,
   "metadata": {
    "ExecuteTime": {
     "end_time": "2020-09-29T17:29:13.198998Z",
     "start_time": "2020-09-29T17:29:12.594455Z"
    }
   },
   "outputs": [],
   "source": [
    "fake_df = pd.read_csv(DATA_PATH + FAKE_DATA_FILE)"
   ]
  },
  {
   "cell_type": "code",
   "execution_count": 8,
   "metadata": {
    "ExecuteTime": {
     "end_time": "2020-09-29T17:29:13.222493Z",
     "start_time": "2020-09-29T17:29:13.203284Z"
    }
   },
   "outputs": [
    {
     "data": {
      "text/html": [
       "<div>\n",
       "<style scoped>\n",
       "    .dataframe tbody tr th:only-of-type {\n",
       "        vertical-align: middle;\n",
       "    }\n",
       "\n",
       "    .dataframe tbody tr th {\n",
       "        vertical-align: top;\n",
       "    }\n",
       "\n",
       "    .dataframe thead th {\n",
       "        text-align: right;\n",
       "    }\n",
       "</style>\n",
       "<table border=\"1\" class=\"dataframe\">\n",
       "  <thead>\n",
       "    <tr style=\"text-align: right;\">\n",
       "      <th></th>\n",
       "      <th>title</th>\n",
       "      <th>text</th>\n",
       "      <th>subject</th>\n",
       "      <th>date</th>\n",
       "    </tr>\n",
       "  </thead>\n",
       "  <tbody>\n",
       "    <tr>\n",
       "      <th>0</th>\n",
       "      <td>Donald Trump Sends Out Embarrassing New Year’...</td>\n",
       "      <td>Donald Trump just couldn t wish all Americans ...</td>\n",
       "      <td>News</td>\n",
       "      <td>December 31, 2017</td>\n",
       "    </tr>\n",
       "    <tr>\n",
       "      <th>1</th>\n",
       "      <td>Drunk Bragging Trump Staffer Started Russian ...</td>\n",
       "      <td>House Intelligence Committee Chairman Devin Nu...</td>\n",
       "      <td>News</td>\n",
       "      <td>December 31, 2017</td>\n",
       "    </tr>\n",
       "    <tr>\n",
       "      <th>2</th>\n",
       "      <td>Sheriff David Clarke Becomes An Internet Joke...</td>\n",
       "      <td>On Friday, it was revealed that former Milwauk...</td>\n",
       "      <td>News</td>\n",
       "      <td>December 30, 2017</td>\n",
       "    </tr>\n",
       "    <tr>\n",
       "      <th>3</th>\n",
       "      <td>Trump Is So Obsessed He Even Has Obama’s Name...</td>\n",
       "      <td>On Christmas day, Donald Trump announced that ...</td>\n",
       "      <td>News</td>\n",
       "      <td>December 29, 2017</td>\n",
       "    </tr>\n",
       "    <tr>\n",
       "      <th>4</th>\n",
       "      <td>Pope Francis Just Called Out Donald Trump Dur...</td>\n",
       "      <td>Pope Francis used his annual Christmas Day mes...</td>\n",
       "      <td>News</td>\n",
       "      <td>December 25, 2017</td>\n",
       "    </tr>\n",
       "  </tbody>\n",
       "</table>\n",
       "</div>"
      ],
      "text/plain": [
       "                                               title  \\\n",
       "0   Donald Trump Sends Out Embarrassing New Year’...   \n",
       "1   Drunk Bragging Trump Staffer Started Russian ...   \n",
       "2   Sheriff David Clarke Becomes An Internet Joke...   \n",
       "3   Trump Is So Obsessed He Even Has Obama’s Name...   \n",
       "4   Pope Francis Just Called Out Donald Trump Dur...   \n",
       "\n",
       "                                                text subject  \\\n",
       "0  Donald Trump just couldn t wish all Americans ...    News   \n",
       "1  House Intelligence Committee Chairman Devin Nu...    News   \n",
       "2  On Friday, it was revealed that former Milwauk...    News   \n",
       "3  On Christmas day, Donald Trump announced that ...    News   \n",
       "4  Pope Francis used his annual Christmas Day mes...    News   \n",
       "\n",
       "                date  \n",
       "0  December 31, 2017  \n",
       "1  December 31, 2017  \n",
       "2  December 30, 2017  \n",
       "3  December 29, 2017  \n",
       "4  December 25, 2017  "
      ]
     },
     "execution_count": 8,
     "metadata": {},
     "output_type": "execute_result"
    }
   ],
   "source": [
    "fake_df.head()"
   ]
  },
  {
   "cell_type": "code",
   "execution_count": 9,
   "metadata": {
    "ExecuteTime": {
     "end_time": "2020-09-29T17:29:13.831468Z",
     "start_time": "2020-09-29T17:29:13.225570Z"
    }
   },
   "outputs": [],
   "source": [
    "true_df = pd.read_csv(DATA_PATH + TRUE_DATA_FILE)"
   ]
  },
  {
   "cell_type": "code",
   "execution_count": 10,
   "metadata": {
    "ExecuteTime": {
     "end_time": "2020-09-29T17:29:13.846087Z",
     "start_time": "2020-09-29T17:29:13.833601Z"
    }
   },
   "outputs": [
    {
     "data": {
      "text/html": [
       "<div>\n",
       "<style scoped>\n",
       "    .dataframe tbody tr th:only-of-type {\n",
       "        vertical-align: middle;\n",
       "    }\n",
       "\n",
       "    .dataframe tbody tr th {\n",
       "        vertical-align: top;\n",
       "    }\n",
       "\n",
       "    .dataframe thead th {\n",
       "        text-align: right;\n",
       "    }\n",
       "</style>\n",
       "<table border=\"1\" class=\"dataframe\">\n",
       "  <thead>\n",
       "    <tr style=\"text-align: right;\">\n",
       "      <th></th>\n",
       "      <th>title</th>\n",
       "      <th>text</th>\n",
       "      <th>subject</th>\n",
       "      <th>date</th>\n",
       "    </tr>\n",
       "  </thead>\n",
       "  <tbody>\n",
       "    <tr>\n",
       "      <th>0</th>\n",
       "      <td>As U.S. budget fight looms, Republicans flip t...</td>\n",
       "      <td>WASHINGTON (Reuters) - The head of a conservat...</td>\n",
       "      <td>politicsNews</td>\n",
       "      <td>December 31, 2017</td>\n",
       "    </tr>\n",
       "    <tr>\n",
       "      <th>1</th>\n",
       "      <td>U.S. military to accept transgender recruits o...</td>\n",
       "      <td>WASHINGTON (Reuters) - Transgender people will...</td>\n",
       "      <td>politicsNews</td>\n",
       "      <td>December 29, 2017</td>\n",
       "    </tr>\n",
       "    <tr>\n",
       "      <th>2</th>\n",
       "      <td>Senior U.S. Republican senator: 'Let Mr. Muell...</td>\n",
       "      <td>WASHINGTON (Reuters) - The special counsel inv...</td>\n",
       "      <td>politicsNews</td>\n",
       "      <td>December 31, 2017</td>\n",
       "    </tr>\n",
       "    <tr>\n",
       "      <th>3</th>\n",
       "      <td>FBI Russia probe helped by Australian diplomat...</td>\n",
       "      <td>WASHINGTON (Reuters) - Trump campaign adviser ...</td>\n",
       "      <td>politicsNews</td>\n",
       "      <td>December 30, 2017</td>\n",
       "    </tr>\n",
       "    <tr>\n",
       "      <th>4</th>\n",
       "      <td>Trump wants Postal Service to charge 'much mor...</td>\n",
       "      <td>SEATTLE/WASHINGTON (Reuters) - President Donal...</td>\n",
       "      <td>politicsNews</td>\n",
       "      <td>December 29, 2017</td>\n",
       "    </tr>\n",
       "  </tbody>\n",
       "</table>\n",
       "</div>"
      ],
      "text/plain": [
       "                                               title  \\\n",
       "0  As U.S. budget fight looms, Republicans flip t...   \n",
       "1  U.S. military to accept transgender recruits o...   \n",
       "2  Senior U.S. Republican senator: 'Let Mr. Muell...   \n",
       "3  FBI Russia probe helped by Australian diplomat...   \n",
       "4  Trump wants Postal Service to charge 'much mor...   \n",
       "\n",
       "                                                text       subject  \\\n",
       "0  WASHINGTON (Reuters) - The head of a conservat...  politicsNews   \n",
       "1  WASHINGTON (Reuters) - Transgender people will...  politicsNews   \n",
       "2  WASHINGTON (Reuters) - The special counsel inv...  politicsNews   \n",
       "3  WASHINGTON (Reuters) - Trump campaign adviser ...  politicsNews   \n",
       "4  SEATTLE/WASHINGTON (Reuters) - President Donal...  politicsNews   \n",
       "\n",
       "                 date  \n",
       "0  December 31, 2017   \n",
       "1  December 29, 2017   \n",
       "2  December 31, 2017   \n",
       "3  December 30, 2017   \n",
       "4  December 29, 2017   "
      ]
     },
     "execution_count": 10,
     "metadata": {},
     "output_type": "execute_result"
    }
   ],
   "source": [
    "true_df.head()"
   ]
  },
  {
   "cell_type": "code",
   "execution_count": 11,
   "metadata": {
    "ExecuteTime": {
     "end_time": "2020-09-29T17:29:13.853685Z",
     "start_time": "2020-09-29T17:29:13.848667Z"
    }
   },
   "outputs": [],
   "source": [
    "true_df['label'] = 'true'"
   ]
  },
  {
   "cell_type": "code",
   "execution_count": 12,
   "metadata": {
    "ExecuteTime": {
     "end_time": "2020-09-29T17:29:13.874387Z",
     "start_time": "2020-09-29T17:29:13.855927Z"
    }
   },
   "outputs": [],
   "source": [
    "fake_df['label'] = 'fake'"
   ]
  },
  {
   "cell_type": "code",
   "execution_count": 13,
   "metadata": {
    "ExecuteTime": {
     "end_time": "2020-09-29T17:29:13.919877Z",
     "start_time": "2020-09-29T17:29:13.876648Z"
    }
   },
   "outputs": [],
   "source": [
    "df = pd.concat([fake_df, true_df], ignore_index=True)"
   ]
  },
  {
   "cell_type": "code",
   "execution_count": 14,
   "metadata": {
    "ExecuteTime": {
     "end_time": "2020-09-29T17:29:13.936009Z",
     "start_time": "2020-09-29T17:29:13.921950Z"
    }
   },
   "outputs": [
    {
     "data": {
      "text/html": [
       "<div>\n",
       "<style scoped>\n",
       "    .dataframe tbody tr th:only-of-type {\n",
       "        vertical-align: middle;\n",
       "    }\n",
       "\n",
       "    .dataframe tbody tr th {\n",
       "        vertical-align: top;\n",
       "    }\n",
       "\n",
       "    .dataframe thead th {\n",
       "        text-align: right;\n",
       "    }\n",
       "</style>\n",
       "<table border=\"1\" class=\"dataframe\">\n",
       "  <thead>\n",
       "    <tr style=\"text-align: right;\">\n",
       "      <th></th>\n",
       "      <th>title</th>\n",
       "      <th>text</th>\n",
       "      <th>subject</th>\n",
       "      <th>date</th>\n",
       "      <th>label</th>\n",
       "    </tr>\n",
       "  </thead>\n",
       "  <tbody>\n",
       "    <tr>\n",
       "      <th>0</th>\n",
       "      <td>Donald Trump Sends Out Embarrassing New Year’...</td>\n",
       "      <td>Donald Trump just couldn t wish all Americans ...</td>\n",
       "      <td>News</td>\n",
       "      <td>December 31, 2017</td>\n",
       "      <td>fake</td>\n",
       "    </tr>\n",
       "    <tr>\n",
       "      <th>1</th>\n",
       "      <td>Drunk Bragging Trump Staffer Started Russian ...</td>\n",
       "      <td>House Intelligence Committee Chairman Devin Nu...</td>\n",
       "      <td>News</td>\n",
       "      <td>December 31, 2017</td>\n",
       "      <td>fake</td>\n",
       "    </tr>\n",
       "    <tr>\n",
       "      <th>2</th>\n",
       "      <td>Sheriff David Clarke Becomes An Internet Joke...</td>\n",
       "      <td>On Friday, it was revealed that former Milwauk...</td>\n",
       "      <td>News</td>\n",
       "      <td>December 30, 2017</td>\n",
       "      <td>fake</td>\n",
       "    </tr>\n",
       "    <tr>\n",
       "      <th>3</th>\n",
       "      <td>Trump Is So Obsessed He Even Has Obama’s Name...</td>\n",
       "      <td>On Christmas day, Donald Trump announced that ...</td>\n",
       "      <td>News</td>\n",
       "      <td>December 29, 2017</td>\n",
       "      <td>fake</td>\n",
       "    </tr>\n",
       "    <tr>\n",
       "      <th>4</th>\n",
       "      <td>Pope Francis Just Called Out Donald Trump Dur...</td>\n",
       "      <td>Pope Francis used his annual Christmas Day mes...</td>\n",
       "      <td>News</td>\n",
       "      <td>December 25, 2017</td>\n",
       "      <td>fake</td>\n",
       "    </tr>\n",
       "  </tbody>\n",
       "</table>\n",
       "</div>"
      ],
      "text/plain": [
       "                                               title  \\\n",
       "0   Donald Trump Sends Out Embarrassing New Year’...   \n",
       "1   Drunk Bragging Trump Staffer Started Russian ...   \n",
       "2   Sheriff David Clarke Becomes An Internet Joke...   \n",
       "3   Trump Is So Obsessed He Even Has Obama’s Name...   \n",
       "4   Pope Francis Just Called Out Donald Trump Dur...   \n",
       "\n",
       "                                                text subject  \\\n",
       "0  Donald Trump just couldn t wish all Americans ...    News   \n",
       "1  House Intelligence Committee Chairman Devin Nu...    News   \n",
       "2  On Friday, it was revealed that former Milwauk...    News   \n",
       "3  On Christmas day, Donald Trump announced that ...    News   \n",
       "4  Pope Francis used his annual Christmas Day mes...    News   \n",
       "\n",
       "                date label  \n",
       "0  December 31, 2017  fake  \n",
       "1  December 31, 2017  fake  \n",
       "2  December 30, 2017  fake  \n",
       "3  December 29, 2017  fake  \n",
       "4  December 25, 2017  fake  "
      ]
     },
     "execution_count": 14,
     "metadata": {},
     "output_type": "execute_result"
    }
   ],
   "source": [
    "df.head()"
   ]
  },
  {
   "cell_type": "markdown",
   "metadata": {},
   "source": [
    "# Clean the Data"
   ]
  },
  {
   "cell_type": "markdown",
   "metadata": {},
   "source": [
    "## Check for missing data"
   ]
  },
  {
   "cell_type": "code",
   "execution_count": 15,
   "metadata": {
    "ExecuteTime": {
     "end_time": "2020-09-29T17:29:13.963486Z",
     "start_time": "2020-09-29T17:29:13.938044Z"
    }
   },
   "outputs": [
    {
     "name": "stdout",
     "output_type": "stream",
     "text": [
      "<class 'pandas.core.frame.DataFrame'>\n",
      "RangeIndex: 44898 entries, 0 to 44897\n",
      "Data columns (total 5 columns):\n",
      " #   Column   Non-Null Count  Dtype \n",
      "---  ------   --------------  ----- \n",
      " 0   title    44898 non-null  object\n",
      " 1   text     44898 non-null  object\n",
      " 2   subject  44898 non-null  object\n",
      " 3   date     44898 non-null  object\n",
      " 4   label    44898 non-null  object\n",
      "dtypes: object(5)\n",
      "memory usage: 1.7+ MB\n"
     ]
    }
   ],
   "source": [
    "df.info()"
   ]
  },
  {
   "cell_type": "markdown",
   "metadata": {},
   "source": [
    "There are no null values, next I will check for any placeholder values."
   ]
  },
  {
   "cell_type": "markdown",
   "metadata": {},
   "source": [
    "## Check for placeholder values and duplicates"
   ]
  },
  {
   "cell_type": "markdown",
   "metadata": {},
   "source": [
    "### Title column"
   ]
  },
  {
   "cell_type": "code",
   "execution_count": 16,
   "metadata": {
    "ExecuteTime": {
     "end_time": "2020-09-29T17:29:14.004306Z",
     "start_time": "2020-09-29T17:29:13.965849Z"
    }
   },
   "outputs": [],
   "source": [
    "title_value_counts = df.title.value_counts()"
   ]
  },
  {
   "cell_type": "code",
   "execution_count": 17,
   "metadata": {
    "ExecuteTime": {
     "end_time": "2020-09-29T17:29:14.023806Z",
     "start_time": "2020-09-29T17:29:14.007106Z"
    }
   },
   "outputs": [
    {
     "data": {
      "text/plain": [
       "Factbox: Trump fills top jobs for his administration                                                                                         14\n",
       "Factbox: Contenders for senior jobs in Trump's administration                                                                                 8\n",
       "Highlights: The Trump presidency on April 13 at 9:30 P.M. EDT/0130 GMT on Friday                                                              8\n",
       "MEDIA IGNORES Time That Bill Clinton FIRED His FBI Director On Day Before Vince Foster Was Found Dead                                         6\n",
       "Factbox: International reaction to arrest of Reuters reporters in Myanmar                                                                     6\n",
       "                                                                                                                                             ..\n",
       "TRUMP WAS RIGHT About CNN Being “Very Fake News”: Federal Judge Rules Against CNN In “FAKE NEWS” Case…May Have Acted With “Actual Malice”     2\n",
       "WHOA! CLINTON GRIFTERS BAGGED $100 Million From “Blood Minerals” Firm                                                                         2\n",
       "BOOM! DirecTV REFUNDS NFL Sunday Ticket Subscriptions After Being Bombarded With Angry Calls From Customers Over National Anthem Protests     2\n",
       "OBAMA’S OPEN BORDERS Crisis Just Got Real…WHO Warns Of “EXPLOSIVE SPREAD” Of Dangerous Virus [VIDEO]                                          2\n",
       "PRESIDENT Promotes Made in America: Omaha Steaks Owner “Wanted to Kiss Me” for Reopening Trade with China [Video]                             2\n",
       "Name: title, Length: 5629, dtype: int64"
      ]
     },
     "execution_count": 17,
     "metadata": {},
     "output_type": "execute_result"
    }
   ],
   "source": [
    "title_value_counts[title_value_counts > 1]"
   ]
  },
  {
   "cell_type": "markdown",
   "metadata": {},
   "source": [
    "There are a lot of titles that are used more than once.  This will need to be reviewed.\n",
    "First I will look at the most commonly reused title."
   ]
  },
  {
   "cell_type": "code",
   "execution_count": 18,
   "metadata": {
    "ExecuteTime": {
     "end_time": "2020-09-29T17:29:14.050963Z",
     "start_time": "2020-09-29T17:29:14.025932Z"
    }
   },
   "outputs": [
    {
     "data": {
      "text/html": [
       "<div>\n",
       "<style scoped>\n",
       "    .dataframe tbody tr th:only-of-type {\n",
       "        vertical-align: middle;\n",
       "    }\n",
       "\n",
       "    .dataframe tbody tr th {\n",
       "        vertical-align: top;\n",
       "    }\n",
       "\n",
       "    .dataframe thead th {\n",
       "        text-align: right;\n",
       "    }\n",
       "</style>\n",
       "<table border=\"1\" class=\"dataframe\">\n",
       "  <thead>\n",
       "    <tr style=\"text-align: right;\">\n",
       "      <th></th>\n",
       "      <th>title</th>\n",
       "      <th>text</th>\n",
       "      <th>subject</th>\n",
       "      <th>date</th>\n",
       "      <th>label</th>\n",
       "    </tr>\n",
       "  </thead>\n",
       "  <tbody>\n",
       "    <tr>\n",
       "      <th>29701</th>\n",
       "      <td>Factbox: Trump fills top jobs for his administ...</td>\n",
       "      <td>(Reuters) - U.S. President-elect Donald Trump ...</td>\n",
       "      <td>politicsNews</td>\n",
       "      <td>January 19, 2017</td>\n",
       "      <td>true</td>\n",
       "    </tr>\n",
       "    <tr>\n",
       "      <th>29875</th>\n",
       "      <td>Factbox: Trump fills top jobs for his administ...</td>\n",
       "      <td>(Reuters) - U.S. President-elect Donald Trump ...</td>\n",
       "      <td>politicsNews</td>\n",
       "      <td>January 11, 2017</td>\n",
       "      <td>true</td>\n",
       "    </tr>\n",
       "    <tr>\n",
       "      <th>30096</th>\n",
       "      <td>Factbox: Trump fills top jobs for his administ...</td>\n",
       "      <td>(Reuters) - U.S. President-elect Donald Trump ...</td>\n",
       "      <td>politicsNews</td>\n",
       "      <td>December 21, 2016</td>\n",
       "      <td>true</td>\n",
       "    </tr>\n",
       "    <tr>\n",
       "      <th>30118</th>\n",
       "      <td>Factbox: Trump fills top jobs for his administ...</td>\n",
       "      <td>(Reuters) - President-elect Donald Trump will ...</td>\n",
       "      <td>politicsNews</td>\n",
       "      <td>December 19, 2016</td>\n",
       "      <td>true</td>\n",
       "    </tr>\n",
       "    <tr>\n",
       "      <th>30136</th>\n",
       "      <td>Factbox: Trump fills top jobs for his administ...</td>\n",
       "      <td>(Reuters) - President-elect Donald Trump will ...</td>\n",
       "      <td>politicsNews</td>\n",
       "      <td>December 17, 2016</td>\n",
       "      <td>true</td>\n",
       "    </tr>\n",
       "    <tr>\n",
       "      <th>30167</th>\n",
       "      <td>Factbox: Trump fills top jobs for his administ...</td>\n",
       "      <td>(Reuters) - U.S. President-elect Donald Trump ...</td>\n",
       "      <td>politicsNews</td>\n",
       "      <td>December 15, 2016</td>\n",
       "      <td>true</td>\n",
       "    </tr>\n",
       "    <tr>\n",
       "      <th>30186</th>\n",
       "      <td>Factbox: Trump fills top jobs for his administ...</td>\n",
       "      <td>(Reuters) - U.S. President-elect Donald Trump ...</td>\n",
       "      <td>politicsNews</td>\n",
       "      <td>December 13, 2016</td>\n",
       "      <td>true</td>\n",
       "    </tr>\n",
       "    <tr>\n",
       "      <th>30220</th>\n",
       "      <td>Factbox: Trump fills top jobs for his administ...</td>\n",
       "      <td>(Reuters) - U.S. President-elect Donald Trump ...</td>\n",
       "      <td>politicsNews</td>\n",
       "      <td>December 13, 2016</td>\n",
       "      <td>true</td>\n",
       "    </tr>\n",
       "    <tr>\n",
       "      <th>30236</th>\n",
       "      <td>Factbox: Trump fills top jobs for his administ...</td>\n",
       "      <td>(Reuters) - U.S. President-elect Donald Trump ...</td>\n",
       "      <td>politicsNews</td>\n",
       "      <td>December 12, 2016</td>\n",
       "      <td>true</td>\n",
       "    </tr>\n",
       "    <tr>\n",
       "      <th>30289</th>\n",
       "      <td>Factbox: Trump fills top jobs for his administ...</td>\n",
       "      <td>(Reuters) - U.S. President-elect Donald Trump ...</td>\n",
       "      <td>politicsNews</td>\n",
       "      <td>December 8, 2016</td>\n",
       "      <td>true</td>\n",
       "    </tr>\n",
       "    <tr>\n",
       "      <th>30330</th>\n",
       "      <td>Factbox: Trump fills top jobs for his administ...</td>\n",
       "      <td>(Reuters) - U.S. President-elect Donald Trump ...</td>\n",
       "      <td>politicsNews</td>\n",
       "      <td>December 7, 2016</td>\n",
       "      <td>true</td>\n",
       "    </tr>\n",
       "    <tr>\n",
       "      <th>30380</th>\n",
       "      <td>Factbox: Trump fills top jobs for his administ...</td>\n",
       "      <td>(Reuters) - U.S. President-elect Donald Trump ...</td>\n",
       "      <td>politicsNews</td>\n",
       "      <td>December 5, 2016</td>\n",
       "      <td>true</td>\n",
       "    </tr>\n",
       "    <tr>\n",
       "      <th>30480</th>\n",
       "      <td>Factbox: Trump fills top jobs for his administ...</td>\n",
       "      <td>(Reuters) - President-elect Donald Trump has c...</td>\n",
       "      <td>politicsNews</td>\n",
       "      <td>November 30, 2016</td>\n",
       "      <td>true</td>\n",
       "    </tr>\n",
       "    <tr>\n",
       "      <th>30489</th>\n",
       "      <td>Factbox: Trump fills top jobs for his administ...</td>\n",
       "      <td>(Reuters) - U.S. President-elect Donald Trump ...</td>\n",
       "      <td>politicsNews</td>\n",
       "      <td>November 29, 2016</td>\n",
       "      <td>true</td>\n",
       "    </tr>\n",
       "  </tbody>\n",
       "</table>\n",
       "</div>"
      ],
      "text/plain": [
       "                                                   title  \\\n",
       "29701  Factbox: Trump fills top jobs for his administ...   \n",
       "29875  Factbox: Trump fills top jobs for his administ...   \n",
       "30096  Factbox: Trump fills top jobs for his administ...   \n",
       "30118  Factbox: Trump fills top jobs for his administ...   \n",
       "30136  Factbox: Trump fills top jobs for his administ...   \n",
       "30167  Factbox: Trump fills top jobs for his administ...   \n",
       "30186  Factbox: Trump fills top jobs for his administ...   \n",
       "30220  Factbox: Trump fills top jobs for his administ...   \n",
       "30236  Factbox: Trump fills top jobs for his administ...   \n",
       "30289  Factbox: Trump fills top jobs for his administ...   \n",
       "30330  Factbox: Trump fills top jobs for his administ...   \n",
       "30380  Factbox: Trump fills top jobs for his administ...   \n",
       "30480  Factbox: Trump fills top jobs for his administ...   \n",
       "30489  Factbox: Trump fills top jobs for his administ...   \n",
       "\n",
       "                                                    text       subject  \\\n",
       "29701  (Reuters) - U.S. President-elect Donald Trump ...  politicsNews   \n",
       "29875  (Reuters) - U.S. President-elect Donald Trump ...  politicsNews   \n",
       "30096  (Reuters) - U.S. President-elect Donald Trump ...  politicsNews   \n",
       "30118  (Reuters) - President-elect Donald Trump will ...  politicsNews   \n",
       "30136  (Reuters) - President-elect Donald Trump will ...  politicsNews   \n",
       "30167  (Reuters) - U.S. President-elect Donald Trump ...  politicsNews   \n",
       "30186  (Reuters) - U.S. President-elect Donald Trump ...  politicsNews   \n",
       "30220  (Reuters) - U.S. President-elect Donald Trump ...  politicsNews   \n",
       "30236  (Reuters) - U.S. President-elect Donald Trump ...  politicsNews   \n",
       "30289  (Reuters) - U.S. President-elect Donald Trump ...  politicsNews   \n",
       "30330  (Reuters) - U.S. President-elect Donald Trump ...  politicsNews   \n",
       "30380  (Reuters) - U.S. President-elect Donald Trump ...  politicsNews   \n",
       "30480  (Reuters) - President-elect Donald Trump has c...  politicsNews   \n",
       "30489  (Reuters) - U.S. President-elect Donald Trump ...  politicsNews   \n",
       "\n",
       "                     date label  \n",
       "29701   January 19, 2017   true  \n",
       "29875   January 11, 2017   true  \n",
       "30096  December 21, 2016   true  \n",
       "30118  December 19, 2016   true  \n",
       "30136  December 17, 2016   true  \n",
       "30167  December 15, 2016   true  \n",
       "30186  December 13, 2016   true  \n",
       "30220  December 13, 2016   true  \n",
       "30236  December 12, 2016   true  \n",
       "30289   December 8, 2016   true  \n",
       "30330   December 7, 2016   true  \n",
       "30380   December 5, 2016   true  \n",
       "30480  November 30, 2016   true  \n",
       "30489  November 29, 2016   true  "
      ]
     },
     "execution_count": 18,
     "metadata": {},
     "output_type": "execute_result"
    }
   ],
   "source": [
    "df[df.title == 'Factbox: Trump fills top jobs for his administration']"
   ]
  },
  {
   "cell_type": "code",
   "execution_count": 19,
   "metadata": {
    "ExecuteTime": {
     "end_time": "2020-09-29T17:29:14.059666Z",
     "start_time": "2020-09-29T17:29:14.053117Z"
    },
    "scrolled": true
   },
   "outputs": [
    {
     "data": {
      "text/plain": [
       "'(Reuters) - U.S. President-elect Donald Trump will name former Georgia Governor Sonny Perdue as his nominee for secretary of agriculture on Thursday, a senior transition official said on Wednesday. Here is a list of Republican Trump’s selections for top jobs in his administration.  NOTE: Senate confirmation is required for all the posts except national security adviser and White House posts. Tillerson, 64, has spent his entire career at Exxon Mobil Corp, where he rose to chairman and chief executive officer in 2006. A civil engineer by training, the Texan joined the world’s largest publicly traded energy company in 1975 and led several of its operations in the United States as well as in Yemen, Thailand and Russia. As Exxon’s chief executive, he maintained close ties with Moscow and opposed U.S. sanctions against Russia for its incursion into Crimea. Mnuchin, 54, is a successful private equity investor, hedge fund manager and Hollywood financier who spent 17 years at Goldman Sachs Group Inc before leaving the investment bank in 2002. He assembled an investor group to buy a failed California mortgage lender in 2009, rebranded it as OneWest Bank and built it into Southern California’s largest bank. Housing advocacy groups criticized OneWest for its foreclosure practices, accusing it of being too quick to foreclose on struggling homeowners. Mattis is a retired Marine general known for his tough talk, distrust of Iran and battlefield experience in Iraq and Afghanistan. A former leader of Central Command, which oversees U.S. military operations in the Middle East and South Asia, Mattis, 66, is known by many U.S. forces by his nickname, “Mad Dog.” He was rebuked in 2005 for saying: “It’s fun to shoot some people.” Sessions, 70, was the first U.S. senator to endorse Trump’s presidential bid and has been a close ally since. Son of a country store owner, the lawmaker from Alabama and former federal prosecutor has long taken a tough stance on illegal immigration, opposing any path to citizenship for undocumented immigrants. Coats, 73, served as U.S. senator from Indiana from 1989 to 1999 and again from 2011 to 2017, and was U.S. ambassador to Germany from 2001 to 2005. He previously served as U.S. representative from Indiana’s 4th Congressional District. Zinke, 55, a first-term Republican U.S. representative from Montana and a member of the House subcommittee on natural resources, has voted for legislation that would weaken environmental safeguards on public lands. He has taken stances favoring the coal industry, which suffered during the Obama administration. The League of Conservation Voters, which ranks lawmakers on their environmental record, gave Zinke an extremely low lifetime score of 3 percent. Ross, 79, heads the private equity firm WL Ross & Co. Forbes has pegged his net worth at about $2.9 billion. A staunch supporter of Trump, Ross helped shape the Trump campaign’s views on trade policy. He blames massive U.S. factory job losses on the North American Free Trade Agreement (NAFTA) with Canada and Mexico, which went into force in 1994, and the 2001 entry of China into the World Trade Organization.      Lighthizer, 69, served as deputy U.S. trade representative during the Reagan administration in the 1980s and has since spent nearly three decades as a lawyer representing U.S. companies in anti-dumping and anti-subsidy cases, currently with the law firm Skadden, Arps, Slate, Meagher and Flom. A harsh critic of China’s trade practices, Lighthizer in 2010 told Congress that U.S. policymakers should take a more aggressive approach in dealing with the Asian country. Puzder, chief executive officer of CKE Restaurants Inc [APOLOT.UL], which runs the Carl’s Jr. and Hardee’s fast-food chains, has been a vociferous critic of government regulation of the workplace and the National Labor Relations Board. Puzder, 66, has argued that higher minimum wages would hurt workers by forcing restaurants to close and praises the benefits of automation, so his appointment is likely to antagonize organized labor.  U.S. Representative Price, 62, is an orthopedic surgeon who heads the House Budget Committee. A representative from Georgia since 2005, Price has criticized Obamacare and has championed a plan of tax credits, expanded health savings accounts and lawsuit reforms to replace it. He is against abortion. Former Georgia Governor Perdue, 70, served on Trump’s agricultural advisory committee during the campaign. Perdue, a Republican, was elected to two terms as governor, serving from 2003 to 2011. Before that, he served in the state Senate representing a rural swath of the state about 100 miles (160 km) south of Atlanta. After finishing his second term as governor, Perdue founded Perdue Partners, a global trading firm that consults and provides services for companies looking to export products. Shulkin, 57, currently is under secretary for health at the Department of Veterans Affairs, putting him in charge of the country’s largest healthcare system. Shulkin, a physician, was chosen by Democratic President Barack Obama for the under secretary post in 2015. He has spearheaded an effort to cut waiting times for care at VA medical centers. Trump promised during the campaign to improve medical care for veterans. Shulkin would be the first VA secretary who had not served in the military. Carson, 65, is a retired neurosurgeon who dropped out of the Republican presidential nominating race in March and threw his support to Trump. A popular writer and speaker in conservative circles, Carson had been reluctant to take a position in the incoming administration because of his lack of experience in the federal government. He is the first African-American picked for a Cabinet spot by Trump. Chao, 63, was labor secretary under President George W. Bush for eight years and the first Asian-American woman to hold a Cabinet position. She is a director at Ingersoll Rand Plc, News Corp and Vulcan Materials Co. She is married to U.S. Senate Majority Leader Mitch McConnell, a Republican from Kentucky. Perry, 66, is an addition to the list of oil drilling advocates skeptical about climate change who have been picked for senior positions in Trump’s Cabinet. The selections have worried environmentalists but cheered an oil and gas industry eager for expansion. Perry, who ran unsuccessfully for the 2012 Republican presidential nomination and also briefly ran for president in 2016, would be responsible for U.S. energy policy and oversee the nation’s nuclear weapons program.  DeVos, 59, is a billionaire Republican donor, a former chair of the Michigan Republican Party and an advocate for the privatization of education. As chair of the American Federation for Children, she has pushed at the state level for vouchers that families can use to send their children to private schools and for expansion of charter schools. The final leadership role of Kelly’s 45-year military career was head of the U.S. Southern Command, responsible for U.S. military activities and relationships in Latin America and the Caribbean. The 66-year-old retired Marine general differed with Obama on key issues and has warned of vulnerabilities along the United States’ southern border with Mexico. Priebus recently was re-elected to serve as Republican National Committee chairman but will give up that job to join Trump in the White House, where the low-key Washington operative could help forge ties with Congress to advance Trump’s agenda. Priebus, 44, was a steadfast supporter of Trump during the presidential campaign even as the party fractured amid the choice. ENVIRONMENTAL PROTECTION AGENCY ADMINISTRATOR: SCOTT PRUITT An ardent opponent of Obama’s measures to stem climate change, Oklahoma Attorney General Pruitt, 48, has enraged environmental activists. But he fits in with the president-elect’s promise to cut the agency back and eliminate regulation that he says is stifling oil and gas drilling. Pruitt became the top state prosecutor for Oklahoma, which has extensive oil reserves, in 2011 and has challenged the EPA multiple times since. U.S. Representative Mick Mulvaney, 49, a South Carolina Republican, is a fiscal conservative. He was an outspoken critic of former House of Representatives Speaker John Boehner, who resigned in 2015 amid opposition from fellow Republicans who were members of the House Freedom Caucus. Mulvaney was first elected to Congress in 2010. Haley, 44, has been the Republican governor of South Carolina since 2011 and has little experience in foreign policy or the federal government. The daughter of Indian immigrants, she led a successful push last year to remove the Confederate battle flag from the grounds of the South Carolina state capitol after the killing of nine black churchgoers in Charleston by a white gunman. McMahon, 68, is a co-founder and former chief executive of the professional wrestling franchise WWE, which is based in Stamford, Connecticut. She ran unsuccessfully as a Republican for a U.S. Senate seat in Connecticut in 2010 and 2012 and was an early supporter of Trump’s presidential campaign. U.S. Representative Pompeo, 53, is a third-term congressman from Kansas who serves on the House of Representatives Intelligence Committee, which oversees the CIA, National Security Agency and cyber security. A retired Army officer and Harvard Law School graduate, Pompeo supports the U.S. government’s sweeping collection of Americans’ communications data and wants to scrap the nuclear deal with Iran. Walter “Jay” Clayton is a New York-based attorney who advises clients on major Wall Street deals, specializing in public and private mergers and acquisitions and capital-raising efforts. His past clients have included Alibaba Group Holding Company, Oaktree Capital Group and big banks.    Retired Lieutenant General Flynn, 58, was an early Trump supporter and serves as vice chairman on his transition team. He began his Army career in 1981 and was deployed in Afghanistan and Iraq. Flynn became head of the Defense Intelligence Agency in 2012 under Obama but retired a year earlier than expected, according to media reports, and became a fierce critic of Obama’s foreign policy. Tom Bossert, 41, who worked as deputy homeland security adviser to former President George W. Bush, will serve as the assistant to the president for homeland security and counterterrorism. He currently runs a risk management consulting firm and has a cyber risk fellowship with the Atlantic Council think tank in Washington. Cohn, 56, president and chief operating officer of Goldman Sachs, had widely been considered heir apparent to Lloyd Blankfein, CEO of the Wall Street firm. Trump hammered Goldman and Blankfein during the presidential campaign, releasing a television ad that called Blankfein part of a “global power structure” that had robbed America’s working class. Navarro, 67, has suggested a stepped-up engagement with Taiwan, including assistance with a submarine development program. A professor at the University of California, Irvine, who advised Trump during the campaign, Navarro argued that Washington should stop referring to the “one China” policy, but stopped short of suggesting it should recognize Taipei: “There is no need to unnecessarily poke the Panda.” Viola, 60, is a graduate of the U.S. Military Academy at West Point and a U.S. Army veteran who served in the famed 101st Airborne Division. He founded high-frequency trading firm Virtu Financial Inc and served as chairman of the New York Mercantile Exchange, where he began his financial services career. After the Sept. 11, 2001, al Qaeda attacks on New York and Washington, Viola helped found the Combating Terrorism Center at West Point. He is an owner of the Florida Panthers ice hockey team. CHIEF WHITE HOUSE STRATEGIST, SENIOR COUNSELOR: STEVE BANNON The former head of the conservative website Breitbart News came aboard as Trump’s campaign chairman in August. A rabble-rousing conservative media figure, he helped shift Breitbart into a forum for the alt-right, a loose confederation of those who reject mainstream politics and includes neo-Nazis, white supremacists and anti-Semites. His hiring signals Trump’s dedication to operating outside the norms of Washington. As White House chief of staff, Bannon, 63, will serve as Trump’s gatekeeper and agenda-setter. '"
      ]
     },
     "execution_count": 19,
     "metadata": {},
     "output_type": "execute_result"
    }
   ],
   "source": [
    "df.iloc[29701].text"
   ]
  },
  {
   "cell_type": "code",
   "execution_count": 20,
   "metadata": {
    "ExecuteTime": {
     "end_time": "2020-09-29T17:29:14.068031Z",
     "start_time": "2020-09-29T17:29:14.061884Z"
    }
   },
   "outputs": [
    {
     "data": {
      "text/plain": [
       "'(Reuters) - U.S. President-elect Donald Trump on Wednesday announced he has chosen David Shulkin, who currently heads the Department of Veterans Affairs healthcare system, to head the agency. Here is a list of Republican Trump’s selections for top jobs in his administration.  NOTE: Senate confirmation is required for all the posts except national security adviser and White House posts. Tillerson, 64, has spent his entire career at Exxon Mobil Corp, where he rose to chairman and chief executive officer in 2006. A civil engineer by training, the Texan joined the world’s largest publicly traded energy company in 1975 and led several of its operations in the United States as well as in Yemen, Thailand and Russia. As Exxon’s chief executive, he maintained close ties with Moscow and opposed U.S. sanctions against Russia for its incursion into Crimea. Mnuchin, 54, is a successful private equity investor, hedge fund manager and Hollywood financier who spent 17 years at Goldman Sachs Group Inc before leaving the investment bank in 2002. He assembled an investor group to buy a failed California mortgage lender in 2009, rebranded it as OneWest Bank and built it into Southern California’s largest bank. Housing advocacy groups criticized OneWest for its foreclosure practices, accusing it of being too quick to foreclose on struggling homeowners. Mattis is a retired Marine general known for his tough talk, distrust of Iran and battlefield experience in Iraq and Afghanistan. A former leader of Central Command, which oversees U.S. military operations in the Middle East and South Asia, Mattis, 66, is known by many U.S. forces by his nickname, “Mad Dog.” He was rebuked in 2005 for saying: “It’s fun to shoot some people.” Sessions, 70, was the first U.S. senator to endorse Trump’s presidential bid and has been a close ally since. Son of a country store owner, the lawmaker from Alabama and former federal prosecutor has long taken a tough stance on illegal immigration, opposing any path to citizenship for undocumented immigrants. Coats, 73, served as U.S. senator from Indiana from 1989 to 1999 and again from 2011 to 2017, and was U.S. ambassador to Germany from 2001 to 2005. He previously served as U.S. representative from Indiana’s 4th Congressional District. Zinke, 55, a first-term Republican U.S. representative from Montana and a member of the House subcommittee on natural resources, has voted for legislation that would weaken environmental safeguards on public lands. He has taken stances favoring the coal industry, which suffered during the Obama administration. The League of Conservation Voters, which ranks lawmakers on their environmental record, gave Zinke an extremely low lifetime score of 3 percent. Ross, 79, heads the private equity firm WL Ross & Co. Forbes has pegged his net worth at about $2.9 billion. A staunch supporter of Trump, Ross helped shape the Trump campaign’s views on trade policy. He blames massive U.S. factory job losses on the North American Free Trade Agreement (NAFTA) with Canada and Mexico, which went into force in 1994, and the 2001 entry of China into the World Trade Organization.      Lighthizer, 69, served as deputy U.S. trade representative during the Reagan administration in the 1980s and has since spent nearly three decades as a lawyer representing U.S. companies in anti-dumping and anti-subsidy cases, currently with the law firm Skadden, Arps, Slate, Meagher and Flom. A harsh critic of China’s trade practices, Lighthizer in 2010 told Congress that U.S. policymakers should take a more aggressive approach in dealing with the Asian country. Puzder, chief executive officer of CKE Restaurants Inc [APOLOT.UL], which runs the Carl’s Jr. and Hardee’s fast-food chains, has been a vociferous critic of government regulation of the workplace and the National Labor Relations Board. Puzder, 66, has argued that higher minimum wages would hurt workers by forcing restaurants to close and praises the benefits of automation, so his appointment is likely to antagonize organized labor.  U.S. Representative Price, 62, is an orthopedic surgeon who heads the House Budget Committee. A representative from Georgia since 2005, Price has criticized Obamacare and has championed a plan of tax credits, expanded health savings accounts and lawsuit reforms to replace it. He is against abortion. Shulkin, 57, currently is under secretary for health at the Department of Veterans Affairs, putting him in charge of the country’s largest healthcare system. Shulkin, a physician, was chosen by Democratic President Barack Obama for the under secretary post in 2015. He has spearheaded an effort to cut waiting times for care at VA medical centers. Trump promised during the campaign to improve medical care for veterans. Shulkin would be the first VA secretary who had not served in the military. Carson, 65, is a retired neurosurgeon who dropped out of the Republican presidential nominating race in March and threw his support to Trump. A popular writer and speaker in conservative circles, Carson had been reluctant to take a position in the incoming administration because of his lack of experience in the federal government. He is the first African-American picked for a Cabinet spot by Trump. Chao, 63, was labor secretary under President George W. Bush for eight years and the first Asian-American woman to hold a Cabinet position. She is a director at Ingersoll Rand Plc, News Corp and Vulcan Materials Co. She is married to U.S. Senate Majority Leader Mitch McConnell, a Republican from Kentucky. Perry, 66, is an addition to the list of oil drilling advocates skeptical about climate change who have been picked for senior positions in Trump’s Cabinet. The selections have worried environmentalists but cheered an oil and gas industry eager for expansion. Perry, who ran unsuccessfully for the 2012 Republican presidential nomination and also briefly ran for president in 2016, would be responsible for U.S. energy policy and oversee the nation’s nuclear weapons program.  DeVos, 59, is a billionaire Republican donor, a former chair of the Michigan Republican Party and an advocate for the privatization of education. As chair of the American Federation for Children, she has pushed at the state level for vouchers that families can use to send their children to private schools and for expansion of charter schools. The final leadership role of Kelly’s 45-year military career was head of the U.S. Southern Command, responsible for U.S. military activities and relationships in Latin America and the Caribbean. The 66-year-old retired Marine general differed with Obama on key issues and has warned of vulnerabilities along the United States’ southern border with Mexico. Priebus recently was re-elected to serve as Republican National Committee chairman but will give up that job to join Trump in the White House, where the low-key Washington operative could help forge ties with Congress to advance Trump’s agenda. Priebus, 44, was a steadfast supporter of Trump during the presidential campaign even as the party fractured amid the choice. ENVIRONMENTAL PROTECTION AGENCY ADMINISTRATOR: SCOTT PRUITT An ardent opponent of Obama’s measures to stem climate change, Oklahoma Attorney General Pruitt, 48, has enraged environmental activists. But he fits in with the president-elect’s promise to cut the agency back and eliminate regulation that he says is stifling oil and gas drilling. Pruitt became the top state prosecutor for Oklahoma, which has extensive oil reserves, in 2011 and has challenged the EPA multiple times since. U.S. Representative Mick Mulvaney, 49, a South Carolina Republican, is a fiscal conservative. He was an outspoken critic of former House of Representatives Speaker John Boehner, who resigned in 2015 amid opposition from fellow Republicans who were members of the House Freedom Caucus. Mulvaney was first elected to Congress in 2010. Haley, 44, has been the Republican governor of South Carolina since 2011 and has little experience in foreign policy or the federal government. The daughter of Indian immigrants, she led a successful push last year to remove the Confederate battle flag from the grounds of the South Carolina state capitol after the killing of nine black churchgoers in Charleston by a white gunman. McMahon, 68, is a co-founder and former chief executive of the professional wrestling franchise WWE, which is based in Stamford, Connecticut. She ran unsuccessfully as a Republican for a U.S. Senate seat in Connecticut in 2010 and 2012 and was an early supporter of Trump’s presidential campaign. U.S. Representative Pompeo, 53, is a third-term congressman from Kansas who serves on the House of Representatives Intelligence Committee, which oversees the CIA, National Security Agency and cyber security. A retired Army officer and Harvard Law School graduate, Pompeo supports the U.S. government’s sweeping collection of Americans’ communications data and wants to scrap the nuclear deal with Iran. Walter “Jay” Clayton is a New York-based attorney who advises clients on major Wall Street deals, specializing in public and private mergers and acquisitions and capital-raising efforts. His past clients have included Alibaba Group Holding Company, Oaktree Capital Group and big banks.    Retired Lieutenant General Flynn, 58, was an early Trump supporter and serves as vice chairman on his transition team. He began his Army career in 1981 and was deployed in Afghanistan and Iraq. Flynn became head of the Defense Intelligence Agency in 2012 under Obama but retired a year earlier than expected, according to media reports, and became a fierce critic of Obama’s foreign policy. Tom Bossert, 41, who worked as deputy homeland security adviser to former President George W. Bush, will serve as the assistant to the president for homeland security and counterterrorism. He currently runs a risk management consulting firm and has a cyber risk fellowship with the Atlantic Council think tank in Washington. Cohn, 56, president and chief operating officer of Goldman Sachs, had widely been considered heir apparent to Lloyd Blankfein, CEO of the Wall Street firm. Trump hammered Goldman and Blankfein during the presidential campaign, releasing a television ad that called Blankfein part of a “global power structure” that had robbed America’s working class. Navarro, 67, has suggested a stepped-up engagement with Taiwan, including assistance with a submarine development program. A professor at the University of California, Irvine, who advised Trump during the campaign, Navarro argued that Washington should stop referring to the “one China” policy, but stopped short of suggesting it should recognize Taipei: “There is no need to unnecessarily poke the Panda.” Viola, 60, is a graduate of the U.S. Military Academy at West Point and a U.S. Army veteran who served in the famed 101st Airborne Division. He founded high-frequency trading firm Virtu Financial Inc and served as chairman of the New York Mercantile Exchange, where he began his financial services career. After the Sept. 11, 2001, al Qaeda attacks on New York and Washington, Viola helped found the Combating Terrorism Center at West Point. He is an owner of the Florida Panthers ice hockey team. CHIEF WHITE HOUSE STRATEGIST, SENIOR COUNSELOR: STEVE BANNON The former head of the conservative website Breitbart News came aboard as Trump’s campaign chairman in August. A rabble-rousing conservative media figure, he helped shift Breitbart into a forum for the alt-right, a loose confederation of those who reject mainstream politics and includes neo-Nazis, white supremacists and anti-Semites. His hiring signals Trump’s dedication to operating outside the norms of Washington. As White House chief of staff, Bannon, 63, will serve as Trump’s gatekeeper and agenda-setter. '"
      ]
     },
     "execution_count": 20,
     "metadata": {},
     "output_type": "execute_result"
    }
   ],
   "source": [
    "df.iloc[29875].text"
   ]
  },
  {
   "cell_type": "markdown",
   "metadata": {},
   "source": [
    "This title seems to be a story title that Reuters reused, while changing the underlying story."
   ]
  },
  {
   "cell_type": "markdown",
   "metadata": {},
   "source": [
    "Next I'll make a dataframe with all the data with duplicate titles"
   ]
  },
  {
   "cell_type": "code",
   "execution_count": 21,
   "metadata": {
    "ExecuteTime": {
     "end_time": "2020-09-29T17:29:14.077114Z",
     "start_time": "2020-09-29T17:29:14.070200Z"
    }
   },
   "outputs": [],
   "source": [
    "duplicate_title_list = set(title_value_counts[title_value_counts > 1].keys())"
   ]
  },
  {
   "cell_type": "code",
   "execution_count": 22,
   "metadata": {
    "ExecuteTime": {
     "end_time": "2020-09-29T17:29:14.096199Z",
     "start_time": "2020-09-29T17:29:14.079381Z"
    }
   },
   "outputs": [],
   "source": [
    "df_dup_titles = df[df.title.isin(duplicate_title_list)]"
   ]
  },
  {
   "cell_type": "code",
   "execution_count": 23,
   "metadata": {
    "ExecuteTime": {
     "end_time": "2020-09-29T17:29:14.124414Z",
     "start_time": "2020-09-29T17:29:14.103648Z"
    }
   },
   "outputs": [
    {
     "data": {
      "text/html": [
       "<div>\n",
       "<style scoped>\n",
       "    .dataframe tbody tr th:only-of-type {\n",
       "        vertical-align: middle;\n",
       "    }\n",
       "\n",
       "    .dataframe tbody tr th {\n",
       "        vertical-align: top;\n",
       "    }\n",
       "\n",
       "    .dataframe thead th {\n",
       "        text-align: right;\n",
       "    }\n",
       "</style>\n",
       "<table border=\"1\" class=\"dataframe\">\n",
       "  <thead>\n",
       "    <tr style=\"text-align: right;\">\n",
       "      <th></th>\n",
       "      <th>title</th>\n",
       "      <th>text</th>\n",
       "      <th>subject</th>\n",
       "      <th>date</th>\n",
       "      <th>label</th>\n",
       "    </tr>\n",
       "  </thead>\n",
       "  <tbody>\n",
       "    <tr>\n",
       "      <th>1488</th>\n",
       "      <td>McConnell Says He’ll Obstruct ANY Effort To H...</td>\n",
       "      <td>Siding with Trump s Attorney General Jeff Sess...</td>\n",
       "      <td>News</td>\n",
       "      <td>May 12, 2017</td>\n",
       "      <td>fake</td>\n",
       "    </tr>\n",
       "    <tr>\n",
       "      <th>1535</th>\n",
       "      <td>McConnell Says He’ll Obstruct ANY Effort To H...</td>\n",
       "      <td>Siding with Trump s Attorney General Jeff Sess...</td>\n",
       "      <td>News</td>\n",
       "      <td>May 10, 2017</td>\n",
       "      <td>fake</td>\n",
       "    </tr>\n",
       "    <tr>\n",
       "      <th>9087</th>\n",
       "      <td>BARBRA STREISAND Gives Up On Dream Of Impeachi...</td>\n",
       "      <td>Barbra Streisand was an Obama sycophant and on...</td>\n",
       "      <td>politics</td>\n",
       "      <td>Dec 31, 2017</td>\n",
       "      <td>fake</td>\n",
       "    </tr>\n",
       "    <tr>\n",
       "      <th>9088</th>\n",
       "      <td>WATCH: SENATOR LINDSEY GRAHAM DROPS BOMBSHELL…...</td>\n",
       "      <td>Everyone suspected the sketchy Steele Dossier ...</td>\n",
       "      <td>politics</td>\n",
       "      <td>Dec 31, 2017</td>\n",
       "      <td>fake</td>\n",
       "    </tr>\n",
       "    <tr>\n",
       "      <th>9089</th>\n",
       "      <td>“CONSERVATIVE GAY GUY” BLASTS Pence’s Aspen Ne...</td>\n",
       "      <td>It s been said that good fences make good neig...</td>\n",
       "      <td>politics</td>\n",
       "      <td>Dec 30, 2017</td>\n",
       "      <td>fake</td>\n",
       "    </tr>\n",
       "    <tr>\n",
       "      <th>...</th>\n",
       "      <td>...</td>\n",
       "      <td>...</td>\n",
       "      <td>...</td>\n",
       "      <td>...</td>\n",
       "      <td>...</td>\n",
       "    </tr>\n",
       "    <tr>\n",
       "      <th>44884</th>\n",
       "      <td>U.S. puts more pressure on Pakistan to help wi...</td>\n",
       "      <td>WASHINGTON (Reuters) - The United States sugge...</td>\n",
       "      <td>worldnews</td>\n",
       "      <td>August 21, 2017</td>\n",
       "      <td>true</td>\n",
       "    </tr>\n",
       "    <tr>\n",
       "      <th>44886</th>\n",
       "      <td>Trump talks tough on Pakistan's 'terrorist' ha...</td>\n",
       "      <td>ISLAMABAD (Reuters) - Outlining a new strategy...</td>\n",
       "      <td>worldnews</td>\n",
       "      <td>August 22, 2017</td>\n",
       "      <td>true</td>\n",
       "    </tr>\n",
       "    <tr>\n",
       "      <th>44887</th>\n",
       "      <td>U.S., North Korea clash at U.N. forum over nuc...</td>\n",
       "      <td>GENEVA (Reuters) - North Korea and the United ...</td>\n",
       "      <td>worldnews</td>\n",
       "      <td>August 22, 2017</td>\n",
       "      <td>true</td>\n",
       "    </tr>\n",
       "    <tr>\n",
       "      <th>44889</th>\n",
       "      <td>U.S., North Korea clash at U.N. forum over nuc...</td>\n",
       "      <td>GENEVA (Reuters) - North Korea and the United ...</td>\n",
       "      <td>worldnews</td>\n",
       "      <td>August 22, 2017</td>\n",
       "      <td>true</td>\n",
       "    </tr>\n",
       "    <tr>\n",
       "      <th>44893</th>\n",
       "      <td>'Fully committed' NATO backs new U.S. approach...</td>\n",
       "      <td>BRUSSELS (Reuters) - NATO allies on Tuesday we...</td>\n",
       "      <td>worldnews</td>\n",
       "      <td>August 22, 2017</td>\n",
       "      <td>true</td>\n",
       "    </tr>\n",
       "  </tbody>\n",
       "</table>\n",
       "<p>11798 rows × 5 columns</p>\n",
       "</div>"
      ],
      "text/plain": [
       "                                                   title  \\\n",
       "1488    McConnell Says He’ll Obstruct ANY Effort To H...   \n",
       "1535    McConnell Says He’ll Obstruct ANY Effort To H...   \n",
       "9087   BARBRA STREISAND Gives Up On Dream Of Impeachi...   \n",
       "9088   WATCH: SENATOR LINDSEY GRAHAM DROPS BOMBSHELL…...   \n",
       "9089   “CONSERVATIVE GAY GUY” BLASTS Pence’s Aspen Ne...   \n",
       "...                                                  ...   \n",
       "44884  U.S. puts more pressure on Pakistan to help wi...   \n",
       "44886  Trump talks tough on Pakistan's 'terrorist' ha...   \n",
       "44887  U.S., North Korea clash at U.N. forum over nuc...   \n",
       "44889  U.S., North Korea clash at U.N. forum over nuc...   \n",
       "44893  'Fully committed' NATO backs new U.S. approach...   \n",
       "\n",
       "                                                    text    subject  \\\n",
       "1488   Siding with Trump s Attorney General Jeff Sess...       News   \n",
       "1535   Siding with Trump s Attorney General Jeff Sess...       News   \n",
       "9087   Barbra Streisand was an Obama sycophant and on...   politics   \n",
       "9088   Everyone suspected the sketchy Steele Dossier ...   politics   \n",
       "9089   It s been said that good fences make good neig...   politics   \n",
       "...                                                  ...        ...   \n",
       "44884  WASHINGTON (Reuters) - The United States sugge...  worldnews   \n",
       "44886  ISLAMABAD (Reuters) - Outlining a new strategy...  worldnews   \n",
       "44887  GENEVA (Reuters) - North Korea and the United ...  worldnews   \n",
       "44889  GENEVA (Reuters) - North Korea and the United ...  worldnews   \n",
       "44893  BRUSSELS (Reuters) - NATO allies on Tuesday we...  worldnews   \n",
       "\n",
       "                   date label  \n",
       "1488       May 12, 2017  fake  \n",
       "1535       May 10, 2017  fake  \n",
       "9087       Dec 31, 2017  fake  \n",
       "9088       Dec 31, 2017  fake  \n",
       "9089       Dec 30, 2017  fake  \n",
       "...                 ...   ...  \n",
       "44884  August 21, 2017   true  \n",
       "44886  August 22, 2017   true  \n",
       "44887  August 22, 2017   true  \n",
       "44889  August 22, 2017   true  \n",
       "44893  August 22, 2017   true  \n",
       "\n",
       "[11798 rows x 5 columns]"
      ]
     },
     "execution_count": 23,
     "metadata": {},
     "output_type": "execute_result"
    }
   ],
   "source": [
    "df_dup_titles"
   ]
  },
  {
   "cell_type": "markdown",
   "metadata": {},
   "source": [
    "Looking at the above subset of data, I can see that some rows may be complete duplicates (44887 and 44889) and others may be duplicates except for the date (1488 and 1535)."
   ]
  },
  {
   "cell_type": "markdown",
   "metadata": {},
   "source": [
    "Are there any duplicate rows?"
   ]
  },
  {
   "cell_type": "code",
   "execution_count": 24,
   "metadata": {
    "ExecuteTime": {
     "end_time": "2020-09-29T17:29:14.232408Z",
     "start_time": "2020-09-29T17:29:14.128709Z"
    }
   },
   "outputs": [
    {
     "data": {
      "text/html": [
       "<div>\n",
       "<style scoped>\n",
       "    .dataframe tbody tr th:only-of-type {\n",
       "        vertical-align: middle;\n",
       "    }\n",
       "\n",
       "    .dataframe tbody tr th {\n",
       "        vertical-align: top;\n",
       "    }\n",
       "\n",
       "    .dataframe thead th {\n",
       "        text-align: right;\n",
       "    }\n",
       "</style>\n",
       "<table border=\"1\" class=\"dataframe\">\n",
       "  <thead>\n",
       "    <tr style=\"text-align: right;\">\n",
       "      <th></th>\n",
       "      <th>title</th>\n",
       "      <th>text</th>\n",
       "      <th>subject</th>\n",
       "      <th>date</th>\n",
       "      <th>label</th>\n",
       "    </tr>\n",
       "  </thead>\n",
       "  <tbody>\n",
       "    <tr>\n",
       "      <th>9942</th>\n",
       "      <td>HILLARY TWEETS MESSAGE In Defense Of DACA…OOPS...</td>\n",
       "      <td>No time to waste   we've got to fight with eve...</td>\n",
       "      <td>politics</td>\n",
       "      <td>Sep 9, 2017</td>\n",
       "      <td>fake</td>\n",
       "    </tr>\n",
       "    <tr>\n",
       "      <th>11446</th>\n",
       "      <td>FORMER DEMOCRAT WARNS Young Americans: “Rioter...</td>\n",
       "      <td>Who is silencing political speech, physically...</td>\n",
       "      <td>politics</td>\n",
       "      <td>Mar 10, 2017</td>\n",
       "      <td>fake</td>\n",
       "    </tr>\n",
       "    <tr>\n",
       "      <th>14925</th>\n",
       "      <td>[VIDEO] #BlackLivesMatter Terrorists Storm Dar...</td>\n",
       "      <td>They were probably just looking for a  safe sp...</td>\n",
       "      <td>politics</td>\n",
       "      <td>Nov 16, 2015</td>\n",
       "      <td>fake</td>\n",
       "    </tr>\n",
       "    <tr>\n",
       "      <th>23926</th>\n",
       "      <td>Senate tax bill stalls on deficit-focused 'tri...</td>\n",
       "      <td>WASHINGTON (Reuters) - The U.S. Senate on Thur...</td>\n",
       "      <td>politicsNews</td>\n",
       "      <td>November 30, 2017</td>\n",
       "      <td>true</td>\n",
       "    </tr>\n",
       "    <tr>\n",
       "      <th>24259</th>\n",
       "      <td>Trump warns 'rogue regime' North Korea of grav...</td>\n",
       "      <td>BEIJING (Reuters) - U.S. President Donald Trum...</td>\n",
       "      <td>politicsNews</td>\n",
       "      <td>November 8, 2017</td>\n",
       "      <td>true</td>\n",
       "    </tr>\n",
       "    <tr>\n",
       "      <th>...</th>\n",
       "      <td>...</td>\n",
       "      <td>...</td>\n",
       "      <td>...</td>\n",
       "      <td>...</td>\n",
       "      <td>...</td>\n",
       "    </tr>\n",
       "    <tr>\n",
       "      <th>44709</th>\n",
       "      <td>France unveils labor reforms in first step to ...</td>\n",
       "      <td>PARIS (Reuters) - French President Emmanuel Ma...</td>\n",
       "      <td>worldnews</td>\n",
       "      <td>August 31, 2017</td>\n",
       "      <td>true</td>\n",
       "    </tr>\n",
       "    <tr>\n",
       "      <th>44744</th>\n",
       "      <td>Guatemala top court sides with U.N. graft unit...</td>\n",
       "      <td>GUATEMALA CITY (Reuters) - Guatemala s top cou...</td>\n",
       "      <td>worldnews</td>\n",
       "      <td>August 29, 2017</td>\n",
       "      <td>true</td>\n",
       "    </tr>\n",
       "    <tr>\n",
       "      <th>44771</th>\n",
       "      <td>Europeans, Africans agree renewed push to tack...</td>\n",
       "      <td>PARIS (Reuters) - Europe s  big four  continen...</td>\n",
       "      <td>worldnews</td>\n",
       "      <td>August 28, 2017</td>\n",
       "      <td>true</td>\n",
       "    </tr>\n",
       "    <tr>\n",
       "      <th>44834</th>\n",
       "      <td>Thailand's ousted PM Yingluck has fled abroad:...</td>\n",
       "      <td>BANGKOK (Reuters) - Ousted Thai prime minister...</td>\n",
       "      <td>worldnews</td>\n",
       "      <td>August 25, 2017</td>\n",
       "      <td>true</td>\n",
       "    </tr>\n",
       "    <tr>\n",
       "      <th>44889</th>\n",
       "      <td>U.S., North Korea clash at U.N. forum over nuc...</td>\n",
       "      <td>GENEVA (Reuters) - North Korea and the United ...</td>\n",
       "      <td>worldnews</td>\n",
       "      <td>August 22, 2017</td>\n",
       "      <td>true</td>\n",
       "    </tr>\n",
       "  </tbody>\n",
       "</table>\n",
       "<p>209 rows × 5 columns</p>\n",
       "</div>"
      ],
      "text/plain": [
       "                                                   title  \\\n",
       "9942   HILLARY TWEETS MESSAGE In Defense Of DACA…OOPS...   \n",
       "11446  FORMER DEMOCRAT WARNS Young Americans: “Rioter...   \n",
       "14925  [VIDEO] #BlackLivesMatter Terrorists Storm Dar...   \n",
       "23926  Senate tax bill stalls on deficit-focused 'tri...   \n",
       "24259  Trump warns 'rogue regime' North Korea of grav...   \n",
       "...                                                  ...   \n",
       "44709  France unveils labor reforms in first step to ...   \n",
       "44744  Guatemala top court sides with U.N. graft unit...   \n",
       "44771  Europeans, Africans agree renewed push to tack...   \n",
       "44834  Thailand's ousted PM Yingluck has fled abroad:...   \n",
       "44889  U.S., North Korea clash at U.N. forum over nuc...   \n",
       "\n",
       "                                                    text       subject  \\\n",
       "9942   No time to waste   we've got to fight with eve...      politics   \n",
       "11446   Who is silencing political speech, physically...      politics   \n",
       "14925  They were probably just looking for a  safe sp...      politics   \n",
       "23926  WASHINGTON (Reuters) - The U.S. Senate on Thur...  politicsNews   \n",
       "24259  BEIJING (Reuters) - U.S. President Donald Trum...  politicsNews   \n",
       "...                                                  ...           ...   \n",
       "44709  PARIS (Reuters) - French President Emmanuel Ma...     worldnews   \n",
       "44744  GUATEMALA CITY (Reuters) - Guatemala s top cou...     worldnews   \n",
       "44771  PARIS (Reuters) - Europe s  big four  continen...     worldnews   \n",
       "44834  BANGKOK (Reuters) - Ousted Thai prime minister...     worldnews   \n",
       "44889  GENEVA (Reuters) - North Korea and the United ...     worldnews   \n",
       "\n",
       "                     date label  \n",
       "9942          Sep 9, 2017  fake  \n",
       "11446        Mar 10, 2017  fake  \n",
       "14925        Nov 16, 2015  fake  \n",
       "23926  November 30, 2017   true  \n",
       "24259   November 8, 2017   true  \n",
       "...                   ...   ...  \n",
       "44709    August 31, 2017   true  \n",
       "44744    August 29, 2017   true  \n",
       "44771    August 28, 2017   true  \n",
       "44834    August 25, 2017   true  \n",
       "44889    August 22, 2017   true  \n",
       "\n",
       "[209 rows x 5 columns]"
      ]
     },
     "execution_count": 24,
     "metadata": {},
     "output_type": "execute_result"
    }
   ],
   "source": [
    "df_dup_titles[df_dup_titles.duplicated()]"
   ]
  },
  {
   "cell_type": "markdown",
   "metadata": {},
   "source": [
    "There are 209 duplicate rows that will need to be deleted.\n",
    "\n",
    "I want to also check for other duplicate situations."
   ]
  },
  {
   "cell_type": "markdown",
   "metadata": {},
   "source": [
    "Check for rows with duplicate text"
   ]
  },
  {
   "cell_type": "code",
   "execution_count": 25,
   "metadata": {
    "ExecuteTime": {
     "end_time": "2020-09-29T17:29:14.324306Z",
     "start_time": "2020-09-29T17:29:14.234578Z"
    }
   },
   "outputs": [
    {
     "data": {
      "text/html": [
       "<div>\n",
       "<style scoped>\n",
       "    .dataframe tbody tr th:only-of-type {\n",
       "        vertical-align: middle;\n",
       "    }\n",
       "\n",
       "    .dataframe tbody tr th {\n",
       "        vertical-align: top;\n",
       "    }\n",
       "\n",
       "    .dataframe thead th {\n",
       "        text-align: right;\n",
       "    }\n",
       "</style>\n",
       "<table border=\"1\" class=\"dataframe\">\n",
       "  <thead>\n",
       "    <tr style=\"text-align: right;\">\n",
       "      <th></th>\n",
       "      <th>title</th>\n",
       "      <th>text</th>\n",
       "      <th>subject</th>\n",
       "      <th>date</th>\n",
       "      <th>label</th>\n",
       "    </tr>\n",
       "  </thead>\n",
       "  <tbody>\n",
       "    <tr>\n",
       "      <th>9114</th>\n",
       "      <td>WHY THIS BLUE-COLLAR DEMOCRAT STRONGHOLD Count...</td>\n",
       "      <td>AP News  The regulars amble in before dawn and...</td>\n",
       "      <td>politics</td>\n",
       "      <td>Dec 27, 2017</td>\n",
       "      <td>fake</td>\n",
       "    </tr>\n",
       "    <tr>\n",
       "      <th>9738</th>\n",
       "      <td>LEFTIST STORE OWNER Makes Video Asking Libs To...</td>\n",
       "      <td>Things didn t go as well as Nicholle had hoped...</td>\n",
       "      <td>politics</td>\n",
       "      <td>Oct 6, 2017</td>\n",
       "      <td>fake</td>\n",
       "    </tr>\n",
       "    <tr>\n",
       "      <th>9942</th>\n",
       "      <td>HILLARY TWEETS MESSAGE In Defense Of DACA…OOPS...</td>\n",
       "      <td>No time to waste   we've got to fight with eve...</td>\n",
       "      <td>politics</td>\n",
       "      <td>Sep 9, 2017</td>\n",
       "      <td>fake</td>\n",
       "    </tr>\n",
       "    <tr>\n",
       "      <th>11041</th>\n",
       "      <td>Joe Scarborough BERATES Mika Brzezinski Over “...</td>\n",
       "      <td></td>\n",
       "      <td>politics</td>\n",
       "      <td>Apr 26, 2017</td>\n",
       "      <td>fake</td>\n",
       "    </tr>\n",
       "    <tr>\n",
       "      <th>11190</th>\n",
       "      <td>WATCH TUCKER CARLSON Scorch Sanctuary City May...</td>\n",
       "      <td></td>\n",
       "      <td>politics</td>\n",
       "      <td>Apr 6, 2017</td>\n",
       "      <td>fake</td>\n",
       "    </tr>\n",
       "    <tr>\n",
       "      <th>...</th>\n",
       "      <td>...</td>\n",
       "      <td>...</td>\n",
       "      <td>...</td>\n",
       "      <td>...</td>\n",
       "      <td>...</td>\n",
       "    </tr>\n",
       "    <tr>\n",
       "      <th>44709</th>\n",
       "      <td>France unveils labor reforms in first step to ...</td>\n",
       "      <td>PARIS (Reuters) - French President Emmanuel Ma...</td>\n",
       "      <td>worldnews</td>\n",
       "      <td>August 31, 2017</td>\n",
       "      <td>true</td>\n",
       "    </tr>\n",
       "    <tr>\n",
       "      <th>44744</th>\n",
       "      <td>Guatemala top court sides with U.N. graft unit...</td>\n",
       "      <td>GUATEMALA CITY (Reuters) - Guatemala s top cou...</td>\n",
       "      <td>worldnews</td>\n",
       "      <td>August 29, 2017</td>\n",
       "      <td>true</td>\n",
       "    </tr>\n",
       "    <tr>\n",
       "      <th>44771</th>\n",
       "      <td>Europeans, Africans agree renewed push to tack...</td>\n",
       "      <td>PARIS (Reuters) - Europe s  big four  continen...</td>\n",
       "      <td>worldnews</td>\n",
       "      <td>August 28, 2017</td>\n",
       "      <td>true</td>\n",
       "    </tr>\n",
       "    <tr>\n",
       "      <th>44834</th>\n",
       "      <td>Thailand's ousted PM Yingluck has fled abroad:...</td>\n",
       "      <td>BANGKOK (Reuters) - Ousted Thai prime minister...</td>\n",
       "      <td>worldnews</td>\n",
       "      <td>August 25, 2017</td>\n",
       "      <td>true</td>\n",
       "    </tr>\n",
       "    <tr>\n",
       "      <th>44889</th>\n",
       "      <td>U.S., North Korea clash at U.N. forum over nuc...</td>\n",
       "      <td>GENEVA (Reuters) - North Korea and the United ...</td>\n",
       "      <td>worldnews</td>\n",
       "      <td>August 22, 2017</td>\n",
       "      <td>true</td>\n",
       "    </tr>\n",
       "  </tbody>\n",
       "</table>\n",
       "<p>5964 rows × 5 columns</p>\n",
       "</div>"
      ],
      "text/plain": [
       "                                                   title  \\\n",
       "9114   WHY THIS BLUE-COLLAR DEMOCRAT STRONGHOLD Count...   \n",
       "9738   LEFTIST STORE OWNER Makes Video Asking Libs To...   \n",
       "9942   HILLARY TWEETS MESSAGE In Defense Of DACA…OOPS...   \n",
       "11041  Joe Scarborough BERATES Mika Brzezinski Over “...   \n",
       "11190  WATCH TUCKER CARLSON Scorch Sanctuary City May...   \n",
       "...                                                  ...   \n",
       "44709  France unveils labor reforms in first step to ...   \n",
       "44744  Guatemala top court sides with U.N. graft unit...   \n",
       "44771  Europeans, Africans agree renewed push to tack...   \n",
       "44834  Thailand's ousted PM Yingluck has fled abroad:...   \n",
       "44889  U.S., North Korea clash at U.N. forum over nuc...   \n",
       "\n",
       "                                                    text    subject  \\\n",
       "9114   AP News  The regulars amble in before dawn and...   politics   \n",
       "9738   Things didn t go as well as Nicholle had hoped...   politics   \n",
       "9942   No time to waste   we've got to fight with eve...   politics   \n",
       "11041                                                      politics   \n",
       "11190                                                      politics   \n",
       "...                                                  ...        ...   \n",
       "44709  PARIS (Reuters) - French President Emmanuel Ma...  worldnews   \n",
       "44744  GUATEMALA CITY (Reuters) - Guatemala s top cou...  worldnews   \n",
       "44771  PARIS (Reuters) - Europe s  big four  continen...  worldnews   \n",
       "44834  BANGKOK (Reuters) - Ousted Thai prime minister...  worldnews   \n",
       "44889  GENEVA (Reuters) - North Korea and the United ...  worldnews   \n",
       "\n",
       "                   date label  \n",
       "9114       Dec 27, 2017  fake  \n",
       "9738        Oct 6, 2017  fake  \n",
       "9942        Sep 9, 2017  fake  \n",
       "11041      Apr 26, 2017  fake  \n",
       "11190       Apr 6, 2017  fake  \n",
       "...                 ...   ...  \n",
       "44709  August 31, 2017   true  \n",
       "44744  August 29, 2017   true  \n",
       "44771  August 28, 2017   true  \n",
       "44834  August 25, 2017   true  \n",
       "44889  August 22, 2017   true  \n",
       "\n",
       "[5964 rows x 5 columns]"
      ]
     },
     "execution_count": 25,
     "metadata": {},
     "output_type": "execute_result"
    }
   ],
   "source": [
    "df_dup_titles[df_dup_titles.duplicated(['text'])]"
   ]
  },
  {
   "cell_type": "markdown",
   "metadata": {},
   "source": [
    "There are 5964 rows that have duplicate text.\n",
    "\n",
    "I see some rows do not have any text, and that will have to be investigated later. "
   ]
  },
  {
   "cell_type": "markdown",
   "metadata": {},
   "source": [
    "Check for rows that have duplicate title and text"
   ]
  },
  {
   "cell_type": "code",
   "execution_count": 26,
   "metadata": {
    "ExecuteTime": {
     "end_time": "2020-09-29T17:29:14.421918Z",
     "start_time": "2020-09-29T17:29:14.326518Z"
    }
   },
   "outputs": [
    {
     "data": {
      "text/html": [
       "<div>\n",
       "<style scoped>\n",
       "    .dataframe tbody tr th:only-of-type {\n",
       "        vertical-align: middle;\n",
       "    }\n",
       "\n",
       "    .dataframe tbody tr th {\n",
       "        vertical-align: top;\n",
       "    }\n",
       "\n",
       "    .dataframe thead th {\n",
       "        text-align: right;\n",
       "    }\n",
       "</style>\n",
       "<table border=\"1\" class=\"dataframe\">\n",
       "  <thead>\n",
       "    <tr style=\"text-align: right;\">\n",
       "      <th></th>\n",
       "      <th>title</th>\n",
       "      <th>text</th>\n",
       "      <th>subject</th>\n",
       "      <th>date</th>\n",
       "      <th>label</th>\n",
       "    </tr>\n",
       "  </thead>\n",
       "  <tbody>\n",
       "    <tr>\n",
       "      <th>9942</th>\n",
       "      <td>HILLARY TWEETS MESSAGE In Defense Of DACA…OOPS...</td>\n",
       "      <td>No time to waste   we've got to fight with eve...</td>\n",
       "      <td>politics</td>\n",
       "      <td>Sep 9, 2017</td>\n",
       "      <td>fake</td>\n",
       "    </tr>\n",
       "    <tr>\n",
       "      <th>11446</th>\n",
       "      <td>FORMER DEMOCRAT WARNS Young Americans: “Rioter...</td>\n",
       "      <td>Who is silencing political speech, physically...</td>\n",
       "      <td>politics</td>\n",
       "      <td>Mar 10, 2017</td>\n",
       "      <td>fake</td>\n",
       "    </tr>\n",
       "    <tr>\n",
       "      <th>14925</th>\n",
       "      <td>[VIDEO] #BlackLivesMatter Terrorists Storm Dar...</td>\n",
       "      <td>They were probably just looking for a  safe sp...</td>\n",
       "      <td>politics</td>\n",
       "      <td>Nov 16, 2015</td>\n",
       "      <td>fake</td>\n",
       "    </tr>\n",
       "    <tr>\n",
       "      <th>15892</th>\n",
       "      <td>HOUSE INTEL Slaps Subpoenas on McCain Institut...</td>\n",
       "      <td>Please see our previous report below on the Mc...</td>\n",
       "      <td>Government News</td>\n",
       "      <td>Dec 27, 2017</td>\n",
       "      <td>fake</td>\n",
       "    </tr>\n",
       "    <tr>\n",
       "      <th>15893</th>\n",
       "      <td>PRICELESS! WATCH MSNBC HOST’S Shocked Response...</td>\n",
       "      <td>THIS IS PRICELESS! The video below shows just ...</td>\n",
       "      <td>Government News</td>\n",
       "      <td>Dec 26, 2017</td>\n",
       "      <td>fake</td>\n",
       "    </tr>\n",
       "    <tr>\n",
       "      <th>...</th>\n",
       "      <td>...</td>\n",
       "      <td>...</td>\n",
       "      <td>...</td>\n",
       "      <td>...</td>\n",
       "      <td>...</td>\n",
       "    </tr>\n",
       "    <tr>\n",
       "      <th>44709</th>\n",
       "      <td>France unveils labor reforms in first step to ...</td>\n",
       "      <td>PARIS (Reuters) - French President Emmanuel Ma...</td>\n",
       "      <td>worldnews</td>\n",
       "      <td>August 31, 2017</td>\n",
       "      <td>true</td>\n",
       "    </tr>\n",
       "    <tr>\n",
       "      <th>44744</th>\n",
       "      <td>Guatemala top court sides with U.N. graft unit...</td>\n",
       "      <td>GUATEMALA CITY (Reuters) - Guatemala s top cou...</td>\n",
       "      <td>worldnews</td>\n",
       "      <td>August 29, 2017</td>\n",
       "      <td>true</td>\n",
       "    </tr>\n",
       "    <tr>\n",
       "      <th>44771</th>\n",
       "      <td>Europeans, Africans agree renewed push to tack...</td>\n",
       "      <td>PARIS (Reuters) - Europe s  big four  continen...</td>\n",
       "      <td>worldnews</td>\n",
       "      <td>August 28, 2017</td>\n",
       "      <td>true</td>\n",
       "    </tr>\n",
       "    <tr>\n",
       "      <th>44834</th>\n",
       "      <td>Thailand's ousted PM Yingluck has fled abroad:...</td>\n",
       "      <td>BANGKOK (Reuters) - Ousted Thai prime minister...</td>\n",
       "      <td>worldnews</td>\n",
       "      <td>August 25, 2017</td>\n",
       "      <td>true</td>\n",
       "    </tr>\n",
       "    <tr>\n",
       "      <th>44889</th>\n",
       "      <td>U.S., North Korea clash at U.N. forum over nuc...</td>\n",
       "      <td>GENEVA (Reuters) - North Korea and the United ...</td>\n",
       "      <td>worldnews</td>\n",
       "      <td>August 22, 2017</td>\n",
       "      <td>true</td>\n",
       "    </tr>\n",
       "  </tbody>\n",
       "</table>\n",
       "<p>5793 rows × 5 columns</p>\n",
       "</div>"
      ],
      "text/plain": [
       "                                                   title  \\\n",
       "9942   HILLARY TWEETS MESSAGE In Defense Of DACA…OOPS...   \n",
       "11446  FORMER DEMOCRAT WARNS Young Americans: “Rioter...   \n",
       "14925  [VIDEO] #BlackLivesMatter Terrorists Storm Dar...   \n",
       "15892  HOUSE INTEL Slaps Subpoenas on McCain Institut...   \n",
       "15893  PRICELESS! WATCH MSNBC HOST’S Shocked Response...   \n",
       "...                                                  ...   \n",
       "44709  France unveils labor reforms in first step to ...   \n",
       "44744  Guatemala top court sides with U.N. graft unit...   \n",
       "44771  Europeans, Africans agree renewed push to tack...   \n",
       "44834  Thailand's ousted PM Yingluck has fled abroad:...   \n",
       "44889  U.S., North Korea clash at U.N. forum over nuc...   \n",
       "\n",
       "                                                    text          subject  \\\n",
       "9942   No time to waste   we've got to fight with eve...         politics   \n",
       "11446   Who is silencing political speech, physically...         politics   \n",
       "14925  They were probably just looking for a  safe sp...         politics   \n",
       "15892  Please see our previous report below on the Mc...  Government News   \n",
       "15893  THIS IS PRICELESS! The video below shows just ...  Government News   \n",
       "...                                                  ...              ...   \n",
       "44709  PARIS (Reuters) - French President Emmanuel Ma...        worldnews   \n",
       "44744  GUATEMALA CITY (Reuters) - Guatemala s top cou...        worldnews   \n",
       "44771  PARIS (Reuters) - Europe s  big four  continen...        worldnews   \n",
       "44834  BANGKOK (Reuters) - Ousted Thai prime minister...        worldnews   \n",
       "44889  GENEVA (Reuters) - North Korea and the United ...        worldnews   \n",
       "\n",
       "                   date label  \n",
       "9942        Sep 9, 2017  fake  \n",
       "11446      Mar 10, 2017  fake  \n",
       "14925      Nov 16, 2015  fake  \n",
       "15892      Dec 27, 2017  fake  \n",
       "15893      Dec 26, 2017  fake  \n",
       "...                 ...   ...  \n",
       "44709  August 31, 2017   true  \n",
       "44744  August 29, 2017   true  \n",
       "44771  August 28, 2017   true  \n",
       "44834  August 25, 2017   true  \n",
       "44889  August 22, 2017   true  \n",
       "\n",
       "[5793 rows x 5 columns]"
      ]
     },
     "execution_count": 26,
     "metadata": {},
     "output_type": "execute_result"
    }
   ],
   "source": [
    "df_dup_titles[df_dup_titles.duplicated(['title', 'text'])]"
   ]
  },
  {
   "cell_type": "markdown",
   "metadata": {},
   "source": [
    "Only 5793 rows with duplicate title and text."
   ]
  },
  {
   "cell_type": "markdown",
   "metadata": {},
   "source": [
    "Of the 171 rows that have duplicate text but not title, how many have empty text values"
   ]
  },
  {
   "cell_type": "code",
   "execution_count": 27,
   "metadata": {
    "ExecuteTime": {
     "end_time": "2020-09-29T17:29:14.445023Z",
     "start_time": "2020-09-29T17:29:14.424113Z"
    }
   },
   "outputs": [
    {
     "data": {
      "text/html": [
       "<div>\n",
       "<style scoped>\n",
       "    .dataframe tbody tr th:only-of-type {\n",
       "        vertical-align: middle;\n",
       "    }\n",
       "\n",
       "    .dataframe tbody tr th {\n",
       "        vertical-align: top;\n",
       "    }\n",
       "\n",
       "    .dataframe thead th {\n",
       "        text-align: right;\n",
       "    }\n",
       "</style>\n",
       "<table border=\"1\" class=\"dataframe\">\n",
       "  <thead>\n",
       "    <tr style=\"text-align: right;\">\n",
       "      <th></th>\n",
       "      <th>title</th>\n",
       "      <th>text</th>\n",
       "      <th>subject</th>\n",
       "      <th>date</th>\n",
       "      <th>label</th>\n",
       "    </tr>\n",
       "  </thead>\n",
       "  <tbody>\n",
       "    <tr>\n",
       "      <th>10923</th>\n",
       "      <td>TAKE OUR POLL: Who Do You Think President Trum...</td>\n",
       "      <td></td>\n",
       "      <td>politics</td>\n",
       "      <td>May 10, 2017</td>\n",
       "      <td>fake</td>\n",
       "    </tr>\n",
       "    <tr>\n",
       "      <th>11041</th>\n",
       "      <td>Joe Scarborough BERATES Mika Brzezinski Over “...</td>\n",
       "      <td></td>\n",
       "      <td>politics</td>\n",
       "      <td>Apr 26, 2017</td>\n",
       "      <td>fake</td>\n",
       "    </tr>\n",
       "    <tr>\n",
       "      <th>11190</th>\n",
       "      <td>WATCH TUCKER CARLSON Scorch Sanctuary City May...</td>\n",
       "      <td></td>\n",
       "      <td>politics</td>\n",
       "      <td>Apr 6, 2017</td>\n",
       "      <td>fake</td>\n",
       "    </tr>\n",
       "    <tr>\n",
       "      <th>11236</th>\n",
       "      <td>SHOCKER: Public School Turns Computer Lab Into...</td>\n",
       "      <td></td>\n",
       "      <td>politics</td>\n",
       "      <td>Apr 1, 2017</td>\n",
       "      <td>fake</td>\n",
       "    </tr>\n",
       "    <tr>\n",
       "      <th>11247</th>\n",
       "      <td>MICHAEL FLYNN’S LAWYER Releases Statement Scor...</td>\n",
       "      <td></td>\n",
       "      <td>politics</td>\n",
       "      <td>Mar 30, 2017</td>\n",
       "      <td>fake</td>\n",
       "    </tr>\n",
       "    <tr>\n",
       "      <th>...</th>\n",
       "      <td>...</td>\n",
       "      <td>...</td>\n",
       "      <td>...</td>\n",
       "      <td>...</td>\n",
       "      <td>...</td>\n",
       "    </tr>\n",
       "    <tr>\n",
       "      <th>21816</th>\n",
       "      <td>BALTIMORE BURNS: MARYLAND GOVERNOR BRINGS IN N...</td>\n",
       "      <td></td>\n",
       "      <td>left-news</td>\n",
       "      <td>Apr 27, 2015</td>\n",
       "      <td>fake</td>\n",
       "    </tr>\n",
       "    <tr>\n",
       "      <th>21826</th>\n",
       "      <td>FULL VIDEO: THE BLOCKBUSTER INVESTIGATION INTO...</td>\n",
       "      <td></td>\n",
       "      <td>left-news</td>\n",
       "      <td>Apr 25, 2015</td>\n",
       "      <td>fake</td>\n",
       "    </tr>\n",
       "    <tr>\n",
       "      <th>21827</th>\n",
       "      <td>(VIDEO) HILLARY CLINTON: RELIGIOUS BELIEFS MUS...</td>\n",
       "      <td></td>\n",
       "      <td>left-news</td>\n",
       "      <td>Apr 25, 2015</td>\n",
       "      <td>fake</td>\n",
       "    </tr>\n",
       "    <tr>\n",
       "      <th>21857</th>\n",
       "      <td>(VIDEO)ICE PROTECTING OBAMA: WON’T RELEASE NAM...</td>\n",
       "      <td></td>\n",
       "      <td>left-news</td>\n",
       "      <td>Apr 14, 2015</td>\n",
       "      <td>fake</td>\n",
       "    </tr>\n",
       "    <tr>\n",
       "      <th>21873</th>\n",
       "      <td>(VIDEO) HYSTERICAL SNL TAKE ON HILLARY’S ANNOU...</td>\n",
       "      <td></td>\n",
       "      <td>left-news</td>\n",
       "      <td>Apr 12, 2015</td>\n",
       "      <td>fake</td>\n",
       "    </tr>\n",
       "  </tbody>\n",
       "</table>\n",
       "<p>349 rows × 5 columns</p>\n",
       "</div>"
      ],
      "text/plain": [
       "                                                   title text    subject  \\\n",
       "10923  TAKE OUR POLL: Who Do You Think President Trum...        politics   \n",
       "11041  Joe Scarborough BERATES Mika Brzezinski Over “...        politics   \n",
       "11190  WATCH TUCKER CARLSON Scorch Sanctuary City May...        politics   \n",
       "11236  SHOCKER: Public School Turns Computer Lab Into...        politics   \n",
       "11247  MICHAEL FLYNN’S LAWYER Releases Statement Scor...        politics   \n",
       "...                                                  ...  ...        ...   \n",
       "21816  BALTIMORE BURNS: MARYLAND GOVERNOR BRINGS IN N...       left-news   \n",
       "21826  FULL VIDEO: THE BLOCKBUSTER INVESTIGATION INTO...       left-news   \n",
       "21827  (VIDEO) HILLARY CLINTON: RELIGIOUS BELIEFS MUS...       left-news   \n",
       "21857  (VIDEO)ICE PROTECTING OBAMA: WON’T RELEASE NAM...       left-news   \n",
       "21873  (VIDEO) HYSTERICAL SNL TAKE ON HILLARY’S ANNOU...       left-news   \n",
       "\n",
       "               date label  \n",
       "10923  May 10, 2017  fake  \n",
       "11041  Apr 26, 2017  fake  \n",
       "11190   Apr 6, 2017  fake  \n",
       "11236   Apr 1, 2017  fake  \n",
       "11247  Mar 30, 2017  fake  \n",
       "...             ...   ...  \n",
       "21816  Apr 27, 2015  fake  \n",
       "21826  Apr 25, 2015  fake  \n",
       "21827  Apr 25, 2015  fake  \n",
       "21857  Apr 14, 2015  fake  \n",
       "21873  Apr 12, 2015  fake  \n",
       "\n",
       "[349 rows x 5 columns]"
      ]
     },
     "execution_count": 27,
     "metadata": {},
     "output_type": "execute_result"
    }
   ],
   "source": [
    "df_dup_titles[df_dup_titles.text == ' ']"
   ]
  },
  {
   "cell_type": "markdown",
   "metadata": {},
   "source": [
    "There are more rows with a text value of ' ' than 171, so this issue will need to be dealt with separately."
   ]
  },
  {
   "cell_type": "markdown",
   "metadata": {},
   "source": [
    "*Summary for title column* There are close to 11,800 rows that have titles used multiple times.  The use of a duplicate title seems to be a common practice and some articles seem to be revisions.  A duplicate title will be considered ok, but the duplicate rows and rows with duplicate text for the story will need removed.  Rows without text will also need to be removed."
   ]
  },
  {
   "cell_type": "markdown",
   "metadata": {},
   "source": [
    "### text column"
   ]
  },
  {
   "cell_type": "markdown",
   "metadata": {},
   "source": [
    "Check for a text value with one space"
   ]
  },
  {
   "cell_type": "code",
   "execution_count": 28,
   "metadata": {
    "ExecuteTime": {
     "end_time": "2020-09-29T17:29:14.474270Z",
     "start_time": "2020-09-29T17:29:14.447136Z"
    }
   },
   "outputs": [
    {
     "data": {
      "text/html": [
       "<div>\n",
       "<style scoped>\n",
       "    .dataframe tbody tr th:only-of-type {\n",
       "        vertical-align: middle;\n",
       "    }\n",
       "\n",
       "    .dataframe tbody tr th {\n",
       "        vertical-align: top;\n",
       "    }\n",
       "\n",
       "    .dataframe thead th {\n",
       "        text-align: right;\n",
       "    }\n",
       "</style>\n",
       "<table border=\"1\" class=\"dataframe\">\n",
       "  <thead>\n",
       "    <tr style=\"text-align: right;\">\n",
       "      <th></th>\n",
       "      <th>title</th>\n",
       "      <th>text</th>\n",
       "      <th>subject</th>\n",
       "      <th>date</th>\n",
       "      <th>label</th>\n",
       "    </tr>\n",
       "  </thead>\n",
       "  <tbody>\n",
       "    <tr>\n",
       "      <th>10923</th>\n",
       "      <td>TAKE OUR POLL: Who Do You Think President Trum...</td>\n",
       "      <td></td>\n",
       "      <td>politics</td>\n",
       "      <td>May 10, 2017</td>\n",
       "      <td>fake</td>\n",
       "    </tr>\n",
       "    <tr>\n",
       "      <th>11041</th>\n",
       "      <td>Joe Scarborough BERATES Mika Brzezinski Over “...</td>\n",
       "      <td></td>\n",
       "      <td>politics</td>\n",
       "      <td>Apr 26, 2017</td>\n",
       "      <td>fake</td>\n",
       "    </tr>\n",
       "    <tr>\n",
       "      <th>11190</th>\n",
       "      <td>WATCH TUCKER CARLSON Scorch Sanctuary City May...</td>\n",
       "      <td></td>\n",
       "      <td>politics</td>\n",
       "      <td>Apr 6, 2017</td>\n",
       "      <td>fake</td>\n",
       "    </tr>\n",
       "    <tr>\n",
       "      <th>11225</th>\n",
       "      <td>MAYOR OF SANCTUARY CITY: Trump Trying To Make ...</td>\n",
       "      <td></td>\n",
       "      <td>politics</td>\n",
       "      <td>Apr 2, 2017</td>\n",
       "      <td>fake</td>\n",
       "    </tr>\n",
       "    <tr>\n",
       "      <th>11236</th>\n",
       "      <td>SHOCKER: Public School Turns Computer Lab Into...</td>\n",
       "      <td></td>\n",
       "      <td>politics</td>\n",
       "      <td>Apr 1, 2017</td>\n",
       "      <td>fake</td>\n",
       "    </tr>\n",
       "    <tr>\n",
       "      <th>...</th>\n",
       "      <td>...</td>\n",
       "      <td>...</td>\n",
       "      <td>...</td>\n",
       "      <td>...</td>\n",
       "      <td>...</td>\n",
       "    </tr>\n",
       "    <tr>\n",
       "      <th>21826</th>\n",
       "      <td>FULL VIDEO: THE BLOCKBUSTER INVESTIGATION INTO...</td>\n",
       "      <td></td>\n",
       "      <td>left-news</td>\n",
       "      <td>Apr 25, 2015</td>\n",
       "      <td>fake</td>\n",
       "    </tr>\n",
       "    <tr>\n",
       "      <th>21827</th>\n",
       "      <td>(VIDEO) HILLARY CLINTON: RELIGIOUS BELIEFS MUS...</td>\n",
       "      <td></td>\n",
       "      <td>left-news</td>\n",
       "      <td>Apr 25, 2015</td>\n",
       "      <td>fake</td>\n",
       "    </tr>\n",
       "    <tr>\n",
       "      <th>21857</th>\n",
       "      <td>(VIDEO)ICE PROTECTING OBAMA: WON’T RELEASE NAM...</td>\n",
       "      <td></td>\n",
       "      <td>left-news</td>\n",
       "      <td>Apr 14, 2015</td>\n",
       "      <td>fake</td>\n",
       "    </tr>\n",
       "    <tr>\n",
       "      <th>21873</th>\n",
       "      <td>(VIDEO) HYSTERICAL SNL TAKE ON HILLARY’S ANNOU...</td>\n",
       "      <td></td>\n",
       "      <td>left-news</td>\n",
       "      <td>Apr 12, 2015</td>\n",
       "      <td>fake</td>\n",
       "    </tr>\n",
       "    <tr>\n",
       "      <th>32451</th>\n",
       "      <td>Graphic: Supreme Court roundup</td>\n",
       "      <td></td>\n",
       "      <td>politicsNews</td>\n",
       "      <td>June 16, 2016</td>\n",
       "      <td>true</td>\n",
       "    </tr>\n",
       "  </tbody>\n",
       "</table>\n",
       "<p>627 rows × 5 columns</p>\n",
       "</div>"
      ],
      "text/plain": [
       "                                                   title text       subject  \\\n",
       "10923  TAKE OUR POLL: Who Do You Think President Trum...           politics   \n",
       "11041  Joe Scarborough BERATES Mika Brzezinski Over “...           politics   \n",
       "11190  WATCH TUCKER CARLSON Scorch Sanctuary City May...           politics   \n",
       "11225  MAYOR OF SANCTUARY CITY: Trump Trying To Make ...           politics   \n",
       "11236  SHOCKER: Public School Turns Computer Lab Into...           politics   \n",
       "...                                                  ...  ...           ...   \n",
       "21826  FULL VIDEO: THE BLOCKBUSTER INVESTIGATION INTO...          left-news   \n",
       "21827  (VIDEO) HILLARY CLINTON: RELIGIOUS BELIEFS MUS...          left-news   \n",
       "21857  (VIDEO)ICE PROTECTING OBAMA: WON’T RELEASE NAM...          left-news   \n",
       "21873  (VIDEO) HYSTERICAL SNL TAKE ON HILLARY’S ANNOU...          left-news   \n",
       "32451                     Graphic: Supreme Court roundup       politicsNews   \n",
       "\n",
       "                 date label  \n",
       "10923    May 10, 2017  fake  \n",
       "11041    Apr 26, 2017  fake  \n",
       "11190     Apr 6, 2017  fake  \n",
       "11225     Apr 2, 2017  fake  \n",
       "11236     Apr 1, 2017  fake  \n",
       "...               ...   ...  \n",
       "21826    Apr 25, 2015  fake  \n",
       "21827    Apr 25, 2015  fake  \n",
       "21857    Apr 14, 2015  fake  \n",
       "21873    Apr 12, 2015  fake  \n",
       "32451  June 16, 2016   true  \n",
       "\n",
       "[627 rows x 5 columns]"
      ]
     },
     "execution_count": 28,
     "metadata": {},
     "output_type": "execute_result"
    }
   ],
   "source": [
    "df[df.text == ' ']"
   ]
  },
  {
   "cell_type": "markdown",
   "metadata": {},
   "source": [
    "There could be an arbritray amount of whitespace so I will replace all text values that are only whitespace with Nan"
   ]
  },
  {
   "cell_type": "code",
   "execution_count": 29,
   "metadata": {
    "ExecuteTime": {
     "end_time": "2020-09-29T17:29:16.334540Z",
     "start_time": "2020-09-29T17:29:14.476435Z"
    }
   },
   "outputs": [],
   "source": [
    "df = df.replace(r'^\\s*$', np.nan, regex=True)"
   ]
  },
  {
   "cell_type": "code",
   "execution_count": 30,
   "metadata": {
    "ExecuteTime": {
     "end_time": "2020-09-29T17:29:16.381658Z",
     "start_time": "2020-09-29T17:29:16.336626Z"
    }
   },
   "outputs": [
    {
     "data": {
      "text/plain": [
       "title        0\n",
       "text       631\n",
       "subject      0\n",
       "date         0\n",
       "label        0\n",
       "dtype: int64"
      ]
     },
     "execution_count": 30,
     "metadata": {},
     "output_type": "execute_result"
    }
   ],
   "source": [
    "df.isna().sum()"
   ]
  },
  {
   "cell_type": "markdown",
   "metadata": {},
   "source": [
    "*Summary for the text column* 631 rows with no text is small compared to the size of the dataset, so they should be dropped."
   ]
  },
  {
   "cell_type": "markdown",
   "metadata": {},
   "source": [
    "### Remove Duplicate Data"
   ]
  },
  {
   "cell_type": "code",
   "execution_count": 41,
   "metadata": {
    "ExecuteTime": {
     "end_time": "2020-09-29T17:44:10.093605Z",
     "start_time": "2020-09-29T17:44:10.088621Z"
    }
   },
   "outputs": [
    {
     "data": {
      "text/plain": [
       "44898"
      ]
     },
     "execution_count": 41,
     "metadata": {},
     "output_type": "execute_result"
    }
   ],
   "source": [
    "len(df)"
   ]
  },
  {
   "cell_type": "markdown",
   "metadata": {},
   "source": [
    "Drop Duplicate Rows (keeping the first instance)"
   ]
  },
  {
   "cell_type": "code",
   "execution_count": 31,
   "metadata": {
    "ExecuteTime": {
     "end_time": "2020-09-29T17:29:16.527437Z",
     "start_time": "2020-09-29T17:29:16.383769Z"
    }
   },
   "outputs": [],
   "source": [
    "df_clean = df.drop_duplicates(ignore_index=True)"
   ]
  },
  {
   "cell_type": "code",
   "execution_count": 32,
   "metadata": {
    "ExecuteTime": {
     "end_time": "2020-09-29T17:29:16.534547Z",
     "start_time": "2020-09-29T17:29:16.529541Z"
    }
   },
   "outputs": [
    {
     "data": {
      "text/plain": [
       "44689"
      ]
     },
     "execution_count": 32,
     "metadata": {},
     "output_type": "execute_result"
    }
   ],
   "source": [
    "len(df_clean)"
   ]
  },
  {
   "cell_type": "markdown",
   "metadata": {},
   "source": [
    "Drop Rows with No Text (just a title)"
   ]
  },
  {
   "cell_type": "code",
   "execution_count": 33,
   "metadata": {
    "ExecuteTime": {
     "end_time": "2020-09-29T17:29:16.564450Z",
     "start_time": "2020-09-29T17:29:16.536519Z"
    }
   },
   "outputs": [],
   "source": [
    "df_clean = df_clean.dropna()"
   ]
  },
  {
   "cell_type": "code",
   "execution_count": 34,
   "metadata": {
    "ExecuteTime": {
     "end_time": "2020-09-29T17:29:16.572217Z",
     "start_time": "2020-09-29T17:29:16.566705Z"
    }
   },
   "outputs": [
    {
     "data": {
      "text/plain": [
       "44058"
      ]
     },
     "execution_count": 34,
     "metadata": {},
     "output_type": "execute_result"
    }
   ],
   "source": [
    "len(df_clean)"
   ]
  },
  {
   "cell_type": "markdown",
   "metadata": {},
   "source": [
    "Drop Rows with same title and text (keeping the first instance)"
   ]
  },
  {
   "cell_type": "code",
   "execution_count": 35,
   "metadata": {
    "ExecuteTime": {
     "end_time": "2020-09-29T17:29:16.966953Z",
     "start_time": "2020-09-29T17:29:16.574278Z"
    }
   },
   "outputs": [],
   "source": [
    "df_clean = df_clean.drop_duplicates(['title', 'text'], ignore_index=True)"
   ]
  },
  {
   "cell_type": "code",
   "execution_count": 36,
   "metadata": {
    "ExecuteTime": {
     "end_time": "2020-09-29T17:29:16.974150Z",
     "start_time": "2020-09-29T17:29:16.969041Z"
    }
   },
   "outputs": [
    {
     "data": {
      "text/plain": [
       "38658"
      ]
     },
     "execution_count": 36,
     "metadata": {},
     "output_type": "execute_result"
    }
   ],
   "source": [
    "len(df_clean)"
   ]
  },
  {
   "cell_type": "markdown",
   "metadata": {},
   "source": [
    "Drop Rows with the same text (keeping the first instance)"
   ]
  },
  {
   "cell_type": "code",
   "execution_count": 37,
   "metadata": {
    "ExecuteTime": {
     "end_time": "2020-09-29T17:29:17.254244Z",
     "start_time": "2020-09-29T17:29:16.976100Z"
    }
   },
   "outputs": [],
   "source": [
    "df_clean = df_clean.drop_duplicates(['text'], ignore_index=True)"
   ]
  },
  {
   "cell_type": "code",
   "execution_count": 38,
   "metadata": {
    "ExecuteTime": {
     "end_time": "2020-09-29T17:29:17.279888Z",
     "start_time": "2020-09-29T17:29:17.256287Z"
    }
   },
   "outputs": [
    {
     "name": "stdout",
     "output_type": "stream",
     "text": [
      "<class 'pandas.core.frame.DataFrame'>\n",
      "RangeIndex: 38644 entries, 0 to 38643\n",
      "Data columns (total 5 columns):\n",
      " #   Column   Non-Null Count  Dtype \n",
      "---  ------   --------------  ----- \n",
      " 0   title    38644 non-null  object\n",
      " 1   text     38644 non-null  object\n",
      " 2   subject  38644 non-null  object\n",
      " 3   date     38644 non-null  object\n",
      " 4   label    38644 non-null  object\n",
      "dtypes: object(5)\n",
      "memory usage: 1.5+ MB\n"
     ]
    }
   ],
   "source": [
    "df_clean.info()"
   ]
  },
  {
   "cell_type": "markdown",
   "metadata": {},
   "source": [
    "How many rows were dropped?"
   ]
  },
  {
   "cell_type": "code",
   "execution_count": 39,
   "metadata": {
    "ExecuteTime": {
     "end_time": "2020-09-29T17:29:17.287110Z",
     "start_time": "2020-09-29T17:29:17.282131Z"
    }
   },
   "outputs": [
    {
     "data": {
      "text/plain": [
       "6254"
      ]
     },
     "execution_count": 39,
     "metadata": {},
     "output_type": "execute_result"
    }
   ],
   "source": [
    "len(df) - len(df_clean)"
   ]
  },
  {
   "cell_type": "markdown",
   "metadata": {},
   "source": [
    "## Check Date Range"
   ]
  },
  {
   "cell_type": "markdown",
   "metadata": {},
   "source": [
    "### Check date field for a valid format"
   ]
  },
  {
   "cell_type": "code",
   "execution_count": 40,
   "metadata": {
    "ExecuteTime": {
     "end_time": "2020-09-29T17:29:17.597078Z",
     "start_time": "2020-09-29T17:29:17.289507Z"
    }
   },
   "outputs": [
    {
     "name": "stdout",
     "output_type": "stream",
     "text": [
      "Not all date values are dates.\n"
     ]
    }
   ],
   "source": [
    "try:\n",
    "    df_clean['date'] = pd.to_datetime(df_clean['date'])\n",
    "except ValueError:\n",
    "    print('Not all date values are dates.')"
   ]
  },
  {
   "cell_type": "markdown",
   "metadata": {},
   "source": [
    "### Filter instances with invalid dates"
   ]
  },
  {
   "cell_type": "markdown",
   "metadata": {},
   "source": [
    "I will need to filter out the date values that are not dates."
   ]
  },
  {
   "cell_type": "code",
   "execution_count": 43,
   "metadata": {
    "ExecuteTime": {
     "end_time": "2020-09-29T17:50:33.630471Z",
     "start_time": "2020-09-29T17:50:33.626354Z"
    }
   },
   "outputs": [],
   "source": [
    "def not_a_date(string):\n",
    "    \"\"\"\n",
    "    Check if the input string can be converted to a date.\n",
    "    \n",
    "    Return:\n",
    "    True if it is not a date\n",
    "    False if it is a date\n",
    "    \"\"\"\n",
    "    try:\n",
    "        date = pd.to_datetime(string)\n",
    "        return False\n",
    "    except ValueError:\n",
    "        return True"
   ]
  },
  {
   "cell_type": "code",
   "execution_count": 44,
   "metadata": {
    "ExecuteTime": {
     "end_time": "2020-09-29T17:51:15.761652Z",
     "start_time": "2020-09-29T17:50:59.151910Z"
    }
   },
   "outputs": [],
   "source": [
    "df_bad_dates = df_clean[df_clean['date'].apply(not_a_date)]"
   ]
  },
  {
   "cell_type": "code",
   "execution_count": 45,
   "metadata": {
    "ExecuteTime": {
     "end_time": "2020-09-29T17:51:21.722416Z",
     "start_time": "2020-09-29T17:51:21.708728Z"
    }
   },
   "outputs": [
    {
     "data": {
      "text/html": [
       "<div>\n",
       "<style scoped>\n",
       "    .dataframe tbody tr th:only-of-type {\n",
       "        vertical-align: middle;\n",
       "    }\n",
       "\n",
       "    .dataframe tbody tr th {\n",
       "        vertical-align: top;\n",
       "    }\n",
       "\n",
       "    .dataframe thead th {\n",
       "        text-align: right;\n",
       "    }\n",
       "</style>\n",
       "<table border=\"1\" class=\"dataframe\">\n",
       "  <thead>\n",
       "    <tr style=\"text-align: right;\">\n",
       "      <th></th>\n",
       "      <th>title</th>\n",
       "      <th>text</th>\n",
       "      <th>subject</th>\n",
       "      <th>date</th>\n",
       "      <th>label</th>\n",
       "    </tr>\n",
       "  </thead>\n",
       "  <tbody>\n",
       "    <tr>\n",
       "      <th>9357</th>\n",
       "      <td>https://100percentfedup.com/served-roy-moore-v...</td>\n",
       "      <td>https://100percentfedup.com/served-roy-moore-v...</td>\n",
       "      <td>politics</td>\n",
       "      <td>https://100percentfedup.com/served-roy-moore-v...</td>\n",
       "      <td>fake</td>\n",
       "    </tr>\n",
       "    <tr>\n",
       "      <th>15119</th>\n",
       "      <td>https://100percentfedup.com/video-hillary-aske...</td>\n",
       "      <td>https://100percentfedup.com/video-hillary-aske...</td>\n",
       "      <td>politics</td>\n",
       "      <td>https://100percentfedup.com/video-hillary-aske...</td>\n",
       "      <td>fake</td>\n",
       "    </tr>\n",
       "    <tr>\n",
       "      <th>15120</th>\n",
       "      <td>https://100percentfedup.com/12-yr-old-black-co...</td>\n",
       "      <td>https://100percentfedup.com/12-yr-old-black-co...</td>\n",
       "      <td>politics</td>\n",
       "      <td>https://100percentfedup.com/12-yr-old-black-co...</td>\n",
       "      <td>fake</td>\n",
       "    </tr>\n",
       "    <tr>\n",
       "      <th>15422</th>\n",
       "      <td>https://fedup.wpengine.com/wp-content/uploads/...</td>\n",
       "      <td>https://fedup.wpengine.com/wp-content/uploads/...</td>\n",
       "      <td>politics</td>\n",
       "      <td>https://fedup.wpengine.com/wp-content/uploads/...</td>\n",
       "      <td>fake</td>\n",
       "    </tr>\n",
       "    <tr>\n",
       "      <th>15423</th>\n",
       "      <td>https://fedup.wpengine.com/wp-content/uploads/...</td>\n",
       "      <td>https://fedup.wpengine.com/wp-content/uploads/...</td>\n",
       "      <td>politics</td>\n",
       "      <td>https://fedup.wpengine.com/wp-content/uploads/...</td>\n",
       "      <td>fake</td>\n",
       "    </tr>\n",
       "    <tr>\n",
       "      <th>16126</th>\n",
       "      <td>Homepage</td>\n",
       "      <td>[vc_row][vc_column width= 1/1 ][td_block_trend...</td>\n",
       "      <td>left-news</td>\n",
       "      <td>MSNBC HOST Rudely Assumes Steel Worker Would N...</td>\n",
       "      <td>fake</td>\n",
       "    </tr>\n",
       "  </tbody>\n",
       "</table>\n",
       "</div>"
      ],
      "text/plain": [
       "                                                   title  \\\n",
       "9357   https://100percentfedup.com/served-roy-moore-v...   \n",
       "15119  https://100percentfedup.com/video-hillary-aske...   \n",
       "15120  https://100percentfedup.com/12-yr-old-black-co...   \n",
       "15422  https://fedup.wpengine.com/wp-content/uploads/...   \n",
       "15423  https://fedup.wpengine.com/wp-content/uploads/...   \n",
       "16126                                           Homepage   \n",
       "\n",
       "                                                    text    subject  \\\n",
       "9357   https://100percentfedup.com/served-roy-moore-v...   politics   \n",
       "15119  https://100percentfedup.com/video-hillary-aske...   politics   \n",
       "15120  https://100percentfedup.com/12-yr-old-black-co...   politics   \n",
       "15422  https://fedup.wpengine.com/wp-content/uploads/...   politics   \n",
       "15423  https://fedup.wpengine.com/wp-content/uploads/...   politics   \n",
       "16126  [vc_row][vc_column width= 1/1 ][td_block_trend...  left-news   \n",
       "\n",
       "                                                    date label  \n",
       "9357   https://100percentfedup.com/served-roy-moore-v...  fake  \n",
       "15119  https://100percentfedup.com/video-hillary-aske...  fake  \n",
       "15120  https://100percentfedup.com/12-yr-old-black-co...  fake  \n",
       "15422  https://fedup.wpengine.com/wp-content/uploads/...  fake  \n",
       "15423  https://fedup.wpengine.com/wp-content/uploads/...  fake  \n",
       "16126  MSNBC HOST Rudely Assumes Steel Worker Would N...  fake  "
      ]
     },
     "execution_count": 45,
     "metadata": {},
     "output_type": "execute_result"
    }
   ],
   "source": [
    "df_bad_dates"
   ]
  },
  {
   "cell_type": "markdown",
   "metadata": {},
   "source": [
    "The instances with text in the date field are all invalid data and will be dropped"
   ]
  },
  {
   "cell_type": "markdown",
   "metadata": {},
   "source": [
    "### Drop Instances with invalid dates"
   ]
  },
  {
   "cell_type": "code",
   "execution_count": null,
   "metadata": {
    "ExecuteTime": {
     "end_time": "2020-09-29T17:55:12.482974Z",
     "start_time": "2020-09-29T17:55:12.471926Z"
    }
   },
   "outputs": [],
   "source": [
    "df_clean = df_clean.drop(df_bad_dates.index)"
   ]
  },
  {
   "cell_type": "markdown",
   "metadata": {},
   "source": [
    "### Convert dates to datetime type"
   ]
  },
  {
   "cell_type": "code",
   "execution_count": 48,
   "metadata": {
    "ExecuteTime": {
     "end_time": "2020-09-29T17:55:28.796991Z",
     "start_time": "2020-09-29T17:55:28.321746Z"
    }
   },
   "outputs": [],
   "source": [
    "try:\n",
    "    df_clean['date'] = pd.to_datetime(df_clean['date'])\n",
    "except ValueError:\n",
    "    print('Not all date values are dates.')"
   ]
  },
  {
   "cell_type": "markdown",
   "metadata": {},
   "source": [
    "### Check Date Range"
   ]
  },
  {
   "cell_type": "code",
   "execution_count": 49,
   "metadata": {
    "ExecuteTime": {
     "end_time": "2020-09-29T17:58:21.095339Z",
     "start_time": "2020-09-29T17:58:21.032103Z"
    }
   },
   "outputs": [
    {
     "data": {
      "text/plain": [
       "count                   38638\n",
       "unique                   1010\n",
       "top       2017-12-06 00:00:00\n",
       "freq                      177\n",
       "first     2015-03-31 00:00:00\n",
       "last      2018-02-19 00:00:00\n",
       "Name: date, dtype: object"
      ]
     },
     "execution_count": 49,
     "metadata": {},
     "output_type": "execute_result"
    }
   ],
   "source": [
    "df_clean.date.describe()"
   ]
  },
  {
   "cell_type": "markdown",
   "metadata": {},
   "source": [
    "The description of the data, indicated that it was between 2016 and 2017.  I will need to check the data that is outside it."
   ]
  },
  {
   "cell_type": "code",
   "execution_count": 52,
   "metadata": {
    "ExecuteTime": {
     "end_time": "2020-09-29T18:01:37.672386Z",
     "start_time": "2020-09-29T18:01:37.649836Z"
    }
   },
   "outputs": [
    {
     "data": {
      "text/html": [
       "<div>\n",
       "<style scoped>\n",
       "    .dataframe tbody tr th:only-of-type {\n",
       "        vertical-align: middle;\n",
       "    }\n",
       "\n",
       "    .dataframe tbody tr th {\n",
       "        vertical-align: top;\n",
       "    }\n",
       "\n",
       "    .dataframe thead th {\n",
       "        text-align: right;\n",
       "    }\n",
       "</style>\n",
       "<table border=\"1\" class=\"dataframe\">\n",
       "  <thead>\n",
       "    <tr style=\"text-align: right;\">\n",
       "      <th></th>\n",
       "      <th>title</th>\n",
       "      <th>text</th>\n",
       "      <th>subject</th>\n",
       "      <th>date</th>\n",
       "      <th>label</th>\n",
       "    </tr>\n",
       "  </thead>\n",
       "  <tbody>\n",
       "    <tr>\n",
       "      <th>14343</th>\n",
       "      <td>EVERY U.S. CITIZEN TAKEN HOSTAGE IN IRAN To Be...</td>\n",
       "      <td>Just another slap in the face to US citizens. ...</td>\n",
       "      <td>politics</td>\n",
       "      <td>2015-12-31</td>\n",
       "      <td>fake</td>\n",
       "    </tr>\n",
       "    <tr>\n",
       "      <th>14344</th>\n",
       "      <td>WATCH FUNNIEST MAN In American Politics Ridicu...</td>\n",
       "      <td>You don t want to miss this!Here s a little in...</td>\n",
       "      <td>politics</td>\n",
       "      <td>2015-12-31</td>\n",
       "      <td>fake</td>\n",
       "    </tr>\n",
       "    <tr>\n",
       "      <th>14345</th>\n",
       "      <td>FBI POSTS $5,000 REWARD For Person Who Committ...</td>\n",
       "      <td>Americans were warned by Attorney General, Lor...</td>\n",
       "      <td>politics</td>\n",
       "      <td>2015-12-31</td>\n",
       "      <td>fake</td>\n",
       "    </tr>\n",
       "    <tr>\n",
       "      <th>14346</th>\n",
       "      <td>SWISS ARMY CHIEF WARNS CITIZENS About Explosiv...</td>\n",
       "      <td>Wouldn t it be great if we had someone in gove...</td>\n",
       "      <td>politics</td>\n",
       "      <td>2015-12-31</td>\n",
       "      <td>fake</td>\n",
       "    </tr>\n",
       "    <tr>\n",
       "      <th>14347</th>\n",
       "      <td>WOW! Sarah Palin’s Stunning AZ Vacation Home G...</td>\n",
       "      <td>It would be great if  her former running mate,...</td>\n",
       "      <td>politics</td>\n",
       "      <td>2015-12-30</td>\n",
       "      <td>fake</td>\n",
       "    </tr>\n",
       "    <tr>\n",
       "      <th>...</th>\n",
       "      <td>...</td>\n",
       "      <td>...</td>\n",
       "      <td>...</td>\n",
       "      <td>...</td>\n",
       "      <td>...</td>\n",
       "    </tr>\n",
       "    <tr>\n",
       "      <th>16665</th>\n",
       "      <td>BREAKING: [Video] COLORADO BAKER WHO REFUSED T...</td>\n",
       "      <td>About 2,000 of the emails I got were of suppo...</td>\n",
       "      <td>left-news</td>\n",
       "      <td>2015-04-07</td>\n",
       "      <td>fake</td>\n",
       "    </tr>\n",
       "    <tr>\n",
       "      <th>16666</th>\n",
       "      <td>(VIDEO) PATRIOTS DEMAND REMOVAL OF COMMUNIST FLAG</td>\n",
       "      <td>Patriots removed the the Chinese flag between ...</td>\n",
       "      <td>left-news</td>\n",
       "      <td>2015-04-06</td>\n",
       "      <td>fake</td>\n",
       "    </tr>\n",
       "    <tr>\n",
       "      <th>16667</th>\n",
       "      <td>BUSTED: [VIDEO] MAN ATTEMPTS TO TAPE “GOTCHA” ...</td>\n",
       "      <td>The Michael Brown and Eric Garner cases have o...</td>\n",
       "      <td>left-news</td>\n",
       "      <td>2015-04-05</td>\n",
       "      <td>fake</td>\n",
       "    </tr>\n",
       "    <tr>\n",
       "      <th>16668</th>\n",
       "      <td>[VIDEO] 16 YR OLD ARRESTED For Violent Gang Be...</td>\n",
       "      <td>This is a sad commentary on a generation who h...</td>\n",
       "      <td>left-news</td>\n",
       "      <td>2015-04-04</td>\n",
       "      <td>fake</td>\n",
       "    </tr>\n",
       "    <tr>\n",
       "      <th>16669</th>\n",
       "      <td>“Non-violence hasn’t worked”…Reverend Sam Most...</td>\n",
       "      <td>Yeah that whole  taking up arms  thing seems t...</td>\n",
       "      <td>left-news</td>\n",
       "      <td>2015-04-01</td>\n",
       "      <td>fake</td>\n",
       "    </tr>\n",
       "  </tbody>\n",
       "</table>\n",
       "<p>1597 rows × 5 columns</p>\n",
       "</div>"
      ],
      "text/plain": [
       "                                                   title  \\\n",
       "14343  EVERY U.S. CITIZEN TAKEN HOSTAGE IN IRAN To Be...   \n",
       "14344  WATCH FUNNIEST MAN In American Politics Ridicu...   \n",
       "14345  FBI POSTS $5,000 REWARD For Person Who Committ...   \n",
       "14346  SWISS ARMY CHIEF WARNS CITIZENS About Explosiv...   \n",
       "14347  WOW! Sarah Palin’s Stunning AZ Vacation Home G...   \n",
       "...                                                  ...   \n",
       "16665  BREAKING: [Video] COLORADO BAKER WHO REFUSED T...   \n",
       "16666  (VIDEO) PATRIOTS DEMAND REMOVAL OF COMMUNIST FLAG   \n",
       "16667  BUSTED: [VIDEO] MAN ATTEMPTS TO TAPE “GOTCHA” ...   \n",
       "16668  [VIDEO] 16 YR OLD ARRESTED For Violent Gang Be...   \n",
       "16669  “Non-violence hasn’t worked”…Reverend Sam Most...   \n",
       "\n",
       "                                                    text    subject  \\\n",
       "14343  Just another slap in the face to US citizens. ...   politics   \n",
       "14344  You don t want to miss this!Here s a little in...   politics   \n",
       "14345  Americans were warned by Attorney General, Lor...   politics   \n",
       "14346  Wouldn t it be great if we had someone in gove...   politics   \n",
       "14347  It would be great if  her former running mate,...   politics   \n",
       "...                                                  ...        ...   \n",
       "16665   About 2,000 of the emails I got were of suppo...  left-news   \n",
       "16666  Patriots removed the the Chinese flag between ...  left-news   \n",
       "16667  The Michael Brown and Eric Garner cases have o...  left-news   \n",
       "16668  This is a sad commentary on a generation who h...  left-news   \n",
       "16669  Yeah that whole  taking up arms  thing seems t...  left-news   \n",
       "\n",
       "            date label  \n",
       "14343 2015-12-31  fake  \n",
       "14344 2015-12-31  fake  \n",
       "14345 2015-12-31  fake  \n",
       "14346 2015-12-31  fake  \n",
       "14347 2015-12-30  fake  \n",
       "...          ...   ...  \n",
       "16665 2015-04-07  fake  \n",
       "16666 2015-04-06  fake  \n",
       "16667 2015-04-05  fake  \n",
       "16668 2015-04-04  fake  \n",
       "16669 2015-04-01  fake  \n",
       "\n",
       "[1597 rows x 5 columns]"
      ]
     },
     "execution_count": 52,
     "metadata": {},
     "output_type": "execute_result"
    }
   ],
   "source": [
    "df_early = df_clean[df_clean.date < pd.to_datetime('2016-01-01')]\n",
    "df_early"
   ]
  },
  {
   "cell_type": "code",
   "execution_count": 53,
   "metadata": {
    "ExecuteTime": {
     "end_time": "2020-09-29T18:02:12.914410Z",
     "start_time": "2020-09-29T18:02:12.906539Z"
    }
   },
   "outputs": [
    {
     "data": {
      "text/plain": [
       "fake    1597\n",
       "Name: label, dtype: int64"
      ]
     },
     "execution_count": 53,
     "metadata": {},
     "output_type": "execute_result"
    }
   ],
   "source": [
    "df_early.label.value_counts()"
   ]
  },
  {
   "cell_type": "code",
   "execution_count": 54,
   "metadata": {
    "ExecuteTime": {
     "end_time": "2020-09-29T18:02:57.855774Z",
     "start_time": "2020-09-29T18:02:57.850491Z"
    }
   },
   "outputs": [],
   "source": [
    "df_late = df_clean[df_clean.date > pd.to_datetime('2017-12-31')]"
   ]
  },
  {
   "cell_type": "code",
   "execution_count": 55,
   "metadata": {
    "ExecuteTime": {
     "end_time": "2020-09-29T18:03:00.855813Z",
     "start_time": "2020-09-29T18:03:00.831750Z"
    },
    "scrolled": true
   },
   "outputs": [
    {
     "data": {
      "text/html": [
       "<div>\n",
       "<style scoped>\n",
       "    .dataframe tbody tr th:only-of-type {\n",
       "        vertical-align: middle;\n",
       "    }\n",
       "\n",
       "    .dataframe tbody tr th {\n",
       "        vertical-align: top;\n",
       "    }\n",
       "\n",
       "    .dataframe thead th {\n",
       "        text-align: right;\n",
       "    }\n",
       "</style>\n",
       "<table border=\"1\" class=\"dataframe\">\n",
       "  <thead>\n",
       "    <tr style=\"text-align: right;\">\n",
       "      <th></th>\n",
       "      <th>title</th>\n",
       "      <th>text</th>\n",
       "      <th>subject</th>\n",
       "      <th>date</th>\n",
       "      <th>label</th>\n",
       "    </tr>\n",
       "  </thead>\n",
       "  <tbody>\n",
       "    <tr>\n",
       "      <th>9050</th>\n",
       "      <td>Democrat Senator Warns Mueller Not To Release ...</td>\n",
       "      <td>According to The Hill, Democrat Senator Bob Ca...</td>\n",
       "      <td>politics</td>\n",
       "      <td>2018-02-19</td>\n",
       "      <td>fake</td>\n",
       "    </tr>\n",
       "    <tr>\n",
       "      <th>9051</th>\n",
       "      <td>MSNBC ANCHOR Flabbergasted at What Texas Teach...</td>\n",
       "      <td>If we protect every other government building ...</td>\n",
       "      <td>politics</td>\n",
       "      <td>2018-02-19</td>\n",
       "      <td>fake</td>\n",
       "    </tr>\n",
       "    <tr>\n",
       "      <th>9052</th>\n",
       "      <td>WATCH: SNOWFLAKES ASKED Communist Party Platfo...</td>\n",
       "      <td>Ami Horowitz is fantastic! Check out this man ...</td>\n",
       "      <td>politics</td>\n",
       "      <td>2018-02-19</td>\n",
       "      <td>fake</td>\n",
       "    </tr>\n",
       "    <tr>\n",
       "      <th>9053</th>\n",
       "      <td>JUST IN: BADASS GENERAL JOHN KELLY Shoved Chin...</td>\n",
       "      <td>Just one more reminder of why President Trump ...</td>\n",
       "      <td>politics</td>\n",
       "      <td>2018-02-18</td>\n",
       "      <td>fake</td>\n",
       "    </tr>\n",
       "    <tr>\n",
       "      <th>9054</th>\n",
       "      <td>DOJ’s JEFF SESSIONS Opens Investigation Into W...</td>\n",
       "      <td>Thank goodnesss Jeff Sessions is moving on fin...</td>\n",
       "      <td>politics</td>\n",
       "      <td>2018-02-18</td>\n",
       "      <td>fake</td>\n",
       "    </tr>\n",
       "    <tr>\n",
       "      <th>9055</th>\n",
       "      <td>WATCH: ’’Carpetbagger” Mitt Romney Takes Swipe...</td>\n",
       "      <td>The GOP presidential candidate who couldn t se...</td>\n",
       "      <td>politics</td>\n",
       "      <td>2018-02-18</td>\n",
       "      <td>fake</td>\n",
       "    </tr>\n",
       "    <tr>\n",
       "      <th>9056</th>\n",
       "      <td>GOTCHA! A Stammering John Podesta Stunned by a...</td>\n",
       "      <td>John Podesta is Hillary Clinton s former campa...</td>\n",
       "      <td>politics</td>\n",
       "      <td>2018-02-18</td>\n",
       "      <td>fake</td>\n",
       "    </tr>\n",
       "    <tr>\n",
       "      <th>9057</th>\n",
       "      <td>HIGH SCHOOL TEACHER Makes “Shooting At Trump” ...</td>\n",
       "      <td>EAG News  A Wyoming high school is under fire ...</td>\n",
       "      <td>politics</td>\n",
       "      <td>2018-02-18</td>\n",
       "      <td>fake</td>\n",
       "    </tr>\n",
       "    <tr>\n",
       "      <th>9058</th>\n",
       "      <td>IT BEGINS…RINO MEGA-DONOR Threatens Jeb Bush: ...</td>\n",
       "      <td>A longtime Republican Party donor based in Flo...</td>\n",
       "      <td>politics</td>\n",
       "      <td>2018-02-18</td>\n",
       "      <td>fake</td>\n",
       "    </tr>\n",
       "    <tr>\n",
       "      <th>9059</th>\n",
       "      <td>BUSTED! Maxine Waters’ Ties to Black Nationali...</td>\n",
       "      <td>We reported that Maxine Waters and members of ...</td>\n",
       "      <td>politics</td>\n",
       "      <td>2018-02-18</td>\n",
       "      <td>fake</td>\n",
       "    </tr>\n",
       "    <tr>\n",
       "      <th>9060</th>\n",
       "      <td>LOCAL REPORTER IN DEEP BLUE STATE Stuns Libera...</td>\n",
       "      <td>We took a very hard look at these numbers, an...</td>\n",
       "      <td>politics</td>\n",
       "      <td>2018-02-17</td>\n",
       "      <td>fake</td>\n",
       "    </tr>\n",
       "    <tr>\n",
       "      <th>9061</th>\n",
       "      <td>FACEBOOK RELEASES Ads Paid For By Russians…And...</td>\n",
       "      <td>There s been a lot of talk about the ads Russi...</td>\n",
       "      <td>politics</td>\n",
       "      <td>2018-02-17</td>\n",
       "      <td>fake</td>\n",
       "    </tr>\n",
       "    <tr>\n",
       "      <th>9062</th>\n",
       "      <td>FACEBOOK’S VP Of Ads BLASTS MEDIA: Majority Of...</td>\n",
       "      <td>Facebook s VP of Advertising took to Twitter t...</td>\n",
       "      <td>politics</td>\n",
       "      <td>2018-02-17</td>\n",
       "      <td>fake</td>\n",
       "    </tr>\n",
       "    <tr>\n",
       "      <th>9063</th>\n",
       "      <td>MEGHAN MCCAIN Cut-Off After Saying the Florida...</td>\n",
       "      <td>It clear that common sense isn t what these he...</td>\n",
       "      <td>politics</td>\n",
       "      <td>2018-02-17</td>\n",
       "      <td>fake</td>\n",
       "    </tr>\n",
       "    <tr>\n",
       "      <th>9064</th>\n",
       "      <td>BROTHER OF HERO COACH Breaks Down Over Tribute...</td>\n",
       "      <td>The hero football coach who threw himself betw...</td>\n",
       "      <td>politics</td>\n",
       "      <td>2018-02-17</td>\n",
       "      <td>fake</td>\n",
       "    </tr>\n",
       "    <tr>\n",
       "      <th>9065</th>\n",
       "      <td>“THE TRUMP CURSE IS REAL”…Social Media Respond...</td>\n",
       "      <td>Two months before the Winter Olympics in Seoul...</td>\n",
       "      <td>politics</td>\n",
       "      <td>2018-02-17</td>\n",
       "      <td>fake</td>\n",
       "    </tr>\n",
       "    <tr>\n",
       "      <th>9066</th>\n",
       "      <td>How The Left, The Anti Defamation League and M...</td>\n",
       "      <td>Immediately after the police identified the su...</td>\n",
       "      <td>politics</td>\n",
       "      <td>2018-02-17</td>\n",
       "      <td>fake</td>\n",
       "    </tr>\n",
       "    <tr>\n",
       "      <th>9067</th>\n",
       "      <td>LOOK WHO Approved Visas For Russian Operatives...</td>\n",
       "      <td>According to Fox News  A federal grand jury on...</td>\n",
       "      <td>politics</td>\n",
       "      <td>2018-02-16</td>\n",
       "      <td>fake</td>\n",
       "    </tr>\n",
       "    <tr>\n",
       "      <th>9068</th>\n",
       "      <td>JUST IN: PRESIDENT TRUMP AND FIRST LADY Make S...</td>\n",
       "      <td>President Trump visits Florida hospital, prai...</td>\n",
       "      <td>politics</td>\n",
       "      <td>2018-02-16</td>\n",
       "      <td>fake</td>\n",
       "    </tr>\n",
       "    <tr>\n",
       "      <th>9069</th>\n",
       "      <td>BREAKING: FL GOV RICK SCOTT Calls for FBI Dire...</td>\n",
       "      <td>While the left points the finger at guns, guns...</td>\n",
       "      <td>politics</td>\n",
       "      <td>2018-02-16</td>\n",
       "      <td>fake</td>\n",
       "    </tr>\n",
       "    <tr>\n",
       "      <th>9070</th>\n",
       "      <td>HEY, BERNIE SANDERS: 18 SCHOOL SHOOTINGS Have ...</td>\n",
       "      <td>The left has locked onto a stat that 18 school...</td>\n",
       "      <td>politics</td>\n",
       "      <td>2018-02-16</td>\n",
       "      <td>fake</td>\n",
       "    </tr>\n",
       "    <tr>\n",
       "      <th>9071</th>\n",
       "      <td>TUCKER CARLSON Rips The Left On Gun Control Hy...</td>\n",
       "      <td>Tucker Carlson weighed in on the hysteria over...</td>\n",
       "      <td>politics</td>\n",
       "      <td>2018-02-16</td>\n",
       "      <td>fake</td>\n",
       "    </tr>\n",
       "    <tr>\n",
       "      <th>9072</th>\n",
       "      <td>WATCH: Mitt Romney Announces Run for Senate…Ba...</td>\n",
       "      <td>Just what we need another Trump-bashing RINO. ...</td>\n",
       "      <td>politics</td>\n",
       "      <td>2018-02-16</td>\n",
       "      <td>fake</td>\n",
       "    </tr>\n",
       "    <tr>\n",
       "      <th>9073</th>\n",
       "      <td>WATCH SHERIFF’S Honest Response After a School...</td>\n",
       "      <td>When it gets down to it, what this sheriff sai...</td>\n",
       "      <td>politics</td>\n",
       "      <td>2018-02-16</td>\n",
       "      <td>fake</td>\n",
       "    </tr>\n",
       "    <tr>\n",
       "      <th>9074</th>\n",
       "      <td>Flashback Video: Susan Rice Says Trump’s Claim...</td>\n",
       "      <td>Susan Rice and Obama were as thick as thieves ...</td>\n",
       "      <td>politics</td>\n",
       "      <td>2018-02-16</td>\n",
       "      <td>fake</td>\n",
       "    </tr>\n",
       "    <tr>\n",
       "      <th>9075</th>\n",
       "      <td>POLITICS FIRST: LEFTIST PARENTS Of Former Comb...</td>\n",
       "      <td>The heartbreaking story of two parents who put...</td>\n",
       "      <td>politics</td>\n",
       "      <td>2018-02-15</td>\n",
       "      <td>fake</td>\n",
       "    </tr>\n",
       "    <tr>\n",
       "      <th>9076</th>\n",
       "      <td>TWO HIGH SCHOOL JROTC Members Tell INCREDIBLE ...</td>\n",
       "      <td>ABC News  When two Marjory Stoneman Douglas Hi...</td>\n",
       "      <td>politics</td>\n",
       "      <td>2018-02-15</td>\n",
       "      <td>fake</td>\n",
       "    </tr>\n",
       "    <tr>\n",
       "      <th>9077</th>\n",
       "      <td>MEDIA PROMOTES Fake News That Shooter Connecte...</td>\n",
       "      <td>The mainstream media is guilty of fake news wh...</td>\n",
       "      <td>politics</td>\n",
       "      <td>2018-02-15</td>\n",
       "      <td>fake</td>\n",
       "    </tr>\n",
       "    <tr>\n",
       "      <th>9078</th>\n",
       "      <td>WHAT’S WRONG WITH PELOSI? Nancy Stutters, Stam...</td>\n",
       "      <td>What s wrong with Pelosi? Nancy Pelosi is supp...</td>\n",
       "      <td>politics</td>\n",
       "      <td>2018-02-15</td>\n",
       "      <td>fake</td>\n",
       "    </tr>\n",
       "    <tr>\n",
       "      <th>9079</th>\n",
       "      <td>“PROUD TRANSGENDER” Democrat Candidate For Con...</td>\n",
       "      <td>WQOW -A Lacrosse, WI transgender person, who r...</td>\n",
       "      <td>politics</td>\n",
       "      <td>2018-02-15</td>\n",
       "      <td>fake</td>\n",
       "    </tr>\n",
       "    <tr>\n",
       "      <th>9080</th>\n",
       "      <td>JUST IN: Senate Rejects Immigration Bill…Trump...</td>\n",
       "      <td>How could the Senate be so lame in their effor...</td>\n",
       "      <td>politics</td>\n",
       "      <td>2018-02-15</td>\n",
       "      <td>fake</td>\n",
       "    </tr>\n",
       "    <tr>\n",
       "      <th>9081</th>\n",
       "      <td>SC STATE REP Who is a Former Cop Proposes Smar...</td>\n",
       "      <td>WHO BETTER THAN A FORMER POLICE OFFICER TO UND...</td>\n",
       "      <td>politics</td>\n",
       "      <td>2018-02-15</td>\n",
       "      <td>fake</td>\n",
       "    </tr>\n",
       "    <tr>\n",
       "      <th>9082</th>\n",
       "      <td>HUH? RAPPER JAY-Z Compares Trayvon Martin to M...</td>\n",
       "      <td>Rapper Jay-Z attended the Peace Walk &amp; Peace T...</td>\n",
       "      <td>politics</td>\n",
       "      <td>2018-02-15</td>\n",
       "      <td>fake</td>\n",
       "    </tr>\n",
       "    <tr>\n",
       "      <th>9083</th>\n",
       "      <td>The DIRTY TRUTH About DACA Recipients…Where Th...</td>\n",
       "      <td>Yesterday, a second U.S. judge on Tuesday bloc...</td>\n",
       "      <td>politics</td>\n",
       "      <td>2018-02-15</td>\n",
       "      <td>fake</td>\n",
       "    </tr>\n",
       "    <tr>\n",
       "      <th>9084</th>\n",
       "      <td>JUST IN: CROOKED DOJ OFFICIAL Didn’t Reveal Th...</td>\n",
       "      <td>We ve been covering the curious case of DOJ of...</td>\n",
       "      <td>politics</td>\n",
       "      <td>2018-02-14</td>\n",
       "      <td>fake</td>\n",
       "    </tr>\n",
       "  </tbody>\n",
       "</table>\n",
       "</div>"
      ],
      "text/plain": [
       "                                                  title  \\\n",
       "9050  Democrat Senator Warns Mueller Not To Release ...   \n",
       "9051  MSNBC ANCHOR Flabbergasted at What Texas Teach...   \n",
       "9052  WATCH: SNOWFLAKES ASKED Communist Party Platfo...   \n",
       "9053  JUST IN: BADASS GENERAL JOHN KELLY Shoved Chin...   \n",
       "9054  DOJ’s JEFF SESSIONS Opens Investigation Into W...   \n",
       "9055  WATCH: ’’Carpetbagger” Mitt Romney Takes Swipe...   \n",
       "9056  GOTCHA! A Stammering John Podesta Stunned by a...   \n",
       "9057  HIGH SCHOOL TEACHER Makes “Shooting At Trump” ...   \n",
       "9058  IT BEGINS…RINO MEGA-DONOR Threatens Jeb Bush: ...   \n",
       "9059  BUSTED! Maxine Waters’ Ties to Black Nationali...   \n",
       "9060  LOCAL REPORTER IN DEEP BLUE STATE Stuns Libera...   \n",
       "9061  FACEBOOK RELEASES Ads Paid For By Russians…And...   \n",
       "9062  FACEBOOK’S VP Of Ads BLASTS MEDIA: Majority Of...   \n",
       "9063  MEGHAN MCCAIN Cut-Off After Saying the Florida...   \n",
       "9064  BROTHER OF HERO COACH Breaks Down Over Tribute...   \n",
       "9065  “THE TRUMP CURSE IS REAL”…Social Media Respond...   \n",
       "9066  How The Left, The Anti Defamation League and M...   \n",
       "9067  LOOK WHO Approved Visas For Russian Operatives...   \n",
       "9068  JUST IN: PRESIDENT TRUMP AND FIRST LADY Make S...   \n",
       "9069  BREAKING: FL GOV RICK SCOTT Calls for FBI Dire...   \n",
       "9070  HEY, BERNIE SANDERS: 18 SCHOOL SHOOTINGS Have ...   \n",
       "9071  TUCKER CARLSON Rips The Left On Gun Control Hy...   \n",
       "9072  WATCH: Mitt Romney Announces Run for Senate…Ba...   \n",
       "9073  WATCH SHERIFF’S Honest Response After a School...   \n",
       "9074  Flashback Video: Susan Rice Says Trump’s Claim...   \n",
       "9075  POLITICS FIRST: LEFTIST PARENTS Of Former Comb...   \n",
       "9076  TWO HIGH SCHOOL JROTC Members Tell INCREDIBLE ...   \n",
       "9077  MEDIA PROMOTES Fake News That Shooter Connecte...   \n",
       "9078  WHAT’S WRONG WITH PELOSI? Nancy Stutters, Stam...   \n",
       "9079  “PROUD TRANSGENDER” Democrat Candidate For Con...   \n",
       "9080  JUST IN: Senate Rejects Immigration Bill…Trump...   \n",
       "9081  SC STATE REP Who is a Former Cop Proposes Smar...   \n",
       "9082  HUH? RAPPER JAY-Z Compares Trayvon Martin to M...   \n",
       "9083  The DIRTY TRUTH About DACA Recipients…Where Th...   \n",
       "9084  JUST IN: CROOKED DOJ OFFICIAL Didn’t Reveal Th...   \n",
       "\n",
       "                                                   text   subject       date  \\\n",
       "9050  According to The Hill, Democrat Senator Bob Ca...  politics 2018-02-19   \n",
       "9051  If we protect every other government building ...  politics 2018-02-19   \n",
       "9052  Ami Horowitz is fantastic! Check out this man ...  politics 2018-02-19   \n",
       "9053  Just one more reminder of why President Trump ...  politics 2018-02-18   \n",
       "9054  Thank goodnesss Jeff Sessions is moving on fin...  politics 2018-02-18   \n",
       "9055  The GOP presidential candidate who couldn t se...  politics 2018-02-18   \n",
       "9056  John Podesta is Hillary Clinton s former campa...  politics 2018-02-18   \n",
       "9057  EAG News  A Wyoming high school is under fire ...  politics 2018-02-18   \n",
       "9058  A longtime Republican Party donor based in Flo...  politics 2018-02-18   \n",
       "9059  We reported that Maxine Waters and members of ...  politics 2018-02-18   \n",
       "9060   We took a very hard look at these numbers, an...  politics 2018-02-17   \n",
       "9061  There s been a lot of talk about the ads Russi...  politics 2018-02-17   \n",
       "9062  Facebook s VP of Advertising took to Twitter t...  politics 2018-02-17   \n",
       "9063  It clear that common sense isn t what these he...  politics 2018-02-17   \n",
       "9064  The hero football coach who threw himself betw...  politics 2018-02-17   \n",
       "9065  Two months before the Winter Olympics in Seoul...  politics 2018-02-17   \n",
       "9066  Immediately after the police identified the su...  politics 2018-02-17   \n",
       "9067  According to Fox News  A federal grand jury on...  politics 2018-02-16   \n",
       "9068   President Trump visits Florida hospital, prai...  politics 2018-02-16   \n",
       "9069  While the left points the finger at guns, guns...  politics 2018-02-16   \n",
       "9070  The left has locked onto a stat that 18 school...  politics 2018-02-16   \n",
       "9071  Tucker Carlson weighed in on the hysteria over...  politics 2018-02-16   \n",
       "9072  Just what we need another Trump-bashing RINO. ...  politics 2018-02-16   \n",
       "9073  When it gets down to it, what this sheriff sai...  politics 2018-02-16   \n",
       "9074  Susan Rice and Obama were as thick as thieves ...  politics 2018-02-16   \n",
       "9075  The heartbreaking story of two parents who put...  politics 2018-02-15   \n",
       "9076  ABC News  When two Marjory Stoneman Douglas Hi...  politics 2018-02-15   \n",
       "9077  The mainstream media is guilty of fake news wh...  politics 2018-02-15   \n",
       "9078  What s wrong with Pelosi? Nancy Pelosi is supp...  politics 2018-02-15   \n",
       "9079  WQOW -A Lacrosse, WI transgender person, who r...  politics 2018-02-15   \n",
       "9080  How could the Senate be so lame in their effor...  politics 2018-02-15   \n",
       "9081  WHO BETTER THAN A FORMER POLICE OFFICER TO UND...  politics 2018-02-15   \n",
       "9082  Rapper Jay-Z attended the Peace Walk & Peace T...  politics 2018-02-15   \n",
       "9083  Yesterday, a second U.S. judge on Tuesday bloc...  politics 2018-02-15   \n",
       "9084  We ve been covering the curious case of DOJ of...  politics 2018-02-14   \n",
       "\n",
       "     label  \n",
       "9050  fake  \n",
       "9051  fake  \n",
       "9052  fake  \n",
       "9053  fake  \n",
       "9054  fake  \n",
       "9055  fake  \n",
       "9056  fake  \n",
       "9057  fake  \n",
       "9058  fake  \n",
       "9059  fake  \n",
       "9060  fake  \n",
       "9061  fake  \n",
       "9062  fake  \n",
       "9063  fake  \n",
       "9064  fake  \n",
       "9065  fake  \n",
       "9066  fake  \n",
       "9067  fake  \n",
       "9068  fake  \n",
       "9069  fake  \n",
       "9070  fake  \n",
       "9071  fake  \n",
       "9072  fake  \n",
       "9073  fake  \n",
       "9074  fake  \n",
       "9075  fake  \n",
       "9076  fake  \n",
       "9077  fake  \n",
       "9078  fake  \n",
       "9079  fake  \n",
       "9080  fake  \n",
       "9081  fake  \n",
       "9082  fake  \n",
       "9083  fake  \n",
       "9084  fake  "
      ]
     },
     "execution_count": 55,
     "metadata": {},
     "output_type": "execute_result"
    }
   ],
   "source": [
    "df_late"
   ]
  },
  {
   "cell_type": "code",
   "execution_count": 56,
   "metadata": {
    "ExecuteTime": {
     "end_time": "2020-09-29T18:04:31.080511Z",
     "start_time": "2020-09-29T18:04:31.069021Z"
    }
   },
   "outputs": [
    {
     "data": {
      "text/plain": [
       "true    21191\n",
       "fake    17447\n",
       "Name: label, dtype: int64"
      ]
     },
     "execution_count": 56,
     "metadata": {},
     "output_type": "execute_result"
    }
   ],
   "source": [
    "df_clean.label.value_counts()"
   ]
  },
  {
   "cell_type": "markdown",
   "metadata": {},
   "source": [
    "### Summary"
   ]
  },
  {
   "cell_type": "markdown",
   "metadata": {},
   "source": [
    "All the instances outside the 2016 to 2017 range are labeled Fake.  Given that they look similar to the data in that range, and that the number of instances labeled fake has already been reduced because of duplicate data, I will not remove them."
   ]
  },
  {
   "cell_type": "code",
   "execution_count": null,
   "metadata": {},
   "outputs": [],
   "source": []
  }
 ],
 "metadata": {
  "kernelspec": {
   "display_name": "learn-env",
   "language": "python",
   "name": "learn-env"
  },
  "language_info": {
   "codemirror_mode": {
    "name": "ipython",
    "version": 3
   },
   "file_extension": ".py",
   "mimetype": "text/x-python",
   "name": "python",
   "nbconvert_exporter": "python",
   "pygments_lexer": "ipython3",
   "version": "3.6.9"
  },
  "toc": {
   "base_numbering": 1,
   "nav_menu": {},
   "number_sections": true,
   "sideBar": true,
   "skip_h1_title": false,
   "title_cell": "Table of Contents",
   "title_sidebar": "Contents",
   "toc_cell": false,
   "toc_position": {},
   "toc_section_display": true,
   "toc_window_display": true
  },
  "varInspector": {
   "cols": {
    "lenName": 16,
    "lenType": 16,
    "lenVar": 40
   },
   "kernels_config": {
    "python": {
     "delete_cmd_postfix": "",
     "delete_cmd_prefix": "del ",
     "library": "var_list.py",
     "varRefreshCmd": "print(var_dic_list())"
    },
    "r": {
     "delete_cmd_postfix": ") ",
     "delete_cmd_prefix": "rm(",
     "library": "var_list.r",
     "varRefreshCmd": "cat(var_dic_list()) "
    }
   },
   "types_to_exclude": [
    "module",
    "function",
    "builtin_function_or_method",
    "instance",
    "_Feature"
   ],
   "window_display": false
  }
 },
 "nbformat": 4,
 "nbformat_minor": 2
}
