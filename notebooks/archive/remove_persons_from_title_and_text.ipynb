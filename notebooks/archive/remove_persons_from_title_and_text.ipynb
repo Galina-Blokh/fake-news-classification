{
 "cells": [
  {
   "cell_type": "markdown",
   "metadata": {},
   "source": [
    "# Remove Persons from the Title and Text Fields"
   ]
  },
  {
   "cell_type": "markdown",
   "metadata": {},
   "source": [
    "Executing this notebook is beyond the capabilities of my available resources.\n",
    "\n",
    "On Colab it would take approx. 14 hours to run which exceeds max runtime of 12 hours.\n",
    "On my local computer it would take 125 hours (5 days)"
   ]
  },
  {
   "cell_type": "markdown",
   "metadata": {},
   "source": [
    "# Pre-Requests"
   ]
  },
  {
   "cell_type": "markdown",
   "metadata": {},
   "source": [
    "This notebook should be run after eda.ipynb and text_pre_processing.ipynb"
   ]
  },
  {
   "cell_type": "markdown",
   "metadata": {},
   "source": [
    "# Imports and Constants"
   ]
  },
  {
   "cell_type": "code",
   "execution_count": 2,
   "metadata": {
    "ExecuteTime": {
     "end_time": "2020-10-14T12:40:38.614587Z",
     "start_time": "2020-10-14T12:40:21.205296Z"
    }
   },
   "outputs": [
    {
     "name": "stdout",
     "output_type": "stream",
     "text": [
      "Requirement already satisfied: stanza in /Users/freethrall/anaconda3/envs/learn-env/lib/python3.6/site-packages (1.1.1)\n",
      "Requirement already satisfied: numpy in /Users/freethrall/anaconda3/envs/learn-env/lib/python3.6/site-packages (from stanza) (1.16.5)\n",
      "Requirement already satisfied: protobuf in /Users/freethrall/anaconda3/envs/learn-env/lib/python3.6/site-packages (from stanza) (3.8.0)\n",
      "Requirement already satisfied: tqdm in /Users/freethrall/anaconda3/envs/learn-env/lib/python3.6/site-packages (from stanza) (4.50.2)\n",
      "Requirement already satisfied: requests in /Users/freethrall/anaconda3/envs/learn-env/lib/python3.6/site-packages (from stanza) (2.22.0)\n",
      "Requirement already satisfied: torch>=1.3.0 in /Users/freethrall/anaconda3/envs/learn-env/lib/python3.6/site-packages (from stanza) (1.6.0)\n",
      "Requirement already satisfied: setuptools in /Users/freethrall/anaconda3/envs/learn-env/lib/python3.6/site-packages (from protobuf->stanza) (41.2.0)\n",
      "Requirement already satisfied: six>=1.9 in /Users/freethrall/anaconda3/envs/learn-env/lib/python3.6/site-packages (from protobuf->stanza) (1.12.0)\n",
      "Requirement already satisfied: chardet<3.1.0,>=3.0.2 in /Users/freethrall/anaconda3/envs/learn-env/lib/python3.6/site-packages (from requests->stanza) (3.0.4)\n",
      "Requirement already satisfied: idna<2.9,>=2.5 in /Users/freethrall/anaconda3/envs/learn-env/lib/python3.6/site-packages (from requests->stanza) (2.8)\n",
      "Requirement already satisfied: urllib3!=1.25.0,!=1.25.1,<1.26,>=1.21.1 in /Users/freethrall/anaconda3/envs/learn-env/lib/python3.6/site-packages (from requests->stanza) (1.24.2)\n",
      "Requirement already satisfied: certifi>=2017.4.17 in /Users/freethrall/anaconda3/envs/learn-env/lib/python3.6/site-packages (from requests->stanza) (2020.6.20)\n",
      "Requirement already satisfied: future in /Users/freethrall/anaconda3/envs/learn-env/lib/python3.6/site-packages (from torch>=1.3.0->stanza) (0.18.2)\n"
     ]
    }
   ],
   "source": [
    "!pip install stanza"
   ]
  },
  {
   "cell_type": "code",
   "execution_count": 3,
   "metadata": {
    "ExecuteTime": {
     "end_time": "2020-10-14T12:40:44.496496Z",
     "start_time": "2020-10-14T12:40:38.617573Z"
    }
   },
   "outputs": [],
   "source": [
    "import pandas as pd\n",
    "import numpy as np\n",
    "import ast\n",
    "import stanza\n",
    "import random\n",
    "from nltk.tokenize import word_tokenize"
   ]
  },
  {
   "cell_type": "code",
   "execution_count": 4,
   "metadata": {
    "ExecuteTime": {
     "end_time": "2020-10-14T12:40:44.505059Z",
     "start_time": "2020-10-14T12:40:44.499842Z"
    }
   },
   "outputs": [],
   "source": [
    "DATA_PATH = '../data/'\n",
    "PRE_PROCESSED_DATA_FILE_NAME = 'news_dataset_pre_processed.csv'\n",
    "RANDOM_STATE = 42\n",
    "SAVE_FILE = False"
   ]
  },
  {
   "cell_type": "code",
   "execution_count": 5,
   "metadata": {
    "ExecuteTime": {
     "end_time": "2020-10-14T12:40:44.511180Z",
     "start_time": "2020-10-14T12:40:44.507394Z"
    }
   },
   "outputs": [],
   "source": [
    "random.seed(a=RANDOM_STATE)"
   ]
  },
  {
   "cell_type": "markdown",
   "metadata": {},
   "source": [
    "# Load Data"
   ]
  },
  {
   "cell_type": "code",
   "execution_count": 6,
   "metadata": {
    "ExecuteTime": {
     "end_time": "2020-10-14T12:40:50.032302Z",
     "start_time": "2020-10-14T12:40:44.513229Z"
    }
   },
   "outputs": [],
   "source": [
    "df = pd.read_csv(DATA_PATH + PRE_PROCESSED_DATA_FILE_NAME, \n",
    "                 low_memory = False)"
   ]
  },
  {
   "cell_type": "code",
   "execution_count": 7,
   "metadata": {
    "ExecuteTime": {
     "end_time": "2020-10-14T12:41:34.269407Z",
     "start_time": "2020-10-14T12:40:50.034550Z"
    }
   },
   "outputs": [],
   "source": [
    "# although these tokens will not be used in this notebook they need to be\n",
    "# converted to lists of strings so that they can be saved in the updated file\n",
    "df.clean_text_tokens = df.clean_text_tokens.map(ast.literal_eval)\n",
    "df.clean_title_tokens = df.clean_title_tokens.map(ast.literal_eval)"
   ]
  },
  {
   "cell_type": "code",
   "execution_count": 8,
   "metadata": {
    "ExecuteTime": {
     "end_time": "2020-10-14T12:41:34.330916Z",
     "start_time": "2020-10-14T12:41:34.271716Z"
    }
   },
   "outputs": [
    {
     "data": {
      "text/html": [
       "<div>\n",
       "<style scoped>\n",
       "    .dataframe tbody tr th:only-of-type {\n",
       "        vertical-align: middle;\n",
       "    }\n",
       "\n",
       "    .dataframe tbody tr th {\n",
       "        vertical-align: top;\n",
       "    }\n",
       "\n",
       "    .dataframe thead th {\n",
       "        text-align: right;\n",
       "    }\n",
       "</style>\n",
       "<table border=\"1\" class=\"dataframe\">\n",
       "  <thead>\n",
       "    <tr style=\"text-align: right;\">\n",
       "      <th></th>\n",
       "      <th>title</th>\n",
       "      <th>text</th>\n",
       "      <th>subject</th>\n",
       "      <th>date</th>\n",
       "      <th>label</th>\n",
       "      <th>title_len</th>\n",
       "      <th>text_len</th>\n",
       "      <th>caps_in_title</th>\n",
       "      <th>norm_caps_in_title</th>\n",
       "      <th>caps_in_text</th>\n",
       "      <th>norm_caps_in_text</th>\n",
       "      <th>text_tokens</th>\n",
       "      <th>text_urls</th>\n",
       "      <th>clean_text</th>\n",
       "      <th>title_urls</th>\n",
       "      <th>twitter_handles</th>\n",
       "      <th>clean_title</th>\n",
       "      <th>clean_text_tokens</th>\n",
       "      <th>clean_title_tokens</th>\n",
       "    </tr>\n",
       "  </thead>\n",
       "  <tbody>\n",
       "    <tr>\n",
       "      <th>0</th>\n",
       "      <td>Donald Trump Sends Out Embarrassing New Year’...</td>\n",
       "      <td>Donald Trump just couldn t wish all Americans ...</td>\n",
       "      <td>News</td>\n",
       "      <td>2017-12-31</td>\n",
       "      <td>fake</td>\n",
       "      <td>79</td>\n",
       "      <td>2893</td>\n",
       "      <td>11</td>\n",
       "      <td>0.139241</td>\n",
       "      <td>138</td>\n",
       "      <td>0.047701</td>\n",
       "      <td>['Donald', 'Trump', 'just', 'couldn', 't', 'wi...</td>\n",
       "      <td>['pic.twitter.com/4FPAe2KypA']</td>\n",
       "      <td>donald trump just couldn t wish all americans ...</td>\n",
       "      <td>[]</td>\n",
       "      <td>['@realDonaldTrump', '@TalbertSwan', '@calvins...</td>\n",
       "      <td>donald trump sends out embarrassing new year’s...</td>\n",
       "      <td>[donald, trump, just, couldn, wish, all, ameri...</td>\n",
       "      <td>[donald, trump, sends, out, embarrassing, new,...</td>\n",
       "    </tr>\n",
       "    <tr>\n",
       "      <th>1</th>\n",
       "      <td>Drunk Bragging Trump Staffer Started Russian ...</td>\n",
       "      <td>House Intelligence Committee Chairman Devin Nu...</td>\n",
       "      <td>News</td>\n",
       "      <td>2017-12-31</td>\n",
       "      <td>fake</td>\n",
       "      <td>69</td>\n",
       "      <td>1898</td>\n",
       "      <td>8</td>\n",
       "      <td>0.115942</td>\n",
       "      <td>88</td>\n",
       "      <td>0.046365</td>\n",
       "      <td>['House', 'Intelligence', 'Committee', 'Chairm...</td>\n",
       "      <td>[]</td>\n",
       "      <td>house intelligence committee chairman devin nu...</td>\n",
       "      <td>[]</td>\n",
       "      <td>[]</td>\n",
       "      <td>drunk bragging trump staffer started russian c...</td>\n",
       "      <td>[house, intelligence, committee, chairman, dev...</td>\n",
       "      <td>[drunk, bragging, trump, staffer, started, rus...</td>\n",
       "    </tr>\n",
       "    <tr>\n",
       "      <th>2</th>\n",
       "      <td>Sheriff David Clarke Becomes An Internet Joke...</td>\n",
       "      <td>On Friday, it was revealed that former Milwauk...</td>\n",
       "      <td>News</td>\n",
       "      <td>2017-12-30</td>\n",
       "      <td>fake</td>\n",
       "      <td>90</td>\n",
       "      <td>3597</td>\n",
       "      <td>15</td>\n",
       "      <td>0.166667</td>\n",
       "      <td>308</td>\n",
       "      <td>0.085627</td>\n",
       "      <td>['On', 'Friday', 'it', 'was', 'revealed', 'tha...</td>\n",
       "      <td>['pic.twitter.com/XtZW5PdU2b', 'pic.twitter.co...</td>\n",
       "      <td>on friday, it was revealed that former milwauk...</td>\n",
       "      <td>[]</td>\n",
       "      <td>['@SheriffClarke', '@SheriffClarke', '@KeithLe...</td>\n",
       "      <td>sheriff david clarke becomes an internet joke ...</td>\n",
       "      <td>[on, it, was, revealed, that, former, milwauke...</td>\n",
       "      <td>[sheriff, david, clarke, becomes, an, internet...</td>\n",
       "    </tr>\n",
       "    <tr>\n",
       "      <th>3</th>\n",
       "      <td>Trump Is So Obsessed He Even Has Obama’s Name...</td>\n",
       "      <td>On Christmas day, Donald Trump announced that ...</td>\n",
       "      <td>News</td>\n",
       "      <td>2017-12-29</td>\n",
       "      <td>fake</td>\n",
       "      <td>78</td>\n",
       "      <td>2774</td>\n",
       "      <td>19</td>\n",
       "      <td>0.243590</td>\n",
       "      <td>123</td>\n",
       "      <td>0.044340</td>\n",
       "      <td>['On', 'Christmas', 'day', 'Donald', 'Trump', ...</td>\n",
       "      <td>['https://t.co/Fg7VacxRtJ', 'pic.twitter.com/5...</td>\n",
       "      <td>on christmas day, donald trump announced that ...</td>\n",
       "      <td>[]</td>\n",
       "      <td>['@pbump', '@_cingraham', '@_cingraham', '@_ci...</td>\n",
       "      <td>trump is so obsessed he even has obama’s name ...</td>\n",
       "      <td>[on, christmas, day, donald, trump, announced,...</td>\n",
       "      <td>[trump, is, so, obsessed, he, even, has, obama...</td>\n",
       "    </tr>\n",
       "    <tr>\n",
       "      <th>4</th>\n",
       "      <td>Pope Francis Just Called Out Donald Trump Dur...</td>\n",
       "      <td>Pope Francis used his annual Christmas Day mes...</td>\n",
       "      <td>News</td>\n",
       "      <td>2017-12-25</td>\n",
       "      <td>fake</td>\n",
       "      <td>70</td>\n",
       "      <td>2346</td>\n",
       "      <td>11</td>\n",
       "      <td>0.157143</td>\n",
       "      <td>63</td>\n",
       "      <td>0.026854</td>\n",
       "      <td>['Pope', 'Francis', 'used', 'his', 'annual', '...</td>\n",
       "      <td>[]</td>\n",
       "      <td>pope francis used his annual christmas day mes...</td>\n",
       "      <td>[]</td>\n",
       "      <td>[]</td>\n",
       "      <td>pope francis just called out donald trump duri...</td>\n",
       "      <td>[pope, francis, used, his, annual, christmas, ...</td>\n",
       "      <td>[pope, francis, just, called, out, donald, tru...</td>\n",
       "    </tr>\n",
       "  </tbody>\n",
       "</table>\n",
       "</div>"
      ],
      "text/plain": [
       "                                               title  \\\n",
       "0   Donald Trump Sends Out Embarrassing New Year’...   \n",
       "1   Drunk Bragging Trump Staffer Started Russian ...   \n",
       "2   Sheriff David Clarke Becomes An Internet Joke...   \n",
       "3   Trump Is So Obsessed He Even Has Obama’s Name...   \n",
       "4   Pope Francis Just Called Out Donald Trump Dur...   \n",
       "\n",
       "                                                text subject        date  \\\n",
       "0  Donald Trump just couldn t wish all Americans ...    News  2017-12-31   \n",
       "1  House Intelligence Committee Chairman Devin Nu...    News  2017-12-31   \n",
       "2  On Friday, it was revealed that former Milwauk...    News  2017-12-30   \n",
       "3  On Christmas day, Donald Trump announced that ...    News  2017-12-29   \n",
       "4  Pope Francis used his annual Christmas Day mes...    News  2017-12-25   \n",
       "\n",
       "  label  title_len  text_len  caps_in_title  norm_caps_in_title  caps_in_text  \\\n",
       "0  fake         79      2893             11            0.139241           138   \n",
       "1  fake         69      1898              8            0.115942            88   \n",
       "2  fake         90      3597             15            0.166667           308   \n",
       "3  fake         78      2774             19            0.243590           123   \n",
       "4  fake         70      2346             11            0.157143            63   \n",
       "\n",
       "   norm_caps_in_text                                        text_tokens  \\\n",
       "0           0.047701  ['Donald', 'Trump', 'just', 'couldn', 't', 'wi...   \n",
       "1           0.046365  ['House', 'Intelligence', 'Committee', 'Chairm...   \n",
       "2           0.085627  ['On', 'Friday', 'it', 'was', 'revealed', 'tha...   \n",
       "3           0.044340  ['On', 'Christmas', 'day', 'Donald', 'Trump', ...   \n",
       "4           0.026854  ['Pope', 'Francis', 'used', 'his', 'annual', '...   \n",
       "\n",
       "                                           text_urls  \\\n",
       "0                     ['pic.twitter.com/4FPAe2KypA']   \n",
       "1                                                 []   \n",
       "2  ['pic.twitter.com/XtZW5PdU2b', 'pic.twitter.co...   \n",
       "3  ['https://t.co/Fg7VacxRtJ', 'pic.twitter.com/5...   \n",
       "4                                                 []   \n",
       "\n",
       "                                          clean_text title_urls  \\\n",
       "0  donald trump just couldn t wish all americans ...         []   \n",
       "1  house intelligence committee chairman devin nu...         []   \n",
       "2  on friday, it was revealed that former milwauk...         []   \n",
       "3  on christmas day, donald trump announced that ...         []   \n",
       "4  pope francis used his annual christmas day mes...         []   \n",
       "\n",
       "                                     twitter_handles  \\\n",
       "0  ['@realDonaldTrump', '@TalbertSwan', '@calvins...   \n",
       "1                                                 []   \n",
       "2  ['@SheriffClarke', '@SheriffClarke', '@KeithLe...   \n",
       "3  ['@pbump', '@_cingraham', '@_cingraham', '@_ci...   \n",
       "4                                                 []   \n",
       "\n",
       "                                         clean_title  \\\n",
       "0  donald trump sends out embarrassing new year’s...   \n",
       "1  drunk bragging trump staffer started russian c...   \n",
       "2  sheriff david clarke becomes an internet joke ...   \n",
       "3  trump is so obsessed he even has obama’s name ...   \n",
       "4  pope francis just called out donald trump duri...   \n",
       "\n",
       "                                   clean_text_tokens  \\\n",
       "0  [donald, trump, just, couldn, wish, all, ameri...   \n",
       "1  [house, intelligence, committee, chairman, dev...   \n",
       "2  [on, it, was, revealed, that, former, milwauke...   \n",
       "3  [on, christmas, day, donald, trump, announced,...   \n",
       "4  [pope, francis, used, his, annual, christmas, ...   \n",
       "\n",
       "                                  clean_title_tokens  \n",
       "0  [donald, trump, sends, out, embarrassing, new,...  \n",
       "1  [drunk, bragging, trump, staffer, started, rus...  \n",
       "2  [sheriff, david, clarke, becomes, an, internet...  \n",
       "3  [trump, is, so, obsessed, he, even, has, obama...  \n",
       "4  [pope, francis, just, called, out, donald, tru...  "
      ]
     },
     "execution_count": 8,
     "metadata": {},
     "output_type": "execute_result"
    }
   ],
   "source": [
    "df.head()"
   ]
  },
  {
   "cell_type": "markdown",
   "metadata": {},
   "source": [
    "# Remove Persons\n",
    "\n",
    "Using [Stanza's](https://stanfordnlp.github.io/stanza) Named Entity Recognition model, the persons identified by that model will be removed from the raw title and text fields.  The other pre-processing steps from text_pre_processing.ipynb will then be done on these fields.  The pre-processing needs to be done again because the NER is not as effective when run on the pre-processed text fields."
   ]
  },
  {
   "cell_type": "code",
   "execution_count": 9,
   "metadata": {
    "ExecuteTime": {
     "end_time": "2020-10-14T12:41:34.365895Z",
     "start_time": "2020-10-14T12:41:34.334912Z"
    }
   },
   "outputs": [],
   "source": [
    "def find_and_remove_persons(text, verbose=False):\n",
    "    \"\"\"Using the Stanza NER, remove all entities identified as PERSONs from the text.\"\"\"\n",
    "    \n",
    "    doc = nlp(text)\n",
    "   \n",
    "    clean_text = ' '.join([token.text for sent in doc.sentences for token in sent.tokens if token.ner not in ['B-PERSON', 'E-PERSON']])\n",
    "    \n",
    "    if verbose:\n",
    "        \n",
    "        people_set = set()\n",
    "        \n",
    "        for ent in doc.entities:\n",
    "        if ent.type == 'PERSON':\n",
    "            people_set.add(ent.text)\n",
    "            \n",
    "        print(people_set)\n",
    "        print('')\n",
    "        print(clean_text)\n",
    "        print('')\n",
    "        \n",
    "    return clean_text"
   ]
  },
  {
   "cell_type": "code",
   "execution_count": 10,
   "metadata": {
    "ExecuteTime": {
     "end_time": "2020-10-14T12:41:56.043451Z",
     "start_time": "2020-10-14T12:41:34.368892Z"
    }
   },
   "outputs": [
    {
     "name": "stderr",
     "output_type": "stream",
     "text": [
      "Downloading https://raw.githubusercontent.com/stanfordnlp/stanza-resources/master/resources_1.1.0.json: 122kB [00:00, 1.55MB/s]                    \n",
      "2020-10-14 08:41:35 INFO: Downloading default packages for language: en (English)...\n",
      "2020-10-14 08:41:42 INFO: File exists: /Users/freethrall/stanza_resources/en/default.zip.\n",
      "2020-10-14 08:41:50 INFO: Finished downloading models and saved to /Users/freethrall/stanza_resources.\n",
      "2020-10-14 08:41:50 INFO: Loading these models for language: en (English):\n",
      "=========================\n",
      "| Processor | Package   |\n",
      "-------------------------\n",
      "| tokenize  | ewt       |\n",
      "| pos       | ewt       |\n",
      "| lemma     | ewt       |\n",
      "| depparse  | ewt       |\n",
      "| sentiment | sstplus   |\n",
      "| ner       | ontonotes |\n",
      "=========================\n",
      "\n",
      "2020-10-14 08:41:50 INFO: Use device: cpu\n",
      "2020-10-14 08:41:50 INFO: Loading: tokenize\n",
      "2020-10-14 08:41:51 INFO: Loading: pos\n",
      "2020-10-14 08:41:52 INFO: Loading: lemma\n",
      "2020-10-14 08:41:52 INFO: Loading: depparse\n",
      "2020-10-14 08:41:53 INFO: Loading: sentiment\n",
      "2020-10-14 08:41:54 INFO: Loading: ner\n",
      "2020-10-14 08:41:56 INFO: Done loading processors!\n"
     ]
    }
   ],
   "source": [
    "# initialize the stanza object\n",
    "stanza.download('en')\n",
    "nlp = stanza.Pipeline('en')"
   ]
  },
  {
   "cell_type": "markdown",
   "metadata": {},
   "source": [
    "Let's do a test run to see what PERSONs are found and which ones aren't."
   ]
  },
  {
   "cell_type": "markdown",
   "metadata": {},
   "source": [
    "## Test Run"
   ]
  },
  {
   "cell_type": "code",
   "execution_count": 11,
   "metadata": {
    "ExecuteTime": {
     "end_time": "2020-10-14T12:43:46.207892Z",
     "start_time": "2020-10-14T12:41:56.045708Z"
    },
    "scrolled": false
   },
   "outputs": [
    {
     "name": "stdout",
     "output_type": "stream",
     "text": [
      "{'Abre  Conner', 'Novella Coleman'}\n",
      "\n",
      "Two African - American women who went for what they hoped would be a fun night out at a karaoke bar in Fresno ended up in a scene from a 1980 s after school special about racism . The women had ordered some drinks already and were waiting to sing Waterfalls by TLC when the bartenders began treating them like they were the only two black people in a bar full of racists . As it turned out , they were the only two black women in a bar full of racists . According to the women , a bartender told them they couldn t sing karaoke unless they ordered drinks , which they had already done . Another rather large bartender got right in their faces and screamed buy drinks at them . Ultimately the women were asked to leave . The bar , which is described as a dive on Facebook , unfortunately bit off more than it could chew as the two women turned out to be lawyers for the American Civil Liberties Union . and , the two women treated so horribly , wrote an article on the ACLU blog describing their experience : Let s recap . Four white employees at a bar in Fresno called the police to kick out two Black women ( who happen to be ACLU attorneys ) and who appeared to be the only Black people there . These kinds of signs have been illegal in California since the Unruh Civil Rights Act in 1959 and nationally since a 1964 U.S. Supreme Court ruling outlawed segregation . When the police arrived , several customers explained to the officers that the bar staff were enforcing the rule against us only . Some told the police that a one drink rule did not exist . Others even tried to buy us drinks . But the bartenders would n t let them . And still , the police forced us two Black women in the bar to leave . Police departments are supposed to enforce criminal laws and threats to public safety , not enforce personal biases . The bartender and police claimed to be exercising the business supposed right to refuse service . This sounds too much like when the country still had colored sections and racially segregated water fountains . But this happened in March 2016 . Oh those poor , dumb racists . By now they have to be aware that they messed with the wrong people . Ignorance is bliss until it turns into a giant bigoted snake and bites you in the ass . Featured image from Twitter\n",
      "\n",
      "{'Obama'}\n",
      "\n",
      "Our Homeland Security Director gave us all the lowdown on the refugee program and it s what we all thought : ISIS has been trying to use the refugee program to come to America . Why in the heck are we still trying to bring refugees here ? Can t we help them in the Middle East ? The only thing I can guess is that this is Obama s agenda and he s not letting up on fulfilling it . The State Department and UN are pushing refugees through the system as fast as possible . This is big , big business for the Refugee Resettlement contractors ho get paid per refugee and then get millions from the feds on top of that . The kicker is that YOU pay for the goodies the refugees get once they re here . That s why America is a global magnet for refugees !\n",
      "\n",
      "{'Hassan Rouhani', 'Rouhani'}\n",
      "\n",
      "LONDON ( Reuters ) - Iranian President said on Wednesday that missile attacks by Yemen ’s Houthis targeting Saudi Arabian capital Riyadh were a reaction to what he called Saudi aggression . “ How should the Yemeni people react to bombardment of their country . So they are not allowed to use their own weapons ? You stop the bombardment first and see if the Yemenis would not do the same , ” Rouhani was quoted as saying by Tasnim news agency . Rouhani also said Saudi Arabia had made a “ strategic mistake ” by considering the United States and Israel as friends and Iran as an enemy .\n",
      "\n",
      "{'Trump'}\n",
      "\n",
      "WASHINGTON ( Reuters ) - The economy , terrorism and healthcare ranked as the top three concerns facing Americans casting ballots in Tuesday ’s presidential election , according to an early reading from the Reuters / Ipsos Election Day poll . The poll of about 35,000 people found that 25 percent of voters picked the economy as the “ most important problem . ” . Another 14 percent named “ terrorism / terrorist attacks ” and 13 percent picked healthcare . By contrast , the economy was the No. 1 concern for 46 percent of American voters in 2012 , according to the Reuters / Ipsos national tracking poll four years ago . Almost nobody listed terrorism as a top concern in 2012 , and 8 percent listed healthcare as the top worry . A signature Trump issue , immigration , was chosen by 7 percent of voters as the most important issue in Tuesday ’s poll . The poll reading will be updated as more poll responses are tallied and more votes are counted across the country .\n",
      "\n",
      "{'Rodriguez', 'Eddie Rodriguez', 'Paxton', 'Moore', 'Ken Paxton', 'Roy Moore'}\n",
      "\n",
      "The Texas Bar Association is stepping up to the plate to nail for violating legal ethics . After the Supreme Court ruled same - sex marriage legal across the nation last summer , some red states threw a collective hissy fit over the decision . In Alabama , state Supreme Court Chief Justice ordered county judges to disobey the highest court in the land . Texas Republicans also threw a temper tantrum , especially Attorney General , who told county clerks to defy the Supreme Court ruling as well . I will do everything I can from this office to be a public voice for those standing in defense of their rights , Paxton vowed a day after the ruling came down . But unlike Moore , could end up losing his status on the bar . Because he told clerks to violate the law as interpreted by the Supreme Court , the Texas Bar Association has launched an investigation against Paxton for ethics violations . The new investigation against Paxton comes on top of his indictment for committing securities fraud . If convicted , he faces up to 99 years in prison . Houston lawyer said that the Board of Disciplinary Appeals is looking into whether or not Paxton should be disbarred , which would prevent him from practicing law in the state , provided being thrown in prison doesn t do the trick first . Attorney General Paxton has a right to disagree with a ruling of the Supreme Court , Rodriguez told Reuters . Lawyers do that every single day . What makes a difference is that you can not encourage people to violate that ruling and that law . Of course , Paxton denies being an unethical slug . This complaint has always lacked merit , and we are confident the legal process for resolving these complaints will bear that out , a statement from his office said . As usual , it will take time for the investigation to run its course before a decision is made , but it s hard to believe a legitimate bar association would allow Paxton to continue being a lawyer since it is clear that he defied federal law and the order of the Supreme Court to let same - sex couples legally marry . If they do n t remove him from the bar , what does that say about the ethics of the Texas Bar Association itself ? Featured image from texasattorneygeneral.gov\n",
      "\n",
      "{'Gitlin', 'Joshua Gitlin'}\n",
      "\n",
      "According to Republicans , it is imperative that we protect women and children by instituting measures that punish transgender women for having a penis . Some measures would literally place a bounty on transgender people , financially rewarding anyone who spots a penis in the women s restroom . Others would impose heavy fines on transgender people simply for going to the correct bathroom . These measures , which combat alleged threats which have absolutely no basis in reality , have been decried nationwide by thinking individuals who realize that Republicans the very people imposing these harsh and pathetic laws on the rest of us are a greater danger to women and children than transgender people could ever be . While Republicans crow about their attempts to save woman and childkind from the evil penises that may or may not be attached to women whose primary goal in a bathroom is to relieve themselves , they ignore certain inconvenient truths like that children face greater danger from straight men in the men s restroom . On April 22 , a traveler at a Seattle airport noticed something horrifying : a man was snapping pictures of his 8 - year - old son in the bathroom . According to charging papers , the little boy was using the bathroom when North Carolina resident ( yes , he s from the same state that recently shamed the nation by protecting children from transgender women with it s asinine bathroom bill ) stood in the neighboring stall and began taking photos over the stall wall . The boy s father spotted the man performing this disgusting act and rushed to stop him . Are you taking pictures of my son ? the man demanded angrily . denied it , but the father saw a photo of his son still on the pervert s cell phone screen . He grabbed Gitlin s phone and slammed the stall closed as others called for police assistance . Gitlin was arrested at the scene . Police confiscated his phone and other electronic devices with which Gitlin was traveling . He was jailed and charged with voyeurism , but was released Saturday on $ 100,000 bond . To date , there have been zero instances of transgender people being arrested for bathroom misconduct , but the same can not be said for Republican lawmakers . Unfortunately , transgender people don t write the laws . In November , be sure to head to the polls and vote BLUE so we can end this absurdity and begin focusing on real , important issues like undoing the damage Republicans are inflicting on our nation . Featured image via Afflictor\n",
      "\n"
     ]
    },
    {
     "name": "stdout",
     "output_type": "stream",
     "text": [
      "{'Christine Keeler', 'Profumo', 'Harold Macmillan', 'Seymour Platt', 'Chris', 'Arne Jacobsen', 'Yevgeny Ivanov', 'Stephen Ward', 'Mandy Rice-Davies', 'Stephen', 'Keeler', 'William Astor', 'Platt', 'John Profumo'}\n",
      "\n",
      "LONDON ( Reuters ) - , the model and dancer whose liaisons with a British minister and a Soviet diplomat at the height of the Cold War shocked Britain and embroiled the government in a notorious political sex scandal , has died aged 75 . Keeler s relationship with married Minister of War , whom she met , aged 19 , while swimming naked at the grand Buckinghamshire estate of his colleague , shocked socially conservative Britain in the early 1960s . Front - page revelations that she was also having an affair with a Soviet naval attache , , titillated the public and shone a light on the social and sexual mores of Britain s secretive ruling establishment . Profumo was forced to resign after lying to parliament about their relationship . The political and diplomatic firestorm helped bring down the Conservative government of Prime Minister and the 1963 Profumo affair is still seen as a watershed moment that changed British attitudes to sex and class . Keeler s son , , told The Guardian newspaper she had died on Tuesday night after suffering for months from a form of lung disease . She had led a humble lifestyle after the scandal but never escaped the notoriety it brought her . There was a lot of good around Chris s rather tragic life , because there was a family around her that loved her , Platt was quoted as saying . I think what happened to her back in the day was quite damaging . The black - and - white photograph of a naked Keeler sitting astride an chair remains the defining image of the lurid scandal that has been retold several times on screen and stage , including as a musical . It even added an expression to the British lexicon . At the trial of , the man who brought Keeler and Profumo together , a fellow showgirl was told that another establishment figure denied having sex with her . Well , he would , would n t he? , responded Rice - . In later life , Keeler had regrets about how the scandal unfolded and said she had been a victim . I wish , that at that time , I had been older so that I would have been able to have answered or spoke up for myself and Stephen but I was only a young girl , she said .\n",
      "\n",
      "{'Rick Snyder', 'Nick Lyon', 'Robert Skidmore', 'Lyon', 'Snyder', 'Darnell Earley', 'Stephen Busch', 'Schuette', 'Eden Wells', 'Howard Croft', 'Bill Schuette', 'Karen Weaver', 'Wells', 'Brian Lennon', 'Liane Shekter-Smith', 'Anna Heaton'}\n",
      "\n",
      "( Reuters ) - Six current and former Michigan and Flint officials were criminally charged on Wednesday for their roles in the city ’s water crisis that was linked to an outbreak of Legionnaires ’ disease that caused at least 12 deaths , the state ’s attorney general said . Five of the officials , including Michigan Health and Human Services Director , were charged with involuntary manslaughter stemming from their roles in handling the crisis , Michigan Attorney General said in a statement . Involuntary manslaughter is a felony that carries a sentence of up to 15 years in prison . Lyon , 49 , was also charged with one count of misconduct in office . The felony charge carries a sentence of up to five years in prison . Four current and former state and Flint officials were also charged with involuntary manslaughter . The four had all been previously charged with lesser crimes in connection with the water crisis . The state ’s chief medical executive , , was charged Wednesday with obstruction of justice and lying to police . Michigan Governor said in a statement that Lyon and Wells have his “ full faith and confidence ” and would remain on duty and help in Flint ’s recovery . An attorney for Lyon could not be reached for comment . It was not immediately known if Wells had an attorney . Schuette said his team had not spoken with Snyder as part of the investigation . “ We attempted to interview the governor . We were not successful , ” Schuette said . He declined to elaborate . Previously , Schuette , when asked if Snyder was a target in the investigation , said there were no targets but “ nobody is off the table . ” Some critics have called for high - ranking state officials , including Snyder , to be charged . Snyder previously said he believed he had not done anything criminally wrong . “ The governor is n’t going to speculate on where the investigation is or is not headed , but he continues to cooperate fully , ” Snyder ’s spokeswoman said . Snyder ’s attorney , , said in a statement that Snyder was made available to testify under oath this spring after being told a subpoena would be produced , but that never occurred . He added that Snyder previously testified under oath to Congress . Wednesday ’s charges stem from more than 80 cases of Legionnaires ’ disease , including the fatalities , that were believed to be linked to the water in Flint after the city switched its source to the Flint River from Lake Huron in April 2014 . Lyon was aware of the Legionnaires ’ outbreak in Genesee County at least one year before he informed the public , according to court documents . His deliberate failure to inform the public resulted in the death of Genesee Township resident , 85 , from Legionnaires ’ in December 2015 , the documents said . Wells lied to police about when she became aware of the outbreak , according to the documents . She also threatened a team of independent researchers who were studying the source of the disease , court documents said . “ It ’s good to see that state Attorney General Schuette and his team are taking this matter seriously , ” Flint Mayor said in a statement . “ We all are waiting to see what else the investigation uncovers . ” The crisis in Flint erupted in 2015 when tests found high amounts of lead in blood samples taken from children in the predominantly black city of about 100,000 . The more corrosive river water caused lead to leach from pipes and into the drinking water . Lead levels in Flint ’s drinking water have now fallen below levels considered dangerous by federal regulators , state officials said last January . Others charged with involuntary manslaughter on Wednesday included former state - appointed emergency manager , former Flint city employee , and former state Department of Environmental Quality officials and Shekter - .\n",
      "\n",
      "{'Peter Altmaier', 'Merkel', 'Steinmeier', 'Schulz', 'Angela Merkel', 'Horst Seehofer', 'Christian Lindner', 'Gabriel', 'Frank-Walter Steinmeier', 'Sigmar Gabriel', 'Thomas de Maiziere', 'Martin Schulz'}\n",
      "\n",
      "BERLIN ( Reuters ) - Germany s Social Democrat ( SPD ) Foreign Minister said on Thursday that his party would not be quick to agree to another grand coalition with Chancellor s conservatives , as party leaders met with the president in a bid to end political deadlock . Merkel is casting around for a coalition partner after her center - right bloc shed support to the far right in a Sept. 24 election . Her attempts to form a three - way tie - up with the pro-business Free Democrats ( FDP ) and the Greens failed . The SPD , which saw its participation in a Merkel - led coalition government from 2013 - 17 rewarded with its worst election result in German post -war history , had been strongly opposed to another grand coalition . But under pressure from Germany s President - Walter , SPD leader has signaled willingness to discuss a way out of the political impasse . SPD Foreign Minister told broadcaster ZDF no one should expect his party - still ruling with the conservatives in a caretaker government - to immediately agree to join another grand coalition now that talks to form a three - way Jamaica alliance have failed . We re now in a process orchestrated by the president , in which we first need to look at what the possibilities are but no one can expect it to go quickly , he said , adding that it was up to the conservatives to show what they wanted . The conservatives , Greens and FDP took months to get nothing off ground so I d ask people not to put pressure on us , Gabriel said , adding that the conservatives needed to make clear what they wanted . Senior conservative and chancellery chief told ZDF the conservatives and SPD had presided over four years of economic prosperity and the SPD needed to decide if it would give that up or reconsider its decision to go into opposition . We re making the case for that because we think one of our trademarks , alongside Made in Germany , is Stability Made in Germany , Altmaier said . He added that many people expected Germany to manage to form a government , adding : Everyone has to live up to that . Steinmeier , a former SPD lawmaker and foreign minister , hosted a meeting on Thursday that lasted just over two hours between Merkel , her Bavarian conservative ally and Schulz , as part of his efforts to facilitate the formation of a stable government . The parties are all due to hold high - level meetings on Friday to discuss how to proceed . Sources in the SPD said all options would be discussed - ranging from a re-run of the grand coalition with the conservatives to new elections . Merkel is set to hold a telephone conference with senior party members on Friday to discuss the meeting with Steinmeier but the conservatives do not expect the SPD to agree to official coalition talks until after its party congress next week . Almost two - thirds of Germans , surveyed between Nov.22 and Nov.27 , want the SPD to start talks with the conservatives on forming another coalition of the center - right and center - left , an Allensbach poll showed . The atmosphere has been soured by the decision of the conservative agriculture minister to back a European Union proposal to extend the use of a weedkiller for another five years - a measure opposed by the SPD . In reaction , SPD members have called for compensation and set various policy conditions . German Interior Minister de , a conservative , told reporters a stable government was urgently needed to move ahead on security priorities such as hiring more police . He told the Frankfurter Allgemeine newspaper that the conservatives were trying to form a stable government with the SPD , if the SPD would agree . He added : Only if this attempt fails do we need to think about other steps - not now . FDP leader , who walked out of attempts to form the Jamaica alliance , told newspaper Rheinische Post a grand coalition would be more stable and more advantageous than a Jamaica tie - up . The business wing of Merkel s Christian Democrats called on Merkel to seriously consider a minority government , warning that another grand coalition would only be possible for the price of even more unaffordable promises in social policy .\n",
      "\n"
     ]
    },
    {
     "name": "stdout",
     "output_type": "stream",
     "text": [
      "{'Mike Lee', 'Larry Nichols', 'Bobby Jindal', 'Tulsi Gabbard', 'Pete Hoekstra', 'Chris Christie', 'Stephen Hadley', 'George H.W. Bush', 'Linda McMahon', 'Richard Grenell', 'James Connaughton', 'Carol Comer', 'William Pryor', 'Mike Pompeo', 'Ben Carson', 'Robert Grady', 'Tom Price', 'Jeb Hensarling', 'Rick Perry', 'Mitt Romney', 'Reince Priebus', 'Dan DiMicco', 'Jeff Holmstead', 'Zalmay Khalilzad', 'Jeff Sessions', 'Trump', 'Jamie Dimon', 'John Bolton', 'Jan Brewer', 'Steve Bannon', 'Jim Talent', 'Michael McCaul', 'George W. Bush', 'Tom Barrack', 'Joe Arpaio', 'Peter King', 'Nikki Haley', 'Bob Corker', 'Elaine Chao', 'Leslie Rutledge', 'Rich Bagger', 'Sarah Palin', 'Harold Hamm', 'Michael Flynn', 'Mary Fallin', 'Rudy Giuliani', 'Donald Trump', 'Robert Cardillo', 'Tom Cotton', 'Jonathan Gray', 'Duncan Hunter', 'Jon Kyl', 'James Mattis', 'Wilbur Ross', 'Mike Rogers', 'Chao', 'David Clarke', 'David Petraeus', 'Mitch McConnell', 'Steven Mnuchin', 'Andrew Puzder', 'Kris Kobach', 'Forrest Lucas', 'Ray Washburne', 'Cathy McMorris Rodgers', 'Kevin Cramer', 'Ronald Burgess'}\n",
      "\n",
      "( Reuters ) - U.S. President - elect held additional meetings in New York on Tuesday as he worked to fill administration positions ahead of his inauguration on Jan. 20 . Below are people mentioned as contenders for senior roles . See end of list for posts already filled . * , former Goldman Sachs Group Inc executive and Trump ’s campaign finance chairman * , Republican U.S. representative from Texas and chairman of the House Financial Services Committee * , JPMorgan Chase & Co chief executive officer * , founder and chairman of Colony Capital Inc * , global head of real estate at the Blackstone Group * , 2012 Republican presidential nominee and former Massachusetts governor * , former Republican mayor of New York City * , Republican governor of South Carolina * , former U.S. ambassador to the United Nations under Republican President W. * , Republican U.S. senator from Tennessee and chairman of the Senate Foreign Relations Committee * , former U.S. ambassador to Iraq * , retired Marine general * , former CIA director and retired Army general * , Republican U.S. senator from Arkansas * , former Republican U.S. senator from Arizona * , Republican U.S. representative from California and early Trump supporter , member of the House Armed Services Committee * , former Republican U.S. senator from Missouri who was on the Senate Armed Services Committee * , former Republican Texas governor * , former national security adviser under President W. * , Republican U.S. representative from Georgia who is an orthopedic surgeon * , former pharmaceutical executive and former top aide to Republican New Jersey Governor * , former Republican Louisiana governor * , Republican U.S. representative from Texas and chairman of the House Homeland Security Committee * , Milwaukee county sheriff and vocal Trump supporter * , outgoing Maricopa County , Arizona , sheriff who campaigned for Trump * , Kansas secretary of state * , energy lawyer , former EPA official during W. administration * , venture capitalist , partner in private equity firm Gryphon Investors * , Republican Arkansas attorney general * , commissioner of the Indiana Department of Environmental Management * , Oklahoma oil and gas mogul , chief executive of Continental Resources Inc * , Republican U.S. Representative from North Dakota * , venture capitalist , partner in private equity firm Gryphon Investors * , co -founder of Devon Energy Corp * , chief executive of Nautilus Data Technologies and a former environmental adviser to President W. * , former Republican Texas governor * , former Alaska governor , 2008 Republican vice presidential nominee * , former Republican Arizona governor * , founder of oil products company Lucas Oil * Harold Hamm , Oklahoma oil and gas mogul , chief executive of Continental Resources Inc * , venture capitalist , partner in private equity firm Gryphon Investors * , Republican Oklahoma governor * , chief executive of investment company Charter Holdings * McMorris , U.S. representative from Washington state and Republican Conference chair * , billionaire investor , chairman of Invesco Ltd subsidiary WL Ross & Co * , former World Wrestling Entertainment executive and two - time Republican Senate candidate * Admiral , director of the National Security Agency * , retired lieutenant general and former Defense Intelligence Agency chief * , director of the National Geospatial - Intelligence Agency * , former Republican U.S. representative from Michigan * , former Republican mayor of New York City * , former spokesman for the United States at the United Nations * , Republican U.S. representative from New York * , a war veteran and Democratic U.S. representative from Hawaii * , former chief executive of steel producer Nucor Corp * , chief executive officer of CKE Restaurants * Victoria Lipnic , U.S. Equal Employment Opportunity Commission commissioner and former Labor Department official during the W. administration * , former labor secretary and deputy transportation secretary under Republican Presidents W. and H.W. , respectively . Chao is wife of Senate Majority Leader * Dr. , former 2016 Republican presidential candidate and retired neurosurgeon The Trump transition team confirmed he would choose from a list of 21 names he drew up during his campaign , including Republican U.S. Senator of Utah , and , a federal judge with the 11th U.S. Circuit Court of Appeals . * Republican National Committee Chairman * , former head of the conservative website Breitbart News * , Republican U.S. senator from Alabama and senior member of the Senate Judiciary Committee ( subject to Senate confirmation ) * Republican U.S. Representative from Kansas ( subject to Senate confirmation ) * , retired Army lieutenant general and former director of the Defense Intelligence Agency\n",
      "\n"
     ]
    }
   ],
   "source": [
    "for i in range(10):\n",
    "    index = random.randint(0, len(df))\n",
    "    clean_text = find_and_remove_persons(df.iloc[index].text, verbose=True)"
   ]
  },
  {
   "cell_type": "markdown",
   "metadata": {},
   "source": [
    "The NER does not do a perfect job, but appears to do a pretty good one.  Some names aren't recognized as PERSONs, but at least in these samples, no non-PERSONs are identified as PERSONs."
   ]
  },
  {
   "cell_type": "markdown",
   "metadata": {},
   "source": [
    "## Remove PERSONs"
   ]
  },
  {
   "cell_type": "code",
   "execution_count": 13,
   "metadata": {
    "ExecuteTime": {
     "end_time": "2020-10-14T12:58:51.458797Z",
     "start_time": "2020-10-14T12:43:46.248348Z"
    }
   },
   "outputs": [],
   "source": [
    "df['title_no_persons'] = df['title'].apply(find_and_remove_persons)\n",
    "df['text_no_persons'] = df['text'].apply(find_and_remove_persons)"
   ]
  },
  {
   "cell_type": "markdown",
   "metadata": {},
   "source": [
    "## Remove URLS"
   ]
  },
  {
   "cell_type": "code",
   "execution_count": null,
   "metadata": {},
   "outputs": [],
   "source": [
    "df['title_no_persons'] = df['title_no_persons'].apply(lambda x: re.sub(URL_REGEX, '{link}', x))\n",
    "df['text_no_persons'] = df['text_no_persons'].apply(lambda x: re.sub(URL_REGEX, '{link}', x))"
   ]
  },
  {
   "cell_type": "markdown",
   "metadata": {},
   "source": [
    "## Anonymise Twitter Handles"
   ]
  },
  {
   "cell_type": "code",
   "execution_count": null,
   "metadata": {},
   "outputs": [],
   "source": [
    "df['title_no_persons'] = df['title_no_persons'].apply(lambda x: re.sub(TWITTER_HANDLE_REGEX, '@twitter-handle', x))\n",
    "df['text_no_persons'] = df['text_no_persons'].apply(lambda x: re.sub(TWITTER_HANDLE_REGEX, '@twitter-handle', x))"
   ]
  },
  {
   "cell_type": "markdown",
   "metadata": {},
   "source": [
    "## Lowercase except for All Caps"
   ]
  },
  {
   "cell_type": "code",
   "execution_count": null,
   "metadata": {},
   "outputs": [],
   "source": [
    "def lower_unless_all_caps(string_):\n",
    "    \"\"\"\n",
    "    Make all words in the input string lowercase unless that \n",
    "    word is in all caps\n",
    "    \"\"\"\n",
    "    words = string_.split()\n",
    "    processed_words = [w.lower() if not (w.isupper() and len(w) > 1) else w for w in words]\n",
    "    return ' '.join(processed_words)"
   ]
  },
  {
   "cell_type": "code",
   "execution_count": null,
   "metadata": {},
   "outputs": [],
   "source": [
    "df['title_no_persons'] = df['title_no_persons'].apply(lower_unless_all_caps)\n",
    "df['text_no_persons'] = df['text_no_persons'].apply(lower_unless_all_caps)"
   ]
  },
  {
   "cell_type": "markdown",
   "metadata": {},
   "source": [
    "## Numbers\n",
    "\n",
    "Numbers do not seem likely to indicate Fake news, although certain dates or numbers may. The only date/number I've come across that may have significant meaning is 9/11. I will change it to nine-eleven so that numbers can more easily be removed.\n",
    "\n",
    "I will replace the numbers with a space because some of the sentences run together and end with a number. Replacing the number with a space will split the sentences."
   ]
  },
  {
   "cell_type": "code",
   "execution_count": null,
   "metadata": {},
   "outputs": [],
   "source": [
    "df['title_no_persons'] = df['title_no_persons'].apply(lambda x: re.sub(r'9\\/11', 'nine-eleven', x))\n",
    "df['text_no_persons'] = df['text_no_persons'].apply(lambda x: re.sub(r'9\\/11', 'nine-eleven', x))"
   ]
  },
  {
   "cell_type": "code",
   "execution_count": null,
   "metadata": {},
   "outputs": [],
   "source": [
    "df['title_no_persons'] = df['title_no_persons'].apply(lambda x: re.sub(r'\\d+', ' ', x))\n",
    "df['text_no_persons'] = df['text_no_persons'].apply(lambda x: re.sub(r'\\d+', ' ', x))"
   ]
  },
  {
   "cell_type": "markdown",
   "metadata": {},
   "source": [
    "## Remove (reuters) from news stories."
   ]
  },
  {
   "cell_type": "markdown",
   "metadata": {},
   "source": [
    "keeping (reuters) in the news text will create an overfit model when applying it to data outside the current dataset."
   ]
  },
  {
   "cell_type": "code",
   "execution_count": null,
   "metadata": {},
   "outputs": [],
   "source": [
    "df['text_no_persons'] = df['text_no_persons'].apply(lambda x: re.sub(r'\\(\\s*reuters\\s*\\)', ' ', x))"
   ]
  },
  {
   "cell_type": "markdown",
   "metadata": {},
   "source": [
    "## Tokenize Title and Text"
   ]
  },
  {
   "cell_type": "code",
   "execution_count": null,
   "metadata": {},
   "outputs": [],
   "source": [
    "df['tokens_title_no_persons'] = df['title_no_persons'].apply(word_tokenize)\n",
    "df['tokens_text_no_persons'] = df['text_no_persons'].apply(word_tokenize)"
   ]
  },
  {
   "cell_type": "markdown",
   "metadata": {},
   "source": [
    "## Remove Punctuation and Single Letter Tokens from Text"
   ]
  },
  {
   "cell_type": "markdown",
   "metadata": {},
   "source": [
    "I will remove all of the Punctuation tokens except for the exclamation point, because it seems like it may be an indicator of Fake news. I will also remove all the single characters except for i."
   ]
  },
  {
   "cell_type": "code",
   "execution_count": null,
   "metadata": {},
   "outputs": [],
   "source": [
    "def remove_single_characters(word_list, exception_list):\n",
    "    \"\"\"Remove all the single characters, except those on the exception list\"\"\"\n",
    "    return [w for w in word_list if (len(w) > 1 or w in exception_list)]"
   ]
  },
  {
   "cell_type": "code",
   "execution_count": null,
   "metadata": {},
   "outputs": [],
   "source": [
    "df['tokens_title_no_persons'] = df['tokens_title_no_persons'].apply(lambda x: remove_single_characters(x, ['i', '!']))\n",
    "df['tokens_text_no_persons'] = df['tokens_text_no_persons'].apply(lambda x: remove_single_characters(x, ['i', '!']))"
   ]
  },
  {
   "cell_type": "markdown",
   "metadata": {},
   "source": [
    "## Remove 's\n",
    "\n",
    "While the fake news frequently or always didn't removed the apostrophe from 's, it doesn't look like that was done to the true news. 's will need to be removed so that it doesn't become an indicator of true news."
   ]
  },
  {
   "cell_type": "code",
   "execution_count": null,
   "metadata": {},
   "outputs": [],
   "source": [
    "df['tokens_title_no_persons'] = df['tokens_title_no_persons'].apply(lambda x: remove_words(x, [\"'s\"]))\n",
    "df['tokens_text_no_persons'] = df['tokens_text_no_persons'].apply(lambda x: remove_words(x, [\"'s\"]))"
   ]
  },
  {
   "cell_type": "markdown",
   "metadata": {},
   "source": [
    "## Remove Date Words\n",
    "\n",
    "After running some initial models, I noticed that Wednesday came up as a important feature. To better generalize the models I will remove all the date words."
   ]
  },
  {
   "cell_type": "code",
   "execution_count": null,
   "metadata": {},
   "outputs": [],
   "source": [
    "date_words = ['monday', 'tuesday', 'wednesday', 'thursday', 'friday', \n",
    "              'saturday', 'sunday', 'january', 'february', 'march', 'april',\n",
    "             'may', 'june', 'july', 'august', 'september', 'october',\n",
    "             'november', 'december']"
   ]
  },
  {
   "cell_type": "code",
   "execution_count": null,
   "metadata": {},
   "outputs": [],
   "source": [
    "df['tokens_title_no_persons'] = df['tokens_title_no_persons'].apply(lambda x: remove_words(x, date_words))\n",
    "df['tokens_text_no_persons'] = df['tokens_text_no_persons'].apply(lambda x: remove_words(x, date_words))"
   ]
  },
  {
   "cell_type": "markdown",
   "metadata": {},
   "source": [
    "## Save Data"
   ]
  },
  {
   "cell_type": "code",
   "execution_count": null,
   "metadata": {},
   "outputs": [],
   "source": [
    "if SAVE_FILE:\n",
    "    df.to_csv(DATA_PATH + PRE_PROCESSED_DATA_FILE_NAME, index=False)"
   ]
  }
 ],
 "metadata": {
  "kernelspec": {
   "display_name": "learn-env",
   "language": "python",
   "name": "learn-env"
  },
  "language_info": {
   "codemirror_mode": {
    "name": "ipython",
    "version": 3
   },
   "file_extension": ".py",
   "mimetype": "text/x-python",
   "name": "python",
   "nbconvert_exporter": "python",
   "pygments_lexer": "ipython3",
   "version": "3.6.9"
  },
  "toc": {
   "base_numbering": 1,
   "nav_menu": {},
   "number_sections": true,
   "sideBar": true,
   "skip_h1_title": false,
   "title_cell": "Table of Contents",
   "title_sidebar": "Contents",
   "toc_cell": false,
   "toc_position": {},
   "toc_section_display": true,
   "toc_window_display": false
  },
  "varInspector": {
   "cols": {
    "lenName": 16,
    "lenType": 16,
    "lenVar": 40
   },
   "kernels_config": {
    "python": {
     "delete_cmd_postfix": "",
     "delete_cmd_prefix": "del ",
     "library": "var_list.py",
     "varRefreshCmd": "print(var_dic_list())"
    },
    "r": {
     "delete_cmd_postfix": ") ",
     "delete_cmd_prefix": "rm(",
     "library": "var_list.r",
     "varRefreshCmd": "cat(var_dic_list()) "
    }
   },
   "types_to_exclude": [
    "module",
    "function",
    "builtin_function_or_method",
    "instance",
    "_Feature"
   ],
   "window_display": false
  }
 },
 "nbformat": 4,
 "nbformat_minor": 2
}
